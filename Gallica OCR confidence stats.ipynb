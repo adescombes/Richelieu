{
 "cells": [
  {
   "cell_type": "markdown",
   "metadata": {
    "toc": true
   },
   "source": [
    "<h1>Table of Contents<span class=\"tocSkip\"></span></h1>\n",
    "<div class=\"toc\"><ul class=\"toc-item\"><li><span><a href=\"#Stats\" data-toc-modified-id=\"Stats-1\"><span class=\"toc-item-num\">1&nbsp;&nbsp;</span>Stats</a></span></li><li><span><a href=\"#Text-manipulation\" data-toc-modified-id=\"Text-manipulation-2\"><span class=\"toc-item-num\">2&nbsp;&nbsp;</span>Text manipulation</a></span><ul class=\"toc-item\"><li><span><a href=\"#Reconcile-0\" data-toc-modified-id=\"Reconcile-0-2.1\"><span class=\"toc-item-num\">2.1&nbsp;&nbsp;</span>Reconcile 0</a></span></li><li><span><a href=\"#Reconcile-1\" data-toc-modified-id=\"Reconcile-1-2.2\"><span class=\"toc-item-num\">2.2&nbsp;&nbsp;</span>Reconcile 1</a></span></li></ul></li><li><span><a href=\"#Block\" data-toc-modified-id=\"Block-3\"><span class=\"toc-item-num\">3&nbsp;&nbsp;</span>Block</a></span><ul class=\"toc-item\"><li><span><a href=\"#Reconcile-0\" data-toc-modified-id=\"Reconcile-0-3.1\"><span class=\"toc-item-num\">3.1&nbsp;&nbsp;</span>Reconcile 0</a></span></li><li><span><a href=\"#Reconcile-1\" data-toc-modified-id=\"Reconcile-1-3.2\"><span class=\"toc-item-num\">3.2&nbsp;&nbsp;</span>Reconcile 1</a></span></li></ul></li><li><span><a href=\"#Export-cleaned\" data-toc-modified-id=\"Export-cleaned-4\"><span class=\"toc-item-num\">4&nbsp;&nbsp;</span>Export cleaned</a></span><ul class=\"toc-item\"><li><span><a href=\"#Cleaned-line\" data-toc-modified-id=\"Cleaned-line-4.1\"><span class=\"toc-item-num\">4.1&nbsp;&nbsp;</span>Cleaned line</a></span></li><li><span><a href=\"#Cleaned-block\" data-toc-modified-id=\"Cleaned-block-4.2\"><span class=\"toc-item-num\">4.2&nbsp;&nbsp;</span>Cleaned block</a></span></li></ul></li></ul></div>"
   ]
  },
  {
   "cell_type": "code",
   "execution_count": 287,
   "metadata": {},
   "outputs": [],
   "source": [
    "import pandas as pd\n",
    "import json\n",
    "from glob import glob\n",
    "import numpy as np\n",
    "from tqdm import tqdm_notebook as tqdm\n",
    "%matplotlib inline\n",
    "import matplotlib.pyplot as plt\n",
    "import seaborn as sns\n",
    "import unicodedata"
   ]
  },
  {
   "cell_type": "code",
   "execution_count": 288,
   "metadata": {},
   "outputs": [],
   "source": [
    "ocr_files = glob('data/ocr_alto/*.json')"
   ]
  },
  {
   "cell_type": "code",
   "execution_count": 3,
   "metadata": {},
   "outputs": [
    {
     "data": {
      "text/html": [
       "<div>\n",
       "<style scoped>\n",
       "    .dataframe tbody tr th:only-of-type {\n",
       "        vertical-align: middle;\n",
       "    }\n",
       "\n",
       "    .dataframe tbody tr th {\n",
       "        vertical-align: top;\n",
       "    }\n",
       "\n",
       "    .dataframe thead th {\n",
       "        text-align: right;\n",
       "    }\n",
       "</style>\n",
       "<table border=\"1\" class=\"dataframe\">\n",
       "  <thead>\n",
       "    <tr style=\"text-align: right;\">\n",
       "      <th></th>\n",
       "      <th>nom_court</th>\n",
       "      <th>annee</th>\n",
       "      <th>remarques</th>\n",
       "      <th>lien_source</th>\n",
       "      <th>source_ID</th>\n",
       "      <th>vue_debut</th>\n",
       "      <th>page_debut</th>\n",
       "      <th>vue_fin</th>\n",
       "      <th>page_fin</th>\n",
       "      <th>page_total</th>\n",
       "      <th>pages</th>\n",
       "      <th>nom_fichier</th>\n",
       "    </tr>\n",
       "    <tr>\n",
       "      <th>ids</th>\n",
       "      <th></th>\n",
       "      <th></th>\n",
       "      <th></th>\n",
       "      <th></th>\n",
       "      <th></th>\n",
       "      <th></th>\n",
       "      <th></th>\n",
       "      <th></th>\n",
       "      <th></th>\n",
       "      <th></th>\n",
       "      <th></th>\n",
       "      <th></th>\n",
       "    </tr>\n",
       "  </thead>\n",
       "  <tbody>\n",
       "    <tr>\n",
       "      <th>bpt6k63243601</th>\n",
       "      <td>Annuaire-general-du-commerce</td>\n",
       "      <td>1839</td>\n",
       "      <td>NaN</td>\n",
       "      <td>https://gallica.bnf.fr/ark:/12148/bpt6k63243601</td>\n",
       "      <td>FRBNF32698036</td>\n",
       "      <td>123</td>\n",
       "      <td>103.0</td>\n",
       "      <td>399.0</td>\n",
       "      <td>379</td>\n",
       "      <td>1457</td>\n",
       "      <td>277.0</td>\n",
       "      <td>bpt6k63243601.Alto.html</td>\n",
       "    </tr>\n",
       "    <tr>\n",
       "      <th>bpt6k62931221</th>\n",
       "      <td>Annuaire-general-du-commerce</td>\n",
       "      <td>1841</td>\n",
       "      <td>document en 2 parties sur Gallica, seule la pr...</td>\n",
       "      <td>https://gallica.bnf.fr/ark:/12148/bpt6k62931221</td>\n",
       "      <td>FRBNF32698036</td>\n",
       "      <td>151</td>\n",
       "      <td>72.0</td>\n",
       "      <td>423.0</td>\n",
       "      <td>344</td>\n",
       "      <td>938</td>\n",
       "      <td>273.0</td>\n",
       "      <td>bpt6k62931221.Alto.html</td>\n",
       "    </tr>\n",
       "    <tr>\n",
       "      <th>bpt6k6286466w</th>\n",
       "      <td>Annuaire-general-du-commerce</td>\n",
       "      <td>1842</td>\n",
       "      <td>document en 2 parties sur Gallica, seule la pr...</td>\n",
       "      <td>https://gallica.bnf.fr/ark:/12148/bpt6k6286466w</td>\n",
       "      <td>FRBNF32698036</td>\n",
       "      <td>189</td>\n",
       "      <td>91.0</td>\n",
       "      <td>489.0</td>\n",
       "      <td>391</td>\n",
       "      <td>939</td>\n",
       "      <td>301.0</td>\n",
       "      <td>bpt6k6286466w.Alto.html</td>\n",
       "    </tr>\n",
       "    <tr>\n",
       "      <th>bpt6k6393838j</th>\n",
       "      <td>Annuaire-general-du-commerce</td>\n",
       "      <td>1843</td>\n",
       "      <td>document en 2 parties sur Gallica, seule la pr...</td>\n",
       "      <td>https://gallica.bnf.fr/ark:/12148/bpt6k6393838j</td>\n",
       "      <td>FRBNF32698036</td>\n",
       "      <td>219</td>\n",
       "      <td>107.0</td>\n",
       "      <td>482.0</td>\n",
       "      <td>378</td>\n",
       "      <td>969</td>\n",
       "      <td>264.0</td>\n",
       "      <td>bpt6k6393838j.Alto.html</td>\n",
       "    </tr>\n",
       "    <tr>\n",
       "      <th>bpt6k6331310g</th>\n",
       "      <td>Annuaire-general-du-commerce</td>\n",
       "      <td>1844</td>\n",
       "      <td>La dernière page comprend le début d'une autre...</td>\n",
       "      <td>https://gallica.bnf.fr/ark:/12148/bpt6k6331310g</td>\n",
       "      <td>FRBNF32698036</td>\n",
       "      <td>216</td>\n",
       "      <td>103.0</td>\n",
       "      <td>483.0</td>\n",
       "      <td>372</td>\n",
       "      <td>977</td>\n",
       "      <td>268.0</td>\n",
       "      <td>bpt6k6331310g.Alto.html</td>\n",
       "    </tr>\n",
       "  </tbody>\n",
       "</table>\n",
       "</div>"
      ],
      "text/plain": [
       "                                  nom_court  annee  \\\n",
       "ids                                                  \n",
       "bpt6k63243601  Annuaire-general-du-commerce   1839   \n",
       "bpt6k62931221  Annuaire-general-du-commerce   1841   \n",
       "bpt6k6286466w  Annuaire-general-du-commerce   1842   \n",
       "bpt6k6393838j  Annuaire-general-du-commerce   1843   \n",
       "bpt6k6331310g  Annuaire-general-du-commerce   1844   \n",
       "\n",
       "                                                       remarques  \\\n",
       "ids                                                                \n",
       "bpt6k63243601                                                NaN   \n",
       "bpt6k62931221  document en 2 parties sur Gallica, seule la pr...   \n",
       "bpt6k6286466w  document en 2 parties sur Gallica, seule la pr...   \n",
       "bpt6k6393838j  document en 2 parties sur Gallica, seule la pr...   \n",
       "bpt6k6331310g  La dernière page comprend le début d'une autre...   \n",
       "\n",
       "                                                   lien_source  \\\n",
       "ids                                                              \n",
       "bpt6k63243601  https://gallica.bnf.fr/ark:/12148/bpt6k63243601   \n",
       "bpt6k62931221  https://gallica.bnf.fr/ark:/12148/bpt6k62931221   \n",
       "bpt6k6286466w  https://gallica.bnf.fr/ark:/12148/bpt6k6286466w   \n",
       "bpt6k6393838j  https://gallica.bnf.fr/ark:/12148/bpt6k6393838j   \n",
       "bpt6k6331310g  https://gallica.bnf.fr/ark:/12148/bpt6k6331310g   \n",
       "\n",
       "                    source_ID  vue_debut  page_debut  vue_fin page_fin  \\\n",
       "ids                                                                      \n",
       "bpt6k63243601  FRBNF32698036         123       103.0    399.0      379   \n",
       "bpt6k62931221  FRBNF32698036         151        72.0    423.0      344   \n",
       "bpt6k6286466w  FRBNF32698036         189        91.0    489.0      391   \n",
       "bpt6k6393838j  FRBNF32698036         219       107.0    482.0      378   \n",
       "bpt6k6331310g  FRBNF32698036         216       103.0    483.0      372   \n",
       "\n",
       "               page_total  pages              nom_fichier  \n",
       "ids                                                        \n",
       "bpt6k63243601        1457  277.0  bpt6k63243601.Alto.html  \n",
       "bpt6k62931221         938  273.0  bpt6k62931221.Alto.html  \n",
       "bpt6k6286466w         939  301.0  bpt6k6286466w.Alto.html  \n",
       "bpt6k6393838j         969  264.0  bpt6k6393838j.Alto.html  \n",
       "bpt6k6331310g         977  268.0  bpt6k6331310g.Alto.html  "
      ]
     },
     "execution_count": 3,
     "metadata": {},
     "output_type": "execute_result"
    }
   ],
   "source": [
    "df_rep = pd.read_excel('repertoires.xlsx')\n",
    "df_rep.dropna(subset=['nom_court'], inplace=True)\n",
    "df_rep['ids'] = df_rep['lien_source'].str.replace('https://gallica.bnf.fr/ark:/12148/', '')\n",
    "df_rep['vue_debut'] = df_rep['vue_debut'].astype(int)\n",
    "df_rep['annee'] = df_rep['annee'].astype(int)\n",
    "# df_rep['annee'] = pd.to_datetime(df_rep['annee'].astype(int), format='%Y')\n",
    "df_rep.set_index('ids', inplace=True)\n",
    "df_rep.head()"
   ]
  },
  {
   "cell_type": "code",
   "execution_count": 5,
   "metadata": {},
   "outputs": [],
   "source": [
    "df = pd.read_pickle('gallica_ocr.pickle')"
   ]
  },
  {
   "cell_type": "code",
   "execution_count": null,
   "metadata": {},
   "outputs": [],
   "source": [
    "df = pd.DataFrame(columns = ['text', 'confidence', 'full_text', 'is_hyphen', 'document', 'page', 'block', 'line', 'word'])\n",
    "\n",
    "for idx_document, ocr_file in tqdm(enumerate(ocr_files[:10])):\n",
    "    doc_id = ocr_file.split('\\\\')[-1].split('_')[0]\n",
    "    vue_debut = int(df_rep.loc[doc_id]['vue_debut'])\n",
    "    with open(ocr_file, 'r', encoding='utf-8') as infile:\n",
    "        data = json.load(infile)\n",
    "    for idx_page, page in tqdm(enumerate(data), leave=False):\n",
    "        for idx_block, block in enumerate(page):\n",
    "            for idx_line, line in enumerate(block):\n",
    "                for idx_word, word in enumerate(line):\n",
    "                    word['document'] = doc_id\n",
    "                    word['page'] =  vue_debut + idx_page\n",
    "                    word['block'] = idx_block\n",
    "                    word['line'] = idx_line\n",
    "                    word['word'] = idx_word\n",
    "                    full_text = word['text']\n",
    "                    is_hypen = False\n",
    "                    if 'full_text' in word:\n",
    "                        full_text = word['full_text']\n",
    "                        is_hypen = True\n",
    "                    df.append({'text' : word['text'],\n",
    "                               'confidence': word['confidence'],\n",
    "                               'full_text': full_text,\n",
    "                               'is_hyphen': True,\n",
    "                               'document' : doc_id,\n",
    "                               'page' : vue_debut + idx_page,\n",
    "                               'block' : idx_block,\n",
    "                               'line': idx_line,\n",
    "                               'word': idx_word\n",
    "                              }, ignore_index=True)"
   ]
  },
  {
   "cell_type": "code",
   "execution_count": 9,
   "metadata": {},
   "outputs": [
    {
     "data": {
      "application/vnd.jupyter.widget-view+json": {
       "model_id": "f8bc2fd842dc422e81738ed2308f0db1",
       "version_major": 2,
       "version_minor": 0
      },
      "text/plain": [
       "HBox(children=(IntProgress(value=1, bar_style='info', max=1), HTML(value='')))"
      ]
     },
     "metadata": {},
     "output_type": "display_data"
    },
    {
     "data": {
      "application/vnd.jupyter.widget-view+json": {
       "model_id": "",
       "version_major": 2,
       "version_minor": 0
      },
      "text/plain": [
       "HBox(children=(IntProgress(value=1, bar_style='info', max=1), HTML(value='')))"
      ]
     },
     "metadata": {},
     "output_type": "display_data"
    },
    {
     "data": {
      "application/vnd.jupyter.widget-view+json": {
       "model_id": "",
       "version_major": 2,
       "version_minor": 0
      },
      "text/plain": [
       "HBox(children=(IntProgress(value=1, bar_style='info', max=1), HTML(value='')))"
      ]
     },
     "metadata": {},
     "output_type": "display_data"
    },
    {
     "data": {
      "application/vnd.jupyter.widget-view+json": {
       "model_id": "",
       "version_major": 2,
       "version_minor": 0
      },
      "text/plain": [
       "HBox(children=(IntProgress(value=1, bar_style='info', max=1), HTML(value='')))"
      ]
     },
     "metadata": {},
     "output_type": "display_data"
    },
    {
     "data": {
      "application/vnd.jupyter.widget-view+json": {
       "model_id": "",
       "version_major": 2,
       "version_minor": 0
      },
      "text/plain": [
       "HBox(children=(IntProgress(value=1, bar_style='info', max=1), HTML(value='')))"
      ]
     },
     "metadata": {},
     "output_type": "display_data"
    },
    {
     "data": {
      "application/vnd.jupyter.widget-view+json": {
       "model_id": "",
       "version_major": 2,
       "version_minor": 0
      },
      "text/plain": [
       "HBox(children=(IntProgress(value=1, bar_style='info', max=1), HTML(value='')))"
      ]
     },
     "metadata": {},
     "output_type": "display_data"
    },
    {
     "data": {
      "application/vnd.jupyter.widget-view+json": {
       "model_id": "",
       "version_major": 2,
       "version_minor": 0
      },
      "text/plain": [
       "HBox(children=(IntProgress(value=1, bar_style='info', max=1), HTML(value='')))"
      ]
     },
     "metadata": {},
     "output_type": "display_data"
    },
    {
     "data": {
      "application/vnd.jupyter.widget-view+json": {
       "model_id": "",
       "version_major": 2,
       "version_minor": 0
      },
      "text/plain": [
       "HBox(children=(IntProgress(value=1, bar_style='info', max=1), HTML(value='')))"
      ]
     },
     "metadata": {},
     "output_type": "display_data"
    },
    {
     "data": {
      "application/vnd.jupyter.widget-view+json": {
       "model_id": "",
       "version_major": 2,
       "version_minor": 0
      },
      "text/plain": [
       "HBox(children=(IntProgress(value=1, bar_style='info', max=1), HTML(value='')))"
      ]
     },
     "metadata": {},
     "output_type": "display_data"
    },
    {
     "data": {
      "application/vnd.jupyter.widget-view+json": {
       "model_id": "",
       "version_major": 2,
       "version_minor": 0
      },
      "text/plain": [
       "HBox(children=(IntProgress(value=1, bar_style='info', max=1), HTML(value='')))"
      ]
     },
     "metadata": {},
     "output_type": "display_data"
    },
    {
     "data": {
      "application/vnd.jupyter.widget-view+json": {
       "model_id": "",
       "version_major": 2,
       "version_minor": 0
      },
      "text/plain": [
       "HBox(children=(IntProgress(value=1, bar_style='info', max=1), HTML(value='')))"
      ]
     },
     "metadata": {},
     "output_type": "display_data"
    }
   ],
   "source": [
    "rows = []\n",
    "for idx_document, ocr_file in tqdm(enumerate(ocr_files[:10])):\n",
    "    doc_id = ocr_file.split('\\\\')[-1].split('_')[0]\n",
    "    vue_debut = int(df_rep.loc[doc_id]['vue_debut'])\n",
    "    with open(ocr_file, 'r', encoding='utf-8') as infile:\n",
    "        data = json.load(infile)\n",
    "    for idx_page, page in tqdm(enumerate(data), leave=False):\n",
    "        for idx_block, block in enumerate(page):\n",
    "            for idx_line, line in enumerate(block):\n",
    "                for idx_word, word in enumerate(line):\n",
    "                    word['document'] = doc_id\n",
    "                    word['page'] =  vue_debut + idx_page\n",
    "                    word['block'] = idx_block\n",
    "                    word['line'] = idx_line\n",
    "                    word['word'] = idx_word\n",
    "                    rows.append(word)"
   ]
  },
  {
   "cell_type": "code",
   "execution_count": 95,
   "metadata": {},
   "outputs": [
    {
     "data": {
      "text/html": [
       "<div>\n",
       "<style scoped>\n",
       "    .dataframe tbody tr th:only-of-type {\n",
       "        vertical-align: middle;\n",
       "    }\n",
       "\n",
       "    .dataframe tbody tr th {\n",
       "        vertical-align: top;\n",
       "    }\n",
       "\n",
       "    .dataframe thead th {\n",
       "        text-align: right;\n",
       "    }\n",
       "</style>\n",
       "<table border=\"1\" class=\"dataframe\">\n",
       "  <thead>\n",
       "    <tr style=\"text-align: right;\">\n",
       "      <th></th>\n",
       "      <th></th>\n",
       "      <th></th>\n",
       "      <th></th>\n",
       "      <th></th>\n",
       "      <th>text</th>\n",
       "      <th>confidence</th>\n",
       "      <th>full_text</th>\n",
       "      <th>is_hypen</th>\n",
       "    </tr>\n",
       "    <tr>\n",
       "      <th>document</th>\n",
       "      <th>page</th>\n",
       "      <th>block</th>\n",
       "      <th>line</th>\n",
       "      <th>word</th>\n",
       "      <th></th>\n",
       "      <th></th>\n",
       "      <th></th>\n",
       "      <th></th>\n",
       "    </tr>\n",
       "  </thead>\n",
       "  <tbody>\n",
       "    <tr>\n",
       "      <th rowspan=\"5\" valign=\"top\">bpt6k6282019m</th>\n",
       "      <th rowspan=\"5\" valign=\"top\">72.0</th>\n",
       "      <th rowspan=\"5\" valign=\"top\">0</th>\n",
       "      <th rowspan=\"5\" valign=\"top\">0</th>\n",
       "      <th>0</th>\n",
       "      <td>Bertin</td>\n",
       "      <td>1.00</td>\n",
       "      <td>Bertin</td>\n",
       "      <td>False</td>\n",
       "    </tr>\n",
       "    <tr>\n",
       "      <th>1</th>\n",
       "      <td>(</td>\n",
       "      <td>1.00</td>\n",
       "      <td>(</td>\n",
       "      <td>False</td>\n",
       "    </tr>\n",
       "    <tr>\n",
       "      <th>2</th>\n",
       "      <td>Mme),</td>\n",
       "      <td>0.99</td>\n",
       "      <td>Mme),</td>\n",
       "      <td>False</td>\n",
       "    </tr>\n",
       "    <tr>\n",
       "      <th>3</th>\n",
       "      <td>sage-femme,</td>\n",
       "      <td>0.99</td>\n",
       "      <td>sage-femme,</td>\n",
       "      <td>False</td>\n",
       "    </tr>\n",
       "    <tr>\n",
       "      <th>4</th>\n",
       "      <td>St-Lquis-Ma-</td>\n",
       "      <td>0.92</td>\n",
       "      <td>St-Lquis-Marais</td>\n",
       "      <td>True</td>\n",
       "    </tr>\n",
       "  </tbody>\n",
       "</table>\n",
       "</div>"
      ],
      "text/plain": [
       "                                            text  confidence        full_text  \\\n",
       "document      page block line word                                              \n",
       "bpt6k6282019m 72.0 0     0    0           Bertin        1.00           Bertin   \n",
       "                              1                (        1.00                (   \n",
       "                              2            Mme),        0.99            Mme),   \n",
       "                              3      sage-femme,        0.99      sage-femme,   \n",
       "                              4     St-Lquis-Ma-        0.92  St-Lquis-Marais   \n",
       "\n",
       "                                    is_hypen  \n",
       "document      page block line word            \n",
       "bpt6k6282019m 72.0 0     0    0        False  \n",
       "                              1        False  \n",
       "                              2        False  \n",
       "                              3        False  \n",
       "                              4         True  "
      ]
     },
     "execution_count": 95,
     "metadata": {},
     "output_type": "execute_result"
    }
   ],
   "source": [
    "df = pd.DataFrame(rows)\n",
    "df = df[['text', 'confidence', 'full_text', 'is_hypen', 'document', 'page', 'block', 'line', 'word']]\n",
    "df['is_hypen'] = df['is_hypen'].fillna(False)\n",
    "df['full_text'] = df['full_text'].fillna(df['text'])\n",
    "df['confidence'] = df['confidence'].astype(float)\n",
    "df.set_index(['document', 'page', 'block', 'line', 'word'], inplace=True)\n",
    "df.head()"
   ]
  },
  {
   "cell_type": "markdown",
   "metadata": {},
   "source": [
    "## Stats"
   ]
  },
  {
   "cell_type": "code",
   "execution_count": 7,
   "metadata": {},
   "outputs": [],
   "source": [
    "confidence_per_word = df['confidence']\n",
    "mean_confidence_per_line = df.groupby(level=[0, 1, 2, 3])['confidence'].mean()\n",
    "min_per_line = df.groupby(level=[0, 1, 2, 3])['confidence'].min()\n",
    "mean_confidence_per_block = df.groupby(level= [0,1,2])['confidence'].mean()\n",
    "mean_confidence_per_page = df.groupby(level=[0,1])['confidence'].mean()\n",
    "mean_confidence_per_doc = df.groupby(level=[0])['confidence'].mean()"
   ]
  },
  {
   "cell_type": "code",
   "execution_count": 8,
   "metadata": {},
   "outputs": [],
   "source": [
    "words_per_line = df.groupby(level=[0,1,2,3]).size()\n",
    "words_per_block = df.groupby(level=[0,1,2]).size()\n",
    "lines_per_block = df.reset_index(level=[3, 4]).groupby(level=[0,1,2])['line'].nunique()\n",
    "block_per_page = df.reset_index(level=[2, 3, 4]).groupby(level=[0,1])['block'].nunique()"
   ]
  },
  {
   "cell_type": "code",
   "execution_count": 9,
   "metadata": {},
   "outputs": [
    {
     "data": {
      "text/html": [
       "<div>\n",
       "<style scoped>\n",
       "    .dataframe tbody tr th:only-of-type {\n",
       "        vertical-align: middle;\n",
       "    }\n",
       "\n",
       "    .dataframe tbody tr th {\n",
       "        vertical-align: top;\n",
       "    }\n",
       "\n",
       "    .dataframe thead th {\n",
       "        text-align: right;\n",
       "    }\n",
       "</style>\n",
       "<table border=\"1\" class=\"dataframe\">\n",
       "  <thead>\n",
       "    <tr style=\"text-align: right;\">\n",
       "      <th></th>\n",
       "      <th>word</th>\n",
       "      <th>line</th>\n",
       "      <th>block</th>\n",
       "      <th>page</th>\n",
       "      <th>doc</th>\n",
       "    </tr>\n",
       "  </thead>\n",
       "  <tbody>\n",
       "    <tr>\n",
       "      <th>count</th>\n",
       "      <td>4.138249e+07</td>\n",
       "      <td>8.441577e+06</td>\n",
       "      <td>4.370665e+06</td>\n",
       "      <td>27574.000000</td>\n",
       "      <td>56.000000</td>\n",
       "    </tr>\n",
       "    <tr>\n",
       "      <th>mean</th>\n",
       "      <td>9.683640e-01</td>\n",
       "      <td>9.668794e-01</td>\n",
       "      <td>9.667397e-01</td>\n",
       "      <td>0.967811</td>\n",
       "      <td>0.965855</td>\n",
       "    </tr>\n",
       "    <tr>\n",
       "      <th>std</th>\n",
       "      <td>7.612978e-02</td>\n",
       "      <td>5.393955e-02</td>\n",
       "      <td>4.533773e-02</td>\n",
       "      <td>0.021494</td>\n",
       "      <td>0.013194</td>\n",
       "    </tr>\n",
       "    <tr>\n",
       "      <th>min</th>\n",
       "      <td>0.000000e+00</td>\n",
       "      <td>0.000000e+00</td>\n",
       "      <td>0.000000e+00</td>\n",
       "      <td>0.569483</td>\n",
       "      <td>0.928277</td>\n",
       "    </tr>\n",
       "    <tr>\n",
       "      <th>25%</th>\n",
       "      <td>9.800000e-01</td>\n",
       "      <td>9.600000e-01</td>\n",
       "      <td>9.582609e-01</td>\n",
       "      <td>0.960340</td>\n",
       "      <td>0.955983</td>\n",
       "    </tr>\n",
       "    <tr>\n",
       "      <th>50%</th>\n",
       "      <td>1.000000e+00</td>\n",
       "      <td>9.857143e-01</td>\n",
       "      <td>9.808333e-01</td>\n",
       "      <td>0.971880</td>\n",
       "      <td>0.967205</td>\n",
       "    </tr>\n",
       "    <tr>\n",
       "      <th>75%</th>\n",
       "      <td>1.000000e+00</td>\n",
       "      <td>9.960000e-01</td>\n",
       "      <td>9.925000e-01</td>\n",
       "      <td>0.982174</td>\n",
       "      <td>0.976332</td>\n",
       "    </tr>\n",
       "    <tr>\n",
       "      <th>max</th>\n",
       "      <td>1.000000e+00</td>\n",
       "      <td>1.000000e+00</td>\n",
       "      <td>1.000000e+00</td>\n",
       "      <td>0.996642</td>\n",
       "      <td>0.989646</td>\n",
       "    </tr>\n",
       "  </tbody>\n",
       "</table>\n",
       "</div>"
      ],
      "text/plain": [
       "               word          line         block          page        doc\n",
       "count  4.138249e+07  8.441577e+06  4.370665e+06  27574.000000  56.000000\n",
       "mean   9.683640e-01  9.668794e-01  9.667397e-01      0.967811   0.965855\n",
       "std    7.612978e-02  5.393955e-02  4.533773e-02      0.021494   0.013194\n",
       "min    0.000000e+00  0.000000e+00  0.000000e+00      0.569483   0.928277\n",
       "25%    9.800000e-01  9.600000e-01  9.582609e-01      0.960340   0.955983\n",
       "50%    1.000000e+00  9.857143e-01  9.808333e-01      0.971880   0.967205\n",
       "75%    1.000000e+00  9.960000e-01  9.925000e-01      0.982174   0.976332\n",
       "max    1.000000e+00  1.000000e+00  1.000000e+00      0.996642   0.989646"
      ]
     },
     "execution_count": 9,
     "metadata": {},
     "output_type": "execute_result"
    }
   ],
   "source": [
    "pd.concat([confidence_per_word.describe().to_frame('word'),\n",
    "           mean_confidence_per_line.describe().to_frame('line'),\n",
    "           mean_confidence_per_block.describe().to_frame('block'),\n",
    "           mean_confidence_per_page.describe().to_frame('page'),\n",
    "           mean_confidence_per_doc.describe().to_frame('doc')], axis=1)"
   ]
  },
  {
   "cell_type": "code",
   "execution_count": 10,
   "metadata": {},
   "outputs": [
    {
     "data": {
      "text/html": [
       "<div>\n",
       "<style scoped>\n",
       "    .dataframe tbody tr th:only-of-type {\n",
       "        vertical-align: middle;\n",
       "    }\n",
       "\n",
       "    .dataframe tbody tr th {\n",
       "        vertical-align: top;\n",
       "    }\n",
       "\n",
       "    .dataframe thead th {\n",
       "        text-align: right;\n",
       "    }\n",
       "</style>\n",
       "<table border=\"1\" class=\"dataframe\">\n",
       "  <thead>\n",
       "    <tr style=\"text-align: right;\">\n",
       "      <th></th>\n",
       "      <th>word</th>\n",
       "      <th>line</th>\n",
       "      <th>block</th>\n",
       "      <th>page</th>\n",
       "      <th>doc</th>\n",
       "    </tr>\n",
       "  </thead>\n",
       "  <tbody>\n",
       "    <tr>\n",
       "      <th>0.01</th>\n",
       "      <td>0.00</td>\n",
       "      <td>0.110</td>\n",
       "      <td>0.281300</td>\n",
       "      <td>0.621778</td>\n",
       "      <td>0.928343</td>\n",
       "    </tr>\n",
       "    <tr>\n",
       "      <th>0.10</th>\n",
       "      <td>0.26</td>\n",
       "      <td>0.458</td>\n",
       "      <td>0.533247</td>\n",
       "      <td>0.799092</td>\n",
       "      <td>0.928942</td>\n",
       "    </tr>\n",
       "    <tr>\n",
       "      <th>0.50</th>\n",
       "      <td>0.52</td>\n",
       "      <td>0.670</td>\n",
       "      <td>0.730000</td>\n",
       "      <td>0.870463</td>\n",
       "      <td>0.931601</td>\n",
       "    </tr>\n",
       "    <tr>\n",
       "      <th>1.00</th>\n",
       "      <td>0.62</td>\n",
       "      <td>0.750</td>\n",
       "      <td>0.789360</td>\n",
       "      <td>0.890554</td>\n",
       "      <td>0.934925</td>\n",
       "    </tr>\n",
       "    <tr>\n",
       "      <th>2.00</th>\n",
       "      <td>0.72</td>\n",
       "      <td>0.810</td>\n",
       "      <td>0.837000</td>\n",
       "      <td>0.907985</td>\n",
       "      <td>0.940837</td>\n",
       "    </tr>\n",
       "    <tr>\n",
       "      <th>5.00</th>\n",
       "      <td>0.83</td>\n",
       "      <td>0.875</td>\n",
       "      <td>0.890000</td>\n",
       "      <td>0.931146</td>\n",
       "      <td>0.945948</td>\n",
       "    </tr>\n",
       "  </tbody>\n",
       "</table>\n",
       "</div>"
      ],
      "text/plain": [
       "      word   line     block      page       doc\n",
       "0.01  0.00  0.110  0.281300  0.621778  0.928343\n",
       "0.10  0.26  0.458  0.533247  0.799092  0.928942\n",
       "0.50  0.52  0.670  0.730000  0.870463  0.931601\n",
       "1.00  0.62  0.750  0.789360  0.890554  0.934925\n",
       "2.00  0.72  0.810  0.837000  0.907985  0.940837\n",
       "5.00  0.83  0.875  0.890000  0.931146  0.945948"
      ]
     },
     "execution_count": 10,
     "metadata": {},
     "output_type": "execute_result"
    }
   ],
   "source": [
    "pd.DataFrame(\n",
    "    np.vstack([np.percentile(x, [0.01, 0.1, 0.5, 1, 2, 5])\n",
    "               for x in [confidence_per_word, mean_confidence_per_line, mean_confidence_per_block, mean_confidence_per_page, mean_confidence_per_doc]])\n",
    "    ,columns=[0.01, 0.1, 0.5, 1, 2, 5]).T.rename(columns=dict(enumerate(['word', 'line', 'block', 'page', 'doc'])))"
   ]
  },
  {
   "cell_type": "code",
   "execution_count": 25,
   "metadata": {},
   "outputs": [
    {
     "data": {
      "text/plain": [
       "8544861"
      ]
     },
     "execution_count": 25,
     "metadata": {},
     "output_type": "execute_result"
    }
   ],
   "source": [
    "sum(confidence_per_word == 0.99)"
   ]
  },
  {
   "cell_type": "code",
   "execution_count": 26,
   "metadata": {},
   "outputs": [
    {
     "data": {
      "text/plain": [
       "21630057"
      ]
     },
     "execution_count": 26,
     "metadata": {},
     "output_type": "execute_result"
    }
   ],
   "source": [
    "sum(confidence_per_word == 1.0)"
   ]
  },
  {
   "cell_type": "code",
   "execution_count": 56,
   "metadata": {},
   "outputs": [
    {
     "data": {
      "text/plain": [
       "<matplotlib.axes._subplots.AxesSubplot at 0x7f2438527908>"
      ]
     },
     "execution_count": 56,
     "metadata": {},
     "output_type": "execute_result"
    },
    {
     "data": {
      "image/png": "[encoded data removed]",
      "text/plain": [
       "<Figure size 1440x720 with 1 Axes>"
      ]
     },
     "metadata": {},
     "output_type": "display_data"
    }
   ],
   "source": [
    "plt.figure(figsize=(20,10))\n",
    "start = 0.0\n",
    "end = 1.01\n",
    "plt.xticks(np.arange(start,end+0.02, 0.1))\n",
    "plt.grid(True)\n",
    "sns.distplot(confidence_per_word[(confidence_per_word >= start) & (confidence_per_word <= end)], norm_hist=True, kde=False, bins=np.arange(start, end+0.02, 0.01))"
   ]
  },
  {
   "cell_type": "code",
   "execution_count": 69,
   "metadata": {},
   "outputs": [
    {
     "data": {
      "text/plain": [
       "('bpt6k6282019m', 126, 171, 0)"
      ]
     },
     "execution_count": 69,
     "metadata": {},
     "output_type": "execute_result"
    }
   ],
   "source": [
    "(words_per_line == 13).idxmax()"
   ]
  },
  {
   "cell_type": "code",
   "execution_count": 68,
   "metadata": {},
   "outputs": [
    {
     "name": "stderr",
     "output_type": "stream",
     "text": [
      "/home/rbarman/.conda/envs/dh_segment/lib/python3.5/site-packages/ipykernel_launcher.py:1: PerformanceWarning: indexing past lexsort depth may impact performance.\n",
      "  \"\"\"Entry point for launching an IPython kernel.\n"
     ]
    },
    {
     "data": {
      "text/html": [
       "<div>\n",
       "<style scoped>\n",
       "    .dataframe tbody tr th:only-of-type {\n",
       "        vertical-align: middle;\n",
       "    }\n",
       "\n",
       "    .dataframe tbody tr th {\n",
       "        vertical-align: top;\n",
       "    }\n",
       "\n",
       "    .dataframe thead th {\n",
       "        text-align: right;\n",
       "    }\n",
       "</style>\n",
       "<table border=\"1\" class=\"dataframe\">\n",
       "  <thead>\n",
       "    <tr style=\"text-align: right;\">\n",
       "      <th></th>\n",
       "      <th>text</th>\n",
       "      <th>confidence</th>\n",
       "      <th>full_text</th>\n",
       "      <th>is_hypen</th>\n",
       "    </tr>\n",
       "    <tr>\n",
       "      <th>word</th>\n",
       "      <th></th>\n",
       "      <th></th>\n",
       "      <th></th>\n",
       "      <th></th>\n",
       "    </tr>\n",
       "  </thead>\n",
       "  <tbody>\n",
       "    <tr>\n",
       "      <th>0</th>\n",
       "      <td>-</td>\n",
       "      <td>1.00</td>\n",
       "      <td>-</td>\n",
       "      <td>False</td>\n",
       "    </tr>\n",
       "    <tr>\n",
       "      <th>1</th>\n",
       "      <td>-'--</td>\n",
       "      <td>1.00</td>\n",
       "      <td>-'--</td>\n",
       "      <td>False</td>\n",
       "    </tr>\n",
       "    <tr>\n",
       "      <th>2</th>\n",
       "      <td>--1</td>\n",
       "      <td>1.00</td>\n",
       "      <td>--1</td>\n",
       "      <td>False</td>\n",
       "    </tr>\n",
       "    <tr>\n",
       "      <th>3</th>\n",
       "      <td>7</td>\n",
       "      <td>1.00</td>\n",
       "      <td>7</td>\n",
       "      <td>False</td>\n",
       "    </tr>\n",
       "    <tr>\n",
       "      <th>4</th>\n",
       "      <td>r-W</td>\n",
       "      <td>0.05</td>\n",
       "      <td>r-W</td>\n",
       "      <td>False</td>\n",
       "    </tr>\n",
       "    <tr>\n",
       "      <th>5</th>\n",
       "      <td>-</td>\n",
       "      <td>1.00</td>\n",
       "      <td>-</td>\n",
       "      <td>False</td>\n",
       "    </tr>\n",
       "    <tr>\n",
       "      <th>6</th>\n",
       "      <td>----</td>\n",
       "      <td>1.00</td>\n",
       "      <td>----</td>\n",
       "      <td>False</td>\n",
       "    </tr>\n",
       "    <tr>\n",
       "      <th>7</th>\n",
       "      <td>---</td>\n",
       "      <td>1.00</td>\n",
       "      <td>---</td>\n",
       "      <td>False</td>\n",
       "    </tr>\n",
       "    <tr>\n",
       "      <th>8</th>\n",
       "      <td>--</td>\n",
       "      <td>1.00</td>\n",
       "      <td>--</td>\n",
       "      <td>False</td>\n",
       "    </tr>\n",
       "    <tr>\n",
       "      <th>9</th>\n",
       "      <td>-</td>\n",
       "      <td>1.00</td>\n",
       "      <td>-</td>\n",
       "      <td>False</td>\n",
       "    </tr>\n",
       "    <tr>\n",
       "      <th>10</th>\n",
       "      <td>.-</td>\n",
       "      <td>1.00</td>\n",
       "      <td>.-</td>\n",
       "      <td>False</td>\n",
       "    </tr>\n",
       "    <tr>\n",
       "      <th>11</th>\n",
       "      <td>-</td>\n",
       "      <td>1.00</td>\n",
       "      <td>-</td>\n",
       "      <td>False</td>\n",
       "    </tr>\n",
       "    <tr>\n",
       "      <th>12</th>\n",
       "      <td>--</td>\n",
       "      <td>1.00</td>\n",
       "      <td>-Coulon,</td>\n",
       "      <td>True</td>\n",
       "    </tr>\n",
       "  </tbody>\n",
       "</table>\n",
       "</div>"
      ],
      "text/plain": [
       "      text  confidence full_text  is_hypen\n",
       "word                                      \n",
       "0        -        1.00         -     False\n",
       "1     -'--        1.00      -'--     False\n",
       "2      --1        1.00       --1     False\n",
       "3        7        1.00         7     False\n",
       "4      r-W        0.05       r-W     False\n",
       "5        -        1.00         -     False\n",
       "6     ----        1.00      ----     False\n",
       "7      ---        1.00       ---     False\n",
       "8       --        1.00        --     False\n",
       "9        -        1.00         -     False\n",
       "10      .-        1.00        .-     False\n",
       "11       -        1.00         -     False\n",
       "12      --        1.00  -Coulon,      True"
      ]
     },
     "execution_count": 68,
     "metadata": {},
     "output_type": "execute_result"
    }
   ],
   "source": [
    "df.loc[(words_per_line == 13).idxmax()]"
   ]
  },
  {
   "cell_type": "code",
   "execution_count": 34,
   "metadata": {},
   "outputs": [
    {
     "data": {
      "text/html": [
       "<div>\n",
       "<style scoped>\n",
       "    .dataframe tbody tr th:only-of-type {\n",
       "        vertical-align: middle;\n",
       "    }\n",
       "\n",
       "    .dataframe tbody tr th {\n",
       "        vertical-align: top;\n",
       "    }\n",
       "\n",
       "    .dataframe thead th {\n",
       "        text-align: right;\n",
       "    }\n",
       "</style>\n",
       "<table border=\"1\" class=\"dataframe\">\n",
       "  <thead>\n",
       "    <tr style=\"text-align: right;\">\n",
       "      <th></th>\n",
       "      <th>words/line</th>\n",
       "      <th>words/block</th>\n",
       "      <th>lines/block</th>\n",
       "      <th>blocks/page</th>\n",
       "    </tr>\n",
       "  </thead>\n",
       "  <tbody>\n",
       "    <tr>\n",
       "      <th>count</th>\n",
       "      <td>8.441577e+06</td>\n",
       "      <td>4.370665e+06</td>\n",
       "      <td>4.370665e+06</td>\n",
       "      <td>27574.000000</td>\n",
       "    </tr>\n",
       "    <tr>\n",
       "      <th>mean</th>\n",
       "      <td>4.902223e+00</td>\n",
       "      <td>9.468237e+00</td>\n",
       "      <td>1.931417e+00</td>\n",
       "      <td>158.506745</td>\n",
       "    </tr>\n",
       "    <tr>\n",
       "      <th>std</th>\n",
       "      <td>1.986829e+00</td>\n",
       "      <td>6.729025e+00</td>\n",
       "      <td>1.149794e+00</td>\n",
       "      <td>26.347408</td>\n",
       "    </tr>\n",
       "    <tr>\n",
       "      <th>min</th>\n",
       "      <td>1.000000e+00</td>\n",
       "      <td>1.000000e+00</td>\n",
       "      <td>1.000000e+00</td>\n",
       "      <td>8.000000</td>\n",
       "    </tr>\n",
       "    <tr>\n",
       "      <th>25%</th>\n",
       "      <td>4.000000e+00</td>\n",
       "      <td>5.000000e+00</td>\n",
       "      <td>1.000000e+00</td>\n",
       "      <td>140.000000</td>\n",
       "    </tr>\n",
       "    <tr>\n",
       "      <th>50%</th>\n",
       "      <td>5.000000e+00</td>\n",
       "      <td>8.000000e+00</td>\n",
       "      <td>2.000000e+00</td>\n",
       "      <td>151.000000</td>\n",
       "    </tr>\n",
       "    <tr>\n",
       "      <th>75%</th>\n",
       "      <td>6.000000e+00</td>\n",
       "      <td>1.200000e+01</td>\n",
       "      <td>2.000000e+00</td>\n",
       "      <td>182.000000</td>\n",
       "    </tr>\n",
       "    <tr>\n",
       "      <th>max</th>\n",
       "      <td>3.000000e+01</td>\n",
       "      <td>3.500000e+02</td>\n",
       "      <td>5.000000e+01</td>\n",
       "      <td>241.000000</td>\n",
       "    </tr>\n",
       "  </tbody>\n",
       "</table>\n",
       "</div>"
      ],
      "text/plain": [
       "         words/line   words/block   lines/block   blocks/page\n",
       "count  8.441577e+06  4.370665e+06  4.370665e+06  27574.000000\n",
       "mean   4.902223e+00  9.468237e+00  1.931417e+00    158.506745\n",
       "std    1.986829e+00  6.729025e+00  1.149794e+00     26.347408\n",
       "min    1.000000e+00  1.000000e+00  1.000000e+00      8.000000\n",
       "25%    4.000000e+00  5.000000e+00  1.000000e+00    140.000000\n",
       "50%    5.000000e+00  8.000000e+00  2.000000e+00    151.000000\n",
       "75%    6.000000e+00  1.200000e+01  2.000000e+00    182.000000\n",
       "max    3.000000e+01  3.500000e+02  5.000000e+01    241.000000"
      ]
     },
     "execution_count": 34,
     "metadata": {},
     "output_type": "execute_result"
    }
   ],
   "source": [
    "pd.concat([words_per_line.describe().to_frame('words/line'),\n",
    "           words_per_block.describe().to_frame('words/block'),\n",
    "           lines_per_block.describe().to_frame('lines/block'),\n",
    "           block_per_page.describe().to_frame('blocks/page')], axis=1)"
   ]
  },
  {
   "cell_type": "code",
   "execution_count": 19,
   "metadata": {},
   "outputs": [
    {
     "data": {
      "text/html": [
       "<div>\n",
       "<style scoped>\n",
       "    .dataframe tbody tr th:only-of-type {\n",
       "        vertical-align: middle;\n",
       "    }\n",
       "\n",
       "    .dataframe tbody tr th {\n",
       "        vertical-align: top;\n",
       "    }\n",
       "\n",
       "    .dataframe thead th {\n",
       "        text-align: right;\n",
       "    }\n",
       "</style>\n",
       "<table border=\"1\" class=\"dataframe\">\n",
       "  <thead>\n",
       "    <tr style=\"text-align: right;\">\n",
       "      <th></th>\n",
       "      <th>words/line</th>\n",
       "      <th>words/block</th>\n",
       "      <th>lines/block</th>\n",
       "      <th>blocks/page</th>\n",
       "    </tr>\n",
       "  </thead>\n",
       "  <tbody>\n",
       "    <tr>\n",
       "      <th>50.00</th>\n",
       "      <td>5.0</td>\n",
       "      <td>8.0</td>\n",
       "      <td>2.0</td>\n",
       "      <td>151.00</td>\n",
       "    </tr>\n",
       "    <tr>\n",
       "      <th>75.00</th>\n",
       "      <td>6.0</td>\n",
       "      <td>12.0</td>\n",
       "      <td>2.0</td>\n",
       "      <td>182.00</td>\n",
       "    </tr>\n",
       "    <tr>\n",
       "      <th>90.00</th>\n",
       "      <td>7.0</td>\n",
       "      <td>17.0</td>\n",
       "      <td>3.0</td>\n",
       "      <td>198.00</td>\n",
       "    </tr>\n",
       "    <tr>\n",
       "      <th>95.00</th>\n",
       "      <td>8.0</td>\n",
       "      <td>22.0</td>\n",
       "      <td>4.0</td>\n",
       "      <td>204.00</td>\n",
       "    </tr>\n",
       "    <tr>\n",
       "      <th>99.00</th>\n",
       "      <td>9.0</td>\n",
       "      <td>34.0</td>\n",
       "      <td>6.0</td>\n",
       "      <td>214.27</td>\n",
       "    </tr>\n",
       "    <tr>\n",
       "      <th>99.50</th>\n",
       "      <td>9.0</td>\n",
       "      <td>40.0</td>\n",
       "      <td>7.0</td>\n",
       "      <td>218.00</td>\n",
       "    </tr>\n",
       "    <tr>\n",
       "      <th>99.90</th>\n",
       "      <td>10.0</td>\n",
       "      <td>57.0</td>\n",
       "      <td>10.0</td>\n",
       "      <td>225.00</td>\n",
       "    </tr>\n",
       "    <tr>\n",
       "      <th>99.99</th>\n",
       "      <td>12.0</td>\n",
       "      <td>93.0</td>\n",
       "      <td>16.0</td>\n",
       "      <td>234.00</td>\n",
       "    </tr>\n",
       "  </tbody>\n",
       "</table>\n",
       "</div>"
      ],
      "text/plain": [
       "       words/line  words/block  lines/block  blocks/page\n",
       "50.00         5.0          8.0          2.0       151.00\n",
       "75.00         6.0         12.0          2.0       182.00\n",
       "90.00         7.0         17.0          3.0       198.00\n",
       "95.00         8.0         22.0          4.0       204.00\n",
       "99.00         9.0         34.0          6.0       214.27\n",
       "99.50         9.0         40.0          7.0       218.00\n",
       "99.90        10.0         57.0         10.0       225.00\n",
       "99.99        12.0         93.0         16.0       234.00"
      ]
     },
     "execution_count": 19,
     "metadata": {},
     "output_type": "execute_result"
    }
   ],
   "source": [
    "pd.DataFrame(\n",
    "    np.vstack([np.percentile(x, [50, 75, 90, 95, 99, 99.5, 99.9, 99.99])\n",
    "               for x in [words_per_line, words_per_block, lines_per_block, block_per_page]])\n",
    "    ,columns=[50, 75, 90, 95, 99, 99.5, 99.9, 99.99]).T.rename(columns=dict(enumerate(['words/line', 'words/block', 'lines/block', 'blocks/page'])))"
   ]
  },
  {
   "cell_type": "code",
   "execution_count": 85,
   "metadata": {},
   "outputs": [
    {
     "data": {
      "text/html": [
       "<div>\n",
       "<style scoped>\n",
       "    .dataframe tbody tr th:only-of-type {\n",
       "        vertical-align: middle;\n",
       "    }\n",
       "\n",
       "    .dataframe tbody tr th {\n",
       "        vertical-align: top;\n",
       "    }\n",
       "\n",
       "    .dataframe thead th {\n",
       "        text-align: right;\n",
       "    }\n",
       "</style>\n",
       "<table border=\"1\" class=\"dataframe\">\n",
       "  <thead>\n",
       "    <tr style=\"text-align: right;\">\n",
       "      <th></th>\n",
       "      <th></th>\n",
       "      <th>text</th>\n",
       "      <th>confidence</th>\n",
       "      <th>full_text</th>\n",
       "      <th>is_hypen</th>\n",
       "    </tr>\n",
       "    <tr>\n",
       "      <th>line</th>\n",
       "      <th>word</th>\n",
       "      <th></th>\n",
       "      <th></th>\n",
       "      <th></th>\n",
       "      <th></th>\n",
       "    </tr>\n",
       "  </thead>\n",
       "  <tbody>\n",
       "    <tr>\n",
       "      <th rowspan=\"7\" valign=\"top\">0</th>\n",
       "      <th>0</th>\n",
       "      <td>Chaussin,</td>\n",
       "      <td>0.99</td>\n",
       "      <td>Chaussin,</td>\n",
       "      <td>False</td>\n",
       "    </tr>\n",
       "    <tr>\n",
       "      <th>1</th>\n",
       "      <td>peint,</td>\n",
       "      <td>0.99</td>\n",
       "      <td>peint,</td>\n",
       "      <td>False</td>\n",
       "    </tr>\n",
       "    <tr>\n",
       "      <th>2</th>\n",
       "      <td>émaill</td>\n",
       "      <td>0.87</td>\n",
       "      <td>émaill</td>\n",
       "      <td>False</td>\n",
       "    </tr>\n",
       "    <tr>\n",
       "      <th>3</th>\n",
       "      <td>én</td>\n",
       "      <td>0.87</td>\n",
       "      <td>én</td>\n",
       "      <td>False</td>\n",
       "    </tr>\n",
       "    <tr>\n",
       "      <th>4</th>\n",
       "      <td>cadrabs,</td>\n",
       "      <td>0.87</td>\n",
       "      <td>cadrabs,</td>\n",
       "      <td>False</td>\n",
       "    </tr>\n",
       "    <tr>\n",
       "      <th>5</th>\n",
       "      <td>Temple,</td>\n",
       "      <td>0.37</td>\n",
       "      <td>Temple,</td>\n",
       "      <td>False</td>\n",
       "    </tr>\n",
       "    <tr>\n",
       "      <th>6</th>\n",
       "      <td>39.</td>\n",
       "      <td>0.37</td>\n",
       "      <td>39.</td>\n",
       "      <td>False</td>\n",
       "    </tr>\n",
       "  </tbody>\n",
       "</table>\n",
       "</div>"
      ],
      "text/plain": [
       "                text  confidence  full_text  is_hypen\n",
       "line word                                            \n",
       "0    0     Chaussin,        0.99  Chaussin,     False\n",
       "     1        peint,        0.99     peint,     False\n",
       "     2        émaill        0.87     émaill     False\n",
       "     3            én        0.87         én     False\n",
       "     4      cadrabs,        0.87   cadrabs,     False\n",
       "     5       Temple,        0.37    Temple,     False\n",
       "     6           39.        0.37        39.     False"
      ]
     },
     "execution_count": 85,
     "metadata": {},
     "output_type": "execute_result"
    }
   ],
   "source": [
    "df.loc[1, 59, 133]"
   ]
  },
  {
   "cell_type": "code",
   "execution_count": 84,
   "metadata": {},
   "outputs": [
    {
     "data": {
      "text/plain": [
       "'Chaussin, peint, émaill én cadrabs, Temple, 39.'"
      ]
     },
     "execution_count": 84,
     "metadata": {},
     "output_type": "execute_result"
    }
   ],
   "source": [
    "\" \".join(df.loc[1, 59, 133]['text'].values)"
   ]
  },
  {
   "cell_type": "code",
   "execution_count": 100,
   "metadata": {},
   "outputs": [
    {
     "data": {
      "text/html": [
       "<div>\n",
       "<style scoped>\n",
       "    .dataframe tbody tr th:only-of-type {\n",
       "        vertical-align: middle;\n",
       "    }\n",
       "\n",
       "    .dataframe tbody tr th {\n",
       "        vertical-align: top;\n",
       "    }\n",
       "\n",
       "    .dataframe thead th {\n",
       "        text-align: right;\n",
       "    }\n",
       "</style>\n",
       "<table border=\"1\" class=\"dataframe\">\n",
       "  <thead>\n",
       "    <tr style=\"text-align: right;\">\n",
       "      <th></th>\n",
       "      <th></th>\n",
       "      <th></th>\n",
       "      <th></th>\n",
       "      <th></th>\n",
       "      <th>text</th>\n",
       "      <th>confidence</th>\n",
       "      <th>full_text</th>\n",
       "      <th>is_hypen</th>\n",
       "    </tr>\n",
       "    <tr>\n",
       "      <th>document</th>\n",
       "      <th>page</th>\n",
       "      <th>block</th>\n",
       "      <th>line</th>\n",
       "      <th>word</th>\n",
       "      <th></th>\n",
       "      <th></th>\n",
       "      <th></th>\n",
       "      <th></th>\n",
       "    </tr>\n",
       "  </thead>\n",
       "  <tbody>\n",
       "    <tr>\n",
       "      <th>bpt6k6292987t</th>\n",
       "      <th>388.0</th>\n",
       "      <th>117</th>\n",
       "      <th>0</th>\n",
       "      <th>3</th>\n",
       "      <td>(Ils,</td>\n",
       "      <td>0.66</td>\n",
       "      <td>(Ils,</td>\n",
       "      <td>False</td>\n",
       "    </tr>\n",
       "    <tr>\n",
       "      <th>bpt6k6314752k</th>\n",
       "      <th>224.0</th>\n",
       "      <th>29</th>\n",
       "      <th>0</th>\n",
       "      <th>0</th>\n",
       "      <td>Blocil,</td>\n",
       "      <td>0.69</td>\n",
       "      <td>Blocil,</td>\n",
       "      <td>False</td>\n",
       "    </tr>\n",
       "    <tr>\n",
       "      <th>bpt6k6315927h</th>\n",
       "      <th>597.0</th>\n",
       "      <th>66</th>\n",
       "      <th>2</th>\n",
       "      <th>2</th>\n",
       "      <td>TIOUV.</td>\n",
       "      <td>0.69</td>\n",
       "      <td>TIOUV.</td>\n",
       "      <td>False</td>\n",
       "    </tr>\n",
       "    <tr>\n",
       "      <th>bpt6k6315985z</th>\n",
       "      <th>101.0</th>\n",
       "      <th>166</th>\n",
       "      <th>2</th>\n",
       "      <th>2</th>\n",
       "      <td>dé</td>\n",
       "      <td>0.69</td>\n",
       "      <td>dé</td>\n",
       "      <td>False</td>\n",
       "    </tr>\n",
       "    <tr>\n",
       "      <th>bpt6k6286466w</th>\n",
       "      <th>454.0</th>\n",
       "      <th>151</th>\n",
       "      <th>0</th>\n",
       "      <th>3</th>\n",
       "      <td>£</td>\n",
       "      <td>0.67</td>\n",
       "      <td>£</td>\n",
       "      <td>False</td>\n",
       "    </tr>\n",
       "    <tr>\n",
       "      <th>bpt6k6292987t</th>\n",
       "      <th>370.0</th>\n",
       "      <th>4</th>\n",
       "      <th>0</th>\n",
       "      <th>6</th>\n",
       "      <td>Web</td>\n",
       "      <td>0.66</td>\n",
       "      <td>Web</td>\n",
       "      <td>False</td>\n",
       "    </tr>\n",
       "    <tr>\n",
       "      <th>bpt6k6315985z</th>\n",
       "      <th>256.0</th>\n",
       "      <th>185</th>\n",
       "      <th>1</th>\n",
       "      <th>0</th>\n",
       "      <td>65.</td>\n",
       "      <td>0.66</td>\n",
       "      <td>65.</td>\n",
       "      <td>False</td>\n",
       "    </tr>\n",
       "    <tr>\n",
       "      <th>bpt6k6315927h</th>\n",
       "      <th>468.0</th>\n",
       "      <th>123</th>\n",
       "      <th>0</th>\n",
       "      <th>3</th>\n",
       "      <td>11.</td>\n",
       "      <td>0.67</td>\n",
       "      <td>11.</td>\n",
       "      <td>False</td>\n",
       "    </tr>\n",
       "    <tr>\n",
       "      <th>bpt6k62906378</th>\n",
       "      <th>307.0</th>\n",
       "      <th>107</th>\n",
       "      <th>0</th>\n",
       "      <th>1</th>\n",
       "      <td>4,</td>\n",
       "      <td>0.67</td>\n",
       "      <td>4,</td>\n",
       "      <td>False</td>\n",
       "    </tr>\n",
       "    <tr>\n",
       "      <th>bpt6k6305463c</th>\n",
       "      <th>382.0</th>\n",
       "      <th>131</th>\n",
       "      <th>0</th>\n",
       "      <th>2</th>\n",
       "      <td>Cliareriton,</td>\n",
       "      <td>0.69</td>\n",
       "      <td>Cliareriton,</td>\n",
       "      <td>False</td>\n",
       "    </tr>\n",
       "    <tr>\n",
       "      <th>bpt6k6314752k</th>\n",
       "      <th>400.0</th>\n",
       "      <th>190</th>\n",
       "      <th>1</th>\n",
       "      <th>2</th>\n",
       "      <td>pl.</td>\n",
       "      <td>0.69</td>\n",
       "      <td>pl.</td>\n",
       "      <td>False</td>\n",
       "    </tr>\n",
       "    <tr>\n",
       "      <th rowspan=\"2\" valign=\"top\">bpt6k6305463c</th>\n",
       "      <th>415.0</th>\n",
       "      <th>52</th>\n",
       "      <th>0</th>\n",
       "      <th>1</th>\n",
       "      <td>83.</td>\n",
       "      <td>0.69</td>\n",
       "      <td>83.</td>\n",
       "      <td>False</td>\n",
       "    </tr>\n",
       "    <tr>\n",
       "      <th>162.0</th>\n",
       "      <th>178</th>\n",
       "      <th>1</th>\n",
       "      <th>1</th>\n",
       "      <td>0.</td>\n",
       "      <td>0.67</td>\n",
       "      <td>0.</td>\n",
       "      <td>False</td>\n",
       "    </tr>\n",
       "    <tr>\n",
       "      <th>bpt6k6315927h</th>\n",
       "      <th>492.0</th>\n",
       "      <th>129</th>\n",
       "      <th>0</th>\n",
       "      <th>1</th>\n",
       "      <td>Fleurùs,ll.</td>\n",
       "      <td>0.66</td>\n",
       "      <td>Fleurùs,ll.</td>\n",
       "      <td>False</td>\n",
       "    </tr>\n",
       "    <tr>\n",
       "      <th>bpt6k62906378</th>\n",
       "      <th>437.0</th>\n",
       "      <th>154</th>\n",
       "      <th>1</th>\n",
       "      <th>1</th>\n",
       "      <td>17.</td>\n",
       "      <td>0.68</td>\n",
       "      <td>17.</td>\n",
       "      <td>False</td>\n",
       "    </tr>\n",
       "    <tr>\n",
       "      <th>bpt6k6305463c</th>\n",
       "      <th>442.0</th>\n",
       "      <th>23</th>\n",
       "      <th>0</th>\n",
       "      <th>2</th>\n",
       "      <td>*</td>\n",
       "      <td>0.68</td>\n",
       "      <td>*</td>\n",
       "      <td>False</td>\n",
       "    </tr>\n",
       "    <tr>\n",
       "      <th>bpt6k62931221</th>\n",
       "      <th>274.0</th>\n",
       "      <th>107</th>\n",
       "      <th>0</th>\n",
       "      <th>1</th>\n",
       "      <td>(Mme),</td>\n",
       "      <td>0.69</td>\n",
       "      <td>(Mme),</td>\n",
       "      <td>False</td>\n",
       "    </tr>\n",
       "    <tr>\n",
       "      <th>bpt6k6315927h</th>\n",
       "      <th>667.0</th>\n",
       "      <th>61</th>\n",
       "      <th>1</th>\n",
       "      <th>1</th>\n",
       "      <td>.67.</td>\n",
       "      <td>0.69</td>\n",
       "      <td>.67.</td>\n",
       "      <td>False</td>\n",
       "    </tr>\n",
       "    <tr>\n",
       "      <th>bpt6k6292987t</th>\n",
       "      <th>393.0</th>\n",
       "      <th>172</th>\n",
       "      <th>1</th>\n",
       "      <th>3</th>\n",
       "      <td>chàles,</td>\n",
       "      <td>0.69</td>\n",
       "      <td>chàles,</td>\n",
       "      <td>False</td>\n",
       "    </tr>\n",
       "    <tr>\n",
       "      <th>bpt6k6305463c</th>\n",
       "      <th>473.0</th>\n",
       "      <th>139</th>\n",
       "      <th>0</th>\n",
       "      <th>1</th>\n",
       "      <td>4,</td>\n",
       "      <td>0.67</td>\n",
       "      <td>4,</td>\n",
       "      <td>False</td>\n",
       "    </tr>\n",
       "    <tr>\n",
       "      <th>bpt6k6315927h</th>\n",
       "      <th>485.0</th>\n",
       "      <th>2</th>\n",
       "      <th>1</th>\n",
       "      <th>5</th>\n",
       "      <td>14.</td>\n",
       "      <td>0.67</td>\n",
       "      <td>14.</td>\n",
       "      <td>False</td>\n",
       "    </tr>\n",
       "    <tr>\n",
       "      <th>bpt6k6309075f</th>\n",
       "      <th>112.0</th>\n",
       "      <th>134</th>\n",
       "      <th>0</th>\n",
       "      <th>2</th>\n",
       "      <td>Mavons-Sm',</td>\n",
       "      <td>0.67</td>\n",
       "      <td>Mavons-Sm',</td>\n",
       "      <td>False</td>\n",
       "    </tr>\n",
       "    <tr>\n",
       "      <th>bpt6k6314752k</th>\n",
       "      <th>335.0</th>\n",
       "      <th>142</th>\n",
       "      <th>2</th>\n",
       "      <th>4</th>\n",
       "      <td>14.</td>\n",
       "      <td>0.67</td>\n",
       "      <td>14.</td>\n",
       "      <td>False</td>\n",
       "    </tr>\n",
       "    <tr>\n",
       "      <th>bpt6k6292987t</th>\n",
       "      <th>459.0</th>\n",
       "      <th>29</th>\n",
       "      <th>2</th>\n",
       "      <th>1</th>\n",
       "      <td>3).</td>\n",
       "      <td>0.69</td>\n",
       "      <td>3).</td>\n",
       "      <td>False</td>\n",
       "    </tr>\n",
       "    <tr>\n",
       "      <th>bpt6k6309075f</th>\n",
       "      <th>462.0</th>\n",
       "      <th>166</th>\n",
       "      <th>0</th>\n",
       "      <th>1</th>\n",
       "      <td>aide-naturaliste</td>\n",
       "      <td>0.68</td>\n",
       "      <td>aide-naturaliste</td>\n",
       "      <td>False</td>\n",
       "    </tr>\n",
       "  </tbody>\n",
       "</table>\n",
       "</div>"
      ],
      "text/plain": [
       "                                                 text  confidence  \\\n",
       "document      page  block line word                                 \n",
       "bpt6k6292987t 388.0 117   0    3                (Ils,        0.66   \n",
       "bpt6k6314752k 224.0 29    0    0              Blocil,        0.69   \n",
       "bpt6k6315927h 597.0 66    2    2               TIOUV.        0.69   \n",
       "bpt6k6315985z 101.0 166   2    2                   dé        0.69   \n",
       "bpt6k6286466w 454.0 151   0    3                    £        0.67   \n",
       "bpt6k6292987t 370.0 4     0    6                  Web        0.66   \n",
       "bpt6k6315985z 256.0 185   1    0                  65.        0.66   \n",
       "bpt6k6315927h 468.0 123   0    3                  11.        0.67   \n",
       "bpt6k62906378 307.0 107   0    1                   4,        0.67   \n",
       "bpt6k6305463c 382.0 131   0    2         Cliareriton,        0.69   \n",
       "bpt6k6314752k 400.0 190   1    2                  pl.        0.69   \n",
       "bpt6k6305463c 415.0 52    0    1                  83.        0.69   \n",
       "              162.0 178   1    1                   0.        0.67   \n",
       "bpt6k6315927h 492.0 129   0    1          Fleurùs,ll.        0.66   \n",
       "bpt6k62906378 437.0 154   1    1                  17.        0.68   \n",
       "bpt6k6305463c 442.0 23    0    2                    *        0.68   \n",
       "bpt6k62931221 274.0 107   0    1               (Mme),        0.69   \n",
       "bpt6k6315927h 667.0 61    1    1                 .67.        0.69   \n",
       "bpt6k6292987t 393.0 172   1    3              chàles,        0.69   \n",
       "bpt6k6305463c 473.0 139   0    1                   4,        0.67   \n",
       "bpt6k6315927h 485.0 2     1    5                  14.        0.67   \n",
       "bpt6k6309075f 112.0 134   0    2          Mavons-Sm',        0.67   \n",
       "bpt6k6314752k 335.0 142   2    4                  14.        0.67   \n",
       "bpt6k6292987t 459.0 29    2    1                  3).        0.69   \n",
       "bpt6k6309075f 462.0 166   0    1     aide-naturaliste        0.68   \n",
       "\n",
       "                                            full_text  is_hypen  \n",
       "document      page  block line word                              \n",
       "bpt6k6292987t 388.0 117   0    3                (Ils,     False  \n",
       "bpt6k6314752k 224.0 29    0    0              Blocil,     False  \n",
       "bpt6k6315927h 597.0 66    2    2               TIOUV.     False  \n",
       "bpt6k6315985z 101.0 166   2    2                   dé     False  \n",
       "bpt6k6286466w 454.0 151   0    3                    £     False  \n",
       "bpt6k6292987t 370.0 4     0    6                  Web     False  \n",
       "bpt6k6315985z 256.0 185   1    0                  65.     False  \n",
       "bpt6k6315927h 468.0 123   0    3                  11.     False  \n",
       "bpt6k62906378 307.0 107   0    1                   4,     False  \n",
       "bpt6k6305463c 382.0 131   0    2         Cliareriton,     False  \n",
       "bpt6k6314752k 400.0 190   1    2                  pl.     False  \n",
       "bpt6k6305463c 415.0 52    0    1                  83.     False  \n",
       "              162.0 178   1    1                   0.     False  \n",
       "bpt6k6315927h 492.0 129   0    1          Fleurùs,ll.     False  \n",
       "bpt6k62906378 437.0 154   1    1                  17.     False  \n",
       "bpt6k6305463c 442.0 23    0    2                    *     False  \n",
       "bpt6k62931221 274.0 107   0    1               (Mme),     False  \n",
       "bpt6k6315927h 667.0 61    1    1                 .67.     False  \n",
       "bpt6k6292987t 393.0 172   1    3              chàles,     False  \n",
       "bpt6k6305463c 473.0 139   0    1                   4,     False  \n",
       "bpt6k6315927h 485.0 2     1    5                  14.     False  \n",
       "bpt6k6309075f 112.0 134   0    2          Mavons-Sm',     False  \n",
       "bpt6k6314752k 335.0 142   2    4                  14.     False  \n",
       "bpt6k6292987t 459.0 29    2    1                  3).     False  \n",
       "bpt6k6309075f 462.0 166   0    1     aide-naturaliste     False  "
      ]
     },
     "execution_count": 100,
     "metadata": {},
     "output_type": "execute_result"
    }
   ],
   "source": [
    "df[(df['confidence'] > 0.65) & (df['confidence'] < 0.7)].sample(25)"
   ]
  },
  {
   "cell_type": "code",
   "execution_count": 29,
   "metadata": {},
   "outputs": [
    {
     "name": "stderr",
     "output_type": "stream",
     "text": [
      "D:\\APPLICATIONS\\lib\\site-packages\\ipykernel_launcher.py:1: UserWarning: Boolean Series key will be reindexed to match DataFrame index.\n",
      "  \"\"\"Entry point for launching an IPython kernel.\n"
     ]
    },
    {
     "data": {
      "text/html": [
       "<div>\n",
       "<style scoped>\n",
       "    .dataframe tbody tr th:only-of-type {\n",
       "        vertical-align: middle;\n",
       "    }\n",
       "\n",
       "    .dataframe tbody tr th {\n",
       "        vertical-align: top;\n",
       "    }\n",
       "\n",
       "    .dataframe thead th {\n",
       "        text-align: right;\n",
       "    }\n",
       "</style>\n",
       "<table border=\"1\" class=\"dataframe\">\n",
       "  <thead>\n",
       "    <tr style=\"text-align: right;\">\n",
       "      <th></th>\n",
       "      <th></th>\n",
       "      <th></th>\n",
       "      <th></th>\n",
       "      <th></th>\n",
       "      <th>text</th>\n",
       "      <th>confidence</th>\n",
       "      <th>full_text</th>\n",
       "      <th>is_hypen</th>\n",
       "    </tr>\n",
       "    <tr>\n",
       "      <th>document</th>\n",
       "      <th>page</th>\n",
       "      <th>block</th>\n",
       "      <th>line</th>\n",
       "      <th>word</th>\n",
       "      <th></th>\n",
       "      <th></th>\n",
       "      <th></th>\n",
       "      <th></th>\n",
       "    </tr>\n",
       "  </thead>\n",
       "  <tbody>\n",
       "    <tr>\n",
       "      <th rowspan=\"30\" valign=\"top\">0</th>\n",
       "      <th rowspan=\"30\" valign=\"top\">0</th>\n",
       "      <th rowspan=\"3\" valign=\"top\">7</th>\n",
       "      <th rowspan=\"3\" valign=\"top\">0</th>\n",
       "      <th>0</th>\n",
       "      <td>Bertin</td>\n",
       "      <td>1.00</td>\n",
       "      <td>Bertin</td>\n",
       "      <td>False</td>\n",
       "    </tr>\n",
       "    <tr>\n",
       "      <th>1</th>\n",
       "      <td>(J.),vins,Roquette,51.</td>\n",
       "      <td>0.84</td>\n",
       "      <td>(J.),vins,Roquette,51.</td>\n",
       "      <td>False</td>\n",
       "    </tr>\n",
       "    <tr>\n",
       "      <th>2</th>\n",
       "      <td>*</td>\n",
       "      <td>0.84</td>\n",
       "      <td>*</td>\n",
       "      <td>False</td>\n",
       "    </tr>\n",
       "    <tr>\n",
       "      <th rowspan=\"3\" valign=\"top\">8</th>\n",
       "      <th rowspan=\"3\" valign=\"top\">1</th>\n",
       "      <th>0</th>\n",
       "      <td>Oharaps,</td>\n",
       "      <td>0.82</td>\n",
       "      <td>Oroix-des-PetitsOharaps,</td>\n",
       "      <td>True</td>\n",
       "    </tr>\n",
       "    <tr>\n",
       "      <th>1</th>\n",
       "      <td>26.</td>\n",
       "      <td>0.82</td>\n",
       "      <td>26.</td>\n",
       "      <td>False</td>\n",
       "    </tr>\n",
       "    <tr>\n",
       "      <th>2</th>\n",
       "      <td>,'</td>\n",
       "      <td>1.00</td>\n",
       "      <td>,'</td>\n",
       "      <td>False</td>\n",
       "    </tr>\n",
       "    <tr>\n",
       "      <th rowspan=\"11\" valign=\"top\">10</th>\n",
       "      <th rowspan=\"8\" valign=\"top\">0</th>\n",
       "      <th>0</th>\n",
       "      <td>Bertin</td>\n",
       "      <td>1.00</td>\n",
       "      <td>Bertin</td>\n",
       "      <td>False</td>\n",
       "    </tr>\n",
       "    <tr>\n",
       "      <th>1</th>\n",
       "      <td>de</td>\n",
       "      <td>0.95</td>\n",
       "      <td>de</td>\n",
       "      <td>False</td>\n",
       "    </tr>\n",
       "    <tr>\n",
       "      <th>2</th>\n",
       "      <td>Chalup</td>\n",
       "      <td>0.95</td>\n",
       "      <td>Chalup</td>\n",
       "      <td>False</td>\n",
       "    </tr>\n",
       "    <tr>\n",
       "      <th>3</th>\n",
       "      <td>4</td>\n",
       "      <td>0.28</td>\n",
       "      <td>4</td>\n",
       "      <td>False</td>\n",
       "    </tr>\n",
       "    <tr>\n",
       "      <th>4</th>\n",
       "      <td>i</td>\n",
       "      <td>0.28</td>\n",
       "      <td>i</td>\n",
       "      <td>False</td>\n",
       "    </tr>\n",
       "    <tr>\n",
       "      <th>5</th>\n",
       "      <td>ancien</td>\n",
       "      <td>0.99</td>\n",
       "      <td>ancien</td>\n",
       "      <td>False</td>\n",
       "    </tr>\n",
       "    <tr>\n",
       "      <th>6</th>\n",
       "      <td>chef</td>\n",
       "      <td>1.00</td>\n",
       "      <td>chef</td>\n",
       "      <td>False</td>\n",
       "    </tr>\n",
       "    <tr>\n",
       "      <th>7</th>\n",
       "      <td>d'escadron,</td>\n",
       "      <td>0.97</td>\n",
       "      <td>d'escadron,</td>\n",
       "      <td>False</td>\n",
       "    </tr>\n",
       "    <tr>\n",
       "      <th rowspan=\"3\" valign=\"top\">1</th>\n",
       "      <th>0</th>\n",
       "      <td>ViMe-FEveque,</td>\n",
       "      <td>0.69</td>\n",
       "      <td>ViMe-FEveque,</td>\n",
       "      <td>False</td>\n",
       "    </tr>\n",
       "    <tr>\n",
       "      <th>1</th>\n",
       "      <td>27</td>\n",
       "      <td>0.94</td>\n",
       "      <td>27</td>\n",
       "      <td>False</td>\n",
       "    </tr>\n",
       "    <tr>\n",
       "      <th>2</th>\n",
       "      <td>bis.</td>\n",
       "      <td>0.99</td>\n",
       "      <td>bis.</td>\n",
       "      <td>False</td>\n",
       "    </tr>\n",
       "    <tr>\n",
       "      <th rowspan=\"4\" valign=\"top\">12</th>\n",
       "      <th rowspan=\"4\" valign=\"top\">0</th>\n",
       "      <th>0</th>\n",
       "      <td>des</td>\n",
       "      <td>1.00</td>\n",
       "      <td>des</td>\n",
       "      <td>False</td>\n",
       "    </tr>\n",
       "    <tr>\n",
       "      <th>1</th>\n",
       "      <td>Beaux-Arts,</td>\n",
       "      <td>0.96</td>\n",
       "      <td>Beaux-Arts,</td>\n",
       "      <td>False</td>\n",
       "    </tr>\n",
       "    <tr>\n",
       "      <th>2</th>\n",
       "      <td>Sts-Pères,</td>\n",
       "      <td>0.99</td>\n",
       "      <td>Sts-Pères,</td>\n",
       "      <td>False</td>\n",
       "    </tr>\n",
       "    <tr>\n",
       "      <th>3</th>\n",
       "      <td>7.</td>\n",
       "      <td>0.58</td>\n",
       "      <td>7.</td>\n",
       "      <td>False</td>\n",
       "    </tr>\n",
       "    <tr>\n",
       "      <th rowspan=\"7\" valign=\"top\">14</th>\n",
       "      <th rowspan=\"7\" valign=\"top\">0</th>\n",
       "      <th>0</th>\n",
       "      <td>l</td>\n",
       "      <td>0.18</td>\n",
       "      <td>l</td>\n",
       "      <td>False</td>\n",
       "    </tr>\n",
       "    <tr>\n",
       "      <th>1</th>\n",
       "      <td>Bcrtinot,</td>\n",
       "      <td>0.92</td>\n",
       "      <td>Bcrtinot,</td>\n",
       "      <td>False</td>\n",
       "    </tr>\n",
       "    <tr>\n",
       "      <th>2</th>\n",
       "      <td>avoué</td>\n",
       "      <td>1.00</td>\n",
       "      <td>avoué</td>\n",
       "      <td>False</td>\n",
       "    </tr>\n",
       "    <tr>\n",
       "      <th>3</th>\n",
       "      <td>Ire</td>\n",
       "      <td>0.96</td>\n",
       "      <td>Ire</td>\n",
       "      <td>False</td>\n",
       "    </tr>\n",
       "    <tr>\n",
       "      <th>4</th>\n",
       "      <td>instance,</td>\n",
       "      <td>0.99</td>\n",
       "      <td>instance,</td>\n",
       "      <td>False</td>\n",
       "    </tr>\n",
       "    <tr>\n",
       "      <th>5</th>\n",
       "      <td>Vivienne,</td>\n",
       "      <td>0.99</td>\n",
       "      <td>Vivienne,</td>\n",
       "      <td>False</td>\n",
       "    </tr>\n",
       "    <tr>\n",
       "      <th>6</th>\n",
       "      <td>10.</td>\n",
       "      <td>1.00</td>\n",
       "      <td>10.</td>\n",
       "      <td>False</td>\n",
       "    </tr>\n",
       "    <tr>\n",
       "      <th rowspan=\"2\" valign=\"top\">24</th>\n",
       "      <th rowspan=\"2\" valign=\"top\">0</th>\n",
       "      <th>0</th>\n",
       "      <td>Berton</td>\n",
       "      <td>0.51</td>\n",
       "      <td>Berton</td>\n",
       "      <td>False</td>\n",
       "    </tr>\n",
       "    <tr>\n",
       "      <th>1</th>\n",
       "      <td>(À.)</td>\n",
       "      <td>0.51</td>\n",
       "      <td>(À.)</td>\n",
       "      <td>False</td>\n",
       "    </tr>\n",
       "    <tr>\n",
       "      <th>...</th>\n",
       "      <th>...</th>\n",
       "      <th>...</th>\n",
       "      <th>...</th>\n",
       "      <th>...</th>\n",
       "      <td>...</td>\n",
       "      <td>...</td>\n",
       "      <td>...</td>\n",
       "      <td>...</td>\n",
       "    </tr>\n",
       "    <tr>\n",
       "      <th rowspan=\"30\" valign=\"top\">9</th>\n",
       "      <th rowspan=\"30\" valign=\"top\">322</th>\n",
       "      <th rowspan=\"2\" valign=\"top\">26</th>\n",
       "      <th rowspan=\"2\" valign=\"top\">0</th>\n",
       "      <th>5</th>\n",
       "      <td>eau,</td>\n",
       "      <td>0.78</td>\n",
       "      <td>eau,</td>\n",
       "      <td>False</td>\n",
       "    </tr>\n",
       "    <tr>\n",
       "      <th>6</th>\n",
       "      <td>37.</td>\n",
       "      <td>0.78</td>\n",
       "      <td>37.</td>\n",
       "      <td>False</td>\n",
       "    </tr>\n",
       "    <tr>\n",
       "      <th rowspan=\"2\" valign=\"top\">28</th>\n",
       "      <th rowspan=\"2\" valign=\"top\">1</th>\n",
       "      <th>0</th>\n",
       "      <td>Nve-St-EHenne-Bonne-Nouvelle,</td>\n",
       "      <td>0.87</td>\n",
       "      <td>Nve-St-EHenne-Bonne-Nouvelle,</td>\n",
       "      <td>False</td>\n",
       "    </tr>\n",
       "    <tr>\n",
       "      <th>1</th>\n",
       "      <td>2.</td>\n",
       "      <td>0.87</td>\n",
       "      <td>2.</td>\n",
       "      <td>False</td>\n",
       "    </tr>\n",
       "    <tr>\n",
       "      <th rowspan=\"2\" valign=\"top\">55</th>\n",
       "      <th rowspan=\"2\" valign=\"top\">1</th>\n",
       "      <th>0</th>\n",
       "      <td>glane,</td>\n",
       "      <td>0.85</td>\n",
       "      <td>Castelglane,</td>\n",
       "      <td>True</td>\n",
       "    </tr>\n",
       "    <tr>\n",
       "      <th>1</th>\n",
       "      <td>lb.</td>\n",
       "      <td>0.57</td>\n",
       "      <td>lb.</td>\n",
       "      <td>False</td>\n",
       "    </tr>\n",
       "    <tr>\n",
       "      <th rowspan=\"7\" valign=\"top\">124</th>\n",
       "      <th rowspan=\"7\" valign=\"top\">0</th>\n",
       "      <th>0</th>\n",
       "      <td>Bazar</td>\n",
       "      <td>0.89</td>\n",
       "      <td>Bazar</td>\n",
       "      <td>False</td>\n",
       "    </tr>\n",
       "    <tr>\n",
       "      <th>1</th>\n",
       "      <td>de</td>\n",
       "      <td>1.00</td>\n",
       "      <td>de</td>\n",
       "      <td>False</td>\n",
       "    </tr>\n",
       "    <tr>\n",
       "      <th>2</th>\n",
       "      <td>V</td>\n",
       "      <td>0.56</td>\n",
       "      <td>V</td>\n",
       "      <td>False</td>\n",
       "    </tr>\n",
       "    <tr>\n",
       "      <th>3</th>\n",
       "      <td>Industrie,</td>\n",
       "      <td>0.56</td>\n",
       "      <td>Industrie,</td>\n",
       "      <td>False</td>\n",
       "    </tr>\n",
       "    <tr>\n",
       "      <th>4</th>\n",
       "      <td>Montmartre,</td>\n",
       "      <td>0.99</td>\n",
       "      <td>Montmartre,</td>\n",
       "      <td>False</td>\n",
       "    </tr>\n",
       "    <tr>\n",
       "      <th>5</th>\n",
       "      <td>180,</td>\n",
       "      <td>1.00</td>\n",
       "      <td>180,</td>\n",
       "      <td>False</td>\n",
       "    </tr>\n",
       "    <tr>\n",
       "      <th>6</th>\n",
       "      <td>et</td>\n",
       "      <td>1.00</td>\n",
       "      <td>et</td>\n",
       "      <td>False</td>\n",
       "    </tr>\n",
       "    <tr>\n",
       "      <th rowspan=\"2\" valign=\"top\">128</th>\n",
       "      <th rowspan=\"2\" valign=\"top\">2</th>\n",
       "      <th>0</th>\n",
       "      <td>Université,</td>\n",
       "      <td>0.89</td>\n",
       "      <td>Université,</td>\n",
       "      <td>False</td>\n",
       "    </tr>\n",
       "    <tr>\n",
       "      <th>1</th>\n",
       "      <td>126.</td>\n",
       "      <td>0.89</td>\n",
       "      <td>126.</td>\n",
       "      <td>False</td>\n",
       "    </tr>\n",
       "    <tr>\n",
       "      <th rowspan=\"4\" valign=\"top\">136</th>\n",
       "      <th rowspan=\"4\" valign=\"top\">1</th>\n",
       "      <th>0</th>\n",
       "      <td>Faub.</td>\n",
       "      <td>0.99</td>\n",
       "      <td>Faub.</td>\n",
       "      <td>False</td>\n",
       "    </tr>\n",
       "    <tr>\n",
       "      <th>1</th>\n",
       "      <td>-St-Martin,</td>\n",
       "      <td>0.99</td>\n",
       "      <td>-St-Martin,</td>\n",
       "      <td>False</td>\n",
       "    </tr>\n",
       "    <tr>\n",
       "      <th>2</th>\n",
       "      <td>?'TL.</td>\n",
       "      <td>0.41</td>\n",
       "      <td>?'TL.</td>\n",
       "      <td>False</td>\n",
       "    </tr>\n",
       "    <tr>\n",
       "      <th>3</th>\n",
       "      <td>1</td>\n",
       "      <td>0.60</td>\n",
       "      <td>1</td>\n",
       "      <td>False</td>\n",
       "    </tr>\n",
       "    <tr>\n",
       "      <th rowspan=\"9\" valign=\"top\">166</th>\n",
       "      <th rowspan=\"9\" valign=\"top\">0</th>\n",
       "      <th>0</th>\n",
       "      <td>Bazin</td>\n",
       "      <td>1.00</td>\n",
       "      <td>Bazin</td>\n",
       "      <td>False</td>\n",
       "    </tr>\n",
       "    <tr>\n",
       "      <th>1</th>\n",
       "      <td>de</td>\n",
       "      <td>0.99</td>\n",
       "      <td>de</td>\n",
       "      <td>False</td>\n",
       "    </tr>\n",
       "    <tr>\n",
       "      <th>2</th>\n",
       "      <td>Raucou</td>\n",
       "      <td>1.00</td>\n",
       "      <td>Raucou</td>\n",
       "      <td>False</td>\n",
       "    </tr>\n",
       "    <tr>\n",
       "      <th>3</th>\n",
       "      <td>41,</td>\n",
       "      <td>0.70</td>\n",
       "      <td>41,</td>\n",
       "      <td>False</td>\n",
       "    </tr>\n",
       "    <tr>\n",
       "      <th>4</th>\n",
       "      <td>avocat</td>\n",
       "      <td>0.70</td>\n",
       "      <td>avocat</td>\n",
       "      <td>False</td>\n",
       "    </tr>\n",
       "    <tr>\n",
       "      <th>5</th>\n",
       "      <td>à</td>\n",
       "      <td>0.70</td>\n",
       "      <td>à</td>\n",
       "      <td>False</td>\n",
       "    </tr>\n",
       "    <tr>\n",
       "      <th>6</th>\n",
       "      <td>la</td>\n",
       "      <td>0.70</td>\n",
       "      <td>la</td>\n",
       "      <td>False</td>\n",
       "    </tr>\n",
       "    <tr>\n",
       "      <th>7</th>\n",
       "      <td>cour</td>\n",
       "      <td>1.00</td>\n",
       "      <td>cour</td>\n",
       "      <td>False</td>\n",
       "    </tr>\n",
       "    <tr>\n",
       "      <th>8</th>\n",
       "      <td>d'appel,</td>\n",
       "      <td>0.99</td>\n",
       "      <td>d'appel,</td>\n",
       "      <td>False</td>\n",
       "    </tr>\n",
       "    <tr>\n",
       "      <th rowspan=\"2\" valign=\"top\">168</th>\n",
       "      <th rowspan=\"2\" valign=\"top\">1</th>\n",
       "      <th>0</th>\n",
       "      <td>Bourg-1'Abbé,</td>\n",
       "      <td>0.81</td>\n",
       "      <td>Bourg-1'Abbé,</td>\n",
       "      <td>False</td>\n",
       "    </tr>\n",
       "    <tr>\n",
       "      <th>1</th>\n",
       "      <td>20.</td>\n",
       "      <td>0.81</td>\n",
       "      <td>20.</td>\n",
       "      <td>False</td>\n",
       "    </tr>\n",
       "  </tbody>\n",
       "</table>\n",
       "<p>460335 rows × 4 columns</p>\n",
       "</div>"
      ],
      "text/plain": [
       "                                                        text  confidence  \\\n",
       "document page block line word                                              \n",
       "0        0    7     0    0                            Bertin        1.00   \n",
       "                         1            (J.),vins,Roquette,51.        0.84   \n",
       "                         2                                 *        0.84   \n",
       "              8     1    0                          Oharaps,        0.82   \n",
       "                         1                               26.        0.82   \n",
       "                         2                                ,'        1.00   \n",
       "              10    0    0                            Bertin        1.00   \n",
       "                         1                                de        0.95   \n",
       "                         2                            Chalup        0.95   \n",
       "                         3                                 4        0.28   \n",
       "                         4                                 i        0.28   \n",
       "                         5                            ancien        0.99   \n",
       "                         6                              chef        1.00   \n",
       "                         7                       d'escadron,        0.97   \n",
       "                    1    0                     ViMe-FEveque,        0.69   \n",
       "                         1                                27        0.94   \n",
       "                         2                              bis.        0.99   \n",
       "              12    0    0                               des        1.00   \n",
       "                         1                       Beaux-Arts,        0.96   \n",
       "                         2                        Sts-Pères,        0.99   \n",
       "                         3                                7.        0.58   \n",
       "              14    0    0                                 l        0.18   \n",
       "                         1                         Bcrtinot,        0.92   \n",
       "                         2                             avoué        1.00   \n",
       "                         3                               Ire        0.96   \n",
       "                         4                         instance,        0.99   \n",
       "                         5                         Vivienne,        0.99   \n",
       "                         6                               10.        1.00   \n",
       "              24    0    0                            Berton        0.51   \n",
       "                         1                              (À.)        0.51   \n",
       "...                                                      ...         ...   \n",
       "9        322  26    0    5                              eau,        0.78   \n",
       "                         6                               37.        0.78   \n",
       "              28    1    0     Nve-St-EHenne-Bonne-Nouvelle,        0.87   \n",
       "                         1                                2.        0.87   \n",
       "              55    1    0                            glane,        0.85   \n",
       "                         1                               lb.        0.57   \n",
       "              124   0    0                             Bazar        0.89   \n",
       "                         1                                de        1.00   \n",
       "                         2                                 V        0.56   \n",
       "                         3                        Industrie,        0.56   \n",
       "                         4                       Montmartre,        0.99   \n",
       "                         5                              180,        1.00   \n",
       "                         6                                et        1.00   \n",
       "              128   2    0                       Université,        0.89   \n",
       "                         1                              126.        0.89   \n",
       "              136   1    0                             Faub.        0.99   \n",
       "                         1                       -St-Martin,        0.99   \n",
       "                         2                             ?'TL.        0.41   \n",
       "                         3                                 1        0.60   \n",
       "              166   0    0                             Bazin        1.00   \n",
       "                         1                                de        0.99   \n",
       "                         2                            Raucou        1.00   \n",
       "                         3                               41,        0.70   \n",
       "                         4                            avocat        0.70   \n",
       "                         5                                 à        0.70   \n",
       "                         6                                la        0.70   \n",
       "                         7                              cour        1.00   \n",
       "                         8                          d'appel,        0.99   \n",
       "              168   1    0                     Bourg-1'Abbé,        0.81   \n",
       "                         1                               20.        0.81   \n",
       "\n",
       "                                                   full_text  is_hypen  \n",
       "document page block line word                                           \n",
       "0        0    7     0    0                            Bertin     False  \n",
       "                         1            (J.),vins,Roquette,51.     False  \n",
       "                         2                                 *     False  \n",
       "              8     1    0          Oroix-des-PetitsOharaps,      True  \n",
       "                         1                               26.     False  \n",
       "                         2                                ,'     False  \n",
       "              10    0    0                            Bertin     False  \n",
       "                         1                                de     False  \n",
       "                         2                            Chalup     False  \n",
       "                         3                                 4     False  \n",
       "                         4                                 i     False  \n",
       "                         5                            ancien     False  \n",
       "                         6                              chef     False  \n",
       "                         7                       d'escadron,     False  \n",
       "                    1    0                     ViMe-FEveque,     False  \n",
       "                         1                                27     False  \n",
       "                         2                              bis.     False  \n",
       "              12    0    0                               des     False  \n",
       "                         1                       Beaux-Arts,     False  \n",
       "                         2                        Sts-Pères,     False  \n",
       "                         3                                7.     False  \n",
       "              14    0    0                                 l     False  \n",
       "                         1                         Bcrtinot,     False  \n",
       "                         2                             avoué     False  \n",
       "                         3                               Ire     False  \n",
       "                         4                         instance,     False  \n",
       "                         5                         Vivienne,     False  \n",
       "                         6                               10.     False  \n",
       "              24    0    0                            Berton     False  \n",
       "                         1                              (À.)     False  \n",
       "...                                                      ...       ...  \n",
       "9        322  26    0    5                              eau,     False  \n",
       "                         6                               37.     False  \n",
       "              28    1    0     Nve-St-EHenne-Bonne-Nouvelle,     False  \n",
       "                         1                                2.     False  \n",
       "              55    1    0                      Castelglane,      True  \n",
       "                         1                               lb.     False  \n",
       "              124   0    0                             Bazar     False  \n",
       "                         1                                de     False  \n",
       "                         2                                 V     False  \n",
       "                         3                        Industrie,     False  \n",
       "                         4                       Montmartre,     False  \n",
       "                         5                              180,     False  \n",
       "                         6                                et     False  \n",
       "              128   2    0                       Université,     False  \n",
       "                         1                              126.     False  \n",
       "              136   1    0                             Faub.     False  \n",
       "                         1                       -St-Martin,     False  \n",
       "                         2                             ?'TL.     False  \n",
       "                         3                                 1     False  \n",
       "              166   0    0                             Bazin     False  \n",
       "                         1                                de     False  \n",
       "                         2                            Raucou     False  \n",
       "                         3                               41,     False  \n",
       "                         4                            avocat     False  \n",
       "                         5                                 à     False  \n",
       "                         6                                la     False  \n",
       "                         7                              cour     False  \n",
       "                         8                          d'appel,     False  \n",
       "              168   1    0                     Bourg-1'Abbé,     False  \n",
       "                         1                               20.     False  \n",
       "\n",
       "[460335 rows x 4 columns]"
      ]
     },
     "execution_count": 29,
     "metadata": {},
     "output_type": "execute_result"
    }
   ],
   "source": [
    "df[mean_per_line < 0.9]"
   ]
  },
  {
   "cell_type": "code",
   "execution_count": 10,
   "metadata": {},
   "outputs": [],
   "source": [
    "data = df_rep.join(df.groupby(level=[0])['confidence'].mean()).dropna(subset=['confidence'])[['annee', 'confidence']].sort_values(by='annee')"
   ]
  },
  {
   "cell_type": "code",
   "execution_count": 12,
   "metadata": {},
   "outputs": [
    {
     "data": {
      "text/plain": [
       "[<matplotlib.lines.Line2D at 0x2030266b4e0>]"
      ]
     },
     "execution_count": 12,
     "metadata": {},
     "output_type": "execute_result"
    },
    {
     "data": {
      "image/png": "[encoded data removed]",
      "text/plain": [
       "<Figure size 1440x720 with 1 Axes>"
      ]
     },
     "metadata": {},
     "output_type": "display_data"
    }
   ],
   "source": [
    "plt.figure(figsize=(20,10))\n",
    "plt.plot(data['annee'], data['confidence'])"
   ]
  },
  {
   "cell_type": "code",
   "execution_count": 88,
   "metadata": {},
   "outputs": [],
   "source": [
    "text_occurences = df['text'].value_counts()\n",
    "text_occurences.index = text_occurences.index.astype(str)"
   ]
  },
  {
   "cell_type": "code",
   "execution_count": 107,
   "metadata": {},
   "outputs": [
    {
     "data": {
      "text/plain": [
       "44823"
      ]
     },
     "execution_count": 107,
     "metadata": {},
     "output_type": "execute_result"
    }
   ],
   "source": [
    "text_occurences.loc['*']"
   ]
  },
  {
   "cell_type": "code",
   "execution_count": 135,
   "metadata": {},
   "outputs": [
    {
     "ename": "KeyError",
     "evalue": "\"['word'] not in index\"",
     "output_type": "error",
     "traceback": [
      "\u001b[0;31m---------------------------------------------------------------------------\u001b[0m",
      "\u001b[0;31mKeyError\u001b[0m                                  Traceback (most recent call last)",
      "\u001b[0;32m<ipython-input-135-e9a959c7da04>\u001b[0m in \u001b[0;36m<module>\u001b[0;34m()\u001b[0m\n\u001b[0;32m----> 1\u001b[0;31m \u001b[0mdf\u001b[0m\u001b[0;34m.\u001b[0m\u001b[0mloc\u001b[0m\u001b[0;34m[\u001b[0m\u001b[0;34m{\u001b[0m\u001b[0;34m'word'\u001b[0m \u001b[0;34m:\u001b[0m \u001b[0;34m[\u001b[0m\u001b[0;36m0\u001b[0m\u001b[0;34m]\u001b[0m\u001b[0;34m}\u001b[0m\u001b[0;34m]\u001b[0m\u001b[0;34m\u001b[0m\u001b[0m\n\u001b[0m",
      "\u001b[0;32m~/.conda/envs/dh_segment/lib/python3.5/site-packages/pandas/core/indexing.py\u001b[0m in \u001b[0;36m__getitem__\u001b[0;34m(self, key)\u001b[0m\n\u001b[1;32m   1476\u001b[0m \u001b[0;34m\u001b[0m\u001b[0m\n\u001b[1;32m   1477\u001b[0m             \u001b[0mmaybe_callable\u001b[0m \u001b[0;34m=\u001b[0m \u001b[0mcom\u001b[0m\u001b[0;34m.\u001b[0m\u001b[0m_apply_if_callable\u001b[0m\u001b[0;34m(\u001b[0m\u001b[0mkey\u001b[0m\u001b[0;34m,\u001b[0m \u001b[0mself\u001b[0m\u001b[0;34m.\u001b[0m\u001b[0mobj\u001b[0m\u001b[0;34m)\u001b[0m\u001b[0;34m\u001b[0m\u001b[0m\n\u001b[0;32m-> 1478\u001b[0;31m             \u001b[0;32mreturn\u001b[0m \u001b[0mself\u001b[0m\u001b[0;34m.\u001b[0m\u001b[0m_getitem_axis\u001b[0m\u001b[0;34m(\u001b[0m\u001b[0mmaybe_callable\u001b[0m\u001b[0;34m,\u001b[0m \u001b[0maxis\u001b[0m\u001b[0;34m=\u001b[0m\u001b[0maxis\u001b[0m\u001b[0;34m)\u001b[0m\u001b[0;34m\u001b[0m\u001b[0m\n\u001b[0m\u001b[1;32m   1479\u001b[0m \u001b[0;34m\u001b[0m\u001b[0m\n\u001b[1;32m   1480\u001b[0m     \u001b[0;32mdef\u001b[0m \u001b[0m_is_scalar_access\u001b[0m\u001b[0;34m(\u001b[0m\u001b[0mself\u001b[0m\u001b[0;34m,\u001b[0m \u001b[0mkey\u001b[0m\u001b[0;34m)\u001b[0m\u001b[0;34m:\u001b[0m\u001b[0;34m\u001b[0m\u001b[0m\n",
      "\u001b[0;32m~/.conda/envs/dh_segment/lib/python3.5/site-packages/pandas/core/indexing.py\u001b[0m in \u001b[0;36m_getitem_axis\u001b[0;34m(self, key, axis)\u001b[0m\n\u001b[1;32m   1899\u001b[0m                     \u001b[0;32mraise\u001b[0m \u001b[0mValueError\u001b[0m\u001b[0;34m(\u001b[0m\u001b[0;34m'Cannot index with multidimensional key'\u001b[0m\u001b[0;34m)\u001b[0m\u001b[0;34m\u001b[0m\u001b[0m\n\u001b[1;32m   1900\u001b[0m \u001b[0;34m\u001b[0m\u001b[0m\n\u001b[0;32m-> 1901\u001b[0;31m                 \u001b[0;32mreturn\u001b[0m \u001b[0mself\u001b[0m\u001b[0;34m.\u001b[0m\u001b[0m_getitem_iterable\u001b[0m\u001b[0;34m(\u001b[0m\u001b[0mkey\u001b[0m\u001b[0;34m,\u001b[0m \u001b[0maxis\u001b[0m\u001b[0;34m=\u001b[0m\u001b[0maxis\u001b[0m\u001b[0;34m)\u001b[0m\u001b[0;34m\u001b[0m\u001b[0m\n\u001b[0m\u001b[1;32m   1902\u001b[0m \u001b[0;34m\u001b[0m\u001b[0m\n\u001b[1;32m   1903\u001b[0m             \u001b[0;31m# nested tuple slicing\u001b[0m\u001b[0;34m\u001b[0m\u001b[0;34m\u001b[0m\u001b[0m\n",
      "\u001b[0;32m~/.conda/envs/dh_segment/lib/python3.5/site-packages/pandas/core/indexing.py\u001b[0m in \u001b[0;36m_getitem_iterable\u001b[0;34m(self, key, axis)\u001b[0m\n\u001b[1;32m   1132\u001b[0m             \u001b[0;31m# if it cannot handle; we only act on all found values\u001b[0m\u001b[0;34m\u001b[0m\u001b[0;34m\u001b[0m\u001b[0m\n\u001b[1;32m   1133\u001b[0m             indexer, keyarr = labels._convert_listlike_indexer(\n\u001b[0;32m-> 1134\u001b[0;31m                 key, kind=self.name)\n\u001b[0m\u001b[1;32m   1135\u001b[0m             \u001b[0;32mif\u001b[0m \u001b[0mindexer\u001b[0m \u001b[0;32mis\u001b[0m \u001b[0;32mnot\u001b[0m \u001b[0;32mNone\u001b[0m \u001b[0;32mand\u001b[0m \u001b[0;34m(\u001b[0m\u001b[0mindexer\u001b[0m \u001b[0;34m!=\u001b[0m \u001b[0;34m-\u001b[0m\u001b[0;36m1\u001b[0m\u001b[0;34m)\u001b[0m\u001b[0;34m.\u001b[0m\u001b[0mall\u001b[0m\u001b[0;34m(\u001b[0m\u001b[0;34m)\u001b[0m\u001b[0;34m:\u001b[0m\u001b[0;34m\u001b[0m\u001b[0m\n\u001b[1;32m   1136\u001b[0m                 \u001b[0mself\u001b[0m\u001b[0;34m.\u001b[0m\u001b[0m_validate_read_indexer\u001b[0m\u001b[0;34m(\u001b[0m\u001b[0mkey\u001b[0m\u001b[0;34m,\u001b[0m \u001b[0mindexer\u001b[0m\u001b[0;34m,\u001b[0m \u001b[0maxis\u001b[0m\u001b[0;34m)\u001b[0m\u001b[0;34m\u001b[0m\u001b[0m\n",
      "\u001b[0;32m~/.conda/envs/dh_segment/lib/python3.5/site-packages/pandas/core/indexes/multi.py\u001b[0m in \u001b[0;36m_convert_listlike_indexer\u001b[0;34m(self, keyarr, kind)\u001b[0m\n\u001b[1;32m   2002\u001b[0m             \u001b[0mmask\u001b[0m \u001b[0;34m=\u001b[0m \u001b[0mcheck\u001b[0m \u001b[0;34m==\u001b[0m \u001b[0;34m-\u001b[0m\u001b[0;36m1\u001b[0m\u001b[0;34m\u001b[0m\u001b[0m\n\u001b[1;32m   2003\u001b[0m             \u001b[0;32mif\u001b[0m \u001b[0mmask\u001b[0m\u001b[0;34m.\u001b[0m\u001b[0many\u001b[0m\u001b[0;34m(\u001b[0m\u001b[0;34m)\u001b[0m\u001b[0;34m:\u001b[0m\u001b[0;34m\u001b[0m\u001b[0m\n\u001b[0;32m-> 2004\u001b[0;31m                 \u001b[0;32mraise\u001b[0m \u001b[0mKeyError\u001b[0m\u001b[0;34m(\u001b[0m\u001b[0;34m'%s not in index'\u001b[0m \u001b[0;34m%\u001b[0m \u001b[0mkeyarr\u001b[0m\u001b[0;34m[\u001b[0m\u001b[0mmask\u001b[0m\u001b[0;34m]\u001b[0m\u001b[0;34m)\u001b[0m\u001b[0;34m\u001b[0m\u001b[0m\n\u001b[0m\u001b[1;32m   2005\u001b[0m \u001b[0;34m\u001b[0m\u001b[0m\n\u001b[1;32m   2006\u001b[0m         \u001b[0;32mreturn\u001b[0m \u001b[0mindexer\u001b[0m\u001b[0;34m,\u001b[0m \u001b[0mkeyarr\u001b[0m\u001b[0;34m\u001b[0m\u001b[0m\n",
      "\u001b[0;31mKeyError\u001b[0m: \"['word'] not in index\""
     ]
    }
   ],
   "source": [
    "idx = pd.IndexSlice\n",
    "df.loc[idx]"
   ]
  },
  {
   "cell_type": "code",
   "execution_count": 99,
   "metadata": {},
   "outputs": [
    {
     "data": {
      "text/plain": [
       "16790540"
      ]
     },
     "execution_count": 99,
     "metadata": {},
     "output_type": "execute_result"
    }
   ],
   "source": [
    "text_occurences[text_occurences.index.str.endswith(',')].sum()"
   ]
  },
  {
   "cell_type": "code",
   "execution_count": 130,
   "metadata": {},
   "outputs": [
    {
     "ename": "KeyboardInterrupt",
     "evalue": "",
     "output_type": "error",
     "traceback": [
      "\u001b[0;31m---------------------------------------------------------------------------\u001b[0m",
      "\u001b[0;31mKeyboardInterrupt\u001b[0m                         Traceback (most recent call last)",
      "\u001b[0;32m<ipython-input-130-e72cd456d590>\u001b[0m in \u001b[0;36m<module>\u001b[0;34m()\u001b[0m\n\u001b[0;32m----> 1\u001b[0;31m \u001b[0mdf\u001b[0m\u001b[0;34m.\u001b[0m\u001b[0mloc\u001b[0m\u001b[0;34m[\u001b[0m\u001b[0;34m(\u001b[0m\u001b[0mlines_per_block\u001b[0m \u001b[0;34m>\u001b[0m \u001b[0;36m3\u001b[0m\u001b[0;34m)\u001b[0m\u001b[0;34m.\u001b[0m\u001b[0msample\u001b[0m\u001b[0;34m(\u001b[0m\u001b[0;36m10\u001b[0m\u001b[0;34m)\u001b[0m\u001b[0;34m]\u001b[0m\u001b[0;34m\u001b[0m\u001b[0m\n\u001b[0m",
      "\u001b[0;32m~/.conda/envs/dh_segment/lib/python3.5/site-packages/pandas/core/indexing.py\u001b[0m in \u001b[0;36m__getitem__\u001b[0;34m(self, key)\u001b[0m\n\u001b[1;32m   1476\u001b[0m \u001b[0;34m\u001b[0m\u001b[0m\n\u001b[1;32m   1477\u001b[0m             \u001b[0mmaybe_callable\u001b[0m \u001b[0;34m=\u001b[0m \u001b[0mcom\u001b[0m\u001b[0;34m.\u001b[0m\u001b[0m_apply_if_callable\u001b[0m\u001b[0;34m(\u001b[0m\u001b[0mkey\u001b[0m\u001b[0;34m,\u001b[0m \u001b[0mself\u001b[0m\u001b[0;34m.\u001b[0m\u001b[0mobj\u001b[0m\u001b[0;34m)\u001b[0m\u001b[0;34m\u001b[0m\u001b[0m\n\u001b[0;32m-> 1478\u001b[0;31m             \u001b[0;32mreturn\u001b[0m \u001b[0mself\u001b[0m\u001b[0;34m.\u001b[0m\u001b[0m_getitem_axis\u001b[0m\u001b[0;34m(\u001b[0m\u001b[0mmaybe_callable\u001b[0m\u001b[0;34m,\u001b[0m \u001b[0maxis\u001b[0m\u001b[0;34m=\u001b[0m\u001b[0maxis\u001b[0m\u001b[0;34m)\u001b[0m\u001b[0;34m\u001b[0m\u001b[0m\n\u001b[0m\u001b[1;32m   1479\u001b[0m \u001b[0;34m\u001b[0m\u001b[0m\n\u001b[1;32m   1480\u001b[0m     \u001b[0;32mdef\u001b[0m \u001b[0m_is_scalar_access\u001b[0m\u001b[0;34m(\u001b[0m\u001b[0mself\u001b[0m\u001b[0;34m,\u001b[0m \u001b[0mkey\u001b[0m\u001b[0;34m)\u001b[0m\u001b[0;34m:\u001b[0m\u001b[0;34m\u001b[0m\u001b[0m\n",
      "\u001b[0;32m~/.conda/envs/dh_segment/lib/python3.5/site-packages/pandas/core/indexing.py\u001b[0m in \u001b[0;36m_getitem_axis\u001b[0;34m(self, key, axis)\u001b[0m\n\u001b[1;32m   1866\u001b[0m             \u001b[0;32mreturn\u001b[0m \u001b[0mself\u001b[0m\u001b[0;34m.\u001b[0m\u001b[0m_get_slice_axis\u001b[0m\u001b[0;34m(\u001b[0m\u001b[0mkey\u001b[0m\u001b[0;34m,\u001b[0m \u001b[0maxis\u001b[0m\u001b[0;34m=\u001b[0m\u001b[0maxis\u001b[0m\u001b[0;34m)\u001b[0m\u001b[0;34m\u001b[0m\u001b[0m\n\u001b[1;32m   1867\u001b[0m         \u001b[0;32melif\u001b[0m \u001b[0mcom\u001b[0m\u001b[0;34m.\u001b[0m\u001b[0mis_bool_indexer\u001b[0m\u001b[0;34m(\u001b[0m\u001b[0mkey\u001b[0m\u001b[0;34m)\u001b[0m\u001b[0;34m:\u001b[0m\u001b[0;34m\u001b[0m\u001b[0m\n\u001b[0;32m-> 1868\u001b[0;31m             \u001b[0;32mreturn\u001b[0m \u001b[0mself\u001b[0m\u001b[0;34m.\u001b[0m\u001b[0m_getbool_axis\u001b[0m\u001b[0;34m(\u001b[0m\u001b[0mkey\u001b[0m\u001b[0;34m,\u001b[0m \u001b[0maxis\u001b[0m\u001b[0;34m=\u001b[0m\u001b[0maxis\u001b[0m\u001b[0;34m)\u001b[0m\u001b[0;34m\u001b[0m\u001b[0m\n\u001b[0m\u001b[1;32m   1869\u001b[0m         \u001b[0;32melif\u001b[0m \u001b[0mis_list_like_indexer\u001b[0m\u001b[0;34m(\u001b[0m\u001b[0mkey\u001b[0m\u001b[0;34m)\u001b[0m\u001b[0;34m:\u001b[0m\u001b[0;34m\u001b[0m\u001b[0m\n\u001b[1;32m   1870\u001b[0m \u001b[0;34m\u001b[0m\u001b[0m\n",
      "\u001b[0;32m~/.conda/envs/dh_segment/lib/python3.5/site-packages/pandas/core/indexing.py\u001b[0m in \u001b[0;36m_getbool_axis\u001b[0;34m(self, key, axis)\u001b[0m\n\u001b[1;32m   1491\u001b[0m             \u001b[0maxis\u001b[0m \u001b[0;34m=\u001b[0m \u001b[0mself\u001b[0m\u001b[0;34m.\u001b[0m\u001b[0maxis\u001b[0m \u001b[0;32mor\u001b[0m \u001b[0;36m0\u001b[0m\u001b[0;34m\u001b[0m\u001b[0m\n\u001b[1;32m   1492\u001b[0m         \u001b[0mlabels\u001b[0m \u001b[0;34m=\u001b[0m \u001b[0mself\u001b[0m\u001b[0;34m.\u001b[0m\u001b[0mobj\u001b[0m\u001b[0;34m.\u001b[0m\u001b[0m_get_axis\u001b[0m\u001b[0;34m(\u001b[0m\u001b[0maxis\u001b[0m\u001b[0;34m)\u001b[0m\u001b[0;34m\u001b[0m\u001b[0m\n\u001b[0;32m-> 1493\u001b[0;31m         \u001b[0mkey\u001b[0m \u001b[0;34m=\u001b[0m \u001b[0mcheck_bool_indexer\u001b[0m\u001b[0;34m(\u001b[0m\u001b[0mlabels\u001b[0m\u001b[0;34m,\u001b[0m \u001b[0mkey\u001b[0m\u001b[0;34m)\u001b[0m\u001b[0;34m\u001b[0m\u001b[0m\n\u001b[0m\u001b[1;32m   1494\u001b[0m         \u001b[0minds\u001b[0m\u001b[0;34m,\u001b[0m \u001b[0;34m=\u001b[0m \u001b[0mkey\u001b[0m\u001b[0;34m.\u001b[0m\u001b[0mnonzero\u001b[0m\u001b[0;34m(\u001b[0m\u001b[0;34m)\u001b[0m\u001b[0;34m\u001b[0m\u001b[0m\n\u001b[1;32m   1495\u001b[0m         \u001b[0;32mtry\u001b[0m\u001b[0;34m:\u001b[0m\u001b[0;34m\u001b[0m\u001b[0m\n",
      "\u001b[0;32m~/.conda/envs/dh_segment/lib/python3.5/site-packages/pandas/core/indexing.py\u001b[0m in \u001b[0;36mcheck_bool_indexer\u001b[0;34m(ax, key)\u001b[0m\n\u001b[1;32m   2351\u001b[0m     \u001b[0mresult\u001b[0m \u001b[0;34m=\u001b[0m \u001b[0mkey\u001b[0m\u001b[0;34m\u001b[0m\u001b[0m\n\u001b[1;32m   2352\u001b[0m     \u001b[0;32mif\u001b[0m \u001b[0misinstance\u001b[0m\u001b[0;34m(\u001b[0m\u001b[0mkey\u001b[0m\u001b[0;34m,\u001b[0m \u001b[0mABCSeries\u001b[0m\u001b[0;34m)\u001b[0m \u001b[0;32mand\u001b[0m \u001b[0;32mnot\u001b[0m \u001b[0mkey\u001b[0m\u001b[0;34m.\u001b[0m\u001b[0mindex\u001b[0m\u001b[0;34m.\u001b[0m\u001b[0mequals\u001b[0m\u001b[0;34m(\u001b[0m\u001b[0max\u001b[0m\u001b[0;34m)\u001b[0m\u001b[0;34m:\u001b[0m\u001b[0;34m\u001b[0m\u001b[0m\n\u001b[0;32m-> 2353\u001b[0;31m         \u001b[0mresult\u001b[0m \u001b[0;34m=\u001b[0m \u001b[0mresult\u001b[0m\u001b[0;34m.\u001b[0m\u001b[0mreindex\u001b[0m\u001b[0;34m(\u001b[0m\u001b[0max\u001b[0m\u001b[0;34m)\u001b[0m\u001b[0;34m\u001b[0m\u001b[0m\n\u001b[0m\u001b[1;32m   2354\u001b[0m         \u001b[0mmask\u001b[0m \u001b[0;34m=\u001b[0m \u001b[0misna\u001b[0m\u001b[0;34m(\u001b[0m\u001b[0mresult\u001b[0m\u001b[0;34m.\u001b[0m\u001b[0m_values\u001b[0m\u001b[0;34m)\u001b[0m\u001b[0;34m\u001b[0m\u001b[0m\n\u001b[1;32m   2355\u001b[0m         \u001b[0;32mif\u001b[0m \u001b[0mmask\u001b[0m\u001b[0;34m.\u001b[0m\u001b[0many\u001b[0m\u001b[0;34m(\u001b[0m\u001b[0;34m)\u001b[0m\u001b[0;34m:\u001b[0m\u001b[0;34m\u001b[0m\u001b[0m\n",
      "\u001b[0;32m~/.conda/envs/dh_segment/lib/python3.5/site-packages/pandas/core/series.py\u001b[0m in \u001b[0;36mreindex\u001b[0;34m(self, index, **kwargs)\u001b[0m\n\u001b[1;32m   3320\u001b[0m     \u001b[0;34m@\u001b[0m\u001b[0mAppender\u001b[0m\u001b[0;34m(\u001b[0m\u001b[0mgeneric\u001b[0m\u001b[0;34m.\u001b[0m\u001b[0m_shared_docs\u001b[0m\u001b[0;34m[\u001b[0m\u001b[0;34m'reindex'\u001b[0m\u001b[0;34m]\u001b[0m \u001b[0;34m%\u001b[0m \u001b[0m_shared_doc_kwargs\u001b[0m\u001b[0;34m)\u001b[0m\u001b[0;34m\u001b[0m\u001b[0m\n\u001b[1;32m   3321\u001b[0m     \u001b[0;32mdef\u001b[0m \u001b[0mreindex\u001b[0m\u001b[0;34m(\u001b[0m\u001b[0mself\u001b[0m\u001b[0;34m,\u001b[0m \u001b[0mindex\u001b[0m\u001b[0;34m=\u001b[0m\u001b[0;32mNone\u001b[0m\u001b[0;34m,\u001b[0m \u001b[0;34m**\u001b[0m\u001b[0mkwargs\u001b[0m\u001b[0;34m)\u001b[0m\u001b[0;34m:\u001b[0m\u001b[0;34m\u001b[0m\u001b[0m\n\u001b[0;32m-> 3322\u001b[0;31m         \u001b[0;32mreturn\u001b[0m \u001b[0msuper\u001b[0m\u001b[0;34m(\u001b[0m\u001b[0mSeries\u001b[0m\u001b[0;34m,\u001b[0m \u001b[0mself\u001b[0m\u001b[0;34m)\u001b[0m\u001b[0;34m.\u001b[0m\u001b[0mreindex\u001b[0m\u001b[0;34m(\u001b[0m\u001b[0mindex\u001b[0m\u001b[0;34m=\u001b[0m\u001b[0mindex\u001b[0m\u001b[0;34m,\u001b[0m \u001b[0;34m**\u001b[0m\u001b[0mkwargs\u001b[0m\u001b[0;34m)\u001b[0m\u001b[0;34m\u001b[0m\u001b[0m\n\u001b[0m\u001b[1;32m   3323\u001b[0m \u001b[0;34m\u001b[0m\u001b[0m\n\u001b[1;32m   3324\u001b[0m     def drop(self, labels=None, axis=0, index=None, columns=None,\n",
      "\u001b[0;32m~/.conda/envs/dh_segment/lib/python3.5/site-packages/pandas/core/generic.py\u001b[0m in \u001b[0;36mreindex\u001b[0;34m(self, *args, **kwargs)\u001b[0m\n\u001b[1;32m   3683\u001b[0m         \u001b[0;31m# perform the reindex on the axes\u001b[0m\u001b[0;34m\u001b[0m\u001b[0;34m\u001b[0m\u001b[0m\n\u001b[1;32m   3684\u001b[0m         return self._reindex_axes(axes, level, limit, tolerance, method,\n\u001b[0;32m-> 3685\u001b[0;31m                                   fill_value, copy).__finalize__(self)\n\u001b[0m\u001b[1;32m   3686\u001b[0m \u001b[0;34m\u001b[0m\u001b[0m\n\u001b[1;32m   3687\u001b[0m     def _reindex_axes(self, axes, level, limit, tolerance, method, fill_value,\n",
      "\u001b[0;32m~/.conda/envs/dh_segment/lib/python3.5/site-packages/pandas/core/generic.py\u001b[0m in \u001b[0;36m_reindex_axes\u001b[0;34m(self, axes, level, limit, tolerance, method, fill_value, copy)\u001b[0m\n\u001b[1;32m   3696\u001b[0m             \u001b[0max\u001b[0m \u001b[0;34m=\u001b[0m \u001b[0mself\u001b[0m\u001b[0;34m.\u001b[0m\u001b[0m_get_axis\u001b[0m\u001b[0;34m(\u001b[0m\u001b[0ma\u001b[0m\u001b[0;34m)\u001b[0m\u001b[0;34m\u001b[0m\u001b[0m\n\u001b[1;32m   3697\u001b[0m             new_index, indexer = ax.reindex(labels, level=level, limit=limit,\n\u001b[0;32m-> 3698\u001b[0;31m                                             tolerance=tolerance, method=method)\n\u001b[0m\u001b[1;32m   3699\u001b[0m \u001b[0;34m\u001b[0m\u001b[0m\n\u001b[1;32m   3700\u001b[0m             \u001b[0maxis\u001b[0m \u001b[0;34m=\u001b[0m \u001b[0mself\u001b[0m\u001b[0;34m.\u001b[0m\u001b[0m_get_axis_number\u001b[0m\u001b[0;34m(\u001b[0m\u001b[0ma\u001b[0m\u001b[0;34m)\u001b[0m\u001b[0;34m\u001b[0m\u001b[0m\n",
      "\u001b[0;32m~/.conda/envs/dh_segment/lib/python3.5/site-packages/pandas/core/indexes/multi.py\u001b[0m in \u001b[0;36mreindex\u001b[0;34m(self, target, method, level, limit, tolerance)\u001b[0m\n\u001b[1;32m   2091\u001b[0m                     indexer = self.get_indexer(target, method=method,\n\u001b[1;32m   2092\u001b[0m                                                \u001b[0mlimit\u001b[0m\u001b[0;34m=\u001b[0m\u001b[0mlimit\u001b[0m\u001b[0;34m,\u001b[0m\u001b[0;34m\u001b[0m\u001b[0m\n\u001b[0;32m-> 2093\u001b[0;31m                                                tolerance=tolerance)\n\u001b[0m\u001b[1;32m   2094\u001b[0m                 \u001b[0;32melse\u001b[0m\u001b[0;34m:\u001b[0m\u001b[0;34m\u001b[0m\u001b[0m\n\u001b[1;32m   2095\u001b[0m                     \u001b[0;32mraise\u001b[0m \u001b[0mException\u001b[0m\u001b[0;34m(\u001b[0m\u001b[0;34m\"cannot handle a non-unique multi-index!\"\u001b[0m\u001b[0;34m)\u001b[0m\u001b[0;34m\u001b[0m\u001b[0m\n",
      "\u001b[0;32m~/.conda/envs/dh_segment/lib/python3.5/site-packages/pandas/core/indexes/multi.py\u001b[0m in \u001b[0;36mget_indexer\u001b[0;34m(self, target, method, limit, tolerance)\u001b[0m\n\u001b[1;32m   2040\u001b[0m                                       'for MultiIndex; see GitHub issue 9365')\n\u001b[1;32m   2041\u001b[0m         \u001b[0;32melse\u001b[0m\u001b[0;34m:\u001b[0m\u001b[0;34m\u001b[0m\u001b[0m\n\u001b[0;32m-> 2042\u001b[0;31m             \u001b[0mindexer\u001b[0m \u001b[0;34m=\u001b[0m \u001b[0mself\u001b[0m\u001b[0;34m.\u001b[0m\u001b[0m_engine\u001b[0m\u001b[0;34m.\u001b[0m\u001b[0mget_indexer\u001b[0m\u001b[0;34m(\u001b[0m\u001b[0mtarget\u001b[0m\u001b[0;34m)\u001b[0m\u001b[0;34m\u001b[0m\u001b[0m\n\u001b[0m\u001b[1;32m   2043\u001b[0m \u001b[0;34m\u001b[0m\u001b[0m\n\u001b[1;32m   2044\u001b[0m         \u001b[0;32mreturn\u001b[0m \u001b[0m_ensure_platform_int\u001b[0m\u001b[0;34m(\u001b[0m\u001b[0mindexer\u001b[0m\u001b[0;34m)\u001b[0m\u001b[0;34m\u001b[0m\u001b[0m\n",
      "\u001b[0;32mpandas/_libs/index.pyx\u001b[0m in \u001b[0;36mpandas._libs.index.BaseMultiIndexCodesEngine.get_indexer\u001b[0;34m()\u001b[0m\n",
      "\u001b[0;32mpandas/_libs/index.pyx\u001b[0m in \u001b[0;36mpandas._libs.index.BaseMultiIndexCodesEngine._extract_level_codes\u001b[0;34m()\u001b[0m\n",
      "\u001b[0;32m~/.conda/envs/dh_segment/lib/python3.5/site-packages/pandas/core/indexes/category.py\u001b[0m in \u001b[0;36mget_indexer\u001b[0;34m(self, target, method, limit, tolerance)\u001b[0m\n\u001b[1;32m    591\u001b[0m                 \u001b[0mcodes\u001b[0m \u001b[0;34m=\u001b[0m \u001b[0mself\u001b[0m\u001b[0;34m.\u001b[0m\u001b[0mcategories\u001b[0m\u001b[0;34m.\u001b[0m\u001b[0mget_indexer\u001b[0m\u001b[0;34m(\u001b[0m\u001b[0mtarget\u001b[0m\u001b[0;34m)\u001b[0m\u001b[0;34m\u001b[0m\u001b[0m\n\u001b[1;32m    592\u001b[0m \u001b[0;34m\u001b[0m\u001b[0m\n\u001b[0;32m--> 593\u001b[0;31m         \u001b[0mindexer\u001b[0m\u001b[0;34m,\u001b[0m \u001b[0m_\u001b[0m \u001b[0;34m=\u001b[0m \u001b[0mself\u001b[0m\u001b[0;34m.\u001b[0m\u001b[0m_engine\u001b[0m\u001b[0;34m.\u001b[0m\u001b[0mget_indexer_non_unique\u001b[0m\u001b[0;34m(\u001b[0m\u001b[0mcodes\u001b[0m\u001b[0;34m)\u001b[0m\u001b[0;34m\u001b[0m\u001b[0m\n\u001b[0m\u001b[1;32m    594\u001b[0m         \u001b[0;32mreturn\u001b[0m \u001b[0m_ensure_platform_int\u001b[0m\u001b[0;34m(\u001b[0m\u001b[0mindexer\u001b[0m\u001b[0;34m)\u001b[0m\u001b[0;34m\u001b[0m\u001b[0m\n\u001b[1;32m    595\u001b[0m \u001b[0;34m\u001b[0m\u001b[0m\n",
      "\u001b[0;32mpandas/_libs/index.pyx\u001b[0m in \u001b[0;36mpandas._libs.index.IndexEngine.get_indexer_non_unique\u001b[0;34m()\u001b[0m\n",
      "\u001b[0;32m~/.conda/envs/dh_segment/lib/python3.5/site-packages/numpy/core/fromnumeric.py\u001b[0m in \u001b[0;36mresize\u001b[0;34m(a, new_shape)\u001b[0m\n\u001b[1;32m   1181\u001b[0m         \u001b[0mextra\u001b[0m \u001b[0;34m=\u001b[0m \u001b[0mNa\u001b[0m \u001b[0;34m-\u001b[0m \u001b[0mextra\u001b[0m\u001b[0;34m\u001b[0m\u001b[0m\n\u001b[1;32m   1182\u001b[0m \u001b[0;34m\u001b[0m\u001b[0m\n\u001b[0;32m-> 1183\u001b[0;31m     \u001b[0ma\u001b[0m \u001b[0;34m=\u001b[0m \u001b[0mconcatenate\u001b[0m\u001b[0;34m(\u001b[0m\u001b[0;34m(\u001b[0m\u001b[0ma\u001b[0m\u001b[0;34m,\u001b[0m\u001b[0;34m)\u001b[0m\u001b[0;34m*\u001b[0m\u001b[0mn_copies\u001b[0m\u001b[0;34m)\u001b[0m\u001b[0;34m\u001b[0m\u001b[0m\n\u001b[0m\u001b[1;32m   1184\u001b[0m     \u001b[0;32mif\u001b[0m \u001b[0mextra\u001b[0m \u001b[0;34m>\u001b[0m \u001b[0;36m0\u001b[0m\u001b[0;34m:\u001b[0m\u001b[0;34m\u001b[0m\u001b[0m\n\u001b[1;32m   1185\u001b[0m         \u001b[0ma\u001b[0m \u001b[0;34m=\u001b[0m \u001b[0ma\u001b[0m\u001b[0;34m[\u001b[0m\u001b[0;34m:\u001b[0m\u001b[0;34m-\u001b[0m\u001b[0mextra\u001b[0m\u001b[0;34m]\u001b[0m\u001b[0;34m\u001b[0m\u001b[0m\n",
      "\u001b[0;31mKeyboardInterrupt\u001b[0m: "
     ]
    }
   ],
   "source": [
    "df.loc[(lines_per_block > 3).sample(10)]"
   ]
  },
  {
   "cell_type": "code",
   "execution_count": 129,
   "metadata": {},
   "outputs": [
    {
     "ename": "SyntaxError",
     "evalue": "invalid syntax (<ipython-input-129-fb7f4cb5f80c>, line 1)",
     "output_type": "error",
     "traceback": [
      "\u001b[0;36m  File \u001b[0;32m\"<ipython-input-129-fb7f4cb5f80c>\"\u001b[0;36m, line \u001b[0;32m1\u001b[0m\n\u001b[0;31m    lines_per_block > 3.sample(10)\u001b[0m\n\u001b[0m                             ^\u001b[0m\n\u001b[0;31mSyntaxError\u001b[0m\u001b[0;31m:\u001b[0m invalid syntax\n"
     ]
    }
   ],
   "source": [
    "lines_per_block > 3.sample(10)"
   ]
  },
  {
   "cell_type": "code",
   "execution_count": null,
   "metadata": {},
   "outputs": [],
   "source": []
  },
  {
   "cell_type": "code",
   "execution_count": 125,
   "metadata": {},
   "outputs": [
    {
     "data": {
      "text/plain": [
       "document       page  block\n",
       "bpt6k6282019m  72    0        False\n",
       "                     1        False\n",
       "                     2        False\n",
       "                     3        False\n",
       "                     4        False\n",
       "                     5        False\n",
       "                     6        False\n",
       "                     7        False\n",
       "                     8        False\n",
       "                     9        False\n",
       "                     10       False\n",
       "                     11       False\n",
       "                     12       False\n",
       "                     13       False\n",
       "                     14       False\n",
       "                     15       False\n",
       "                     16       False\n",
       "                     17       False\n",
       "                     18       False\n",
       "                     19       False\n",
       "                     20       False\n",
       "                     21       False\n",
       "                     22       False\n",
       "                     23       False\n",
       "                     24       False\n",
       "                     25       False\n",
       "                     26       False\n",
       "                     27       False\n",
       "                     28       False\n",
       "                     29       False\n",
       "                              ...  \n",
       "bpt6k9780089g  1268  149      False\n",
       "                     150       True\n",
       "                     151       True\n",
       "                     152      False\n",
       "                     153      False\n",
       "                     154      False\n",
       "                     155      False\n",
       "                     156      False\n",
       "                     157      False\n",
       "                     158      False\n",
       "                     159      False\n",
       "                     160      False\n",
       "                     161      False\n",
       "                     162       True\n",
       "                     163      False\n",
       "                     164      False\n",
       "                     165      False\n",
       "                     166      False\n",
       "                     167      False\n",
       "                     168      False\n",
       "                     169      False\n",
       "                     170      False\n",
       "                     171      False\n",
       "                     172      False\n",
       "                     173      False\n",
       "                     174      False\n",
       "                     175      False\n",
       "                     176      False\n",
       "                     177      False\n",
       "                     178      False\n",
       "Name: line, Length: 4370665, dtype: bool"
      ]
     },
     "execution_count": 125,
     "metadata": {},
     "output_type": "execute_result"
    }
   ],
   "source": [
    "lines_per_block > 3"
   ]
  },
  {
   "cell_type": "markdown",
   "metadata": {},
   "source": [
    "## Text manipulation"
   ]
  },
  {
   "cell_type": "code",
   "execution_count": null,
   "metadata": {},
   "outputs": [],
   "source": [
    "def get_words_line(doc_id, vue_debut, idx_page, idx_block, idx_line, line, offset_words=0):\n",
    "    words = []\n",
    "    for idx_word, word in enumerate(line):\n",
    "        row = {}\n",
    "        row['document'] = doc_id\n",
    "        row['page'] =  vue_debut + idx_page\n",
    "        row['block'] = idx_block\n",
    "        row['line'] = idx_line\n",
    "        row['word'] = offset_words+idx_word\n",
    "        row['text'] = word['text']\n",
    "        row['full_text'] = row['text']\n",
    "        row['is_hyphen'] = False\n",
    "        if 'full_text' in word:\n",
    "            row['full_text'] = word['full_text']\n",
    "            row['is_hyphen'] = True\n",
    "        words.append(row)\n",
    "    return words\n",
    "def correct_idx(objects, key, offset):\n",
    "    for obj in objects:\n",
    "        obj[key] += offset\n",
    "def merge_list_dropping(lists):\n",
    "    res = []\n",
    "    if len(lists) <= 0:\n",
    "        return res\n",
    "    res.extend(lists[0])\n",
    "    for i in range(1, len(lists)):\n",
    "        l = lists[i]\n",
    "        if len(l) > 1:\n",
    "            res.extend(lists[i][1:])\n",
    "    return res"
   ]
  },
  {
   "cell_type": "code",
   "execution_count": null,
   "metadata": {
    "scrolled": true
   },
   "outputs": [],
   "source": [
    "rows = []\n",
    "for idx_document, ocr_file in tqdm(enumerate(ocr_files)):\n",
    "    doc_id = ocr_file.split('/')[-1].split('_')[0]\n",
    "    vue_debut = int(df_rep.loc[doc_id]['vue_debut'])\n",
    "    with open(ocr_file, 'r', encoding='utf-8') as infile:\n",
    "        data = json.load(infile)\n",
    "    for idx_page, page in tqdm(enumerate(data), leave=False):\n",
    "        for idx_block, block in enumerate(page):\n",
    "            ending = np.array([('full_text' in x[-1]) and len(x) > 1 for x in block])\n",
    "            transititons = ending[1:]*2+ending[:-1]\n",
    "            new_lines = np.split(block, np.where((transititons == 0) | (transititons == 2))[0]+1)\n",
    "            new_lines = [merge_list_dropping(lines) for lines in new_lines]\n",
    "            for idx_line, line in enumerate(new_lines):\n",
    "                rows.extend(get_words_line(doc_id, vue_debut, idx_page, idx_block, idx_line, line))"
   ]
  },
  {
   "cell_type": "code",
   "execution_count": 8,
   "metadata": {},
   "outputs": [
    {
     "data": {
      "text/html": [
       "<div>\n",
       "<style scoped>\n",
       "    .dataframe tbody tr th:only-of-type {\n",
       "        vertical-align: middle;\n",
       "    }\n",
       "\n",
       "    .dataframe tbody tr th {\n",
       "        vertical-align: top;\n",
       "    }\n",
       "\n",
       "    .dataframe thead th {\n",
       "        text-align: right;\n",
       "    }\n",
       "</style>\n",
       "<table border=\"1\" class=\"dataframe\">\n",
       "  <thead>\n",
       "    <tr style=\"text-align: right;\">\n",
       "      <th></th>\n",
       "      <th></th>\n",
       "      <th></th>\n",
       "      <th></th>\n",
       "      <th></th>\n",
       "      <th>text</th>\n",
       "      <th>full_text</th>\n",
       "      <th>is_hyphen</th>\n",
       "    </tr>\n",
       "    <tr>\n",
       "      <th>document</th>\n",
       "      <th>page</th>\n",
       "      <th>block</th>\n",
       "      <th>line</th>\n",
       "      <th>word</th>\n",
       "      <th></th>\n",
       "      <th></th>\n",
       "      <th></th>\n",
       "    </tr>\n",
       "  </thead>\n",
       "  <tbody>\n",
       "    <tr>\n",
       "      <th rowspan=\"5\" valign=\"top\">bpt6k97630871</th>\n",
       "      <th rowspan=\"5\" valign=\"top\">11</th>\n",
       "      <th rowspan=\"5\" valign=\"top\">0</th>\n",
       "      <th rowspan=\"5\" valign=\"top\">0</th>\n",
       "      <th>0</th>\n",
       "      <td>Gerboz</td>\n",
       "      <td>Gerboz</td>\n",
       "      <td>False</td>\n",
       "    </tr>\n",
       "    <tr>\n",
       "      <th>1</th>\n",
       "      <td>(F.)</td>\n",
       "      <td>(F.)</td>\n",
       "      <td>False</td>\n",
       "    </tr>\n",
       "    <tr>\n",
       "      <th>2</th>\n",
       "      <td>fils,</td>\n",
       "      <td>fils,</td>\n",
       "      <td>False</td>\n",
       "    </tr>\n",
       "    <tr>\n",
       "      <th>3</th>\n",
       "      <td>sacs</td>\n",
       "      <td>sacs</td>\n",
       "      <td>False</td>\n",
       "    </tr>\n",
       "    <tr>\n",
       "      <th>4</th>\n",
       "      <td>en</td>\n",
       "      <td>en</td>\n",
       "      <td>False</td>\n",
       "    </tr>\n",
       "  </tbody>\n",
       "</table>\n",
       "</div>"
      ],
      "text/plain": [
       "                                      text full_text  is_hyphen\n",
       "document      page block line word                             \n",
       "bpt6k97630871 11   0     0    0     Gerboz    Gerboz      False\n",
       "                              1       (F.)      (F.)      False\n",
       "                              2      fils,     fils,      False\n",
       "                              3       sacs      sacs      False\n",
       "                              4         en        en      False"
      ]
     },
     "execution_count": 8,
     "metadata": {},
     "output_type": "execute_result"
    }
   ],
   "source": [
    "df = pd.DataFrame(rows)\n",
    "df = df[['text', 'full_text', 'is_hyphen', 'document', 'page', 'block', 'line', 'word']]\n",
    "df.set_index(['document', 'page', 'block', 'line', 'word'], inplace=True)\n",
    "df_lines = df.groupby(level=[0,1,2,3])['full_text'].apply(lambda x: ' '.join(x))\n",
    "df_lines.to_pickle('df_lines.pickle')\n",
    "df.head()"
   ]
  },
  {
   "cell_type": "code",
   "execution_count": 4,
   "metadata": {},
   "outputs": [],
   "source": [
    "df_lines = pd.read_pickle('df_lines.pickle')"
   ]
  },
  {
   "cell_type": "code",
   "execution_count": 5,
   "metadata": {},
   "outputs": [],
   "source": [
    "lines_per_doc = df_lines.groupby(level=[0]).count()\n",
    "lines_not_maj_per_doc = df_lines.str.contains(r'^[^A-Z]').groupby(level=[0]).sum()"
   ]
  },
  {
   "cell_type": "code",
   "execution_count": 7,
   "metadata": {},
   "outputs": [
    {
     "data": {
      "text/plain": [
       "<matplotlib.axes._subplots.AxesSubplot at 0x7f569ce06898>"
      ]
     },
     "execution_count": 7,
     "metadata": {},
     "output_type": "execute_result"
    },
    {
     "data": {
      "image/png": "[encoded data removed]",
      "text/plain": [
       "<Figure size 432x288 with 1 Axes>"
      ]
     },
     "metadata": {
      "needs_background": "light"
     },
     "output_type": "display_data"
    }
   ],
   "source": [
    "sns.distplot(lines_not_maj_per_doc/lines_per_doc*100)"
   ]
  },
  {
   "cell_type": "code",
   "execution_count": 281,
   "metadata": {},
   "outputs": [
    {
     "data": {
      "text/plain": [
       "<matplotlib.axes._subplots.AxesSubplot at 0x7fc533452710>"
      ]
     },
     "execution_count": 281,
     "metadata": {},
     "output_type": "execute_result"
    },
    {
     "data": {
      "image/png": "[encoded data removed]",
      "text/plain": [
       "<Figure size 432x288 with 1 Axes>"
      ]
     },
     "metadata": {
      "needs_background": "light"
     },
     "output_type": "display_data"
    }
   ],
   "source": [
    "sns.distplot(df_lines.str.contains(r'^(?![A-Z])\\w').groupby(level=[0]).sum()/lines_not_maj_per_doc*100)"
   ]
  },
  {
   "cell_type": "code",
   "execution_count": 238,
   "metadata": {},
   "outputs": [],
   "source": [
    "char_counts = df_lines[df_lines.str.contains(r'^[^A-Z]')].apply(lambda x: x[0]).value_counts()"
   ]
  },
  {
   "cell_type": "code",
   "execution_count": 44,
   "metadata": {},
   "outputs": [],
   "source": [
    "df_lines_with_split = df_lines.str.extractall(r'((?:.*?\\d\\.)|(?:.*?bis\\.)|(?:.*))').dropna().reset_index(level=4, drop=True)[0]\n",
    "df_lines_with_split.set_index(df_splitted.groupby(level=[0,1,2,3]).cumcount(),  append=True, inplace=True)\n",
    "df_lines_with_split = df_lines_with_split[~df_lines_with_split.str.contains(r'^[^\\w]+$')]\n",
    "df_lines_with_split = df_lines_with_split.str.strip()\n",
    "df_lines_with_split = df_lines_with_split.str.replace(r'^,(\\s*,)*', '')\n",
    "df_lines_with_split = df_lines_with_split.str.strip()\n",
    "df_lines_with_split = df_lines_with_split.str.replace(r',(\\s+,)+', ',')\n",
    "df_lines_with_split = df_lines_with_split.str.strip()\n",
    "df_lines_with_split.to_pickle('df_lines_with_split.pickle')"
   ]
  },
  {
   "cell_type": "code",
   "execution_count": 679,
   "metadata": {},
   "outputs": [],
   "source": [
    "df_lines_with_split = df_lines_with_split.to_frame()\n",
    "df_lines_with_split.set_index(df_lines_with_split.groupby(level=[0,1,2,3]).cumcount(),  append=True, inplace=True)\n",
    "df_lines_with_split.index.set_names('split', level=4, inplace=True)\n",
    "df_lines_with_split = df_lines_with_split[0]"
   ]
  },
  {
   "cell_type": "code",
   "execution_count": 318,
   "metadata": {},
   "outputs": [],
   "source": [
    "df_lines_with_split = pd.read_pickle('df_lines_with_split.pickle')"
   ]
  },
  {
   "cell_type": "code",
   "execution_count": 364,
   "metadata": {
    "scrolled": true
   },
   "outputs": [],
   "source": [
    "df_splitted = df_lines_with_split.str.split(',', expand=True)\n",
    "# df_splitted.set_index(df_splitted.groupby(level=[0,1,2,3]).cumcount(),  append=True, inplace=True)\n",
    "# df_splitted.index.set_names('split', level=4, inplace=True)\n",
    "df_splitted = df_splitted.apply(lambda col: col.str.strip())\n",
    "df_splitted.replace('', np.nan, inplace=True)\n",
    "df_splitted.fillna(value=pd.np.nan, inplace=True)"
   ]
  },
  {
   "cell_type": "code",
   "execution_count": 365,
   "metadata": {},
   "outputs": [],
   "source": [
    "not_null_counts = df_splitted.notnull().sum(axis=1)"
   ]
  },
  {
   "cell_type": "code",
   "execution_count": 366,
   "metadata": {
    "scrolled": true
   },
   "outputs": [
    {
     "data": {
      "text/plain": [
       "<matplotlib.axes._subplots.AxesSubplot at 0x7f812db68be0>"
      ]
     },
     "execution_count": 366,
     "metadata": {},
     "output_type": "execute_result"
    },
    {
     "data": {
      "image/png": "[encoded data removed]",
      "text/plain": [
       "<Figure size 432x288 with 1 Axes>"
      ]
     },
     "metadata": {
      "needs_background": "light"
     },
     "output_type": "display_data"
    }
   ],
   "source": [
    "sns.distplot(not_null_counts, kde=False)"
   ]
  },
  {
   "cell_type": "code",
   "execution_count": 695,
   "metadata": {},
   "outputs": [],
   "source": [
    "df_splitted.to_pickle('df_splitted.pickle')"
   ]
  },
  {
   "cell_type": "markdown",
   "metadata": {},
   "source": [
    "### Reconcile 0"
   ]
  },
  {
   "cell_type": "code",
   "execution_count": 537,
   "metadata": {},
   "outputs": [],
   "source": [
    "num_regex = r'^(\\d|-|et| )*(\\d|bis)(\\.)?$'"
   ]
  },
  {
   "cell_type": "code",
   "execution_count": 453,
   "metadata": {
    "scrolled": false
   },
   "outputs": [
    {
     "name": "stderr",
     "output_type": "stream",
     "text": [
      "/home/rbarman/.conda/envs/dh_segment/lib/python3.5/site-packages/ipykernel_launcher.py:1: UserWarning: This pattern has match groups. To actually get the groups, use str.extract.\n",
      "  \"\"\"Entry point for launching an IPython kernel.\n",
      "/home/rbarman/.conda/envs/dh_segment/lib/python3.5/site-packages/ipykernel_launcher.py:2: UserWarning: This pattern has match groups. To actually get the groups, use str.extract.\n",
      "  \n"
     ]
    }
   ],
   "source": [
    "df_selection = df_splitted[(df_splitted.groupby(level=[0,1])[0].shift(-1).str.contains(num_regex).fillna(False) & (not_null_counts==3))|\n",
    "            (df_splitted[0].str.contains(num_regex) & (not_null_counts==1))]"
   ]
  },
  {
   "cell_type": "code",
   "execution_count": 454,
   "metadata": {},
   "outputs": [],
   "source": [
    "selection_not_null = df_selection.notnull().sum(axis=1)"
   ]
  },
  {
   "cell_type": "code",
   "execution_count": 490,
   "metadata": {},
   "outputs": [
    {
     "data": {
      "text/plain": [
       "564284"
      ]
     },
     "execution_count": 490,
     "metadata": {},
     "output_type": "execute_result"
    }
   ],
   "source": [
    "# selects every row that has 3 elements and next row has 1 element\n",
    "select_three = (selection_not_null.groupby(level=[0,1, 2]).shift(0)*100 + selection_not_null.groupby(level=[0,1, 2]).shift(-1).fillna(0)) == 301\n",
    "# selects every row that has 1 element and prev row has 3 elements\n",
    "select_one = (selection_not_null.groupby(level=[0,1, 2]).shift(1).fillna(0)*100 + selection_not_null.groupby(level=[0,1, 2]).shift(0)) == 301\n",
    "# combination of the two\n",
    "select_rows = select_three | select_one\n",
    "select_rows.sum()"
   ]
  },
  {
   "cell_type": "code",
   "execution_count": 457,
   "metadata": {},
   "outputs": [
    {
     "data": {
      "text/plain": [
       "0"
      ]
     },
     "execution_count": 457,
     "metadata": {},
     "output_type": "execute_result"
    }
   ],
   "source": [
    "filt = df_selection[select_rows].groupby(level=[0,1]).count()[0].apply(lambda x: x%2 != 0)\n",
    "filt.sum()"
   ]
  },
  {
   "cell_type": "code",
   "execution_count": 476,
   "metadata": {},
   "outputs": [
    {
     "name": "stderr",
     "output_type": "stream",
     "text": [
      "/home/rbarman/.conda/envs/dh_segment/lib/python3.5/site-packages/pandas/core/indexing.py:543: SettingWithCopyWarning: \n",
      "A value is trying to be set on a copy of a slice from a DataFrame.\n",
      "Try using .loc[row_indexer,col_indexer] = value instead\n",
      "\n",
      "See the caveats in the documentation: http://pandas.pydata.org/pandas-docs/stable/indexing.html#indexing-view-versus-copy\n",
      "  self.obj[item] = s\n"
     ]
    }
   ],
   "source": [
    "df_selection.loc[select_three, 3] = df_selection[select_one][0].values"
   ]
  },
  {
   "cell_type": "code",
   "execution_count": 478,
   "metadata": {},
   "outputs": [],
   "source": [
    "df_splitted.loc[select_three.where(select_three).dropna().index] = df_selection[select_three].values\n",
    "df_splitted.drop(select_one.where(select_one).dropna().index, inplace=True)"
   ]
  },
  {
   "cell_type": "code",
   "execution_count": 482,
   "metadata": {},
   "outputs": [
    {
     "data": {
      "text/html": [
       "<div>\n",
       "<style scoped>\n",
       "    .dataframe tbody tr th:only-of-type {\n",
       "        vertical-align: middle;\n",
       "    }\n",
       "\n",
       "    .dataframe tbody tr th {\n",
       "        vertical-align: top;\n",
       "    }\n",
       "\n",
       "    .dataframe thead th {\n",
       "        text-align: right;\n",
       "    }\n",
       "</style>\n",
       "<table border=\"1\" class=\"dataframe\">\n",
       "  <thead>\n",
       "    <tr style=\"text-align: right;\">\n",
       "      <th></th>\n",
       "      <th></th>\n",
       "      <th>0</th>\n",
       "      <th>1</th>\n",
       "      <th>2</th>\n",
       "      <th>3</th>\n",
       "      <th>4</th>\n",
       "      <th>5</th>\n",
       "      <th>6</th>\n",
       "      <th>7</th>\n",
       "      <th>8</th>\n",
       "      <th>9</th>\n",
       "      <th>...</th>\n",
       "      <th>12</th>\n",
       "      <th>13</th>\n",
       "      <th>14</th>\n",
       "      <th>15</th>\n",
       "      <th>16</th>\n",
       "      <th>17</th>\n",
       "      <th>18</th>\n",
       "      <th>19</th>\n",
       "      <th>20</th>\n",
       "      <th>21</th>\n",
       "    </tr>\n",
       "    <tr>\n",
       "      <th>line</th>\n",
       "      <th>split</th>\n",
       "      <th></th>\n",
       "      <th></th>\n",
       "      <th></th>\n",
       "      <th></th>\n",
       "      <th></th>\n",
       "      <th></th>\n",
       "      <th></th>\n",
       "      <th></th>\n",
       "      <th></th>\n",
       "      <th></th>\n",
       "      <th></th>\n",
       "      <th></th>\n",
       "      <th></th>\n",
       "      <th></th>\n",
       "      <th></th>\n",
       "      <th></th>\n",
       "      <th></th>\n",
       "      <th></th>\n",
       "      <th></th>\n",
       "      <th></th>\n",
       "      <th></th>\n",
       "    </tr>\n",
       "  </thead>\n",
       "  <tbody>\n",
       "    <tr>\n",
       "      <th>0</th>\n",
       "      <th>0</th>\n",
       "      <td>Bertrand fr. et Villain</td>\n",
       "      <td>batistes</td>\n",
       "      <td>Jeûneurs</td>\n",
       "      <td>32.</td>\n",
       "      <td>NaN</td>\n",
       "      <td>NaN</td>\n",
       "      <td>NaN</td>\n",
       "      <td>NaN</td>\n",
       "      <td>NaN</td>\n",
       "      <td>NaN</td>\n",
       "      <td>...</td>\n",
       "      <td>NaN</td>\n",
       "      <td>NaN</td>\n",
       "      <td>NaN</td>\n",
       "      <td>NaN</td>\n",
       "      <td>NaN</td>\n",
       "      <td>NaN</td>\n",
       "      <td>NaN</td>\n",
       "      <td>NaN</td>\n",
       "      <td>NaN</td>\n",
       "      <td>NaN</td>\n",
       "    </tr>\n",
       "  </tbody>\n",
       "</table>\n",
       "<p>1 rows × 22 columns</p>\n",
       "</div>"
      ],
      "text/plain": [
       "                                 0         1         2    3    4    5    6   \\\n",
       "line split                                                                    \n",
       "0    0      Bertrand fr. et Villain  batistes  Jeûneurs  32.  NaN  NaN  NaN   \n",
       "\n",
       "             7    8    9  ...    12   13   14   15   16   17   18   19   20  \\\n",
       "line split                ...                                                 \n",
       "0    0      NaN  NaN  NaN ...   NaN  NaN  NaN  NaN  NaN  NaN  NaN  NaN  NaN   \n",
       "\n",
       "             21  \n",
       "line split       \n",
       "0    0      NaN  \n",
       "\n",
       "[1 rows x 22 columns]"
      ]
     },
     "execution_count": 482,
     "metadata": {},
     "output_type": "execute_result"
    }
   ],
   "source": [
    "df_splitted.loc['bpt6k6282019m', 72, 46]"
   ]
  },
  {
   "cell_type": "markdown",
   "metadata": {},
   "source": [
    "### Reconcile 1"
   ]
  },
  {
   "cell_type": "code",
   "execution_count": 527,
   "metadata": {},
   "outputs": [],
   "source": [
    "df_left = df_splitted.loc[df_splitted.index.difference(df_clean.index)]"
   ]
  },
  {
   "cell_type": "code",
   "execution_count": 535,
   "metadata": {},
   "outputs": [
    {
     "name": "stdout",
     "output_type": "stream",
     "text": [
      "Already processed 3131125 rows or 39.31%, 4833524 rows left\n"
     ]
    }
   ],
   "source": [
    "print(\"Already processed %d rows or %.2f%%, %d rows left\"%(len(df_clean), len(df_clean)/len(df_splitted)*100, len(df_left)))"
   ]
  },
  {
   "cell_type": "code",
   "execution_count": 529,
   "metadata": {},
   "outputs": [],
   "source": [
    "not_null_counts_left = df_left.notnull().sum(axis=1)"
   ]
  },
  {
   "cell_type": "code",
   "execution_count": 530,
   "metadata": {},
   "outputs": [
    {
     "data": {
      "text/plain": [
       "<matplotlib.axes._subplots.AxesSubplot at 0x7f7854466080>"
      ]
     },
     "execution_count": 530,
     "metadata": {},
     "output_type": "execute_result"
    },
    {
     "data": {
      "image/png": "[encoded data removed]",
      "text/plain": [
       "<Figure size 432x288 with 1 Axes>"
      ]
     },
     "metadata": {
      "needs_background": "light"
     },
     "output_type": "display_data"
    }
   ],
   "source": [
    "sns.distplot(not_null_counts_left, kde=False)"
   ]
  },
  {
   "cell_type": "code",
   "execution_count": 537,
   "metadata": {},
   "outputs": [],
   "source": [
    "num_regex = r'^(\\d|-|et| )*(\\d|bis)(\\.)?$'"
   ]
  },
  {
   "cell_type": "code",
   "execution_count": 539,
   "metadata": {
    "scrolled": false
   },
   "outputs": [
    {
     "name": "stderr",
     "output_type": "stream",
     "text": [
      "/home/rbarman/.conda/envs/dh_segment/lib/python3.5/site-packages/ipykernel_launcher.py:1: UserWarning: This pattern has match groups. To actually get the groups, use str.extract.\n",
      "  \"\"\"Entry point for launching an IPython kernel.\n",
      "/home/rbarman/.conda/envs/dh_segment/lib/python3.5/site-packages/ipykernel_launcher.py:2: UserWarning: This pattern has match groups. To actually get the groups, use str.extract.\n",
      "  \n"
     ]
    }
   ],
   "source": [
    "df_selection = df_left[not_null_counts_left == 2][(df_left[not_null_counts_left == 2].groupby(level=[0,1, 2])[1].shift(-1).str.contains(num_regex).fillna(False))|\n",
    "            (df_left[not_null_counts_left == 2][1].str.contains(num_regex))]"
   ]
  },
  {
   "cell_type": "code",
   "execution_count": 542,
   "metadata": {},
   "outputs": [],
   "source": [
    "selection_not_null = df_selection.notnull().sum(axis=1)"
   ]
  },
  {
   "cell_type": "code",
   "execution_count": 546,
   "metadata": {},
   "outputs": [
    {
     "name": "stderr",
     "output_type": "stream",
     "text": [
      "/home/rbarman/.conda/envs/dh_segment/lib/python3.5/site-packages/ipykernel_launcher.py:1: UserWarning: This pattern has match groups. To actually get the groups, use str.extract.\n",
      "  \"\"\"Entry point for launching an IPython kernel.\n"
     ]
    }
   ],
   "source": [
    "is_number = df_left[not_null_counts_left == 2][1].str.contains(num_regex).astype(int)"
   ]
  },
  {
   "cell_type": "code",
   "execution_count": 571,
   "metadata": {},
   "outputs": [
    {
     "data": {
      "text/plain": [
       "473968"
      ]
     },
     "execution_count": 571,
     "metadata": {},
     "output_type": "execute_result"
    }
   ],
   "source": [
    "# selects every row that has 3 elements and next row has 1 element\n",
    "select_other = (is_number.groupby(level=[0,1, 2]).shift(0)*100 + is_number.groupby(level=[0,1, 2]).shift(-1).fillna(0)) == 1\n",
    "# selects every row that has 1 element and prev row has 3 elements\n",
    "select_num = (is_number.groupby(level=[0,1, 2]).shift(1).fillna(4) + is_number.groupby(level=[0,1, 2]).shift(0)*100) == 100\n",
    "# combination of the two\n",
    "select_rows = select_other | select_num\n",
    "select_rows.sum()"
   ]
  },
  {
   "cell_type": "code",
   "execution_count": 584,
   "metadata": {},
   "outputs": [],
   "source": [
    "df_selection.loc[select_other, 2:3] = df_selection.loc[select_num, :1].values"
   ]
  },
  {
   "cell_type": "code",
   "execution_count": 587,
   "metadata": {},
   "outputs": [
    {
     "name": "stderr",
     "output_type": "stream",
     "text": [
      "/home/rbarman/.conda/envs/dh_segment/lib/python3.5/site-packages/ipykernel_launcher.py:1: UserWarning: Boolean Series key will be reindexed to match DataFrame index.\n",
      "  \"\"\"Entry point for launching an IPython kernel.\n"
     ]
    }
   ],
   "source": [
    "df_splitted.loc[select_other.where(select_other).dropna().index] = df_selection[select_other].values\n",
    "df_splitted.drop(select_num.where(select_num).dropna().index, inplace=True)"
   ]
  },
  {
   "cell_type": "markdown",
   "metadata": {},
   "source": [
    "## Block"
   ]
  },
  {
   "cell_type": "code",
   "execution_count": 687,
   "metadata": {},
   "outputs": [],
   "source": [
    "df_lines_with_split_selection = df_lines_with_split.loc[df_lines_with_split.index.intersection(df_splitted.index).difference(df_clean.index)]"
   ]
  },
  {
   "cell_type": "code",
   "execution_count": 693,
   "metadata": {},
   "outputs": [],
   "source": [
    "df_block = df_lines_with_split_selection.groupby(level=[0,1,2]).apply(lambda x: ' '.join(x))"
   ]
  },
  {
   "cell_type": "code",
   "execution_count": 697,
   "metadata": {},
   "outputs": [],
   "source": [
    "df_block_splitted = df_block.str.split(',', expand=True)\n",
    "# df_splitted.set_index(df_splitted.groupby(level=[0,1,2,3]).cumcount(),  append=True, inplace=True)\n",
    "# df_splitted.index.set_names('split', level=4, inplace=True)\n",
    "df_block_splitted = df_block_splitted.apply(lambda col: col.str.strip())\n",
    "df_block_splitted.replace('', np.nan, inplace=True)\n",
    "df_block_splitted.fillna(value=pd.np.nan, inplace=True)"
   ]
  },
  {
   "cell_type": "code",
   "execution_count": 698,
   "metadata": {},
   "outputs": [
    {
     "data": {
      "text/html": [
       "<div>\n",
       "<style scoped>\n",
       "    .dataframe tbody tr th:only-of-type {\n",
       "        vertical-align: middle;\n",
       "    }\n",
       "\n",
       "    .dataframe tbody tr th {\n",
       "        vertical-align: top;\n",
       "    }\n",
       "\n",
       "    .dataframe thead th {\n",
       "        text-align: right;\n",
       "    }\n",
       "</style>\n",
       "<table border=\"1\" class=\"dataframe\">\n",
       "  <thead>\n",
       "    <tr style=\"text-align: right;\">\n",
       "      <th></th>\n",
       "      <th></th>\n",
       "      <th></th>\n",
       "      <th>0</th>\n",
       "      <th>1</th>\n",
       "      <th>2</th>\n",
       "      <th>3</th>\n",
       "      <th>4</th>\n",
       "      <th>5</th>\n",
       "      <th>6</th>\n",
       "      <th>7</th>\n",
       "      <th>8</th>\n",
       "      <th>9</th>\n",
       "      <th>...</th>\n",
       "      <th>51</th>\n",
       "      <th>52</th>\n",
       "      <th>53</th>\n",
       "      <th>54</th>\n",
       "      <th>55</th>\n",
       "      <th>56</th>\n",
       "      <th>57</th>\n",
       "      <th>58</th>\n",
       "      <th>59</th>\n",
       "      <th>60</th>\n",
       "    </tr>\n",
       "    <tr>\n",
       "      <th>document</th>\n",
       "      <th>page</th>\n",
       "      <th>block</th>\n",
       "      <th></th>\n",
       "      <th></th>\n",
       "      <th></th>\n",
       "      <th></th>\n",
       "      <th></th>\n",
       "      <th></th>\n",
       "      <th></th>\n",
       "      <th></th>\n",
       "      <th></th>\n",
       "      <th></th>\n",
       "      <th></th>\n",
       "      <th></th>\n",
       "      <th></th>\n",
       "      <th></th>\n",
       "      <th></th>\n",
       "      <th></th>\n",
       "      <th></th>\n",
       "      <th></th>\n",
       "      <th></th>\n",
       "      <th></th>\n",
       "      <th></th>\n",
       "    </tr>\n",
       "  </thead>\n",
       "  <tbody>\n",
       "    <tr>\n",
       "      <th rowspan=\"5\" valign=\"top\">bpt6k6282019m</th>\n",
       "      <th rowspan=\"5\" valign=\"top\">72</th>\n",
       "      <th>4</th>\n",
       "      <td>Bertin</td>\n",
       "      <td>tourneur en bois</td>\n",
       "      <td>Bonaparte</td>\n",
       "      <td>80</td>\n",
       "      <td>etMélière</td>\n",
       "      <td>1.</td>\n",
       "      <td>NaN</td>\n",
       "      <td>NaN</td>\n",
       "      <td>NaN</td>\n",
       "      <td>NaN</td>\n",
       "      <td>...</td>\n",
       "      <td>NaN</td>\n",
       "      <td>NaN</td>\n",
       "      <td>NaN</td>\n",
       "      <td>NaN</td>\n",
       "      <td>NaN</td>\n",
       "      <td>NaN</td>\n",
       "      <td>NaN</td>\n",
       "      <td>NaN</td>\n",
       "      <td>NaN</td>\n",
       "      <td>NaN</td>\n",
       "    </tr>\n",
       "    <tr>\n",
       "      <th>9</th>\n",
       "      <td>Bertin-Burrier</td>\n",
       "      <td>fab. de ouates et teinturier en grand</td>\n",
       "      <td>Vignes Saint-Marcel</td>\n",
       "      <td>10 et. 12.</td>\n",
       "      <td>NaN</td>\n",
       "      <td>NaN</td>\n",
       "      <td>NaN</td>\n",
       "      <td>NaN</td>\n",
       "      <td>NaN</td>\n",
       "      <td>NaN</td>\n",
       "      <td>...</td>\n",
       "      <td>NaN</td>\n",
       "      <td>NaN</td>\n",
       "      <td>NaN</td>\n",
       "      <td>NaN</td>\n",
       "      <td>NaN</td>\n",
       "      <td>NaN</td>\n",
       "      <td>NaN</td>\n",
       "      <td>NaN</td>\n",
       "      <td>NaN</td>\n",
       "      <td>NaN</td>\n",
       "    </tr>\n",
       "    <tr>\n",
       "      <th>10</th>\n",
       "      <td>Bertin de Chalup 4 i ancien chef d'escadron Vi...</td>\n",
       "      <td>27 bis.</td>\n",
       "      <td>NaN</td>\n",
       "      <td>NaN</td>\n",
       "      <td>NaN</td>\n",
       "      <td>NaN</td>\n",
       "      <td>NaN</td>\n",
       "      <td>NaN</td>\n",
       "      <td>NaN</td>\n",
       "      <td>NaN</td>\n",
       "      <td>...</td>\n",
       "      <td>NaN</td>\n",
       "      <td>NaN</td>\n",
       "      <td>NaN</td>\n",
       "      <td>NaN</td>\n",
       "      <td>NaN</td>\n",
       "      <td>NaN</td>\n",
       "      <td>NaN</td>\n",
       "      <td>NaN</td>\n",
       "      <td>NaN</td>\n",
       "      <td>NaN</td>\n",
       "    </tr>\n",
       "    <tr>\n",
       "      <th>11</th>\n",
       "      <td>Bertin de Vaux (E.)</td>\n",
       "      <td>O. peintre</td>\n",
       "      <td>inspect.</td>\n",
       "      <td>NaN</td>\n",
       "      <td>NaN</td>\n",
       "      <td>NaN</td>\n",
       "      <td>NaN</td>\n",
       "      <td>NaN</td>\n",
       "      <td>NaN</td>\n",
       "      <td>NaN</td>\n",
       "      <td>...</td>\n",
       "      <td>NaN</td>\n",
       "      <td>NaN</td>\n",
       "      <td>NaN</td>\n",
       "      <td>NaN</td>\n",
       "      <td>NaN</td>\n",
       "      <td>NaN</td>\n",
       "      <td>NaN</td>\n",
       "      <td>NaN</td>\n",
       "      <td>NaN</td>\n",
       "      <td>NaN</td>\n",
       "    </tr>\n",
       "    <tr>\n",
       "      <th>12</th>\n",
       "      <td>des Beaux-Arts</td>\n",
       "      <td>Sts-Pères</td>\n",
       "      <td>7.</td>\n",
       "      <td>NaN</td>\n",
       "      <td>NaN</td>\n",
       "      <td>NaN</td>\n",
       "      <td>NaN</td>\n",
       "      <td>NaN</td>\n",
       "      <td>NaN</td>\n",
       "      <td>NaN</td>\n",
       "      <td>...</td>\n",
       "      <td>NaN</td>\n",
       "      <td>NaN</td>\n",
       "      <td>NaN</td>\n",
       "      <td>NaN</td>\n",
       "      <td>NaN</td>\n",
       "      <td>NaN</td>\n",
       "      <td>NaN</td>\n",
       "      <td>NaN</td>\n",
       "      <td>NaN</td>\n",
       "      <td>NaN</td>\n",
       "    </tr>\n",
       "  </tbody>\n",
       "</table>\n",
       "<p>5 rows × 61 columns</p>\n",
       "</div>"
      ],
      "text/plain": [
       "                                                                         0   \\\n",
       "document      page block                                                      \n",
       "bpt6k6282019m 72   4                                                 Bertin   \n",
       "                   9                                         Bertin-Burrier   \n",
       "                   10     Bertin de Chalup 4 i ancien chef d'escadron Vi...   \n",
       "                   11                                   Bertin de Vaux (E.)   \n",
       "                   12                                        des Beaux-Arts   \n",
       "\n",
       "                                                             1   \\\n",
       "document      page block                                          \n",
       "bpt6k6282019m 72   4                           tourneur en bois   \n",
       "                   9      fab. de ouates et teinturier en grand   \n",
       "                   10                                   27 bis.   \n",
       "                   11                                O. peintre   \n",
       "                   12                                 Sts-Pères   \n",
       "\n",
       "                                           2           3          4    5   \\\n",
       "document      page block                                                    \n",
       "bpt6k6282019m 72   4                Bonaparte          80  etMélière   1.   \n",
       "                   9      Vignes Saint-Marcel  10 et. 12.        NaN  NaN   \n",
       "                   10                     NaN         NaN        NaN  NaN   \n",
       "                   11                inspect.         NaN        NaN  NaN   \n",
       "                   12                      7.         NaN        NaN  NaN   \n",
       "\n",
       "                           6    7    8    9  ...    51   52   53   54   55  \\\n",
       "document      page block                     ...                             \n",
       "bpt6k6282019m 72   4      NaN  NaN  NaN  NaN ...   NaN  NaN  NaN  NaN  NaN   \n",
       "                   9      NaN  NaN  NaN  NaN ...   NaN  NaN  NaN  NaN  NaN   \n",
       "                   10     NaN  NaN  NaN  NaN ...   NaN  NaN  NaN  NaN  NaN   \n",
       "                   11     NaN  NaN  NaN  NaN ...   NaN  NaN  NaN  NaN  NaN   \n",
       "                   12     NaN  NaN  NaN  NaN ...   NaN  NaN  NaN  NaN  NaN   \n",
       "\n",
       "                           56   57   58   59   60  \n",
       "document      page block                           \n",
       "bpt6k6282019m 72   4      NaN  NaN  NaN  NaN  NaN  \n",
       "                   9      NaN  NaN  NaN  NaN  NaN  \n",
       "                   10     NaN  NaN  NaN  NaN  NaN  \n",
       "                   11     NaN  NaN  NaN  NaN  NaN  \n",
       "                   12     NaN  NaN  NaN  NaN  NaN  \n",
       "\n",
       "[5 rows x 61 columns]"
      ]
     },
     "execution_count": 698,
     "metadata": {},
     "output_type": "execute_result"
    }
   ],
   "source": [
    "df_block_splitted.head()"
   ]
  },
  {
   "cell_type": "code",
   "execution_count": 699,
   "metadata": {},
   "outputs": [],
   "source": [
    "not_null_counts = df_block_splitted.notnull().sum(axis=1)"
   ]
  },
  {
   "cell_type": "code",
   "execution_count": 703,
   "metadata": {
    "scrolled": true
   },
   "outputs": [
    {
     "data": {
      "text/plain": [
       "<matplotlib.axes._subplots.AxesSubplot at 0x7f7297ec97f0>"
      ]
     },
     "execution_count": 703,
     "metadata": {},
     "output_type": "execute_result"
    },
    {
     "data": {
      "image/png": "[encoded data removed]",
      "text/plain": [
       "<Figure size 432x288 with 1 Axes>"
      ]
     },
     "metadata": {
      "needs_background": "light"
     },
     "output_type": "display_data"
    }
   ],
   "source": [
    "sns.distplot(not_null_counts, kde=False, bins=np.arange(1,11, 1))"
   ]
  },
  {
   "cell_type": "markdown",
   "metadata": {},
   "source": [
    "### Reconcile 0"
   ]
  },
  {
   "cell_type": "code",
   "execution_count": 705,
   "metadata": {},
   "outputs": [],
   "source": [
    "num_regex = r'^(\\d|-|et| )*(\\d|bis)(\\.)?$'"
   ]
  },
  {
   "cell_type": "code",
   "execution_count": 706,
   "metadata": {
    "scrolled": false
   },
   "outputs": [
    {
     "name": "stderr",
     "output_type": "stream",
     "text": [
      "/home/rbarman/.conda/envs/dh_segment/lib/python3.5/site-packages/ipykernel_launcher.py:1: UserWarning: This pattern has match groups. To actually get the groups, use str.extract.\n",
      "  \"\"\"Entry point for launching an IPython kernel.\n",
      "/home/rbarman/.conda/envs/dh_segment/lib/python3.5/site-packages/ipykernel_launcher.py:2: UserWarning: This pattern has match groups. To actually get the groups, use str.extract.\n",
      "  \n"
     ]
    }
   ],
   "source": [
    "df_selection = df_block_splitted[(df_block_splitted.groupby(level=[0,1])[0].shift(-1).str.contains(num_regex).fillna(False) & (not_null_counts==3))|\n",
    "            (df_block_splitted[0].str.contains(num_regex) & (not_null_counts==1))]"
   ]
  },
  {
   "cell_type": "code",
   "execution_count": 711,
   "metadata": {},
   "outputs": [
    {
     "data": {
      "text/plain": [
       "48861"
      ]
     },
     "execution_count": 711,
     "metadata": {},
     "output_type": "execute_result"
    }
   ],
   "source": [
    "len(df_selection)"
   ]
  },
  {
   "cell_type": "code",
   "execution_count": 707,
   "metadata": {},
   "outputs": [],
   "source": [
    "selection_not_null = df_selection.notnull().sum(axis=1)"
   ]
  },
  {
   "cell_type": "code",
   "execution_count": 710,
   "metadata": {},
   "outputs": [
    {
     "data": {
      "text/plain": [
       "29130"
      ]
     },
     "execution_count": 710,
     "metadata": {},
     "output_type": "execute_result"
    }
   ],
   "source": [
    "# selects every row that has 3 elements and next row has 1 element\n",
    "select_three = (selection_not_null.groupby(level=[0,1]).shift(0)*100 + selection_not_null.groupby(level=[0,1]).shift(-1).fillna(0)) == 301\n",
    "# selects every row that has 1 element and prev row has 3 elements\n",
    "select_one = (selection_not_null.groupby(level=[0,1]).shift(1).fillna(0)*100 + selection_not_null.groupby(level=[0,1]).shift(0)) == 301\n",
    "# combination of the two\n",
    "select_rows = select_three | select_one\n",
    "select_rows.sum()"
   ]
  },
  {
   "cell_type": "code",
   "execution_count": 712,
   "metadata": {},
   "outputs": [
    {
     "data": {
      "text/plain": [
       "0"
      ]
     },
     "execution_count": 712,
     "metadata": {},
     "output_type": "execute_result"
    }
   ],
   "source": [
    "filt = df_selection[select_rows].groupby(level=[0,1]).count()[0].apply(lambda x: x%2 != 0)\n",
    "filt.sum()"
   ]
  },
  {
   "cell_type": "code",
   "execution_count": 713,
   "metadata": {},
   "outputs": [
    {
     "name": "stderr",
     "output_type": "stream",
     "text": [
      "/home/rbarman/.conda/envs/dh_segment/lib/python3.5/site-packages/pandas/core/indexing.py:543: SettingWithCopyWarning: \n",
      "A value is trying to be set on a copy of a slice from a DataFrame.\n",
      "Try using .loc[row_indexer,col_indexer] = value instead\n",
      "\n",
      "See the caveats in the documentation: http://pandas.pydata.org/pandas-docs/stable/indexing.html#indexing-view-versus-copy\n",
      "  self.obj[item] = s\n"
     ]
    }
   ],
   "source": [
    "df_selection.loc[select_three, 3] = df_selection[select_one][0].values"
   ]
  },
  {
   "cell_type": "code",
   "execution_count": 716,
   "metadata": {},
   "outputs": [],
   "source": [
    "df_block_splitted.loc[select_three.where(select_three).dropna().index] = df_selection[select_three].values\n",
    "df_block_splitted.drop(select_one.where(select_one).dropna().index, inplace=True)"
   ]
  },
  {
   "cell_type": "markdown",
   "metadata": {},
   "source": [
    "### Reconcile 1"
   ]
  },
  {
   "cell_type": "code",
   "execution_count": 738,
   "metadata": {},
   "outputs": [],
   "source": [
    "df_left = df_block_splitted.loc[df_block_splitted.index.difference(df_clean_block.index)]"
   ]
  },
  {
   "cell_type": "code",
   "execution_count": 739,
   "metadata": {},
   "outputs": [
    {
     "name": "stdout",
     "output_type": "stream",
     "text": [
      "Already processed 371064 rows or 16.68%, 1853429 rows left\n"
     ]
    }
   ],
   "source": [
    "print(\"Already processed %d rows or %.2f%%, %d rows left\"%(len(df_clean_block), len(df_clean_block)/len(df_block_splitted)*100, len(df_left)))"
   ]
  },
  {
   "cell_type": "code",
   "execution_count": 740,
   "metadata": {},
   "outputs": [],
   "source": [
    "not_null_counts_left = df_left.notnull().sum(axis=1)"
   ]
  },
  {
   "cell_type": "code",
   "execution_count": 741,
   "metadata": {},
   "outputs": [
    {
     "data": {
      "text/plain": [
       "<matplotlib.axes._subplots.AxesSubplot at 0x7f72a1199438>"
      ]
     },
     "execution_count": 741,
     "metadata": {},
     "output_type": "execute_result"
    },
    {
     "data": {
      "image/png": "[encoded data removed]",
      "text/plain": [
       "<Figure size 432x288 with 1 Axes>"
      ]
     },
     "metadata": {
      "needs_background": "light"
     },
     "output_type": "display_data"
    }
   ],
   "source": [
    "sns.distplot(not_null_counts_left, kde=False)"
   ]
  },
  {
   "cell_type": "code",
   "execution_count": 742,
   "metadata": {},
   "outputs": [],
   "source": [
    "num_regex = r'^(\\d|-|et| )*(\\d|bis)(\\.)?$'"
   ]
  },
  {
   "cell_type": "code",
   "execution_count": 768,
   "metadata": {
    "scrolled": false
   },
   "outputs": [
    {
     "name": "stderr",
     "output_type": "stream",
     "text": [
      "/home/rbarman/.conda/envs/dh_segment/lib/python3.5/site-packages/ipykernel_launcher.py:1: UserWarning: This pattern has match groups. To actually get the groups, use str.extract.\n",
      "  \"\"\"Entry point for launching an IPython kernel.\n",
      "/home/rbarman/.conda/envs/dh_segment/lib/python3.5/site-packages/ipykernel_launcher.py:2: UserWarning: This pattern has match groups. To actually get the groups, use str.extract.\n",
      "  \n"
     ]
    }
   ],
   "source": [
    "df_selection = df_left[not_null_counts_left == 2][(df_left[not_null_counts_left == 2].groupby(level=[0,1])[1].shift(-1).str.contains(num_regex).fillna(False))|\n",
    "            (df_left[not_null_counts_left == 2][1].str.contains(num_regex))]"
   ]
  },
  {
   "cell_type": "code",
   "execution_count": 769,
   "metadata": {},
   "outputs": [
    {
     "data": {
      "text/plain": [
       "138093"
      ]
     },
     "execution_count": 769,
     "metadata": {},
     "output_type": "execute_result"
    }
   ],
   "source": [
    "len(df_selection)"
   ]
  },
  {
   "cell_type": "code",
   "execution_count": 770,
   "metadata": {},
   "outputs": [],
   "source": [
    "selection_not_null = df_selection.notnull().sum(axis=1)"
   ]
  },
  {
   "cell_type": "code",
   "execution_count": 771,
   "metadata": {},
   "outputs": [
    {
     "name": "stderr",
     "output_type": "stream",
     "text": [
      "/home/rbarman/.conda/envs/dh_segment/lib/python3.5/site-packages/ipykernel_launcher.py:1: UserWarning: This pattern has match groups. To actually get the groups, use str.extract.\n",
      "  \"\"\"Entry point for launching an IPython kernel.\n"
     ]
    }
   ],
   "source": [
    "is_number = df_left[not_null_counts_left == 2][1].str.contains(num_regex).astype(int)"
   ]
  },
  {
   "cell_type": "code",
   "execution_count": 772,
   "metadata": {},
   "outputs": [
    {
     "data": {
      "text/plain": [
       "87366"
      ]
     },
     "execution_count": 772,
     "metadata": {},
     "output_type": "execute_result"
    }
   ],
   "source": [
    "# selects every row that has 3 elements and next row has 1 element\n",
    "select_other = (is_number.groupby(level=[0,1]).shift(0)*100 + is_number.groupby(level=[0,1]).shift(-1).fillna(0)) == 1\n",
    "# selects every row that has 1 element and prev row has 3 elements\n",
    "select_num = (is_number.groupby(level=[0,1]).shift(1).fillna(4) + is_number.groupby(level=[0,1]).shift(0)*100) == 100\n",
    "# combination of the two\n",
    "select_rows = select_other | select_num\n",
    "select_rows.sum()"
   ]
  },
  {
   "cell_type": "code",
   "execution_count": 776,
   "metadata": {},
   "outputs": [],
   "source": [
    "df_selection.loc[select_other, 2:3] = df_selection.loc[select_num, :1].values"
   ]
  },
  {
   "cell_type": "code",
   "execution_count": 778,
   "metadata": {},
   "outputs": [
    {
     "name": "stderr",
     "output_type": "stream",
     "text": [
      "/home/rbarman/.conda/envs/dh_segment/lib/python3.5/site-packages/ipykernel_launcher.py:1: UserWarning: Boolean Series key will be reindexed to match DataFrame index.\n",
      "  \"\"\"Entry point for launching an IPython kernel.\n"
     ]
    }
   ],
   "source": [
    "df_block_splitted.loc[select_other.where(select_other).dropna().index] = df_selection[select_other].values\n",
    "df_block_splitted.drop(select_num.where(select_num).dropna().index, inplace=True)"
   ]
  },
  {
   "cell_type": "markdown",
   "metadata": {},
   "source": [
    "## Export cleaned"
   ]
  },
  {
   "cell_type": "markdown",
   "metadata": {},
   "source": [
    "### Cleaned line"
   ]
  },
  {
   "cell_type": "code",
   "execution_count": 792,
   "metadata": {},
   "outputs": [],
   "source": [
    "not_null_counts = df_splitted.notnull().sum(axis=1)"
   ]
  },
  {
   "cell_type": "code",
   "execution_count": 793,
   "metadata": {},
   "outputs": [
    {
     "data": {
      "text/plain": [
       "<matplotlib.axes._subplots.AxesSubplot at 0x7f72a230fcc0>"
      ]
     },
     "execution_count": 793,
     "metadata": {},
     "output_type": "execute_result"
    },
    {
     "data": {
      "image/png": "[encoded data removed]",
      "text/plain": [
       "<Figure size 432x288 with 1 Axes>"
      ]
     },
     "metadata": {
      "needs_background": "light"
     },
     "output_type": "display_data"
    }
   ],
   "source": [
    "sns.distplot(not_null_counts, kde=False)"
   ]
  },
  {
   "cell_type": "code",
   "execution_count": 794,
   "metadata": {},
   "outputs": [
    {
     "data": {
      "text/plain": [
       "3960462"
      ]
     },
     "execution_count": 794,
     "metadata": {},
     "output_type": "execute_result"
    }
   ],
   "source": [
    "df_length_four = df_splitted[not_null_counts == 4]\n",
    "len(df_length_four)"
   ]
  },
  {
   "cell_type": "code",
   "execution_count": 609,
   "metadata": {},
   "outputs": [
    {
     "data": {
      "text/plain": [
       "3960462"
      ]
     },
     "execution_count": 609,
     "metadata": {},
     "output_type": "execute_result"
    }
   ],
   "source": [
    "df_length_four = df_splitted[not_null_counts == 4]\n",
    "len(df_length_four)"
   ]
  },
  {
   "cell_type": "code",
   "execution_count": 795,
   "metadata": {
    "scrolled": true
   },
   "outputs": [
    {
     "name": "stderr",
     "output_type": "stream",
     "text": [
      "/home/rbarman/.conda/envs/dh_segment/lib/python3.5/site-packages/ipykernel_launcher.py:1: UserWarning: This pattern has match groups. To actually get the groups, use str.extract.\n",
      "  \"\"\"Entry point for launching an IPython kernel.\n"
     ]
    }
   ],
   "source": [
    "number_filter = df_length_four[3].str.strip().str.rstrip('.').str.contains(r'([0-9]+|bis)')"
   ]
  },
  {
   "cell_type": "code",
   "execution_count": 796,
   "metadata": {},
   "outputs": [],
   "source": [
    "# A name must be at least 3 letters\n",
    "name_filter = df_length_four[0].map(lambda x: unicodedata.normalize(\"NFKD\", x)).str.strip().str.contains(r'^[A-Z].*\\w{2}')"
   ]
  },
  {
   "cell_type": "code",
   "execution_count": 797,
   "metadata": {},
   "outputs": [],
   "source": [
    "# At least 2 letter work\n",
    "work_filter = df_length_four[1].map(lambda x: unicodedata.normalize(\"NFKD\", x)).str.strip().str.contains(r'^[a-zA-Z].*\\w{1}').fillna(False)"
   ]
  },
  {
   "cell_type": "code",
   "execution_count": 798,
   "metadata": {},
   "outputs": [
    {
     "data": {
      "text/plain": [
       "(3799834, 3796331, 3880580, 3608361)"
      ]
     },
     "execution_count": 798,
     "metadata": {},
     "output_type": "execute_result"
    }
   ],
   "source": [
    "number_filter.sum(), name_filter.sum(), work_filter.sum(), (name_filter & number_filter & work_filter).sum()"
   ]
  },
  {
   "cell_type": "code",
   "execution_count": 613,
   "metadata": {},
   "outputs": [
    {
     "data": {
      "text/plain": [
       "(3799834, 3796331, 3880580, 3608361)"
      ]
     },
     "execution_count": 613,
     "metadata": {},
     "output_type": "execute_result"
    }
   ],
   "source": [
    "number_filter.sum(), name_filter.sum(), work_filter.sum(), (name_filter & number_filter & work_filter).sum()"
   ]
  },
  {
   "cell_type": "code",
   "execution_count": 799,
   "metadata": {},
   "outputs": [],
   "source": [
    "df_clean = df_length_four[(name_filter & number_filter & work_filter)]\n",
    "df_clean.to_pickle('df_clean.pickle')"
   ]
  },
  {
   "cell_type": "code",
   "execution_count": 658,
   "metadata": {},
   "outputs": [],
   "source": [
    "df_clean = pd.read_pickle('df_clean.pickle')"
   ]
  },
  {
   "cell_type": "code",
   "execution_count": 659,
   "metadata": {},
   "outputs": [
    {
     "data": {
      "text/plain": [
       "3608361"
      ]
     },
     "execution_count": 659,
     "metadata": {},
     "output_type": "execute_result"
    }
   ],
   "source": [
    "len(df_clean)"
   ]
  },
  {
   "cell_type": "code",
   "execution_count": 634,
   "metadata": {},
   "outputs": [],
   "source": [
    "df_clean.iloc[:, 0:4].rename(columns={0: 'Nom', 1: 'Métier', 2: 'Rue', 3: 'Numéro'}).reset_index(level=[1,2,3,4], drop=True).join(df_rep[['annee']]).to_csv('strict_adressing.csv')"
   ]
  },
  {
   "cell_type": "markdown",
   "metadata": {},
   "source": [
    "### Cleaned block"
   ]
  },
  {
   "cell_type": "code",
   "execution_count": 781,
   "metadata": {},
   "outputs": [],
   "source": [
    "not_null_counts = df_block_splitted.notnull().sum(axis=1)"
   ]
  },
  {
   "cell_type": "code",
   "execution_count": 782,
   "metadata": {},
   "outputs": [
    {
     "data": {
      "text/plain": [
       "<matplotlib.axes._subplots.AxesSubplot at 0x7f72a0ecd4a8>"
      ]
     },
     "execution_count": 782,
     "metadata": {},
     "output_type": "execute_result"
    },
    {
     "data": {
      "image/png": "[encoded data removed]",
      "text/plain": [
       "<Figure size 432x288 with 1 Axes>"
      ]
     },
     "metadata": {
      "needs_background": "light"
     },
     "output_type": "display_data"
    }
   ],
   "source": [
    "sns.distplot(not_null_counts, kde=False, bins=np.arange(1,10,1))"
   ]
  },
  {
   "cell_type": "code",
   "execution_count": 783,
   "metadata": {},
   "outputs": [
    {
     "data": {
      "text/plain": [
       "599009"
      ]
     },
     "execution_count": 783,
     "metadata": {},
     "output_type": "execute_result"
    }
   ],
   "source": [
    "df_length_four = df_block_splitted[not_null_counts == 4]\n",
    "len(df_length_four)"
   ]
  },
  {
   "cell_type": "code",
   "execution_count": 720,
   "metadata": {},
   "outputs": [
    {
     "data": {
      "text/plain": [
       "555326"
      ]
     },
     "execution_count": 720,
     "metadata": {},
     "output_type": "execute_result"
    }
   ],
   "source": [
    "df_length_four = df_block_splitted[not_null_counts == 4]\n",
    "len(df_length_four)"
   ]
  },
  {
   "cell_type": "code",
   "execution_count": 784,
   "metadata": {
    "scrolled": true
   },
   "outputs": [
    {
     "name": "stderr",
     "output_type": "stream",
     "text": [
      "/home/rbarman/.conda/envs/dh_segment/lib/python3.5/site-packages/ipykernel_launcher.py:1: UserWarning: This pattern has match groups. To actually get the groups, use str.extract.\n",
      "  \"\"\"Entry point for launching an IPython kernel.\n"
     ]
    }
   ],
   "source": [
    "number_filter = df_length_four[3].str.strip().str.rstrip('.').str.contains(r'([0-9]+|bis)')"
   ]
  },
  {
   "cell_type": "code",
   "execution_count": 785,
   "metadata": {},
   "outputs": [],
   "source": [
    "# A name must be at least 3 letters\n",
    "name_filter = df_length_four[0].map(lambda x: unicodedata.normalize(\"NFKD\", x)).str.strip().str.contains(r'^[A-Z].*\\w{2}')"
   ]
  },
  {
   "cell_type": "code",
   "execution_count": 786,
   "metadata": {},
   "outputs": [],
   "source": [
    "# At least 2 letter work\n",
    "work_filter = df_length_four[1].map(lambda x: unicodedata.normalize(\"NFKD\", x)).str.strip().str.contains(r'^[a-zA-Z].*\\w{1}').fillna(False)"
   ]
  },
  {
   "cell_type": "code",
   "execution_count": 787,
   "metadata": {},
   "outputs": [
    {
     "data": {
      "text/plain": [
       "(520971, 509705, 552598, 403712)"
      ]
     },
     "execution_count": 787,
     "metadata": {},
     "output_type": "execute_result"
    }
   ],
   "source": [
    "number_filter.sum(), name_filter.sum(), work_filter.sum(), (name_filter & number_filter & work_filter).sum()"
   ]
  },
  {
   "cell_type": "code",
   "execution_count": 788,
   "metadata": {},
   "outputs": [],
   "source": [
    "df_clean_block = df_length_four[(name_filter & number_filter & work_filter)]\n",
    "df_clean_block.to_pickle('df_clean_block.pickle')"
   ]
  },
  {
   "cell_type": "code",
   "execution_count": 658,
   "metadata": {},
   "outputs": [],
   "source": [
    "df_clean_block = pd.read_pickle('df_clean_block.pickle')"
   ]
  },
  {
   "cell_type": "code",
   "execution_count": 789,
   "metadata": {},
   "outputs": [
    {
     "data": {
      "text/plain": [
       "(403712, 4012073)"
      ]
     },
     "execution_count": 789,
     "metadata": {},
     "output_type": "execute_result"
    }
   ],
   "source": [
    "len(df_clean_block), len(df_clean_block)+len(df_clean)"
   ]
  },
  {
   "cell_type": "code",
   "execution_count": 800,
   "metadata": {},
   "outputs": [],
   "source": [
    "pd.concat([df_clean_block.iloc[:, 0:4].rename(columns={0: 'Nom', 1: 'Métier', 2: 'Rue', 3: 'Numéro'})\n",
    "           .reset_index(level=[1,2], drop=True),\n",
    "           df_clean.iloc[:, 0:4].rename(columns={0: 'Nom', 1: 'Métier', 2: 'Rue', 3: 'Numéro'})\n",
    "           .reset_index(level=[1,2,3,4], drop=True)]).join(df_rep[['annee']]).to_csv('strict_adressing.csv')"
   ]
  },
  {
   "cell_type": "code",
   "execution_count": 804,
   "metadata": {},
   "outputs": [
    {
     "data": {
      "text/plain": [
       "6204600.0"
      ]
     },
     "execution_count": 804,
     "metadata": {},
     "output_type": "execute_result"
    }
   ],
   "source": [
    "df_rep['pages'].sum()*75*3"
   ]
  },
  {
   "cell_type": "code",
   "execution_count": null,
   "metadata": {},
   "outputs": [],
   "source": []
  }
 ],
 "metadata": {
  "kernelspec": {
   "display_name": "Python 3",
   "language": "python",
   "name": "python3"
  },
  "language_info": {
   "codemirror_mode": {
    "name": "ipython",
    "version": 3
   },
   "file_extension": ".py",
   "mimetype": "text/x-python",
   "name": "python",
   "nbconvert_exporter": "python",
   "pygments_lexer": "ipython3",
   "version": "3.5.5"
  },
  "toc": {
   "base_numbering": 1,
   "nav_menu": {
    "height": "109px",
    "width": "160px"
   },
   "number_sections": true,
   "sideBar": false,
   "skip_h1_title": false,
   "title_cell": "Table of Contents",
   "title_sidebar": "Contents",
   "toc_cell": true,
   "toc_position": {},
   "toc_section_display": true,
   "toc_window_display": false
  }
 },
 "nbformat": 4,
 "nbformat_minor": 2
}
