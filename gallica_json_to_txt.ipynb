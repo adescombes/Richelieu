{
 "cells": [
  {
   "cell_type": "code",
   "execution_count": 11,
   "metadata": {},
   "outputs": [],
   "source": [
    "import json\n",
    "from glob import glob\n",
    "from tqdm import tqdm_notebook as tqdm"
   ]
  },
  {
   "cell_type": "code",
   "execution_count": 19,
   "metadata": {},
   "outputs": [
    {
     "data": {
      "application/vnd.jupyter.widget-view+json": {
       "model_id": "64ec5b03930c472090c5137c2ed2589f",
       "version_major": 2,
       "version_minor": 0
      },
      "text/plain": [
       "HBox(children=(IntProgress(value=0, max=56), HTML(value='')))"
      ]
     },
     "metadata": {},
     "output_type": "display_data"
    },
    {
     "name": "stdout",
     "output_type": "stream",
     "text": [
      "\n"
     ]
    }
   ],
   "source": [
    "files = glob('D:/USERS/adescomb/Desktop/Annuaires/OCR HTML/*.json')\n",
    "strings = []\n",
    "for filename in tqdm(files):\n",
    "    with open(filename, 'r') as f:\n",
    "        annuaire_json = json.load(f)\n",
    "    for page in annuaire_json[1:]:\n",
    "        strings.extend(page)"
   ]
  },
  {
   "cell_type": "code",
   "execution_count": 4,
   "metadata": {},
   "outputs": [],
   "source": [
    "filename = 'D:/USERS/adescomb/Desktop/Annuaires/OCR HTML/bpt6k6282019m.Alto.json'\n",
    "\n",
    "if filename:\n",
    "    with open(filename, 'r') as f:\n",
    "        annuaire_json = json.load(f)\n"
   ]
  },
  {
   "cell_type": "code",
   "execution_count": 5,
   "metadata": {},
   "outputs": [
    {
     "data": {
      "text/plain": [
       "364"
      ]
     },
     "execution_count": 5,
     "metadata": {},
     "output_type": "execute_result"
    }
   ],
   "source": [
    "annuaire_json[0] # metadata -> Annuaire général du commerce de 1855\n",
    "len(annuaire_json) # 364 pages"
   ]
  },
  {
   "cell_type": "code",
   "execution_count": 6,
   "metadata": {},
   "outputs": [
    {
     "name": "stdout",
     "output_type": "stream",
     "text": [
      "Nombre d'entrées : 70061\n"
     ]
    }
   ],
   "source": [
    "# test sur toutes les pages (sans compter les metadata de la 1ère page) :\n",
    "annuaire_lists = annuaire_json[1:] # list of lists\n",
    "annuaire_sample = []\n",
    "for item in annuaire_lists:\n",
    "    annuaire_sample += item\n",
    "print('Nombre d\\'entrées : ' + str(len(annuaire_sample)))"
   ]
  },
  {
   "cell_type": "code",
   "execution_count": 22,
   "metadata": {},
   "outputs": [],
   "source": [
    "# save as text to clean with ocr_processing_gallica.ipynb\n",
    "with open('D:/USERS/adescomb/Desktop/Annuaires/test ocr annuaire/annuaires.txt', 'w', encoding='utf-8') as f:\n",
    "    for item in annuaire_sample:\n",
    "        f.write(\"%s\\n\" % item)"
   ]
  },
  {
   "cell_type": "code",
   "execution_count": 23,
   "metadata": {},
   "outputs": [],
   "source": [
    "# save as text to clean with ocr_processing_gallica.ipynb\n",
    "with open('D:/USERS/adescomb/Desktop/Annuaires/test ocr annuaire/annuaires.txt', 'w', encoding='utf-8') as f:\n",
    "    for item in strings:\n",
    "        f.write(\"%s\\n\" % item)"
   ]
  },
  {
   "cell_type": "code",
   "execution_count": 8,
   "metadata": {},
   "outputs": [
    {
     "name": "stdout",
     "output_type": "stream",
     "text": [
      "70424\n"
     ]
    }
   ],
   "source": [
    "print(len(annuaire_sample) + len(annuaire_lists))"
   ]
  },
  {
   "cell_type": "code",
   "execution_count": null,
   "metadata": {},
   "outputs": [],
   "source": []
  }
 ],
 "metadata": {
  "kernelspec": {
   "display_name": "Python 3",
   "language": "python",
   "name": "python3"
  },
  "language_info": {
   "codemirror_mode": {
    "name": "ipython",
    "version": 3
   },
   "file_extension": ".py",
   "mimetype": "text/x-python",
   "name": "python",
   "nbconvert_exporter": "python",
   "pygments_lexer": "ipython3",
   "version": "3.6.5"
  }
 },
 "nbformat": 4,
 "nbformat_minor": 2
}
