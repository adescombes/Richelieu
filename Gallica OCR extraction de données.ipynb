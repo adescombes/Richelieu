{
 "cells": [
  {
   "cell_type": "markdown",
   "metadata": {
    "toc": true
   },
   "source": [
    "<h1>Table of Contents<span class=\"tocSkip\"></span></h1>\n",
    "<div class=\"toc\"><ul class=\"toc-item\"><li><span><a href=\"#Text-manipulation\" data-toc-modified-id=\"Text-manipulation-1\"><span class=\"toc-item-num\">1&nbsp;&nbsp;</span>Text manipulation</a></span><ul class=\"toc-item\"><li><span><a href=\"#Data-loading\" data-toc-modified-id=\"Data-loading-1.1\"><span class=\"toc-item-num\">1.1&nbsp;&nbsp;</span>Data loading</a></span></li><li><span><a href=\"#Splitting-on-theoritical-ending\" data-toc-modified-id=\"Splitting-on-theoritical-ending-1.2\"><span class=\"toc-item-num\">1.2&nbsp;&nbsp;</span>Splitting on theoritical ending</a></span></li><li><span><a href=\"#From-lines-to-table\" data-toc-modified-id=\"From-lines-to-table-1.3\"><span class=\"toc-item-num\">1.3&nbsp;&nbsp;</span>From lines to table</a></span></li><li><span><a href=\"#Reconcile-columns-by-line\" data-toc-modified-id=\"Reconcile-columns-by-line-1.4\"><span class=\"toc-item-num\">1.4&nbsp;&nbsp;</span>Reconcile columns by line</a></span><ul class=\"toc-item\"><li><span><a href=\"#Reconcile-1-and-3-columns\" data-toc-modified-id=\"Reconcile-1-and-3-columns-1.4.1\"><span class=\"toc-item-num\">1.4.1&nbsp;&nbsp;</span>Reconcile 1 and 3 columns</a></span></li><li><span><a href=\"#Reconcile-2-columns\" data-toc-modified-id=\"Reconcile-2-columns-1.4.2\"><span class=\"toc-item-num\">1.4.2&nbsp;&nbsp;</span>Reconcile 2 columns</a></span></li></ul></li><li><span><a href=\"#Reconcile-columns-by-line\" data-toc-modified-id=\"Reconcile-columns-by-line-1.5\"><span class=\"toc-item-num\">1.5&nbsp;&nbsp;</span>Reconcile columns by line</a></span><ul class=\"toc-item\"><li><span><a href=\"#Reconcile-1-and-3-columns\" data-toc-modified-id=\"Reconcile-1-and-3-columns-1.5.1\"><span class=\"toc-item-num\">1.5.1&nbsp;&nbsp;</span>Reconcile 1 and 3 columns</a></span></li><li><span><a href=\"#Reconcile-2-columns\" data-toc-modified-id=\"Reconcile-2-columns-1.5.2\"><span class=\"toc-item-num\">1.5.2&nbsp;&nbsp;</span>Reconcile 2 columns</a></span></li></ul></li></ul></li><li><span><a href=\"#Export-cleaned\" data-toc-modified-id=\"Export-cleaned-2\"><span class=\"toc-item-num\">2&nbsp;&nbsp;</span>Export cleaned</a></span><ul class=\"toc-item\"><li><span><a href=\"#Cleaned-line\" data-toc-modified-id=\"Cleaned-line-2.1\"><span class=\"toc-item-num\">2.1&nbsp;&nbsp;</span>Cleaned line</a></span></li><li><span><a href=\"#Cleaned-block\" data-toc-modified-id=\"Cleaned-block-2.2\"><span class=\"toc-item-num\">2.2&nbsp;&nbsp;</span>Cleaned block</a></span></li></ul></li><li><span><a href=\"#Measuring-error\" data-toc-modified-id=\"Measuring-error-3\"><span class=\"toc-item-num\">3&nbsp;&nbsp;</span>Measuring error</a></span><ul class=\"toc-item\"><li><span><a href=\"#Generate-excels-for-verificiation\" data-toc-modified-id=\"Generate-excels-for-verificiation-3.1\"><span class=\"toc-item-num\">3.1&nbsp;&nbsp;</span>Generate excels for verificiation</a></span></li><li><span><a href=\"#Error-computing\" data-toc-modified-id=\"Error-computing-3.2\"><span class=\"toc-item-num\">3.2&nbsp;&nbsp;</span>Error computing</a></span></li></ul></li></ul></div>"
   ]
  },
  {
   "cell_type": "code",
   "execution_count": 248,
   "metadata": {},
   "outputs": [],
   "source": [
    "import pandas as pd\n",
    "import json\n",
    "from glob import glob\n",
    "import numpy as np\n",
    "from tqdm import tqdm_notebook as tqdm\n",
    "%matplotlib inline\n",
    "import matplotlib.pyplot as plt\n",
    "import seaborn as sns\n",
    "import unicodedata\n",
    "from IPython.display import display, HTML\n",
    "\n",
    "\n",
    "def index_from_boolean(series):\n",
    "    return series.where(series).dropna().index"
   ]
  },
  {
   "cell_type": "code",
   "execution_count": 2,
   "metadata": {},
   "outputs": [],
   "source": [
    "ocr_files = glob('data/ocr_alto/*.json')"
   ]
  },
  {
   "cell_type": "code",
   "execution_count": 4,
   "metadata": {},
   "outputs": [
    {
     "data": {
      "text/html": [
       "<div>\n",
       "<style scoped>\n",
       "    .dataframe tbody tr th:only-of-type {\n",
       "        vertical-align: middle;\n",
       "    }\n",
       "\n",
       "    .dataframe tbody tr th {\n",
       "        vertical-align: top;\n",
       "    }\n",
       "\n",
       "    .dataframe thead th {\n",
       "        text-align: right;\n",
       "    }\n",
       "</style>\n",
       "<table border=\"1\" class=\"dataframe\">\n",
       "  <thead>\n",
       "    <tr style=\"text-align: right;\">\n",
       "      <th></th>\n",
       "      <th>nom_court</th>\n",
       "      <th>annee</th>\n",
       "      <th>remarques</th>\n",
       "      <th>lien_source</th>\n",
       "      <th>source_ID</th>\n",
       "      <th>vue_debut</th>\n",
       "      <th>page_debut</th>\n",
       "      <th>vue_fin</th>\n",
       "      <th>page_fin</th>\n",
       "      <th>page_total</th>\n",
       "      <th>pages</th>\n",
       "      <th>nom_fichier</th>\n",
       "    </tr>\n",
       "    <tr>\n",
       "      <th>ids</th>\n",
       "      <th></th>\n",
       "      <th></th>\n",
       "      <th></th>\n",
       "      <th></th>\n",
       "      <th></th>\n",
       "      <th></th>\n",
       "      <th></th>\n",
       "      <th></th>\n",
       "      <th></th>\n",
       "      <th></th>\n",
       "      <th></th>\n",
       "      <th></th>\n",
       "    </tr>\n",
       "  </thead>\n",
       "  <tbody>\n",
       "    <tr>\n",
       "      <th>bpt6k63243601</th>\n",
       "      <td>Annuaire-general-du-commerce</td>\n",
       "      <td>1839</td>\n",
       "      <td>NaN</td>\n",
       "      <td>https://gallica.bnf.fr/ark:/12148/bpt6k63243601</td>\n",
       "      <td>FRBNF32698036</td>\n",
       "      <td>123</td>\n",
       "      <td>103.0</td>\n",
       "      <td>399.0</td>\n",
       "      <td>379</td>\n",
       "      <td>1457</td>\n",
       "      <td>277.0</td>\n",
       "      <td>bpt6k63243601.Alto.html</td>\n",
       "    </tr>\n",
       "    <tr>\n",
       "      <th>bpt6k62931221</th>\n",
       "      <td>Annuaire-general-du-commerce</td>\n",
       "      <td>1841</td>\n",
       "      <td>document en 2 parties sur Gallica, seule la pr...</td>\n",
       "      <td>https://gallica.bnf.fr/ark:/12148/bpt6k62931221</td>\n",
       "      <td>FRBNF32698036</td>\n",
       "      <td>151</td>\n",
       "      <td>72.0</td>\n",
       "      <td>423.0</td>\n",
       "      <td>344</td>\n",
       "      <td>938</td>\n",
       "      <td>273.0</td>\n",
       "      <td>bpt6k62931221.Alto.html</td>\n",
       "    </tr>\n",
       "    <tr>\n",
       "      <th>bpt6k6286466w</th>\n",
       "      <td>Annuaire-general-du-commerce</td>\n",
       "      <td>1842</td>\n",
       "      <td>document en 2 parties sur Gallica, seule la pr...</td>\n",
       "      <td>https://gallica.bnf.fr/ark:/12148/bpt6k6286466w</td>\n",
       "      <td>FRBNF32698036</td>\n",
       "      <td>189</td>\n",
       "      <td>91.0</td>\n",
       "      <td>489.0</td>\n",
       "      <td>391</td>\n",
       "      <td>939</td>\n",
       "      <td>301.0</td>\n",
       "      <td>bpt6k6286466w.Alto.html</td>\n",
       "    </tr>\n",
       "    <tr>\n",
       "      <th>bpt6k6393838j</th>\n",
       "      <td>Annuaire-general-du-commerce</td>\n",
       "      <td>1843</td>\n",
       "      <td>document en 2 parties sur Gallica, seule la pr...</td>\n",
       "      <td>https://gallica.bnf.fr/ark:/12148/bpt6k6393838j</td>\n",
       "      <td>FRBNF32698036</td>\n",
       "      <td>219</td>\n",
       "      <td>107.0</td>\n",
       "      <td>482.0</td>\n",
       "      <td>378</td>\n",
       "      <td>969</td>\n",
       "      <td>264.0</td>\n",
       "      <td>bpt6k6393838j.Alto.html</td>\n",
       "    </tr>\n",
       "    <tr>\n",
       "      <th>bpt6k6331310g</th>\n",
       "      <td>Annuaire-general-du-commerce</td>\n",
       "      <td>1844</td>\n",
       "      <td>La dernière page comprend le début d'une autre...</td>\n",
       "      <td>https://gallica.bnf.fr/ark:/12148/bpt6k6331310g</td>\n",
       "      <td>FRBNF32698036</td>\n",
       "      <td>216</td>\n",
       "      <td>103.0</td>\n",
       "      <td>483.0</td>\n",
       "      <td>372</td>\n",
       "      <td>977</td>\n",
       "      <td>268.0</td>\n",
       "      <td>bpt6k6331310g.Alto.html</td>\n",
       "    </tr>\n",
       "  </tbody>\n",
       "</table>\n",
       "</div>"
      ],
      "text/plain": [
       "                                  nom_court  annee  \\\n",
       "ids                                                  \n",
       "bpt6k63243601  Annuaire-general-du-commerce   1839   \n",
       "bpt6k62931221  Annuaire-general-du-commerce   1841   \n",
       "bpt6k6286466w  Annuaire-general-du-commerce   1842   \n",
       "bpt6k6393838j  Annuaire-general-du-commerce   1843   \n",
       "bpt6k6331310g  Annuaire-general-du-commerce   1844   \n",
       "\n",
       "                                                       remarques  \\\n",
       "ids                                                                \n",
       "bpt6k63243601                                                NaN   \n",
       "bpt6k62931221  document en 2 parties sur Gallica, seule la pr...   \n",
       "bpt6k6286466w  document en 2 parties sur Gallica, seule la pr...   \n",
       "bpt6k6393838j  document en 2 parties sur Gallica, seule la pr...   \n",
       "bpt6k6331310g  La dernière page comprend le début d'une autre...   \n",
       "\n",
       "                                                   lien_source  \\\n",
       "ids                                                              \n",
       "bpt6k63243601  https://gallica.bnf.fr/ark:/12148/bpt6k63243601   \n",
       "bpt6k62931221  https://gallica.bnf.fr/ark:/12148/bpt6k62931221   \n",
       "bpt6k6286466w  https://gallica.bnf.fr/ark:/12148/bpt6k6286466w   \n",
       "bpt6k6393838j  https://gallica.bnf.fr/ark:/12148/bpt6k6393838j   \n",
       "bpt6k6331310g  https://gallica.bnf.fr/ark:/12148/bpt6k6331310g   \n",
       "\n",
       "                    source_ID  vue_debut  page_debut  vue_fin page_fin  \\\n",
       "ids                                                                      \n",
       "bpt6k63243601  FRBNF32698036         123       103.0    399.0      379   \n",
       "bpt6k62931221  FRBNF32698036         151        72.0    423.0      344   \n",
       "bpt6k6286466w  FRBNF32698036         189        91.0    489.0      391   \n",
       "bpt6k6393838j  FRBNF32698036         219       107.0    482.0      378   \n",
       "bpt6k6331310g  FRBNF32698036         216       103.0    483.0      372   \n",
       "\n",
       "               page_total  pages              nom_fichier  \n",
       "ids                                                        \n",
       "bpt6k63243601        1457  277.0  bpt6k63243601.Alto.html  \n",
       "bpt6k62931221         938  273.0  bpt6k62931221.Alto.html  \n",
       "bpt6k6286466w         939  301.0  bpt6k6286466w.Alto.html  \n",
       "bpt6k6393838j         969  264.0  bpt6k6393838j.Alto.html  \n",
       "bpt6k6331310g         977  268.0  bpt6k6331310g.Alto.html  "
      ]
     },
     "execution_count": 4,
     "metadata": {},
     "output_type": "execute_result"
    }
   ],
   "source": [
    "df_rep = pd.read_excel('repertoires.xlsx')\n",
    "df_rep.dropna(subset=['nom_court'], inplace=True)\n",
    "df_rep['ids'] = df_rep['lien_source'].str.replace('https://gallica.bnf.fr/ark:/12148/', '')\n",
    "df_rep['vue_debut'] = df_rep['vue_debut'].astype(int)\n",
    "df_rep['annee'] = df_rep['annee'].astype(int)\n",
    "# df_rep['annee'] = pd.to_datetime(df_rep['annee'].astype(int), format='%Y')\n",
    "df_rep.set_index('ids', inplace=True)\n",
    "df_rep.head()"
   ]
  },
  {
   "cell_type": "markdown",
   "metadata": {},
   "source": [
    "## Text manipulation"
   ]
  },
  {
   "cell_type": "markdown",
   "metadata": {},
   "source": [
    "### Data loading"
   ]
  },
  {
   "cell_type": "code",
   "execution_count": 324,
   "metadata": {
    "scrolled": false
   },
   "outputs": [
    {
     "data": {
      "application/vnd.jupyter.widget-view+json": {
       "model_id": "07f5c9791bad4f2ca6e9e9e5b40d9040",
       "version_major": 2,
       "version_minor": 0
      },
      "text/plain": [
       "HBox(children=(IntProgress(value=1, bar_style='info', max=1), HTML(value='')))"
      ]
     },
     "metadata": {},
     "output_type": "display_data"
    },
    {
     "data": {
      "application/vnd.jupyter.widget-view+json": {
       "model_id": "",
       "version_major": 2,
       "version_minor": 0
      },
      "text/plain": [
       "HBox(children=(IntProgress(value=1, bar_style='info', max=1), HTML(value='')))"
      ]
     },
     "metadata": {},
     "output_type": "display_data"
    },
    {
     "data": {
      "application/vnd.jupyter.widget-view+json": {
       "model_id": "",
       "version_major": 2,
       "version_minor": 0
      },
      "text/plain": [
       "HBox(children=(IntProgress(value=1, bar_style='info', max=1), HTML(value='')))"
      ]
     },
     "metadata": {},
     "output_type": "display_data"
    },
    {
     "data": {
      "application/vnd.jupyter.widget-view+json": {
       "model_id": "",
       "version_major": 2,
       "version_minor": 0
      },
      "text/plain": [
       "HBox(children=(IntProgress(value=1, bar_style='info', max=1), HTML(value='')))"
      ]
     },
     "metadata": {},
     "output_type": "display_data"
    },
    {
     "data": {
      "application/vnd.jupyter.widget-view+json": {
       "model_id": "",
       "version_major": 2,
       "version_minor": 0
      },
      "text/plain": [
       "HBox(children=(IntProgress(value=1, bar_style='info', max=1), HTML(value='')))"
      ]
     },
     "metadata": {},
     "output_type": "display_data"
    },
    {
     "data": {
      "application/vnd.jupyter.widget-view+json": {
       "model_id": "",
       "version_major": 2,
       "version_minor": 0
      },
      "text/plain": [
       "HBox(children=(IntProgress(value=1, bar_style='info', max=1), HTML(value='')))"
      ]
     },
     "metadata": {},
     "output_type": "display_data"
    },
    {
     "data": {
      "application/vnd.jupyter.widget-view+json": {
       "model_id": "",
       "version_major": 2,
       "version_minor": 0
      },
      "text/plain": [
       "HBox(children=(IntProgress(value=1, bar_style='info', max=1), HTML(value='')))"
      ]
     },
     "metadata": {},
     "output_type": "display_data"
    },
    {
     "data": {
      "application/vnd.jupyter.widget-view+json": {
       "model_id": "",
       "version_major": 2,
       "version_minor": 0
      },
      "text/plain": [
       "HBox(children=(IntProgress(value=1, bar_style='info', max=1), HTML(value='')))"
      ]
     },
     "metadata": {},
     "output_type": "display_data"
    },
    {
     "data": {
      "application/vnd.jupyter.widget-view+json": {
       "model_id": "",
       "version_major": 2,
       "version_minor": 0
      },
      "text/plain": [
       "HBox(children=(IntProgress(value=1, bar_style='info', max=1), HTML(value='')))"
      ]
     },
     "metadata": {},
     "output_type": "display_data"
    },
    {
     "data": {
      "application/vnd.jupyter.widget-view+json": {
       "model_id": "",
       "version_major": 2,
       "version_minor": 0
      },
      "text/plain": [
       "HBox(children=(IntProgress(value=1, bar_style='info', max=1), HTML(value='')))"
      ]
     },
     "metadata": {},
     "output_type": "display_data"
    },
    {
     "data": {
      "application/vnd.jupyter.widget-view+json": {
       "model_id": "",
       "version_major": 2,
       "version_minor": 0
      },
      "text/plain": [
       "HBox(children=(IntProgress(value=1, bar_style='info', max=1), HTML(value='')))"
      ]
     },
     "metadata": {},
     "output_type": "display_data"
    },
    {
     "data": {
      "application/vnd.jupyter.widget-view+json": {
       "model_id": "",
       "version_major": 2,
       "version_minor": 0
      },
      "text/plain": [
       "HBox(children=(IntProgress(value=1, bar_style='info', max=1), HTML(value='')))"
      ]
     },
     "metadata": {},
     "output_type": "display_data"
    },
    {
     "data": {
      "application/vnd.jupyter.widget-view+json": {
       "model_id": "",
       "version_major": 2,
       "version_minor": 0
      },
      "text/plain": [
       "HBox(children=(IntProgress(value=1, bar_style='info', max=1), HTML(value='')))"
      ]
     },
     "metadata": {},
     "output_type": "display_data"
    },
    {
     "data": {
      "application/vnd.jupyter.widget-view+json": {
       "model_id": "",
       "version_major": 2,
       "version_minor": 0
      },
      "text/plain": [
       "HBox(children=(IntProgress(value=1, bar_style='info', max=1), HTML(value='')))"
      ]
     },
     "metadata": {},
     "output_type": "display_data"
    },
    {
     "data": {
      "application/vnd.jupyter.widget-view+json": {
       "model_id": "",
       "version_major": 2,
       "version_minor": 0
      },
      "text/plain": [
       "HBox(children=(IntProgress(value=1, bar_style='info', max=1), HTML(value='')))"
      ]
     },
     "metadata": {},
     "output_type": "display_data"
    },
    {
     "data": {
      "application/vnd.jupyter.widget-view+json": {
       "model_id": "",
       "version_major": 2,
       "version_minor": 0
      },
      "text/plain": [
       "HBox(children=(IntProgress(value=1, bar_style='info', max=1), HTML(value='')))"
      ]
     },
     "metadata": {},
     "output_type": "display_data"
    },
    {
     "data": {
      "application/vnd.jupyter.widget-view+json": {
       "model_id": "",
       "version_major": 2,
       "version_minor": 0
      },
      "text/plain": [
       "HBox(children=(IntProgress(value=1, bar_style='info', max=1), HTML(value='')))"
      ]
     },
     "metadata": {},
     "output_type": "display_data"
    },
    {
     "data": {
      "application/vnd.jupyter.widget-view+json": {
       "model_id": "",
       "version_major": 2,
       "version_minor": 0
      },
      "text/plain": [
       "HBox(children=(IntProgress(value=1, bar_style='info', max=1), HTML(value='')))"
      ]
     },
     "metadata": {},
     "output_type": "display_data"
    },
    {
     "data": {
      "application/vnd.jupyter.widget-view+json": {
       "model_id": "",
       "version_major": 2,
       "version_minor": 0
      },
      "text/plain": [
       "HBox(children=(IntProgress(value=1, bar_style='info', max=1), HTML(value='')))"
      ]
     },
     "metadata": {},
     "output_type": "display_data"
    },
    {
     "data": {
      "application/vnd.jupyter.widget-view+json": {
       "model_id": "",
       "version_major": 2,
       "version_minor": 0
      },
      "text/plain": [
       "HBox(children=(IntProgress(value=1, bar_style='info', max=1), HTML(value='')))"
      ]
     },
     "metadata": {},
     "output_type": "display_data"
    },
    {
     "data": {
      "application/vnd.jupyter.widget-view+json": {
       "model_id": "",
       "version_major": 2,
       "version_minor": 0
      },
      "text/plain": [
       "HBox(children=(IntProgress(value=1, bar_style='info', max=1), HTML(value='')))"
      ]
     },
     "metadata": {},
     "output_type": "display_data"
    },
    {
     "data": {
      "application/vnd.jupyter.widget-view+json": {
       "model_id": "",
       "version_major": 2,
       "version_minor": 0
      },
      "text/plain": [
       "HBox(children=(IntProgress(value=1, bar_style='info', max=1), HTML(value='')))"
      ]
     },
     "metadata": {},
     "output_type": "display_data"
    },
    {
     "data": {
      "application/vnd.jupyter.widget-view+json": {
       "model_id": "",
       "version_major": 2,
       "version_minor": 0
      },
      "text/plain": [
       "HBox(children=(IntProgress(value=1, bar_style='info', max=1), HTML(value='')))"
      ]
     },
     "metadata": {},
     "output_type": "display_data"
    },
    {
     "data": {
      "application/vnd.jupyter.widget-view+json": {
       "model_id": "",
       "version_major": 2,
       "version_minor": 0
      },
      "text/plain": [
       "HBox(children=(IntProgress(value=1, bar_style='info', max=1), HTML(value='')))"
      ]
     },
     "metadata": {},
     "output_type": "display_data"
    },
    {
     "data": {
      "application/vnd.jupyter.widget-view+json": {
       "model_id": "",
       "version_major": 2,
       "version_minor": 0
      },
      "text/plain": [
       "HBox(children=(IntProgress(value=1, bar_style='info', max=1), HTML(value='')))"
      ]
     },
     "metadata": {},
     "output_type": "display_data"
    },
    {
     "data": {
      "application/vnd.jupyter.widget-view+json": {
       "model_id": "",
       "version_major": 2,
       "version_minor": 0
      },
      "text/plain": [
       "HBox(children=(IntProgress(value=1, bar_style='info', max=1), HTML(value='')))"
      ]
     },
     "metadata": {},
     "output_type": "display_data"
    },
    {
     "data": {
      "application/vnd.jupyter.widget-view+json": {
       "model_id": "",
       "version_major": 2,
       "version_minor": 0
      },
      "text/plain": [
       "HBox(children=(IntProgress(value=1, bar_style='info', max=1), HTML(value='')))"
      ]
     },
     "metadata": {},
     "output_type": "display_data"
    },
    {
     "data": {
      "application/vnd.jupyter.widget-view+json": {
       "model_id": "",
       "version_major": 2,
       "version_minor": 0
      },
      "text/plain": [
       "HBox(children=(IntProgress(value=1, bar_style='info', max=1), HTML(value='')))"
      ]
     },
     "metadata": {},
     "output_type": "display_data"
    },
    {
     "data": {
      "application/vnd.jupyter.widget-view+json": {
       "model_id": "",
       "version_major": 2,
       "version_minor": 0
      },
      "text/plain": [
       "HBox(children=(IntProgress(value=1, bar_style='info', max=1), HTML(value='')))"
      ]
     },
     "metadata": {},
     "output_type": "display_data"
    },
    {
     "data": {
      "application/vnd.jupyter.widget-view+json": {
       "model_id": "",
       "version_major": 2,
       "version_minor": 0
      },
      "text/plain": [
       "HBox(children=(IntProgress(value=1, bar_style='info', max=1), HTML(value='')))"
      ]
     },
     "metadata": {},
     "output_type": "display_data"
    },
    {
     "data": {
      "application/vnd.jupyter.widget-view+json": {
       "model_id": "",
       "version_major": 2,
       "version_minor": 0
      },
      "text/plain": [
       "HBox(children=(IntProgress(value=1, bar_style='info', max=1), HTML(value='')))"
      ]
     },
     "metadata": {},
     "output_type": "display_data"
    },
    {
     "data": {
      "application/vnd.jupyter.widget-view+json": {
       "model_id": "",
       "version_major": 2,
       "version_minor": 0
      },
      "text/plain": [
       "HBox(children=(IntProgress(value=1, bar_style='info', max=1), HTML(value='')))"
      ]
     },
     "metadata": {},
     "output_type": "display_data"
    },
    {
     "data": {
      "application/vnd.jupyter.widget-view+json": {
       "model_id": "",
       "version_major": 2,
       "version_minor": 0
      },
      "text/plain": [
       "HBox(children=(IntProgress(value=1, bar_style='info', max=1), HTML(value='')))"
      ]
     },
     "metadata": {},
     "output_type": "display_data"
    },
    {
     "data": {
      "application/vnd.jupyter.widget-view+json": {
       "model_id": "",
       "version_major": 2,
       "version_minor": 0
      },
      "text/plain": [
       "HBox(children=(IntProgress(value=1, bar_style='info', max=1), HTML(value='')))"
      ]
     },
     "metadata": {},
     "output_type": "display_data"
    },
    {
     "data": {
      "application/vnd.jupyter.widget-view+json": {
       "model_id": "",
       "version_major": 2,
       "version_minor": 0
      },
      "text/plain": [
       "HBox(children=(IntProgress(value=1, bar_style='info', max=1), HTML(value='')))"
      ]
     },
     "metadata": {},
     "output_type": "display_data"
    },
    {
     "data": {
      "application/vnd.jupyter.widget-view+json": {
       "model_id": "",
       "version_major": 2,
       "version_minor": 0
      },
      "text/plain": [
       "HBox(children=(IntProgress(value=1, bar_style='info', max=1), HTML(value='')))"
      ]
     },
     "metadata": {},
     "output_type": "display_data"
    },
    {
     "data": {
      "application/vnd.jupyter.widget-view+json": {
       "model_id": "",
       "version_major": 2,
       "version_minor": 0
      },
      "text/plain": [
       "HBox(children=(IntProgress(value=1, bar_style='info', max=1), HTML(value='')))"
      ]
     },
     "metadata": {},
     "output_type": "display_data"
    },
    {
     "data": {
      "application/vnd.jupyter.widget-view+json": {
       "model_id": "",
       "version_major": 2,
       "version_minor": 0
      },
      "text/plain": [
       "HBox(children=(IntProgress(value=1, bar_style='info', max=1), HTML(value='')))"
      ]
     },
     "metadata": {},
     "output_type": "display_data"
    },
    {
     "data": {
      "application/vnd.jupyter.widget-view+json": {
       "model_id": "",
       "version_major": 2,
       "version_minor": 0
      },
      "text/plain": [
       "HBox(children=(IntProgress(value=1, bar_style='info', max=1), HTML(value='')))"
      ]
     },
     "metadata": {},
     "output_type": "display_data"
    },
    {
     "data": {
      "application/vnd.jupyter.widget-view+json": {
       "model_id": "",
       "version_major": 2,
       "version_minor": 0
      },
      "text/plain": [
       "HBox(children=(IntProgress(value=1, bar_style='info', max=1), HTML(value='')))"
      ]
     },
     "metadata": {},
     "output_type": "display_data"
    },
    {
     "data": {
      "application/vnd.jupyter.widget-view+json": {
       "model_id": "",
       "version_major": 2,
       "version_minor": 0
      },
      "text/plain": [
       "HBox(children=(IntProgress(value=1, bar_style='info', max=1), HTML(value='')))"
      ]
     },
     "metadata": {},
     "output_type": "display_data"
    },
    {
     "data": {
      "application/vnd.jupyter.widget-view+json": {
       "model_id": "",
       "version_major": 2,
       "version_minor": 0
      },
      "text/plain": [
       "HBox(children=(IntProgress(value=1, bar_style='info', max=1), HTML(value='')))"
      ]
     },
     "metadata": {},
     "output_type": "display_data"
    },
    {
     "data": {
      "application/vnd.jupyter.widget-view+json": {
       "model_id": "",
       "version_major": 2,
       "version_minor": 0
      },
      "text/plain": [
       "HBox(children=(IntProgress(value=1, bar_style='info', max=1), HTML(value='')))"
      ]
     },
     "metadata": {},
     "output_type": "display_data"
    },
    {
     "data": {
      "application/vnd.jupyter.widget-view+json": {
       "model_id": "",
       "version_major": 2,
       "version_minor": 0
      },
      "text/plain": [
       "HBox(children=(IntProgress(value=1, bar_style='info', max=1), HTML(value='')))"
      ]
     },
     "metadata": {},
     "output_type": "display_data"
    },
    {
     "data": {
      "application/vnd.jupyter.widget-view+json": {
       "model_id": "",
       "version_major": 2,
       "version_minor": 0
      },
      "text/plain": [
       "HBox(children=(IntProgress(value=1, bar_style='info', max=1), HTML(value='')))"
      ]
     },
     "metadata": {},
     "output_type": "display_data"
    },
    {
     "data": {
      "application/vnd.jupyter.widget-view+json": {
       "model_id": "",
       "version_major": 2,
       "version_minor": 0
      },
      "text/plain": [
       "HBox(children=(IntProgress(value=1, bar_style='info', max=1), HTML(value='')))"
      ]
     },
     "metadata": {},
     "output_type": "display_data"
    },
    {
     "data": {
      "application/vnd.jupyter.widget-view+json": {
       "model_id": "",
       "version_major": 2,
       "version_minor": 0
      },
      "text/plain": [
       "HBox(children=(IntProgress(value=1, bar_style='info', max=1), HTML(value='')))"
      ]
     },
     "metadata": {},
     "output_type": "display_data"
    },
    {
     "data": {
      "application/vnd.jupyter.widget-view+json": {
       "model_id": "",
       "version_major": 2,
       "version_minor": 0
      },
      "text/plain": [
       "HBox(children=(IntProgress(value=1, bar_style='info', max=1), HTML(value='')))"
      ]
     },
     "metadata": {},
     "output_type": "display_data"
    },
    {
     "data": {
      "application/vnd.jupyter.widget-view+json": {
       "model_id": "",
       "version_major": 2,
       "version_minor": 0
      },
      "text/plain": [
       "HBox(children=(IntProgress(value=1, bar_style='info', max=1), HTML(value='')))"
      ]
     },
     "metadata": {},
     "output_type": "display_data"
    },
    {
     "data": {
      "application/vnd.jupyter.widget-view+json": {
       "model_id": "",
       "version_major": 2,
       "version_minor": 0
      },
      "text/plain": [
       "HBox(children=(IntProgress(value=1, bar_style='info', max=1), HTML(value='')))"
      ]
     },
     "metadata": {},
     "output_type": "display_data"
    },
    {
     "data": {
      "application/vnd.jupyter.widget-view+json": {
       "model_id": "",
       "version_major": 2,
       "version_minor": 0
      },
      "text/plain": [
       "HBox(children=(IntProgress(value=1, bar_style='info', max=1), HTML(value='')))"
      ]
     },
     "metadata": {},
     "output_type": "display_data"
    },
    {
     "data": {
      "application/vnd.jupyter.widget-view+json": {
       "model_id": "",
       "version_major": 2,
       "version_minor": 0
      },
      "text/plain": [
       "HBox(children=(IntProgress(value=1, bar_style='info', max=1), HTML(value='')))"
      ]
     },
     "metadata": {},
     "output_type": "display_data"
    },
    {
     "data": {
      "application/vnd.jupyter.widget-view+json": {
       "model_id": "",
       "version_major": 2,
       "version_minor": 0
      },
      "text/plain": [
       "HBox(children=(IntProgress(value=1, bar_style='info', max=1), HTML(value='')))"
      ]
     },
     "metadata": {},
     "output_type": "display_data"
    },
    {
     "name": "stdout",
     "output_type": "stream",
     "text": [
      "here bpt6k9692809v\n",
      "here bpt6k9692809v\n"
     ]
    },
    {
     "data": {
      "application/vnd.jupyter.widget-view+json": {
       "model_id": "",
       "version_major": 2,
       "version_minor": 0
      },
      "text/plain": [
       "HBox(children=(IntProgress(value=1, bar_style='info', max=1), HTML(value='')))"
      ]
     },
     "metadata": {},
     "output_type": "display_data"
    },
    {
     "data": {
      "application/vnd.jupyter.widget-view+json": {
       "model_id": "",
       "version_major": 2,
       "version_minor": 0
      },
      "text/plain": [
       "HBox(children=(IntProgress(value=1, bar_style='info', max=1), HTML(value='')))"
      ]
     },
     "metadata": {},
     "output_type": "display_data"
    },
    {
     "data": {
      "application/vnd.jupyter.widget-view+json": {
       "model_id": "",
       "version_major": 2,
       "version_minor": 0
      },
      "text/plain": [
       "HBox(children=(IntProgress(value=1, bar_style='info', max=1), HTML(value='')))"
      ]
     },
     "metadata": {},
     "output_type": "display_data"
    },
    {
     "data": {
      "application/vnd.jupyter.widget-view+json": {
       "model_id": "",
       "version_major": 2,
       "version_minor": 0
      },
      "text/plain": [
       "HBox(children=(IntProgress(value=1, bar_style='info', max=1), HTML(value='')))"
      ]
     },
     "metadata": {},
     "output_type": "display_data"
    },
    {
     "name": "stdout",
     "output_type": "stream",
     "text": [
      "\n"
     ]
    }
   ],
   "source": [
    "rows = []\n",
    "for idx_document, ocr_file in tqdm(enumerate(ocr_files)):\n",
    "    # Get the doc id \n",
    "    doc_id = ocr_file.split('/')[-1].split('_')[0]\n",
    "    # Get the number of the first vue and iterate over them\n",
    "    # WARNING: does not work for some reason\n",
    "    vue_debut = int(df_rep.loc[doc_id]['vue_debut'])\n",
    "    with open(ocr_file, 'r', encoding='utf-8') as infile:\n",
    "        data = json.load(infile)\n",
    "    for idx_page, page in tqdm(enumerate(data), leave=False):\n",
    "        if len(page) == 0:\n",
    "            print(\"here\", doc_id)\n",
    "#         for idx_block, block in enumerate(page):\n",
    "#             for line in block:\n",
    "#                 row = {}\n",
    "#                 row['document'] = doc_id\n",
    "#                 row['page'] = vue_debut + idx_page\n",
    "#                 row['text'] = \" \".join([x['text'] for x in line])\n",
    "#                 rows.append(row)"
   ]
  },
  {
   "cell_type": "code",
   "execution_count": 6,
   "metadata": {},
   "outputs": [],
   "source": [
    "df_rows = pd.DataFrame(rows)\n",
    "df_rows['page'] =df_rows['page'].astype(int) \n",
    "df_rows.set_index(['document', 'page'], inplace=True)"
   ]
  },
  {
   "cell_type": "code",
   "execution_count": 7,
   "metadata": {},
   "outputs": [],
   "source": [
    "df_rows.to_pickle('df_rows.pickle')"
   ]
  },
  {
   "cell_type": "code",
   "execution_count": 8,
   "metadata": {},
   "outputs": [],
   "source": [
    "df_rows = pd.read_pickle('df_rows.pickle')"
   ]
  },
  {
   "cell_type": "code",
   "execution_count": null,
   "metadata": {},
   "outputs": [],
   "source": [
    "# Gets for a given line all the words and gives them a unique index\n",
    "def get_words_line(doc_id, vue_debut, idx_page, idx_block, idx_line, line, offset_words=0):\n",
    "    words = []\n",
    "    for idx_word, word in enumerate(line):\n",
    "        row = {}\n",
    "        row['document'] = doc_id\n",
    "        row['page'] =  vue_debut + idx_page\n",
    "        row['block'] = idx_block\n",
    "        row['line'] = idx_line\n",
    "        row['word'] = offset_words+idx_word\n",
    "        row['text'] = word['text']\n",
    "        row['full_text'] = row['text']\n",
    "        row['is_hyphen'] = False\n",
    "        if 'full_text' in word:\n",
    "            row['full_text'] = word['full_text']\n",
    "            row['is_hyphen'] = True\n",
    "        words.append(row)\n",
    "    return words\n",
    "# Merges two or more lists into one, dropping the first element of all list except the first one\n",
    "# i.e. merge([a,b,c], [c,d,e], [e,f,g]) becomes [a,b,c,d,e,f,g]\n",
    "def merge_list_dropping(lists):\n",
    "    res = []\n",
    "    if len(lists) <= 0:\n",
    "        return res\n",
    "    res.extend(lists[0])\n",
    "    for i in range(1, len(lists)):\n",
    "        l = lists[i]\n",
    "        if len(l) > 1:\n",
    "            res.extend(lists[i][1:])\n",
    "    return res\n",
    "\n",
    "# Iterates over all documents' jsons and extract the data\n",
    "rows = []\n",
    "for idx_document, ocr_file in tqdm(enumerate(ocr_files)):\n",
    "    # Get the doc id \n",
    "    doc_id = ocr_file.split('/')[-1].split('_')[0]\n",
    "    # Get the number of the first vue and iterate over them\n",
    "    # WARNING: does not work for some reason\n",
    "    vue_debut = int(df_rep.loc[doc_id]['vue_debut'])\n",
    "    with open(ocr_file, 'r', encoding='utf-8') as infile:\n",
    "        data = json.load(infile)\n",
    "    for idx_page, page in tqdm(enumerate(data), leave=False):\n",
    "        for idx_block, block in enumerate(page):\n",
    "            # Boolean logic to check if last element of each line is an hyphen\n",
    "            # Creates new lines by merging hyphens\n",
    "            ending = np.array([('full_text' in x[-1]) and len(x) > 1 for x in block])\n",
    "            transititons = ending[1:]*2+ending[:-1]\n",
    "            new_lines = np.split(block, np.where((transititons == 0) | (transititons == 2))[0]+1)\n",
    "            new_lines = [merge_list_dropping(lines) for lines in new_lines]\n",
    "            \n",
    "            for idx_line, line in enumerate(new_lines):\n",
    "                rows.extend(get_words_line(doc_id, vue_debut, idx_page, idx_block, idx_line, line))"
   ]
  },
  {
   "cell_type": "code",
   "execution_count": 8,
   "metadata": {},
   "outputs": [
    {
     "data": {
      "text/html": [
       "<div>\n",
       "<style scoped>\n",
       "    .dataframe tbody tr th:only-of-type {\n",
       "        vertical-align: middle;\n",
       "    }\n",
       "\n",
       "    .dataframe tbody tr th {\n",
       "        vertical-align: top;\n",
       "    }\n",
       "\n",
       "    .dataframe thead th {\n",
       "        text-align: right;\n",
       "    }\n",
       "</style>\n",
       "<table border=\"1\" class=\"dataframe\">\n",
       "  <thead>\n",
       "    <tr style=\"text-align: right;\">\n",
       "      <th></th>\n",
       "      <th></th>\n",
       "      <th></th>\n",
       "      <th></th>\n",
       "      <th></th>\n",
       "      <th>text</th>\n",
       "      <th>full_text</th>\n",
       "      <th>is_hyphen</th>\n",
       "    </tr>\n",
       "    <tr>\n",
       "      <th>document</th>\n",
       "      <th>page</th>\n",
       "      <th>block</th>\n",
       "      <th>line</th>\n",
       "      <th>word</th>\n",
       "      <th></th>\n",
       "      <th></th>\n",
       "      <th></th>\n",
       "    </tr>\n",
       "  </thead>\n",
       "  <tbody>\n",
       "    <tr>\n",
       "      <th rowspan=\"5\" valign=\"top\">bpt6k97630871</th>\n",
       "      <th rowspan=\"5\" valign=\"top\">11</th>\n",
       "      <th rowspan=\"5\" valign=\"top\">0</th>\n",
       "      <th rowspan=\"5\" valign=\"top\">0</th>\n",
       "      <th>0</th>\n",
       "      <td>Gerboz</td>\n",
       "      <td>Gerboz</td>\n",
       "      <td>False</td>\n",
       "    </tr>\n",
       "    <tr>\n",
       "      <th>1</th>\n",
       "      <td>(F.)</td>\n",
       "      <td>(F.)</td>\n",
       "      <td>False</td>\n",
       "    </tr>\n",
       "    <tr>\n",
       "      <th>2</th>\n",
       "      <td>fils,</td>\n",
       "      <td>fils,</td>\n",
       "      <td>False</td>\n",
       "    </tr>\n",
       "    <tr>\n",
       "      <th>3</th>\n",
       "      <td>sacs</td>\n",
       "      <td>sacs</td>\n",
       "      <td>False</td>\n",
       "    </tr>\n",
       "    <tr>\n",
       "      <th>4</th>\n",
       "      <td>en</td>\n",
       "      <td>en</td>\n",
       "      <td>False</td>\n",
       "    </tr>\n",
       "  </tbody>\n",
       "</table>\n",
       "</div>"
      ],
      "text/plain": [
       "                                      text full_text  is_hyphen\n",
       "document      page block line word                             \n",
       "bpt6k97630871 11   0     0    0     Gerboz    Gerboz      False\n",
       "                              1       (F.)      (F.)      False\n",
       "                              2      fils,     fils,      False\n",
       "                              3       sacs      sacs      False\n",
       "                              4         en        en      False"
      ]
     },
     "execution_count": 8,
     "metadata": {},
     "output_type": "execute_result"
    }
   ],
   "source": [
    "# Load the row into a dataframe\n",
    "df = pd.DataFrame(rows)\n",
    "df = df[['text', 'full_text', 'is_hyphen', 'document', 'page', 'block', 'line', 'word']]\n",
    "df.set_index(['document', 'page', 'block', 'line', 'word'], inplace=True)\n",
    "df_lines = df.groupby(level=[0,1,2,3])['full_text'].apply(lambda x: ' '.join(x))\n",
    "df_lines.to_pickle('df_lines.pickle')\n",
    "df.head()"
   ]
  },
  {
   "cell_type": "code",
   "execution_count": 150,
   "metadata": {},
   "outputs": [],
   "source": [
    "df_lines = pd.read_pickle('df_lines.pickle')"
   ]
  },
  {
   "cell_type": "code",
   "execution_count": 151,
   "metadata": {},
   "outputs": [
    {
     "data": {
      "text/plain": [
       "document       page  block  line\n",
       "bpt6k6282019m  72    0      0         Bertin ( Mme), sage-femme, St-Lquis-Marais ,51.\n",
       "                     1      0                Bertin, serrurier, Faub.-St-Antoine, 61.\n",
       "                     2      0                        Bertin (Mme), tabac, Noyers, 10.\n",
       "                     3      0                   Bertin, tabac, Viejlle-du-Templè, 47.\n",
       "                     4      0       Bertin, tourneur en bois, Bonaparte, 80, etMél...\n",
       "                     5      0                Bertin, vins en gros, Saint-Antoine, 97.\n",
       "                     6      0                              Bertin, vins, Vendôme, 18.\n",
       "                     7      0                         Bertin (J.),vins,Roquette,51. *\n",
       "                     8      0       Bertin, articles de voyage, Oroix-des-PetitsOh...\n",
       "                     9      0         Bertin-Burrier, fab. de ouates et teinturier en\n",
       "                            1                  grand, Vignes Saint-Marcel, 10 et. 12.\n",
       "                     10     0            Bertin de Chalup 4 i ancien chef d'escadron,\n",
       "                            1                                   ViMe-FEveque, 27 bis.\n",
       "                     11     0               Bertin de Vaux (E.), O. peintre, inspect.\n",
       "                     12     0                           des Beaux-Arts, Sts-Pères, 7.\n",
       "                     13     0               Bertin\" du Château sous-chef au ministère\n",
       "                            1                                           de la marine.\n",
       "                     14     0           l Bcrtinot, avoué Ire instance, Vivienne, 10.\n",
       "                     15     0       Bertoglio 4^, commissaire de police, Argenteui...\n",
       "                     16     0          Bertolnud. avocat cour - imp., Beaux-Arts, 15.\n",
       "                     17     0            Bertolini (J.), poêlier-fumiste, Enghien, 3.\n",
       "                     18     0         Bertolini (Vvc) , poèlier-fum., Temple, 187, et\n",
       "                            1                                    Sainte-Elisabeth, 4.\n",
       "                     19     0            Bertomicr, graveur sur métaux, Grenétat, 40.\n",
       "                     20     0                     Berton, ciseleur, Cherche-Midi, 44.\n",
       "                     21     0                Bertoti, fab. de fleurs, St-Martin, 325.\n",
       "                     22     0                Berton, maçon, St-Benott-St-Germain, 11.\n",
       "                     23     0              Berton (D. ), médecin, St-Louis-Murais,67.\n",
       "                     24     0           Berton (À.) 4, médecinValois-Palais-Royal, 1.\n",
       "                     25     0                    Berton, fauteuils, Ménilmontant, 10.\n",
       "                                                          ...                        \n",
       "bpt6k9780089g  1268  162    0              Nelz, horloger, r. Legcllù l'C, 60. (17e).\n",
       "                            1           Nemcicky, fourreur, r. Tiquetonné,' 62. (S')î\n",
       "                            2          Nemec, tailleur, r. de La MiL-hodière,6. (3e).\n",
       "                            3             Nemejanski, horloger, r. Chariot, 74. (3e).\n",
       "                            4              Nemenchanskv, {OlllTeUI', l'. Quincampoix,\n",
       "                            5                                               34. (3e).\n",
       "                     163    0       Néménoff (A.), pelleteries en gros, r. Coquil-...\n",
       "                     164    0                 Nemensonsky, fabr. de chaussures, Faub.\n",
       "                            1                             du Temple, 43 et 45. (108).\n",
       "                     165    0            Némerv, curiosités, r. de Constantinople, 8.\n",
       "                     166    0                                                   {8°).\n",
       "                     167    0               Némirouwsky (J. & G.) frères, commiss. en\n",
       "                            1       march., r. de Trévise, 34. 3-1.,ge). mBerg..40...\n",
       "                     168    0          Ncmirowsky, Ariès & C\"\\ impol't.-etcpol't., r.\n",
       "                            1                         de Rivoli, 182. [0 Centr.37.98.\n",
       "                     169    0             Nemirowsky & Cie, ingénieurs-constructeurs,\n",
       "                            1             r. de Rivoli, 182. (1er). 7T. Centr. 37.98.\n",
       "                     170    0               Nemjanski, joaillier, r. Choron, 3. (9e).\n",
       "                            1            N.E. M. 0.. fournitures p. orfèvrerie petite\n",
       "                            2             partie, rue Chapon, t7. ,Je:. m Arch. 0.17.\n",
       "                     171    0                Nemours (A.), avocat Cour d'appel, r. du\n",
       "                            1                      llelder, 3. (9e). EH Centr. 01.63.\n",
       "                     172    0              Nemoz (Mme), fleurs naturelles en gros, r.\n",
       "                     173    0                                    St-Martin, 84. (41).\n",
       "                     174    0       Nemoz (J.-B.-A), peintre-artiste, boui. St-Mic...\n",
       "                     175    0             Nénard, antiquaire, r. N.-D.-de-Lorette, 6.\n",
       "                     176    0                                                   (91).\n",
       "                     177    0         Nennig (A.) forgeron, r. Baudricourt, 22. (130)\n",
       "                            1       Nenning (A.), couronnes funéraires, r. Jean-ne...\n",
       "                     178    0        .Nenon, architecte, r. de Bruxelles, - 23. (9e).\n",
       "Name: full_text, Length: 7419964, dtype: object"
      ]
     },
     "execution_count": 151,
     "metadata": {},
     "output_type": "execute_result"
    }
   ],
   "source": [
    "df_lines"
   ]
  },
  {
   "cell_type": "markdown",
   "metadata": {},
   "source": [
    "### Splitting on theoritical ending"
   ]
  },
  {
   "cell_type": "markdown",
   "metadata": {},
   "source": [
    "We split the lines if they contain a number followed by a dot or a 'bis' followed by a dot: 4. or 4bis.\n",
    "This a simple heuristic to give more lines, however, this does not determine the final heuristic for choosing if a number is a valid one."
   ]
  },
  {
   "cell_type": "code",
   "execution_count": 7,
   "metadata": {},
   "outputs": [],
   "source": [
    "# Split the lines\n",
    "df_lines_with_split = df_lines.str.extractall(r'((?:.*?\\d\\.)|(?:.*?bis\\.)|(?:.*))')\\\n",
    "                            .dropna().reset_index(level=4, drop=True)[0]\n",
    "\n",
    "# Make the index unique by adding a new split index\n",
    "df_lines_with_split = df_lines_with_split.to_frame()\n",
    "df_lines_with_split.set_index(df_lines_with_split.groupby(level=[0,1,2,3]).cumcount(),  append=True, inplace=True)\n",
    "df_lines_with_split.index.set_names('split', level=4, inplace=True)\n",
    "df_lines_with_split = df_lines_with_split[0]\n",
    "\n",
    "# Remove all lines that contains only not alphanumeric characters\n",
    "df_lines_with_split = df_lines_with_split[~df_lines_with_split.str.contains(r'^[^\\w]+$')]\n",
    "\n",
    "# Strip the lines and remove empty comma-separated values\n",
    "# e.g. \", ,fs , sad\" becomes \"fs, sad\"\n",
    "df_lines_with_split = df_lines_with_split.str.strip()\n",
    "df_lines_with_split = df_lines_with_split.str.replace(r'^,(\\s*,)*', '')\n",
    "df_lines_with_split = df_lines_with_split.str.strip()\n",
    "df_lines_with_split = df_lines_with_split.str.replace(r',(\\s+,)+', ',')\n",
    "df_lines_with_split = df_lines_with_split.str.strip()\n",
    "\n",
    "df_lines_with_split.to_pickle('df_lines_with_split.pickle')"
   ]
  },
  {
   "cell_type": "code",
   "execution_count": 5,
   "metadata": {},
   "outputs": [],
   "source": [
    "df_lines_with_split = pd.read_pickle('df_lines_with_split.pickle')"
   ]
  },
  {
   "cell_type": "markdown",
   "metadata": {},
   "source": [
    "### From lines to table"
   ]
  },
  {
   "cell_type": "markdown",
   "metadata": {},
   "source": [
    "We simply split on commas, strip all the lines and make empty lines nan"
   ]
  },
  {
   "cell_type": "code",
   "execution_count": 8,
   "metadata": {
    "scrolled": true
   },
   "outputs": [],
   "source": [
    "df_splitted = df_lines_with_split.str.split(',', expand=True)\n",
    "\n",
    "df_splitted = df_splitted.apply(lambda col: col.str.strip())\n",
    "df_splitted.replace('', np.nan, inplace=True)\n",
    "df_splitted.fillna(value=pd.np.nan, inplace=True)\n",
    "df_splitted.to_pickle('df_splitted.pickle')"
   ]
  },
  {
   "cell_type": "code",
   "execution_count": 4,
   "metadata": {},
   "outputs": [],
   "source": [
    "df_splitted = pd.read_pickle('df_splitted.pickle')"
   ]
  },
  {
   "cell_type": "code",
   "execution_count": 9,
   "metadata": {
    "scrolled": true
   },
   "outputs": [
    {
     "data": {
      "text/plain": [
       "<matplotlib.axes._subplots.AxesSubplot at 0x7feb2b085748>"
      ]
     },
     "execution_count": 9,
     "metadata": {},
     "output_type": "execute_result"
    },
    {
     "data": {
      "image/png": "[encoded data removed]",
      "text/plain": [
       "<Figure size 432x288 with 1 Axes>"
      ]
     },
     "metadata": {
      "needs_background": "light"
     },
     "output_type": "display_data"
    }
   ],
   "source": [
    "not_null_counts = df_splitted.notnull().sum(axis=1)\n",
    "sns.distplot(not_null_counts, kde=False)"
   ]
  },
  {
   "cell_type": "markdown",
   "metadata": {},
   "source": [
    "By looking at the number of non-null column, we can see that the majority of the data has the right number of fields, i.e. four: name, job, street, number.\n",
    "\n",
    "Then the biggest others are 1, 2 and 3 columns. We could try to reconcile the 1 and 3 columns and the 2 columns amongst themselves.\n",
    "\n",
    "The theoritical amount of person that could be extracted is computed in the following cell."
   ]
  },
  {
   "cell_type": "code",
   "execution_count": 10,
   "metadata": {},
   "outputs": [
    {
     "name": "stdout",
     "output_type": "stream",
     "text": [
      "We could get at most 5616400 entities\n"
     ]
    }
   ],
   "source": [
    "num_one = (not_null_counts == 1).sum()\n",
    "num_two = (not_null_counts == 2).sum()\n",
    "num_three = (not_null_counts == 3).sum()\n",
    "num_four = (not_null_counts == 4).sum()\n",
    "print(\"We could get at most %d entities\"%(num_four + min(num_three, num_one) + num_two // 2))"
   ]
  },
  {
   "cell_type": "markdown",
   "metadata": {},
   "source": [
    "### Reconcile columns by line"
   ]
  },
  {
   "cell_type": "markdown",
   "metadata": {},
   "source": [
    "#### Reconcile 1 and 3 columns"
   ]
  },
  {
   "cell_type": "markdown",
   "metadata": {},
   "source": [
    "The idea to reconcile rows that contain 1 and 3 columns is quite simple:\n",
    "\n",
    "If the rows that contains 1 column has a value that is a number, i.e. contains one or more numbers, \"-\", spaces, \"et\" and \"bis\", and is preceded by a row that has 3 columns, then we can merge the two."
   ]
  },
  {
   "cell_type": "code",
   "execution_count": 11,
   "metadata": {},
   "outputs": [],
   "source": [
    "num_regex = r'^(\\d|-|et| )*(\\d|bis)(\\.)?$'"
   ]
  },
  {
   "cell_type": "code",
   "execution_count": 106,
   "metadata": {
    "scrolled": false
   },
   "outputs": [
    {
     "name": "stderr",
     "output_type": "stream",
     "text": [
      "/home/rbarman/.conda/envs/dh_segment/lib/python3.5/site-packages/ipykernel_launcher.py:2: UserWarning: This pattern has match groups. To actually get the groups, use str.extract.\n",
      "  \n",
      "/home/rbarman/.conda/envs/dh_segment/lib/python3.5/site-packages/ipykernel_launcher.py:3: UserWarning: This pattern has match groups. To actually get the groups, use str.extract.\n",
      "  This is separate from the ipykernel package so we can avoid doing imports until\n"
     ]
    }
   ],
   "source": [
    "# Get the rows with 1 column and a number preceded by a 3 column row\n",
    "df_selection = df_splitted[(df_splitted.groupby(level=[0,1])[0].shift(-1).str.contains(num_regex).fillna(False) & (not_null_counts==3))|\n",
    "            (df_splitted[0].str.contains(num_regex) & (not_null_counts==1))]"
   ]
  },
  {
   "cell_type": "code",
   "execution_count": 107,
   "metadata": {},
   "outputs": [],
   "source": [
    "selection_not_null = df_selection.notnull().sum(axis=1)"
   ]
  },
  {
   "cell_type": "markdown",
   "metadata": {},
   "source": [
    "Boolean masks to select the rows with 3 columns and 1 column corresponding to the previously described logic."
   ]
  },
  {
   "cell_type": "code",
   "execution_count": 108,
   "metadata": {},
   "outputs": [
    {
     "data": {
      "text/plain": [
       "2002"
      ]
     },
     "execution_count": 108,
     "metadata": {},
     "output_type": "execute_result"
    }
   ],
   "source": [
    "# selects every row that has 3 elements and next row has 1 element\n",
    "select_three = (selection_not_null.groupby(level=[0,1, 2]).shift(0)*100 + selection_not_null.groupby(level=[0,1, 2]).shift(-1).fillna(0)) == 301\n",
    "# selects every row that has 1 element and prev row has 3 elements\n",
    "select_one = (selection_not_null.groupby(level=[0,1, 2]).shift(1).fillna(0)*100 + selection_not_null.groupby(level=[0,1, 2]).shift(0)) == 301\n",
    "# combination of the two\n",
    "select_rows = select_three | select_one\n",
    "select_rows.sum()"
   ]
  },
  {
   "cell_type": "markdown",
   "metadata": {},
   "source": [
    "We merge the 3 colums and 1 column rows together."
   ]
  },
  {
   "cell_type": "code",
   "execution_count": 15,
   "metadata": {},
   "outputs": [
    {
     "name": "stderr",
     "output_type": "stream",
     "text": [
      "/home/rbarman/.conda/envs/dh_segment/lib/python3.5/site-packages/pandas/core/indexing.py:543: SettingWithCopyWarning: \n",
      "A value is trying to be set on a copy of a slice from a DataFrame.\n",
      "Try using .loc[row_indexer,col_indexer] = value instead\n",
      "\n",
      "See the caveats in the documentation: http://pandas.pydata.org/pandas-docs/stable/indexing.html#indexing-view-versus-copy\n",
      "  self.obj[item] = s\n"
     ]
    }
   ],
   "source": [
    "df_selection.loc[index_from_boolean(select_three), 3] = df_selection[select_one][0].values"
   ]
  },
  {
   "cell_type": "markdown",
   "metadata": {},
   "source": [
    "TODO: Check if the right way to do it...\n",
    "\n",
    "We directly modify the splitted dataframe to incldue the values of the modified rows and drop the 1 column rows."
   ]
  },
  {
   "cell_type": "code",
   "execution_count": 16,
   "metadata": {},
   "outputs": [],
   "source": [
    "df_splitted.loc[index_from_boolean(select_three)] = df_selection[select_three].values\n",
    "df_splitted.drop(index_from_boolean(select_one), inplace=True)"
   ]
  },
  {
   "cell_type": "markdown",
   "metadata": {},
   "source": [
    "#### Reconcile 2 columns"
   ]
  },
  {
   "cell_type": "code",
   "execution_count": 92,
   "metadata": {},
   "outputs": [],
   "source": [
    "# Simple change from previous versions, does not matter...\n",
    "df_left = df_splitted"
   ]
  },
  {
   "cell_type": "code",
   "execution_count": 93,
   "metadata": {},
   "outputs": [],
   "source": [
    "not_null_counts_left = df_left.notnull().sum(axis=1)"
   ]
  },
  {
   "cell_type": "code",
   "execution_count": 94,
   "metadata": {},
   "outputs": [
    {
     "data": {
      "text/plain": [
       "<matplotlib.axes._subplots.AxesSubplot at 0x7feab3a8a6a0>"
      ]
     },
     "execution_count": 94,
     "metadata": {},
     "output_type": "execute_result"
    },
    {
     "data": {
      "image/png": "[encoded data removed]",
      "text/plain": [
       "<Figure size 432x288 with 1 Axes>"
      ]
     },
     "metadata": {
      "needs_background": "light"
     },
     "output_type": "display_data"
    }
   ],
   "source": [
    "sns.distplot(not_null_counts_left, kde=False)"
   ]
  },
  {
   "cell_type": "markdown",
   "metadata": {},
   "source": [
    "We use the same logic than before, but this time with 2 columns rows"
   ]
  },
  {
   "cell_type": "code",
   "execution_count": 95,
   "metadata": {},
   "outputs": [],
   "source": [
    "num_regex = r'^(\\d|-|et| )*(\\d|bis)(\\.)?$'"
   ]
  },
  {
   "cell_type": "code",
   "execution_count": 96,
   "metadata": {
    "scrolled": false
   },
   "outputs": [
    {
     "name": "stderr",
     "output_type": "stream",
     "text": [
      "/home/rbarman/.conda/envs/dh_segment/lib/python3.5/site-packages/ipykernel_launcher.py:1: UserWarning: This pattern has match groups. To actually get the groups, use str.extract.\n",
      "  \"\"\"Entry point for launching an IPython kernel.\n",
      "/home/rbarman/.conda/envs/dh_segment/lib/python3.5/site-packages/ipykernel_launcher.py:2: UserWarning: This pattern has match groups. To actually get the groups, use str.extract.\n",
      "  \n"
     ]
    }
   ],
   "source": [
    "df_selection = df_left[not_null_counts_left == 2][(df_left[not_null_counts_left == 2].groupby(level=[0,1, 2])[1].shift(-1).str.contains(num_regex).fillna(False))|\n",
    "            (df_left[not_null_counts_left == 2][1].str.contains(num_regex))]"
   ]
  },
  {
   "cell_type": "markdown",
   "metadata": {},
   "source": [
    "This time we work on the fact that a row is a number or not, we only want to merge to row if the second one is a number and the first one not."
   ]
  },
  {
   "cell_type": "code",
   "execution_count": 97,
   "metadata": {},
   "outputs": [
    {
     "name": "stderr",
     "output_type": "stream",
     "text": [
      "/home/rbarman/.conda/envs/dh_segment/lib/python3.5/site-packages/ipykernel_launcher.py:1: UserWarning: This pattern has match groups. To actually get the groups, use str.extract.\n",
      "  \"\"\"Entry point for launching an IPython kernel.\n"
     ]
    }
   ],
   "source": [
    "is_number = df_left[not_null_counts_left == 2][1].str.contains(num_regex).fillna(False).astype(int)"
   ]
  },
  {
   "cell_type": "code",
   "execution_count": 98,
   "metadata": {},
   "outputs": [
    {
     "data": {
      "text/plain": [
       "480"
      ]
     },
     "execution_count": 98,
     "metadata": {},
     "output_type": "execute_result"
    }
   ],
   "source": [
    "# selects every row that has 3 elements and next row has 1 element\n",
    "select_other = (is_number.groupby(level=[0,1, 2]).shift(0)*100 + is_number.groupby(level=[0,1, 2]).shift(-1).fillna(0)) == 1\n",
    "# selects every row that has 1 element and prev row has 3 elements\n",
    "select_num = (is_number.groupby(level=[0,1, 2]).shift(1).fillna(4) + is_number.groupby(level=[0,1, 2]).shift(0)*100) == 100\n",
    "# combination of the two\n",
    "select_rows = select_other | select_num\n",
    "select_rows.sum()"
   ]
  },
  {
   "cell_type": "markdown",
   "metadata": {},
   "source": [
    "We merge the values if they matched the previously described logic and store the result in the df_splitted"
   ]
  },
  {
   "cell_type": "code",
   "execution_count": 26,
   "metadata": {},
   "outputs": [],
   "source": [
    "df_selection.loc[select_other, 2:3] = df_selection.loc[select_num, 0:1].values"
   ]
  },
  {
   "cell_type": "code",
   "execution_count": 27,
   "metadata": {},
   "outputs": [
    {
     "name": "stderr",
     "output_type": "stream",
     "text": [
      "/home/rbarman/.conda/envs/dh_segment/lib/python3.5/site-packages/ipykernel_launcher.py:1: UserWarning: Boolean Series key will be reindexed to match DataFrame index.\n",
      "  \"\"\"Entry point for launching an IPython kernel.\n"
     ]
    }
   ],
   "source": [
    "df_splitted.loc[select_other.where(select_other).dropna().index] = df_selection[select_other].values\n",
    "df_splitted.drop(select_num.where(select_num).dropna().index, inplace=True)"
   ]
  },
  {
   "cell_type": "markdown",
   "metadata": {},
   "source": [
    "### Reconcile columns by line"
   ]
  },
  {
   "cell_type": "markdown",
   "metadata": {},
   "source": [
    "Since we reconciled as much as possible by simple heuristic by lines, this time we try to reconcile by blocks rather than by lines.\n",
    "\n",
    "**WARNING** **WARNING**: The <a href=\"#Cleaned-line\">Cleaned line</a> section should be run before this section in order not to treat twice the same lines."
   ]
  },
  {
   "cell_type": "code",
   "execution_count": 41,
   "metadata": {},
   "outputs": [],
   "source": [
    "# Get the lines which have not already been treated\n",
    "df_lines_with_split_selection = df_lines_with_split.loc[df_lines_with_split.index.intersection(df_splitted.index).difference(df_clean.index)]\n",
    "\n",
    "# Group the lines by block\n",
    "df_block = df_lines_with_split_selection.groupby(level=[0,1,2]).apply(lambda x: ' '.join(x))"
   ]
  },
  {
   "cell_type": "code",
   "execution_count": 42,
   "metadata": {},
   "outputs": [
    {
     "data": {
      "text/html": [
       "<div>\n",
       "<style scoped>\n",
       "    .dataframe tbody tr th:only-of-type {\n",
       "        vertical-align: middle;\n",
       "    }\n",
       "\n",
       "    .dataframe tbody tr th {\n",
       "        vertical-align: top;\n",
       "    }\n",
       "\n",
       "    .dataframe thead th {\n",
       "        text-align: right;\n",
       "    }\n",
       "</style>\n",
       "<table border=\"1\" class=\"dataframe\">\n",
       "  <thead>\n",
       "    <tr style=\"text-align: right;\">\n",
       "      <th></th>\n",
       "      <th></th>\n",
       "      <th></th>\n",
       "      <th>0</th>\n",
       "      <th>1</th>\n",
       "      <th>2</th>\n",
       "      <th>3</th>\n",
       "      <th>4</th>\n",
       "      <th>5</th>\n",
       "      <th>6</th>\n",
       "      <th>7</th>\n",
       "      <th>8</th>\n",
       "      <th>9</th>\n",
       "      <th>...</th>\n",
       "      <th>59</th>\n",
       "      <th>60</th>\n",
       "      <th>61</th>\n",
       "      <th>62</th>\n",
       "      <th>63</th>\n",
       "      <th>64</th>\n",
       "      <th>65</th>\n",
       "      <th>66</th>\n",
       "      <th>67</th>\n",
       "      <th>68</th>\n",
       "    </tr>\n",
       "    <tr>\n",
       "      <th>document</th>\n",
       "      <th>page</th>\n",
       "      <th>block</th>\n",
       "      <th></th>\n",
       "      <th></th>\n",
       "      <th></th>\n",
       "      <th></th>\n",
       "      <th></th>\n",
       "      <th></th>\n",
       "      <th></th>\n",
       "      <th></th>\n",
       "      <th></th>\n",
       "      <th></th>\n",
       "      <th></th>\n",
       "      <th></th>\n",
       "      <th></th>\n",
       "      <th></th>\n",
       "      <th></th>\n",
       "      <th></th>\n",
       "      <th></th>\n",
       "      <th></th>\n",
       "      <th></th>\n",
       "      <th></th>\n",
       "      <th></th>\n",
       "    </tr>\n",
       "  </thead>\n",
       "  <tbody>\n",
       "    <tr>\n",
       "      <th rowspan=\"5\" valign=\"top\">bpt6k6282019m</th>\n",
       "      <th rowspan=\"5\" valign=\"top\">72</th>\n",
       "      <th>4</th>\n",
       "      <td>Bertin</td>\n",
       "      <td>tourneur en bois</td>\n",
       "      <td>Bonaparte</td>\n",
       "      <td>80</td>\n",
       "      <td>etMélière</td>\n",
       "      <td>1.</td>\n",
       "      <td>NaN</td>\n",
       "      <td>NaN</td>\n",
       "      <td>NaN</td>\n",
       "      <td>NaN</td>\n",
       "      <td>...</td>\n",
       "      <td>NaN</td>\n",
       "      <td>NaN</td>\n",
       "      <td>NaN</td>\n",
       "      <td>NaN</td>\n",
       "      <td>NaN</td>\n",
       "      <td>NaN</td>\n",
       "      <td>NaN</td>\n",
       "      <td>NaN</td>\n",
       "      <td>NaN</td>\n",
       "      <td>NaN</td>\n",
       "    </tr>\n",
       "    <tr>\n",
       "      <th>9</th>\n",
       "      <td>Bertin-Burrier</td>\n",
       "      <td>fab. de ouates et teinturier en grand</td>\n",
       "      <td>Vignes Saint-Marcel</td>\n",
       "      <td>10 et. 12.</td>\n",
       "      <td>NaN</td>\n",
       "      <td>NaN</td>\n",
       "      <td>NaN</td>\n",
       "      <td>NaN</td>\n",
       "      <td>NaN</td>\n",
       "      <td>NaN</td>\n",
       "      <td>...</td>\n",
       "      <td>NaN</td>\n",
       "      <td>NaN</td>\n",
       "      <td>NaN</td>\n",
       "      <td>NaN</td>\n",
       "      <td>NaN</td>\n",
       "      <td>NaN</td>\n",
       "      <td>NaN</td>\n",
       "      <td>NaN</td>\n",
       "      <td>NaN</td>\n",
       "      <td>NaN</td>\n",
       "    </tr>\n",
       "    <tr>\n",
       "      <th>10</th>\n",
       "      <td>Bertin de Chalup 4 i ancien chef d'escadron</td>\n",
       "      <td>ViMe-FEveque</td>\n",
       "      <td>27 bis.</td>\n",
       "      <td>NaN</td>\n",
       "      <td>NaN</td>\n",
       "      <td>NaN</td>\n",
       "      <td>NaN</td>\n",
       "      <td>NaN</td>\n",
       "      <td>NaN</td>\n",
       "      <td>NaN</td>\n",
       "      <td>...</td>\n",
       "      <td>NaN</td>\n",
       "      <td>NaN</td>\n",
       "      <td>NaN</td>\n",
       "      <td>NaN</td>\n",
       "      <td>NaN</td>\n",
       "      <td>NaN</td>\n",
       "      <td>NaN</td>\n",
       "      <td>NaN</td>\n",
       "      <td>NaN</td>\n",
       "      <td>NaN</td>\n",
       "    </tr>\n",
       "    <tr>\n",
       "      <th>11</th>\n",
       "      <td>Bertin de Vaux (E.)</td>\n",
       "      <td>O. peintre</td>\n",
       "      <td>inspect.</td>\n",
       "      <td>NaN</td>\n",
       "      <td>NaN</td>\n",
       "      <td>NaN</td>\n",
       "      <td>NaN</td>\n",
       "      <td>NaN</td>\n",
       "      <td>NaN</td>\n",
       "      <td>NaN</td>\n",
       "      <td>...</td>\n",
       "      <td>NaN</td>\n",
       "      <td>NaN</td>\n",
       "      <td>NaN</td>\n",
       "      <td>NaN</td>\n",
       "      <td>NaN</td>\n",
       "      <td>NaN</td>\n",
       "      <td>NaN</td>\n",
       "      <td>NaN</td>\n",
       "      <td>NaN</td>\n",
       "      <td>NaN</td>\n",
       "    </tr>\n",
       "    <tr>\n",
       "      <th>12</th>\n",
       "      <td>des Beaux-Arts</td>\n",
       "      <td>Sts-Pères</td>\n",
       "      <td>7.</td>\n",
       "      <td>NaN</td>\n",
       "      <td>NaN</td>\n",
       "      <td>NaN</td>\n",
       "      <td>NaN</td>\n",
       "      <td>NaN</td>\n",
       "      <td>NaN</td>\n",
       "      <td>NaN</td>\n",
       "      <td>...</td>\n",
       "      <td>NaN</td>\n",
       "      <td>NaN</td>\n",
       "      <td>NaN</td>\n",
       "      <td>NaN</td>\n",
       "      <td>NaN</td>\n",
       "      <td>NaN</td>\n",
       "      <td>NaN</td>\n",
       "      <td>NaN</td>\n",
       "      <td>NaN</td>\n",
       "      <td>NaN</td>\n",
       "    </tr>\n",
       "  </tbody>\n",
       "</table>\n",
       "<p>5 rows × 69 columns</p>\n",
       "</div>"
      ],
      "text/plain": [
       "                                                                   0   \\\n",
       "document      page block                                                \n",
       "bpt6k6282019m 72   4                                           Bertin   \n",
       "                   9                                   Bertin-Burrier   \n",
       "                   10     Bertin de Chalup 4 i ancien chef d'escadron   \n",
       "                   11                             Bertin de Vaux (E.)   \n",
       "                   12                                  des Beaux-Arts   \n",
       "\n",
       "                                                             1   \\\n",
       "document      page block                                          \n",
       "bpt6k6282019m 72   4                           tourneur en bois   \n",
       "                   9      fab. de ouates et teinturier en grand   \n",
       "                   10                              ViMe-FEveque   \n",
       "                   11                                O. peintre   \n",
       "                   12                                 Sts-Pères   \n",
       "\n",
       "                                           2           3          4    5   \\\n",
       "document      page block                                                    \n",
       "bpt6k6282019m 72   4                Bonaparte          80  etMélière   1.   \n",
       "                   9      Vignes Saint-Marcel  10 et. 12.        NaN  NaN   \n",
       "                   10                 27 bis.         NaN        NaN  NaN   \n",
       "                   11                inspect.         NaN        NaN  NaN   \n",
       "                   12                      7.         NaN        NaN  NaN   \n",
       "\n",
       "                           6    7    8    9  ...    59   60   61   62   63  \\\n",
       "document      page block                     ...                             \n",
       "bpt6k6282019m 72   4      NaN  NaN  NaN  NaN ...   NaN  NaN  NaN  NaN  NaN   \n",
       "                   9      NaN  NaN  NaN  NaN ...   NaN  NaN  NaN  NaN  NaN   \n",
       "                   10     NaN  NaN  NaN  NaN ...   NaN  NaN  NaN  NaN  NaN   \n",
       "                   11     NaN  NaN  NaN  NaN ...   NaN  NaN  NaN  NaN  NaN   \n",
       "                   12     NaN  NaN  NaN  NaN ...   NaN  NaN  NaN  NaN  NaN   \n",
       "\n",
       "                           64   65   66   67   68  \n",
       "document      page block                           \n",
       "bpt6k6282019m 72   4      NaN  NaN  NaN  NaN  NaN  \n",
       "                   9      NaN  NaN  NaN  NaN  NaN  \n",
       "                   10     NaN  NaN  NaN  NaN  NaN  \n",
       "                   11     NaN  NaN  NaN  NaN  NaN  \n",
       "                   12     NaN  NaN  NaN  NaN  NaN  \n",
       "\n",
       "[5 rows x 69 columns]"
      ]
     },
     "execution_count": 42,
     "metadata": {},
     "output_type": "execute_result"
    }
   ],
   "source": [
    "# Split the block in order to have a table\n",
    "df_block_splitted = df_block.str.split(',', expand=True)\n",
    "df_block_splitted = df_block_splitted.apply(lambda col: col.str.strip())\n",
    "df_block_splitted.replace('', np.nan, inplace=True)\n",
    "df_block_splitted.fillna(value=pd.np.nan, inplace=True)\n",
    "df_block_splitted.head()"
   ]
  },
  {
   "cell_type": "code",
   "execution_count": 43,
   "metadata": {},
   "outputs": [],
   "source": [
    "not_null_counts = df_block_splitted.notnull().sum(axis=1)"
   ]
  },
  {
   "cell_type": "code",
   "execution_count": 44,
   "metadata": {
    "scrolled": true
   },
   "outputs": [
    {
     "data": {
      "text/plain": [
       "<matplotlib.axes._subplots.AxesSubplot at 0x7feab7fe86d8>"
      ]
     },
     "execution_count": 44,
     "metadata": {},
     "output_type": "execute_result"
    },
    {
     "data": {
      "image/png": "[encoded data removed]",
      "text/plain": [
       "<Figure size 432x288 with 1 Axes>"
      ]
     },
     "metadata": {
      "needs_background": "light"
     },
     "output_type": "display_data"
    }
   ],
   "source": [
    "sns.distplot(not_null_counts, kde=False, bins=np.arange(1,11, 1))"
   ]
  },
  {
   "cell_type": "markdown",
   "metadata": {},
   "source": [
    "#### Reconcile 1 and 3 columns"
   ]
  },
  {
   "cell_type": "markdown",
   "metadata": {},
   "source": [
    "We use the exact same logic than with lines, but this time at the block level, so no description is provided"
   ]
  },
  {
   "cell_type": "code",
   "execution_count": 45,
   "metadata": {},
   "outputs": [],
   "source": [
    "num_regex = r'^(\\d|-|et| )*(\\d|bis)(\\.)?$'"
   ]
  },
  {
   "cell_type": "code",
   "execution_count": 46,
   "metadata": {
    "scrolled": false
   },
   "outputs": [
    {
     "name": "stderr",
     "output_type": "stream",
     "text": [
      "/home/rbarman/.conda/envs/dh_segment/lib/python3.5/site-packages/ipykernel_launcher.py:1: UserWarning: This pattern has match groups. To actually get the groups, use str.extract.\n",
      "  \"\"\"Entry point for launching an IPython kernel.\n",
      "/home/rbarman/.conda/envs/dh_segment/lib/python3.5/site-packages/ipykernel_launcher.py:2: UserWarning: This pattern has match groups. To actually get the groups, use str.extract.\n",
      "  \n"
     ]
    }
   ],
   "source": [
    "df_selection = df_block_splitted[(df_block_splitted.groupby(level=[0,1])[0].shift(-1).str.contains(num_regex).fillna(False) & (not_null_counts==3))|\n",
    "            (df_block_splitted[0].str.contains(num_regex) & (not_null_counts==1))]"
   ]
  },
  {
   "cell_type": "code",
   "execution_count": 47,
   "metadata": {},
   "outputs": [
    {
     "data": {
      "text/plain": [
       "48683"
      ]
     },
     "execution_count": 47,
     "metadata": {},
     "output_type": "execute_result"
    }
   ],
   "source": [
    "len(df_selection)"
   ]
  },
  {
   "cell_type": "code",
   "execution_count": 48,
   "metadata": {},
   "outputs": [],
   "source": [
    "selection_not_null = df_selection.notnull().sum(axis=1)"
   ]
  },
  {
   "cell_type": "code",
   "execution_count": 49,
   "metadata": {},
   "outputs": [
    {
     "data": {
      "text/plain": [
       "28886"
      ]
     },
     "execution_count": 49,
     "metadata": {},
     "output_type": "execute_result"
    }
   ],
   "source": [
    "# selects every row that has 3 elements and next row has 1 element\n",
    "select_three = (selection_not_null.groupby(level=[0,1]).shift(0)*100 + selection_not_null.groupby(level=[0,1]).shift(-1).fillna(0)) == 301\n",
    "# selects every row that has 1 element and prev row has 3 elements\n",
    "select_one = (selection_not_null.groupby(level=[0,1]).shift(1).fillna(0)*100 + selection_not_null.groupby(level=[0,1]).shift(0)) == 301\n",
    "# combination of the two\n",
    "select_rows = select_three | select_one\n",
    "select_rows.sum()"
   ]
  },
  {
   "cell_type": "code",
   "execution_count": 50,
   "metadata": {},
   "outputs": [
    {
     "data": {
      "text/plain": [
       "0"
      ]
     },
     "execution_count": 50,
     "metadata": {},
     "output_type": "execute_result"
    }
   ],
   "source": [
    "filt = df_selection[select_rows].groupby(level=[0,1]).count()[0].apply(lambda x: x%2 != 0)\n",
    "filt.sum()"
   ]
  },
  {
   "cell_type": "code",
   "execution_count": 51,
   "metadata": {},
   "outputs": [
    {
     "name": "stderr",
     "output_type": "stream",
     "text": [
      "/home/rbarman/.conda/envs/dh_segment/lib/python3.5/site-packages/pandas/core/indexing.py:543: SettingWithCopyWarning: \n",
      "A value is trying to be set on a copy of a slice from a DataFrame.\n",
      "Try using .loc[row_indexer,col_indexer] = value instead\n",
      "\n",
      "See the caveats in the documentation: http://pandas.pydata.org/pandas-docs/stable/indexing.html#indexing-view-versus-copy\n",
      "  self.obj[item] = s\n"
     ]
    }
   ],
   "source": [
    "df_selection.loc[select_three, 3] = df_selection[select_one][0].values"
   ]
  },
  {
   "cell_type": "code",
   "execution_count": 52,
   "metadata": {},
   "outputs": [],
   "source": [
    "df_block_splitted.loc[select_three.where(select_three).dropna().index] = df_selection[select_three].values\n",
    "df_block_splitted.drop(select_one.where(select_one).dropna().index, inplace=True)"
   ]
  },
  {
   "cell_type": "markdown",
   "metadata": {},
   "source": [
    "#### Reconcile 2 columns"
   ]
  },
  {
   "cell_type": "markdown",
   "metadata": {},
   "source": [
    "We use the exact same logic than with lines, but this time at the block level, so no description is provided"
   ]
  },
  {
   "cell_type": "code",
   "execution_count": 79,
   "metadata": {},
   "outputs": [],
   "source": [
    "df_left = df_block_splitted"
   ]
  },
  {
   "cell_type": "code",
   "execution_count": 80,
   "metadata": {},
   "outputs": [],
   "source": [
    "not_null_counts_left = df_left.notnull().sum(axis=1)"
   ]
  },
  {
   "cell_type": "code",
   "execution_count": 81,
   "metadata": {},
   "outputs": [
    {
     "data": {
      "text/plain": [
       "<matplotlib.axes._subplots.AxesSubplot at 0x7feaa903d240>"
      ]
     },
     "execution_count": 81,
     "metadata": {},
     "output_type": "execute_result"
    },
    {
     "data": {
      "image/png": "[encoded data removed]",
      "text/plain": [
       "<Figure size 432x288 with 1 Axes>"
      ]
     },
     "metadata": {
      "needs_background": "light"
     },
     "output_type": "display_data"
    }
   ],
   "source": [
    "sns.distplot(not_null_counts_left, kde=False)"
   ]
  },
  {
   "cell_type": "code",
   "execution_count": 82,
   "metadata": {},
   "outputs": [],
   "source": [
    "num_regex = r'^(\\d|-|et| )*(\\d|bis)(\\.)?$'"
   ]
  },
  {
   "cell_type": "code",
   "execution_count": 83,
   "metadata": {
    "scrolled": false
   },
   "outputs": [
    {
     "name": "stderr",
     "output_type": "stream",
     "text": [
      "/home/rbarman/.conda/envs/dh_segment/lib/python3.5/site-packages/ipykernel_launcher.py:1: UserWarning: This pattern has match groups. To actually get the groups, use str.extract.\n",
      "  \"\"\"Entry point for launching an IPython kernel.\n",
      "/home/rbarman/.conda/envs/dh_segment/lib/python3.5/site-packages/ipykernel_launcher.py:2: UserWarning: This pattern has match groups. To actually get the groups, use str.extract.\n",
      "  \n"
     ]
    }
   ],
   "source": [
    "df_selection = df_left[not_null_counts_left == 2][(df_left[not_null_counts_left == 2].groupby(level=[0,1])[1].shift(-1).str.contains(num_regex).fillna(False))|\n",
    "            (df_left[not_null_counts_left == 2][1].str.contains(num_regex))]"
   ]
  },
  {
   "cell_type": "code",
   "execution_count": 84,
   "metadata": {},
   "outputs": [
    {
     "data": {
      "text/plain": [
       "56355"
      ]
     },
     "execution_count": 84,
     "metadata": {},
     "output_type": "execute_result"
    }
   ],
   "source": [
    "len(df_selection)"
   ]
  },
  {
   "cell_type": "code",
   "execution_count": 85,
   "metadata": {},
   "outputs": [
    {
     "name": "stderr",
     "output_type": "stream",
     "text": [
      "/home/rbarman/.conda/envs/dh_segment/lib/python3.5/site-packages/ipykernel_launcher.py:1: UserWarning: This pattern has match groups. To actually get the groups, use str.extract.\n",
      "  \"\"\"Entry point for launching an IPython kernel.\n"
     ]
    }
   ],
   "source": [
    "is_number = df_left[not_null_counts_left == 2][1].str.contains(num_regex).fillna(False).astype(int)"
   ]
  },
  {
   "cell_type": "code",
   "execution_count": 86,
   "metadata": {},
   "outputs": [
    {
     "data": {
      "text/plain": [
       "12992"
      ]
     },
     "execution_count": 86,
     "metadata": {},
     "output_type": "execute_result"
    }
   ],
   "source": [
    "# selects every row that has 3 elements and next row has 1 element\n",
    "select_other = (is_number.groupby(level=[0,1]).shift(0)*100 + is_number.groupby(level=[0,1]).shift(-1).fillna(0)) == 1\n",
    "# selects every row that has 1 element and prev row has 3 elements\n",
    "select_num = (is_number.groupby(level=[0,1]).shift(1).fillna(4) + is_number.groupby(level=[0,1]).shift(0)*100) == 100\n",
    "# combination of the two\n",
    "select_rows = select_other | select_num\n",
    "select_rows.sum()"
   ]
  },
  {
   "cell_type": "code",
   "execution_count": 87,
   "metadata": {},
   "outputs": [],
   "source": [
    "df_selection.loc[select_other, 2:3] = df_selection.loc[select_num, :1].values"
   ]
  },
  {
   "cell_type": "code",
   "execution_count": 88,
   "metadata": {},
   "outputs": [
    {
     "name": "stderr",
     "output_type": "stream",
     "text": [
      "/home/rbarman/.conda/envs/dh_segment/lib/python3.5/site-packages/ipykernel_launcher.py:1: UserWarning: Boolean Series key will be reindexed to match DataFrame index.\n",
      "  \"\"\"Entry point for launching an IPython kernel.\n"
     ]
    }
   ],
   "source": [
    "df_block_splitted.loc[select_other.where(select_other).dropna().index] = df_selection[select_other].values\n",
    "df_block_splitted.drop(select_num.where(select_num).dropna().index, inplace=True)"
   ]
  },
  {
   "cell_type": "markdown",
   "metadata": {},
   "source": [
    "## Export cleaned"
   ]
  },
  {
   "cell_type": "code",
   "execution_count": 139,
   "metadata": {},
   "outputs": [],
   "source": [
    "num_regex = r'([0-9]+|bis)'\n",
    "name_regex = r'\\w{3}'\n",
    "work_regex = r'\\w{2}'"
   ]
  },
  {
   "cell_type": "markdown",
   "metadata": {},
   "source": [
    "### Cleaned line"
   ]
  },
  {
   "cell_type": "code",
   "execution_count": 123,
   "metadata": {},
   "outputs": [],
   "source": [
    "not_null_counts = df_splitted.notnull().sum(axis=1)"
   ]
  },
  {
   "cell_type": "code",
   "execution_count": 124,
   "metadata": {},
   "outputs": [
    {
     "data": {
      "text/plain": [
       "<matplotlib.axes._subplots.AxesSubplot at 0x7feabd8983c8>"
      ]
     },
     "execution_count": 124,
     "metadata": {},
     "output_type": "execute_result"
    },
    {
     "data": {
      "image/png": "[encoded data removed]",
      "text/plain": [
       "<Figure size 432x288 with 1 Axes>"
      ]
     },
     "metadata": {
      "needs_background": "light"
     },
     "output_type": "display_data"
    }
   ],
   "source": [
    "sns.distplot(not_null_counts, kde=False)"
   ]
  },
  {
   "cell_type": "code",
   "execution_count": 125,
   "metadata": {},
   "outputs": [
    {
     "data": {
      "text/plain": [
       "3959063"
      ]
     },
     "execution_count": 125,
     "metadata": {},
     "output_type": "execute_result"
    }
   ],
   "source": [
    "df_length_four = df_splitted[not_null_counts == 4]\n",
    "len(df_length_four)"
   ]
  },
  {
   "cell_type": "markdown",
   "metadata": {},
   "source": [
    "In order to validate a row, we create three arbitrarty filters that **should be tuned**.\n",
    "\n",
    "For the number, simply that the column contains numbers or bis.\n",
    "\n",
    "For the names, that it starts with an uppercase letter and has at least a three letters word.\n",
    "\n",
    "For the works, that it starts with a letter and has at least a 2 letter word.\n",
    "\n",
    "Nothing for the street.\n",
    "\n",
    "These are simple heuristic, but they should be fine_tuned."
   ]
  },
  {
   "cell_type": "code",
   "execution_count": 140,
   "metadata": {
    "scrolled": true
   },
   "outputs": [
    {
     "name": "stderr",
     "output_type": "stream",
     "text": [
      "/home/rbarman/.conda/envs/dh_segment/lib/python3.5/site-packages/ipykernel_launcher.py:1: UserWarning: This pattern has match groups. To actually get the groups, use str.extract.\n",
      "  \"\"\"Entry point for launching an IPython kernel.\n"
     ]
    }
   ],
   "source": [
    "number_filter = df_length_four[3].dropna().str.strip().str.rstrip('.').str.contains(num_regex)"
   ]
  },
  {
   "cell_type": "code",
   "execution_count": 141,
   "metadata": {},
   "outputs": [],
   "source": [
    "# A name must be at least 3 letters\n",
    "name_filter = df_length_four[0].dropna().map(lambda x: unicodedata.normalize(\"NFKD\", x)).str.strip().str.contains(name_regex)"
   ]
  },
  {
   "cell_type": "code",
   "execution_count": 142,
   "metadata": {},
   "outputs": [],
   "source": [
    "# At least 2 letter work\n",
    "work_filter = df_length_four[1].dropna().map(lambda x: unicodedata.normalize(\"NFKD\", x)).str.strip().str.contains(work_regex).fillna(False)"
   ]
  },
  {
   "cell_type": "code",
   "execution_count": 143,
   "metadata": {},
   "outputs": [
    {
     "data": {
      "text/plain": [
       "(3787550, 3928405, 3928510, 3745320)"
      ]
     },
     "execution_count": 143,
     "metadata": {},
     "output_type": "execute_result"
    }
   ],
   "source": [
    "number_filter.sum(), name_filter.sum(), work_filter.sum(), (name_filter & number_filter & work_filter).sum()"
   ]
  },
  {
   "cell_type": "markdown",
   "metadata": {},
   "source": [
    "We create a new dataframe from the filters."
   ]
  },
  {
   "cell_type": "code",
   "execution_count": 144,
   "metadata": {},
   "outputs": [],
   "source": [
    "df_clean = df_length_four[(name_filter & number_filter & work_filter)]\n",
    "df_clean.to_pickle('df_clean.pickle')"
   ]
  },
  {
   "cell_type": "code",
   "execution_count": 10,
   "metadata": {},
   "outputs": [],
   "source": [
    "df_clean = pd.read_pickle('df_clean.pickle')"
   ]
  },
  {
   "cell_type": "code",
   "execution_count": 145,
   "metadata": {},
   "outputs": [
    {
     "data": {
      "text/plain": [
       "3745320"
      ]
     },
     "execution_count": 145,
     "metadata": {},
     "output_type": "execute_result"
    }
   ],
   "source": [
    "len(df_clean)"
   ]
  },
  {
   "cell_type": "markdown",
   "metadata": {},
   "source": [
    "We add the date of the almanach as metadata and export the dataframe to a csv."
   ]
  },
  {
   "cell_type": "code",
   "execution_count": 634,
   "metadata": {},
   "outputs": [],
   "source": [
    "df_clean.iloc[:, 0:4]\n",
    "    .rename(columns={0: 'Nom', 1: 'Métier', 2: 'Rue', 3: 'Numéro'})\n",
    "    .reset_index(level=[1,2,3,4], drop=True)\n",
    "    .join(df_rep[['annee']])\n",
    "    .to_csv('strict_adressing.csv')"
   ]
  },
  {
   "cell_type": "markdown",
   "metadata": {},
   "source": [
    "### Cleaned block"
   ]
  },
  {
   "cell_type": "markdown",
   "metadata": {},
   "source": [
    "Same than previous section, but for blocks."
   ]
  },
  {
   "cell_type": "code",
   "execution_count": 146,
   "metadata": {},
   "outputs": [],
   "source": [
    "not_null_counts = df_block_splitted.notnull().sum(axis=1)"
   ]
  },
  {
   "cell_type": "code",
   "execution_count": 147,
   "metadata": {},
   "outputs": [
    {
     "data": {
      "text/plain": [
       "<matplotlib.axes._subplots.AxesSubplot at 0x7feaaec38860>"
      ]
     },
     "execution_count": 147,
     "metadata": {},
     "output_type": "execute_result"
    },
    {
     "data": {
      "image/png": "[encoded data removed]",
      "text/plain": [
       "<Figure size 432x288 with 1 Axes>"
      ]
     },
     "metadata": {
      "needs_background": "light"
     },
     "output_type": "display_data"
    }
   ],
   "source": [
    "sns.distplot(not_null_counts, kde=False, bins=np.arange(1,10,1))"
   ]
  },
  {
   "cell_type": "code",
   "execution_count": 148,
   "metadata": {},
   "outputs": [
    {
     "data": {
      "text/plain": [
       "567156"
      ]
     },
     "execution_count": 148,
     "metadata": {},
     "output_type": "execute_result"
    }
   ],
   "source": [
    "df_length_four = df_block_splitted[not_null_counts == 4]\n",
    "len(df_length_four)"
   ]
  },
  {
   "cell_type": "code",
   "execution_count": 149,
   "metadata": {
    "scrolled": true
   },
   "outputs": [
    {
     "name": "stderr",
     "output_type": "stream",
     "text": [
      "/home/rbarman/.conda/envs/dh_segment/lib/python3.5/site-packages/ipykernel_launcher.py:1: UserWarning: This pattern has match groups. To actually get the groups, use str.extract.\n",
      "  \"\"\"Entry point for launching an IPython kernel.\n"
     ]
    }
   ],
   "source": [
    "number_filter = df_length_four[3].dropna().str.strip().str.rstrip('.').str.contains(num_regex)"
   ]
  },
  {
   "cell_type": "code",
   "execution_count": 150,
   "metadata": {},
   "outputs": [],
   "source": [
    "# A name must be at least 3 letters\n",
    "name_filter = df_length_four[0].dropna().map(lambda x: unicodedata.normalize(\"NFKD\", x)).str.strip().str.contains(name_regex)"
   ]
  },
  {
   "cell_type": "code",
   "execution_count": 151,
   "metadata": {},
   "outputs": [],
   "source": [
    "# At least 2 letter work\n",
    "work_filter = df_length_four[1].dropna().map(lambda x: unicodedata.normalize(\"NFKD\", x)).str.strip().str.contains(work_regex).fillna(False)"
   ]
  },
  {
   "cell_type": "code",
   "execution_count": 153,
   "metadata": {},
   "outputs": [
    {
     "data": {
      "text/plain": [
       "(478803, 559247, 554515)"
      ]
     },
     "execution_count": 153,
     "metadata": {},
     "output_type": "execute_result"
    }
   ],
   "source": [
    "number_filter.sum(), name_filter.sum(), work_filter.sum(), (name_filter & number_filter & work_filter).sum()"
   ]
  },
  {
   "cell_type": "code",
   "execution_count": 116,
   "metadata": {},
   "outputs": [
    {
     "data": {
      "text/plain": [
       "(478803, 477025, 521267, 365816)"
      ]
     },
     "execution_count": 116,
     "metadata": {},
     "output_type": "execute_result"
    }
   ],
   "source": [
    "number_filter.sum(), name_filter.sum(), work_filter.sum(), (name_filter & number_filter & work_filter).sum()"
   ]
  },
  {
   "cell_type": "code",
   "execution_count": 154,
   "metadata": {},
   "outputs": [],
   "source": [
    "df_clean_block = df_length_four[(name_filter & number_filter & work_filter)]\n",
    "df_clean_block.to_pickle('df_clean_block.pickle')"
   ]
  },
  {
   "cell_type": "code",
   "execution_count": 9,
   "metadata": {},
   "outputs": [],
   "source": [
    "df_clean_block = pd.read_pickle('df_clean_block.pickle')"
   ]
  },
  {
   "cell_type": "code",
   "execution_count": 226,
   "metadata": {},
   "outputs": [
    {
     "data": {
      "text/plain": [
       "(465676, 4210996)"
      ]
     },
     "execution_count": 226,
     "metadata": {},
     "output_type": "execute_result"
    }
   ],
   "source": [
    "len(df_clean_block), len(df_clean_block)+len(df_clean)"
   ]
  },
  {
   "cell_type": "markdown",
   "metadata": {},
   "source": [
    "We merge the line and block level and export it."
   ]
  },
  {
   "cell_type": "code",
   "execution_count": 156,
   "metadata": {},
   "outputs": [],
   "source": [
    "pd.concat([df_clean_block.iloc[:, 0:4].rename(columns={0: 'Nom', 1: 'Métier', 2: 'Rue', 3: 'Numéro'})\n",
    "           .reset_index(level=[1,2], drop=True),\n",
    "           df_clean.iloc[:, 0:4].rename(columns={0: 'Nom', 1: 'Métier', 2: 'Rue', 3: 'Numéro'})\n",
    "           .reset_index(level=[1,2,3,4], drop=True)]).join(df_rep[['annee']]).to_csv('strict_adressing.csv')"
   ]
  },
  {
   "cell_type": "markdown",
   "metadata": {},
   "source": [
    "## Measuring error"
   ]
  },
  {
   "cell_type": "markdown",
   "metadata": {},
   "source": [
    "### Generate excels for verificiation"
   ]
  },
  {
   "cell_type": "code",
   "execution_count": 223,
   "metadata": {},
   "outputs": [
    {
     "name": "stderr",
     "output_type": "stream",
     "text": [
      "/home/rbarman/.conda/envs/dh_segment/lib/python3.5/site-packages/ipykernel_launcher.py:13: PerformanceWarning: indexing past lexsort depth may impact performance.\n",
      "  del sys.path[0]\n"
     ]
    }
   ],
   "source": [
    "np.random.seed(99)\n",
    "for doc_id in [\n",
    " 'bpt6k9776121t',\n",
    " 'bpt6k6314752k',\n",
    " 'bpt6k6305463c',\n",
    " 'bpt6k63243601',\n",
    " 'bpt6k9764647w',\n",
    " 'bpt6k6315927h',\n",
    " 'bpt6k97774838'\n",
    "]:\n",
    "    idxs = np.random.choice(df_rows.loc[doc_id].index.get_level_values(0).values, 2)\n",
    "    for idx in idxs:\n",
    "        df_export = df_rows.loc[doc_id, idx].copy().reset_index(drop=True)\n",
    "        df_export = pd.concat([pd.DataFrame({'text' : [\"https://gallica.bnf.fr/ark:/12148/%s/f%d.image\"%(doc_id, idx), np.nan]}), df_export])\n",
    "        df_export.insert(0,'Num entity', np.nan)\n",
    "        df_export.insert(1,'Notes', np.nan)\n",
    "        df_export.insert(1,'OCR OK', np.nan)\n",
    "        writer = pd.ExcelWriter(\"to_verify/%s_%d.xlsx\"%(doc_id, idx), engine='xlsxwriter')\n",
    "        df_export.to_excel(writer, sheet_name='sheet1', index=False)  # send df to writer\n",
    "        worksheet = writer.sheets['sheet1']  # pull worksheet object\n",
    "        for idx, col in enumerate(df_export):  # loop through all columns\n",
    "            series = df_export[col]\n",
    "            max_len = max((\n",
    "                series.astype(str).map(len).max(),  # len of largest item\n",
    "                len(str(series.name))  # len of column name/header\n",
    "                )) + 1  # adding a little extra space\n",
    "            worksheet.set_column(idx, idx, max_len)  # set column width\n",
    "        writer.save()"
   ]
  },
  {
   "cell_type": "code",
   "execution_count": 238,
   "metadata": {},
   "outputs": [],
   "source": [
    "books = {\n",
    " 'bpt6k9776121t',\n",
    " 'bpt6k6314752k',\n",
    " 'bpt6k6305463c',\n",
    " 'bpt6k63243601',\n",
    " 'bpt6k9764647w',\n",
    " 'bpt6k6315927h',\n",
    " 'bpt6k97774838'\n",
    "}"
   ]
  },
  {
   "cell_type": "code",
   "execution_count": 253,
   "metadata": {},
   "outputs": [
    {
     "data": {
      "text/plain": [
       "14"
      ]
     },
     "execution_count": 253,
     "metadata": {},
     "output_type": "execute_result"
    }
   ],
   "source": [
    "new_books = {\n",
    "    'bpt6k6292987t',\n",
    " 'bpt6k62931221',\n",
    " 'bpt6k6309075f',\n",
    " 'bpt6k63197984',\n",
    " 'bpt6k6319811j',\n",
    " 'bpt6k6324389h',\n",
    " 'bpt6k6331310g',\n",
    " 'bpt6k6333170p',\n",
    " 'bpt6k9672117f',\n",
    " 'bpt6k96727875',\n",
    " 'bpt6k9677737t',\n",
    " 'bpt6k9684013b',\n",
    " 'bpt6k9684454n',\n",
    " 'bpt6k9732740w'\n",
    "}\n",
    "len(new_books)"
   ]
  },
  {
   "cell_type": "code",
   "execution_count": 251,
   "metadata": {},
   "outputs": [
    {
     "name": "stderr",
     "output_type": "stream",
     "text": [
      "/home/rbarman/.conda/envs/dh_segment/lib/python3.5/site-packages/ipykernel_launcher.py:5: PerformanceWarning: indexing past lexsort depth may impact performance.\n",
      "  \"\"\"\n"
     ]
    }
   ],
   "source": [
    "np.random.seed(99)\n",
    "for doc_id in new_books:\n",
    "    idxs = np.random.choice(df_rows.loc[doc_id].index.get_level_values(0).values, 2)\n",
    "    for idx in idxs:\n",
    "        df_export = df_rows.loc[doc_id, idx].copy().reset_index(drop=True)\n",
    "        df_export = pd.concat([pd.DataFrame({'text' : [\"https://gallica.bnf.fr/ark:/12148/%s/f%d.image\"%(doc_id, idx), np.nan]}), df_export])\n",
    "        df_export.insert(0,'Num entity', np.nan)\n",
    "        df_export.insert(1,'Notes', np.nan)\n",
    "        df_export.insert(1,'OCR OK', np.nan)\n",
    "        writer = pd.ExcelWriter(\"to_verify/%s_%d.xlsx\"%(doc_id, idx), engine='xlsxwriter')\n",
    "        df_export.to_excel(writer, sheet_name='sheet1', index=False)  # send df to writer\n",
    "        worksheet = writer.sheets['sheet1']  # pull worksheet object\n",
    "        for idx, col in enumerate(df_export):  # loop through all columns\n",
    "            series = df_export[col]\n",
    "            max_len = max((\n",
    "                series.astype(str).map(len).max(),  # len of largest item\n",
    "                len(str(series.name))  # len of column name/header\n",
    "                )) + 1  # adding a little extra space\n",
    "            worksheet.set_column(idx, idx, max_len)  # set column width\n",
    "        writer.save()"
   ]
  },
  {
   "cell_type": "markdown",
   "metadata": {},
   "source": [
    "### Error computing"
   ]
  },
  {
   "cell_type": "code",
   "execution_count": 193,
   "metadata": {
    "scrolled": true
   },
   "outputs": [],
   "source": [
    "import editdistance\n",
    "editdistance_vectorized = np.vectorize(editdistance.eval)\n",
    "def wer(r, h):\n",
    "    \"\"\"\n",
    "    Calculation of WER with Levenshtein distance.\n",
    "\n",
    "    Works only for iterables up to 254 elements (uint8).\n",
    "    O(nm) time ans space complexity.\n",
    "\n",
    "    Parameters\n",
    "    ----------\n",
    "    r : list\n",
    "    h : list\n",
    "\n",
    "    Returns\n",
    "    -------\n",
    "    int\n",
    "\n",
    "    Examples\n",
    "    --------\n",
    "    >>> wer(\"who is there\".split(), \"is there\".split())\n",
    "    1\n",
    "    >>> wer(\"who is there\".split(), \"\".split())\n",
    "    3\n",
    "    >>> wer(\"\".split(), \"who is there\".split())\n",
    "    3\n",
    "    \"\"\"\n",
    "    # initialisation\n",
    "    import numpy\n",
    "    d = numpy.zeros((len(r)+1)*(len(h)+1), dtype=numpy.uint8)\n",
    "    d = d.reshape((len(r)+1, len(h)+1))\n",
    "    for i in range(len(r)+1):\n",
    "        for j in range(len(h)+1):\n",
    "            if i == 0:\n",
    "                d[0][j] = j\n",
    "            elif j == 0:\n",
    "                d[i][0] = i\n",
    "\n",
    "    # computation\n",
    "    for i in range(1, len(r)+1):\n",
    "        for j in range(1, len(h)+1):\n",
    "            if r[i-1] == h[j-1]:\n",
    "                d[i][j] = d[i-1][j-1]\n",
    "            else:\n",
    "                substitution = d[i-1][j-1] + 1\n",
    "                insertion    = d[i][j-1] + 1\n",
    "                deletion     = d[i-1][j] + 1\n",
    "                d[i][j] = min(substitution, insertion, deletion)\n",
    "\n",
    "    return d[len(r)][len(h)]"
   ]
  },
  {
   "cell_type": "code",
   "execution_count": null,
   "metadata": {},
   "outputs": [],
   "source": [
    "df_clean = pd.read_pickle('df_clean.pickle')\n",
    "df_clean_block = pd.read_pickle('df_clean_block.pickle')\n",
    "df_clean_full = pd.concat([df_clean.reset_index(level=[2,3,4], drop=True),\n",
    "          df_clean_block.reset_index(level=[2], drop=True)]).iloc[:, :4]"
   ]
  },
  {
   "cell_type": "code",
   "execution_count": 269,
   "metadata": {},
   "outputs": [],
   "source": [
    "verified = glob('verified/fait*.xlsx')\n",
    "dfs = []\n",
    "for v in verified:\n",
    "    splits = v.split('_')\n",
    "    doc_id = splits[-2]\n",
    "    page = int(splits[-1].split('.')[0])\n",
    "    df_stat = pd.read_excel(v).iloc[2:, [0,3]]\n",
    "    df_stat['document'] = doc_id\n",
    "    df_stat['page'] = page\n",
    "    dfs.append(df_stat)"
   ]
  },
  {
   "cell_type": "code",
   "execution_count": 270,
   "metadata": {},
   "outputs": [],
   "source": [
    "df_verified = pd.concat(dfs).set_index(['document', 'page'])\n",
    "df_verified['line'] = df_verified.groupby(['document', 'page']).cumcount()\n",
    "df_verified = df_verified.reset_index().set_index(['document', 'page', 'line'])"
   ]
  },
  {
   "cell_type": "code",
   "execution_count": 75,
   "metadata": {},
   "outputs": [],
   "source": [
    "df_rows = pd.read_pickle('df_rows.pickle')\n",
    "df_rows['line'] = df_rows.groupby(['document', 'page']).cumcount()\n",
    "df_rows = df_rows.reset_index().set_index(['document', 'page', 'line'])"
   ]
  },
  {
   "cell_type": "code",
   "execution_count": 271,
   "metadata": {},
   "outputs": [],
   "source": [
    "df_errors = df_verified.join(df_rows, rsuffix='_raw')\n",
    "df_errors['words'] = df_errors['text'].str.split()\n",
    "df_errors['words_raw'] = df_errors['text_raw'].str.split()\n",
    "df_errors['num_words'] = df_errors['words'].apply(len)\n",
    "df_errors['num_words_raw'] = df_errors['words_raw'].apply(len)"
   ]
  },
  {
   "cell_type": "code",
   "execution_count": 263,
   "metadata": {},
   "outputs": [],
   "source": [
    "def editdistance_per_word(words1, words2):\n",
    "    return np.array([editdistance.eval(word1, word2) for word1, word2 in zip(words1, words2)])"
   ]
  },
  {
   "cell_type": "code",
   "execution_count": 272,
   "metadata": {},
   "outputs": [],
   "source": [
    "df_errors['character_errors'] = editdistance_vectorized(df_errors['text'], df_errors['text_raw'])\n",
    "df_errors['character_error_rate'] = df_errors['character_errors']/df_errors['text'].apply(len)"
   ]
  },
  {
   "cell_type": "code",
   "execution_count": 273,
   "metadata": {},
   "outputs": [],
   "source": [
    "df_errors['word_errors'] = df_errors.apply(lambda row: wer(row['words'], row['words_raw']), axis=1)\n",
    "df_errors['word_error_rate'] = df_errors['word_errors']/df_errors['num_words']"
   ]
  },
  {
   "cell_type": "code",
   "execution_count": 299,
   "metadata": {},
   "outputs": [
    {
     "name": "stdout",
     "output_type": "stream",
     "text": [
      "The rate of line without error is of 53.466\n"
     ]
    }
   ],
   "source": [
    "print('The rate of line without error is of %.3f%%'%((df_errors['character_errors'] == 0).sum()/len(df_errors) * 100))"
   ]
  },
  {
   "cell_type": "code",
   "execution_count": 302,
   "metadata": {
    "scrolled": false
   },
   "outputs": [
    {
     "data": {
      "text/html": [
       "<div>\n",
       "<style scoped>\n",
       "    .dataframe tbody tr th:only-of-type {\n",
       "        vertical-align: middle;\n",
       "    }\n",
       "\n",
       "    .dataframe tbody tr th {\n",
       "        vertical-align: top;\n",
       "    }\n",
       "\n",
       "    .dataframe thead th {\n",
       "        text-align: right;\n",
       "    }\n",
       "</style>\n",
       "<table border=\"1\" class=\"dataframe\">\n",
       "  <thead>\n",
       "    <tr style=\"text-align: right;\">\n",
       "      <th></th>\n",
       "      <th>character_error_rate</th>\n",
       "    </tr>\n",
       "  </thead>\n",
       "  <tbody>\n",
       "    <tr>\n",
       "      <th>count</th>\n",
       "      <td>2308.000000</td>\n",
       "    </tr>\n",
       "    <tr>\n",
       "      <th>mean</th>\n",
       "      <td>0.051929</td>\n",
       "    </tr>\n",
       "    <tr>\n",
       "      <th>std</th>\n",
       "      <td>0.117847</td>\n",
       "    </tr>\n",
       "    <tr>\n",
       "      <th>min</th>\n",
       "      <td>0.000000</td>\n",
       "    </tr>\n",
       "    <tr>\n",
       "      <th>25%</th>\n",
       "      <td>0.000000</td>\n",
       "    </tr>\n",
       "    <tr>\n",
       "      <th>50%</th>\n",
       "      <td>0.000000</td>\n",
       "    </tr>\n",
       "    <tr>\n",
       "      <th>75%</th>\n",
       "      <td>0.054054</td>\n",
       "    </tr>\n",
       "    <tr>\n",
       "      <th>max</th>\n",
       "      <td>2.285714</td>\n",
       "    </tr>\n",
       "  </tbody>\n",
       "</table>\n",
       "</div>"
      ],
      "text/plain": [
       "       character_error_rate\n",
       "count           2308.000000\n",
       "mean               0.051929\n",
       "std                0.117847\n",
       "min                0.000000\n",
       "25%                0.000000\n",
       "50%                0.000000\n",
       "75%                0.054054\n",
       "max                2.285714"
      ]
     },
     "metadata": {},
     "output_type": "display_data"
    },
    {
     "name": "stdout",
     "output_type": "stream",
     "text": [
      "There is 1 line with an character_error_rate bigger than one\n"
     ]
    },
    {
     "data": {
      "image/png": "[encoded data removed]",
      "text/plain": [
       "<Figure size 432x288 with 1 Axes>"
      ]
     },
     "metadata": {
      "needs_background": "light"
     },
     "output_type": "display_data"
    }
   ],
   "source": [
    "display(df_errors['character_error_rate'].describe().to_frame())\n",
    "print(\"There is %d line with an character_error_rate bigger than one\"%(df_errors['character_error_rate']>1).sum())\n",
    "sns.distplot(df_errors['character_error_rate'][df_errors['character_error_rate'] <= 1.0]);"
   ]
  },
  {
   "cell_type": "code",
   "execution_count": 303,
   "metadata": {},
   "outputs": [
    {
     "data": {
      "text/html": [
       "<div>\n",
       "<style scoped>\n",
       "    .dataframe tbody tr th:only-of-type {\n",
       "        vertical-align: middle;\n",
       "    }\n",
       "\n",
       "    .dataframe tbody tr th {\n",
       "        vertical-align: top;\n",
       "    }\n",
       "\n",
       "    .dataframe thead th {\n",
       "        text-align: right;\n",
       "    }\n",
       "</style>\n",
       "<table border=\"1\" class=\"dataframe\">\n",
       "  <thead>\n",
       "    <tr style=\"text-align: right;\">\n",
       "      <th></th>\n",
       "      <th>word_error_rate</th>\n",
       "    </tr>\n",
       "  </thead>\n",
       "  <tbody>\n",
       "    <tr>\n",
       "      <th>count</th>\n",
       "      <td>2308.000000</td>\n",
       "    </tr>\n",
       "    <tr>\n",
       "      <th>mean</th>\n",
       "      <td>0.168921</td>\n",
       "    </tr>\n",
       "    <tr>\n",
       "      <th>std</th>\n",
       "      <td>0.262574</td>\n",
       "    </tr>\n",
       "    <tr>\n",
       "      <th>min</th>\n",
       "      <td>0.000000</td>\n",
       "    </tr>\n",
       "    <tr>\n",
       "      <th>25%</th>\n",
       "      <td>0.000000</td>\n",
       "    </tr>\n",
       "    <tr>\n",
       "      <th>50%</th>\n",
       "      <td>0.000000</td>\n",
       "    </tr>\n",
       "    <tr>\n",
       "      <th>75%</th>\n",
       "      <td>0.250000</td>\n",
       "    </tr>\n",
       "    <tr>\n",
       "      <th>max</th>\n",
       "      <td>3.000000</td>\n",
       "    </tr>\n",
       "  </tbody>\n",
       "</table>\n",
       "</div>"
      ],
      "text/plain": [
       "       word_error_rate\n",
       "count      2308.000000\n",
       "mean          0.168921\n",
       "std           0.262574\n",
       "min           0.000000\n",
       "25%           0.000000\n",
       "50%           0.000000\n",
       "75%           0.250000\n",
       "max           3.000000"
      ]
     },
     "metadata": {},
     "output_type": "display_data"
    },
    {
     "name": "stdout",
     "output_type": "stream",
     "text": [
      "There is 11 line with an word_error_rate bigger than one\n"
     ]
    },
    {
     "data": {
      "image/png": "[encoded data removed]",
      "text/plain": [
       "<Figure size 432x288 with 1 Axes>"
      ]
     },
     "metadata": {
      "needs_background": "light"
     },
     "output_type": "display_data"
    }
   ],
   "source": [
    "display(df_errors['word_error_rate'].describe().to_frame())\n",
    "print(\"There is %d line with an word_error_rate bigger than one\"%(df_errors['word_error_rate']>1).sum())\n",
    "sns.distplot(df_errors['word_error_rate'][df_errors['word_error_rate'] <= 1.0]);"
   ]
  },
  {
   "cell_type": "code",
   "execution_count": 309,
   "metadata": {
    "scrolled": false
   },
   "outputs": [
    {
     "data": {
      "text/plain": [
       "document       page\n",
       "bpt6k6305463c  318      117\n",
       "               472      368\n",
       "bpt6k6314752k  319      105\n",
       "               356      111\n",
       "bpt6k6315927h  393      307\n",
       "               408      361\n",
       "bpt6k97774838  566     1542\n",
       "               691      648\n",
       "Name: character_errors, dtype: int64"
      ]
     },
     "execution_count": 309,
     "metadata": {},
     "output_type": "execute_result"
    }
   ],
   "source": [
    "df_errors.groupby(['document', 'page'])['character_errors'].sum()"
   ]
  },
  {
   "cell_type": "code",
   "execution_count": 311,
   "metadata": {},
   "outputs": [
    {
     "data": {
      "text/plain": [
       "document       page\n",
       "bpt6k6305463c  318      94\n",
       "               472     254\n",
       "bpt6k6314752k  319      81\n",
       "               356      65\n",
       "bpt6k6315927h  393     168\n",
       "               408     200\n",
       "bpt6k97774838  566     525\n",
       "               691     356\n",
       "Name: word_errors, dtype: int64"
      ]
     },
     "execution_count": 311,
     "metadata": {},
     "output_type": "execute_result"
    }
   ],
   "source": [
    "df_errors.groupby(['document', 'page'])['word_errors'].sum()"
   ]
  },
  {
   "cell_type": "code",
   "execution_count": 315,
   "metadata": {},
   "outputs": [
    {
     "data": {
      "text/plain": [
       "document       page\n",
       "bpt6k6305463c  318     0.251799\n",
       "               472     0.561151\n",
       "bpt6k6314752k  319     0.231047\n",
       "               356     0.189964\n",
       "bpt6k6315927h  393     0.369176\n",
       "               408     0.512545\n",
       "bpt6k97774838  566     0.784810\n",
       "               691     0.736025\n",
       "Name: character_errors, dtype: float64"
      ]
     },
     "execution_count": 315,
     "metadata": {},
     "output_type": "execute_result"
    }
   ],
   "source": [
    "(df_errors['character_errors'] != 0).groupby(['document', 'page']).sum()/df_errors['character_errors'].groupby(['document', 'page']).count()"
   ]
  },
  {
   "cell_type": "code",
   "execution_count": 320,
   "metadata": {},
   "outputs": [
    {
     "data": {
      "text/plain": [
       "nom_court                    Annuaire du commerce Didot-Bottin\n",
       "annee                                                     1921\n",
       "remarques                                               Tome 1\n",
       "lien_source    https://gallica.bnf.fr/ark:/12148/bpt6k97774838\n",
       "source_ID                                       FRBNF32697422 \n",
       "vue_debut                                                  327\n",
       "page_debut                                                 289\n",
       "vue_fin                                                   1214\n",
       "page_fin                                      1152quaterdecies\n",
       "page_total                                                1484\n",
       "pages                                                      888\n",
       "nom_fichier                            bpt6k97774838.Alto.html\n",
       "Name: bpt6k97774838, dtype: object"
      ]
     },
     "execution_count": 320,
     "metadata": {},
     "output_type": "execute_result"
    }
   ],
   "source": [
    "df_rep.loc['bpt6k97774838']"
   ]
  },
  {
   "cell_type": "code",
   "execution_count": 321,
   "metadata": {
    "scrolled": false
   },
   "outputs": [
    {
     "data": {
      "text/html": [
       "<div>\n",
       "<style scoped>\n",
       "    .dataframe tbody tr th:only-of-type {\n",
       "        vertical-align: middle;\n",
       "    }\n",
       "\n",
       "    .dataframe tbody tr th {\n",
       "        vertical-align: top;\n",
       "    }\n",
       "\n",
       "    .dataframe thead th {\n",
       "        text-align: right;\n",
       "    }\n",
       "</style>\n",
       "<table border=\"1\" class=\"dataframe\">\n",
       "  <thead>\n",
       "    <tr style=\"text-align: right;\">\n",
       "      <th></th>\n",
       "      <th>nom_court</th>\n",
       "      <th>annee</th>\n",
       "      <th>remarques</th>\n",
       "      <th>lien_source</th>\n",
       "      <th>source_ID</th>\n",
       "      <th>vue_debut</th>\n",
       "      <th>page_debut</th>\n",
       "      <th>vue_fin</th>\n",
       "      <th>page_fin</th>\n",
       "      <th>page_total</th>\n",
       "      <th>pages</th>\n",
       "      <th>nom_fichier</th>\n",
       "    </tr>\n",
       "    <tr>\n",
       "      <th>ids</th>\n",
       "      <th></th>\n",
       "      <th></th>\n",
       "      <th></th>\n",
       "      <th></th>\n",
       "      <th></th>\n",
       "      <th></th>\n",
       "      <th></th>\n",
       "      <th></th>\n",
       "      <th></th>\n",
       "      <th></th>\n",
       "      <th></th>\n",
       "      <th></th>\n",
       "    </tr>\n",
       "  </thead>\n",
       "  <tbody>\n",
       "    <tr>\n",
       "      <th>bpt6k63243601</th>\n",
       "      <td>Annuaire-general-du-commerce</td>\n",
       "      <td>1839</td>\n",
       "      <td>NaN</td>\n",
       "      <td>https://gallica.bnf.fr/ark:/12148/bpt6k63243601</td>\n",
       "      <td>FRBNF32698036</td>\n",
       "      <td>123</td>\n",
       "      <td>103.0</td>\n",
       "      <td>399.0</td>\n",
       "      <td>379</td>\n",
       "      <td>1457</td>\n",
       "      <td>277.0</td>\n",
       "      <td>bpt6k63243601.Alto.html</td>\n",
       "    </tr>\n",
       "    <tr>\n",
       "      <th>bpt6k62931221</th>\n",
       "      <td>Annuaire-general-du-commerce</td>\n",
       "      <td>1841</td>\n",
       "      <td>document en 2 parties sur Gallica, seule la pr...</td>\n",
       "      <td>https://gallica.bnf.fr/ark:/12148/bpt6k62931221</td>\n",
       "      <td>FRBNF32698036</td>\n",
       "      <td>151</td>\n",
       "      <td>72.0</td>\n",
       "      <td>423.0</td>\n",
       "      <td>344</td>\n",
       "      <td>938</td>\n",
       "      <td>273.0</td>\n",
       "      <td>bpt6k62931221.Alto.html</td>\n",
       "    </tr>\n",
       "    <tr>\n",
       "      <th>bpt6k6286466w</th>\n",
       "      <td>Annuaire-general-du-commerce</td>\n",
       "      <td>1842</td>\n",
       "      <td>document en 2 parties sur Gallica, seule la pr...</td>\n",
       "      <td>https://gallica.bnf.fr/ark:/12148/bpt6k6286466w</td>\n",
       "      <td>FRBNF32698036</td>\n",
       "      <td>189</td>\n",
       "      <td>91.0</td>\n",
       "      <td>489.0</td>\n",
       "      <td>391</td>\n",
       "      <td>939</td>\n",
       "      <td>301.0</td>\n",
       "      <td>bpt6k6286466w.Alto.html</td>\n",
       "    </tr>\n",
       "    <tr>\n",
       "      <th>bpt6k6393838j</th>\n",
       "      <td>Annuaire-general-du-commerce</td>\n",
       "      <td>1843</td>\n",
       "      <td>document en 2 parties sur Gallica, seule la pr...</td>\n",
       "      <td>https://gallica.bnf.fr/ark:/12148/bpt6k6393838j</td>\n",
       "      <td>FRBNF32698036</td>\n",
       "      <td>219</td>\n",
       "      <td>107.0</td>\n",
       "      <td>482.0</td>\n",
       "      <td>378</td>\n",
       "      <td>969</td>\n",
       "      <td>264.0</td>\n",
       "      <td>bpt6k6393838j.Alto.html</td>\n",
       "    </tr>\n",
       "    <tr>\n",
       "      <th>bpt6k6331310g</th>\n",
       "      <td>Annuaire-general-du-commerce</td>\n",
       "      <td>1844</td>\n",
       "      <td>La dernière page comprend le début d'une autre...</td>\n",
       "      <td>https://gallica.bnf.fr/ark:/12148/bpt6k6331310g</td>\n",
       "      <td>FRBNF32698036</td>\n",
       "      <td>216</td>\n",
       "      <td>103.0</td>\n",
       "      <td>483.0</td>\n",
       "      <td>372</td>\n",
       "      <td>977</td>\n",
       "      <td>268.0</td>\n",
       "      <td>bpt6k6331310g.Alto.html</td>\n",
       "    </tr>\n",
       "    <tr>\n",
       "      <th>bpt6k6292987t</th>\n",
       "      <td>Annuaire-general-du-commerce</td>\n",
       "      <td>1845</td>\n",
       "      <td>La dernière page comprend le début d'une autre...</td>\n",
       "      <td>https://gallica.bnf.fr/ark:/12148/bpt6k6292987t</td>\n",
       "      <td>FRBNF32698036</td>\n",
       "      <td>353</td>\n",
       "      <td>101.0</td>\n",
       "      <td>629.0</td>\n",
       "      <td>391</td>\n",
       "      <td>929</td>\n",
       "      <td>277.0</td>\n",
       "      <td>bpt6k6292987t.Alto.html</td>\n",
       "    </tr>\n",
       "    <tr>\n",
       "      <th>bpt6k62906378</th>\n",
       "      <td>Annuaire-general-du-commerce</td>\n",
       "      <td>1846</td>\n",
       "      <td>La dernière page comprend le début d'une autre...</td>\n",
       "      <td>https://gallica.bnf.fr/ark:/12148/bpt6k62906378</td>\n",
       "      <td>FRBNF32698036</td>\n",
       "      <td>288</td>\n",
       "      <td>113.0</td>\n",
       "      <td>568.0</td>\n",
       "      <td>393</td>\n",
       "      <td>1904</td>\n",
       "      <td>281.0</td>\n",
       "      <td>bpt6k62906378.Alto.html</td>\n",
       "    </tr>\n",
       "    <tr>\n",
       "      <th>bpt6k6391515w</th>\n",
       "      <td>Annuaire-general-du-commerce</td>\n",
       "      <td>1847</td>\n",
       "      <td>La dernière page comprend le début d'une autre...</td>\n",
       "      <td>https://gallica.bnf.fr/ark:/12148/bpt6k6391515w</td>\n",
       "      <td>FRBNF32698036</td>\n",
       "      <td>319</td>\n",
       "      <td>1.0</td>\n",
       "      <td>616.0</td>\n",
       "      <td>298</td>\n",
       "      <td>1924</td>\n",
       "      <td>298.0</td>\n",
       "      <td>bpt6k6391515w.Alto.html</td>\n",
       "    </tr>\n",
       "    <tr>\n",
       "      <th>bpt6k6315927h</th>\n",
       "      <td>Annuaire-general-du-commerce</td>\n",
       "      <td>1848</td>\n",
       "      <td>La dernière page comprend le début d'une autre...</td>\n",
       "      <td>https://gallica.bnf.fr/ark:/12148/bpt6k6315927h</td>\n",
       "      <td>FRBNF32698036</td>\n",
       "      <td>349</td>\n",
       "      <td>1.0</td>\n",
       "      <td>674.0</td>\n",
       "      <td>326</td>\n",
       "      <td>1049</td>\n",
       "      <td>326.0</td>\n",
       "      <td>bpt6k6315927h.Alto.html</td>\n",
       "    </tr>\n",
       "    <tr>\n",
       "      <th>bpt6k6319106t</th>\n",
       "      <td>Annuaire-general-du-commerce</td>\n",
       "      <td>1849</td>\n",
       "      <td>La dernière page comprend le début d'une autre...</td>\n",
       "      <td>https://gallica.bnf.fr/ark:/12148/bpt6k6319106t</td>\n",
       "      <td>FRBNF32698036</td>\n",
       "      <td>324</td>\n",
       "      <td>1.0</td>\n",
       "      <td>640.0</td>\n",
       "      <td>317</td>\n",
       "      <td>944</td>\n",
       "      <td>317.0</td>\n",
       "      <td>bpt6k6319106t.Alto.html</td>\n",
       "    </tr>\n",
       "    <tr>\n",
       "      <th>bpt6k6315985z</th>\n",
       "      <td>Annuaire-general-du-commerce</td>\n",
       "      <td>1850</td>\n",
       "      <td>document en 2 parties sur Gallica, seule la pr...</td>\n",
       "      <td>https://gallica.bnf.fr/ark:/12148/bpt6k6315985z</td>\n",
       "      <td>FRBNF32698036</td>\n",
       "      <td>82</td>\n",
       "      <td>81.0</td>\n",
       "      <td>404.0</td>\n",
       "      <td>403</td>\n",
       "      <td>1010</td>\n",
       "      <td>323.0</td>\n",
       "      <td>bpt6k6315985z.Alto.html</td>\n",
       "    </tr>\n",
       "    <tr>\n",
       "      <th>bpt6k63959929</th>\n",
       "      <td>Annuaire-general-du-commerce</td>\n",
       "      <td>1851</td>\n",
       "      <td>document en 2 parties sur Gallica, seule la pr...</td>\n",
       "      <td>https://gallica.bnf.fr/ark:/12148/bpt6k63959929</td>\n",
       "      <td>FRBNF32698036</td>\n",
       "      <td>82</td>\n",
       "      <td>81.0</td>\n",
       "      <td>424.0</td>\n",
       "      <td>423</td>\n",
       "      <td>1100</td>\n",
       "      <td>343.0</td>\n",
       "      <td>bpt6k63959929.Alto.html</td>\n",
       "    </tr>\n",
       "    <tr>\n",
       "      <th>bpt6k63197984</th>\n",
       "      <td>Annuaire-general-du-commerce</td>\n",
       "      <td>1852</td>\n",
       "      <td>La dernière page comprend le début d'une autre...</td>\n",
       "      <td>https://gallica.bnf.fr/ark:/12148/bpt6k63197984</td>\n",
       "      <td>FRBNF32698036</td>\n",
       "      <td>56</td>\n",
       "      <td>57.0</td>\n",
       "      <td>417.0</td>\n",
       "      <td>400-18</td>\n",
       "      <td>1116</td>\n",
       "      <td>362.0</td>\n",
       "      <td>bpt6k63197984.Alto.html</td>\n",
       "    </tr>\n",
       "    <tr>\n",
       "      <th>bpt6k6389871r</th>\n",
       "      <td>Annuaire-general-du-commerce</td>\n",
       "      <td>1853</td>\n",
       "      <td>document en 2 parties sur Gallica, seule la pr...</td>\n",
       "      <td>https://gallica.bnf.fr/ark:/12148/bpt6k6389871r</td>\n",
       "      <td>FRBNF32698036</td>\n",
       "      <td>77</td>\n",
       "      <td>81.0</td>\n",
       "      <td>454.0</td>\n",
       "      <td>458</td>\n",
       "      <td>1170</td>\n",
       "      <td>378.0</td>\n",
       "      <td>bpt6k6389871r.Alto.html</td>\n",
       "    </tr>\n",
       "    <tr>\n",
       "      <th>bpt6k6319811j</th>\n",
       "      <td>Annuaire-general-du-commerce</td>\n",
       "      <td>1854</td>\n",
       "      <td>document en 2 parties sur Gallica, seule la pr...</td>\n",
       "      <td>https://gallica.bnf.fr/ark:/12148/bpt6k6319811j</td>\n",
       "      <td>FRBNF32698036</td>\n",
       "      <td>79</td>\n",
       "      <td>81.0</td>\n",
       "      <td>473.0</td>\n",
       "      <td>475</td>\n",
       "      <td>1223</td>\n",
       "      <td>395.0</td>\n",
       "      <td>bpt6k6319811j.Alto.html</td>\n",
       "    </tr>\n",
       "    <tr>\n",
       "      <th>bpt6k6282019m</th>\n",
       "      <td>Annuaire-general-du-commerce</td>\n",
       "      <td>1855</td>\n",
       "      <td>document en 2 parties sur Gallica, seule la pr...</td>\n",
       "      <td>https://gallica.bnf.fr/ark:/12148/bpt6k6282019m</td>\n",
       "      <td>FRBNF32698036</td>\n",
       "      <td>72</td>\n",
       "      <td>81.0</td>\n",
       "      <td>433.0</td>\n",
       "      <td>442</td>\n",
       "      <td>1138</td>\n",
       "      <td>362.0</td>\n",
       "      <td>bpt6k6282019m.Alto.html</td>\n",
       "    </tr>\n",
       "    <tr>\n",
       "      <th>bpt6k6314752k</th>\n",
       "      <td>Annuaire-general-du-commerce</td>\n",
       "      <td>1856</td>\n",
       "      <td>document en 2 parties sur Gallica, seule la pr...</td>\n",
       "      <td>https://gallica.bnf.fr/ark:/12148/bpt6k6314752k</td>\n",
       "      <td>FRBNF32698036</td>\n",
       "      <td>190</td>\n",
       "      <td>81.0</td>\n",
       "      <td>548.0</td>\n",
       "      <td>439</td>\n",
       "      <td>1182</td>\n",
       "      <td>359.0</td>\n",
       "      <td>bpt6k6314752k.Alto.html</td>\n",
       "    </tr>\n",
       "    <tr>\n",
       "      <th>bpt6k6305463c</th>\n",
       "      <td>Annuaire-Didot-Bottin</td>\n",
       "      <td>1857</td>\n",
       "      <td>document en 2 parties sur Gallica, seule la pr...</td>\n",
       "      <td>https://gallica.bnf.fr/ark:/12148/bpt6k6305463c</td>\n",
       "      <td>FRBNF32695639</td>\n",
       "      <td>113</td>\n",
       "      <td>65.0</td>\n",
       "      <td>492.0</td>\n",
       "      <td>444-448</td>\n",
       "      <td>1187</td>\n",
       "      <td>380.0</td>\n",
       "      <td>bpt6k6305463c.Alto.html</td>\n",
       "    </tr>\n",
       "    <tr>\n",
       "      <th>bpt6k6318531z</th>\n",
       "      <td>Annuaire-Didot-Bottin</td>\n",
       "      <td>1858</td>\n",
       "      <td>document en 2 parties sur Gallica, seule la pr...</td>\n",
       "      <td>https://gallica.bnf.fr/ark:/12148/bpt6k6318531z</td>\n",
       "      <td>FRBNF32695639</td>\n",
       "      <td>108</td>\n",
       "      <td>65.0</td>\n",
       "      <td>495.0</td>\n",
       "      <td>448</td>\n",
       "      <td>1218</td>\n",
       "      <td>388.0</td>\n",
       "      <td>bpt6k6318531z.Alto.html</td>\n",
       "    </tr>\n",
       "    <tr>\n",
       "      <th>bpt6k6324389h</th>\n",
       "      <td>Annuaire-Didot-Bottin</td>\n",
       "      <td>1859</td>\n",
       "      <td>document en 2 parties sur Gallica, seule la pr...</td>\n",
       "      <td>https://gallica.bnf.fr/ark:/12148/bpt6k6324389h</td>\n",
       "      <td>FRBNF32695639</td>\n",
       "      <td>72</td>\n",
       "      <td>81.0</td>\n",
       "      <td>471.0</td>\n",
       "      <td>464</td>\n",
       "      <td>1272</td>\n",
       "      <td>400.0</td>\n",
       "      <td>bpt6k6324389h.Alto.html</td>\n",
       "    </tr>\n",
       "    <tr>\n",
       "      <th>bpt6k63243920</th>\n",
       "      <td>Annuaire-Didot-Bottin</td>\n",
       "      <td>1860</td>\n",
       "      <td>document en 2 parties sur Gallica, seule la pr...</td>\n",
       "      <td>https://gallica.bnf.fr/ark:/12148/bpt6k63243920</td>\n",
       "      <td>FRBNF32695639</td>\n",
       "      <td>80</td>\n",
       "      <td>81.0</td>\n",
       "      <td>520.0</td>\n",
       "      <td>521</td>\n",
       "      <td>1306</td>\n",
       "      <td>441.0</td>\n",
       "      <td>bpt6k63243920.Alto.html</td>\n",
       "    </tr>\n",
       "    <tr>\n",
       "      <th>bpt6k6309075f</th>\n",
       "      <td>Annuaire-Didot-Bottin</td>\n",
       "      <td>1861</td>\n",
       "      <td>document en 2 parties sur Gallica, seule la pr...</td>\n",
       "      <td>https://gallica.bnf.fr/ark:/12148/bpt6k6309075f</td>\n",
       "      <td>FRBNF32695639</td>\n",
       "      <td>96</td>\n",
       "      <td>89.0</td>\n",
       "      <td>545.0</td>\n",
       "      <td>538</td>\n",
       "      <td>1352</td>\n",
       "      <td>450.0</td>\n",
       "      <td>bpt6k6309075f.Alto.html</td>\n",
       "    </tr>\n",
       "    <tr>\n",
       "      <th>bpt6k6333200c</th>\n",
       "      <td>Annuaire-Didot-Bottin</td>\n",
       "      <td>1862</td>\n",
       "      <td>document en 2 parties sur Gallica, seule la pr...</td>\n",
       "      <td>https://gallica.bnf.fr/ark:/12148/bpt6k6333200c</td>\n",
       "      <td>FRBNF32695639</td>\n",
       "      <td>132</td>\n",
       "      <td>89.0</td>\n",
       "      <td>593.0</td>\n",
       "      <td>550</td>\n",
       "      <td>1496</td>\n",
       "      <td>462.0</td>\n",
       "      <td>bpt6k6333200c.Alto.html</td>\n",
       "    </tr>\n",
       "    <tr>\n",
       "      <th>bpt6k63243905</th>\n",
       "      <td>Annuaire-Didot-Bottin</td>\n",
       "      <td>1863</td>\n",
       "      <td>document en 2 parties sur Gallica, seule la pr...</td>\n",
       "      <td>https://gallica.bnf.fr/ark:/12148/bpt6k63243905</td>\n",
       "      <td>FRBNF32695639</td>\n",
       "      <td>134</td>\n",
       "      <td>93.0</td>\n",
       "      <td>605.0</td>\n",
       "      <td>564-592</td>\n",
       "      <td>1495</td>\n",
       "      <td>472.0</td>\n",
       "      <td>bpt6k63243905.Alto.html</td>\n",
       "    </tr>\n",
       "    <tr>\n",
       "      <th>bpt6k6333170p</th>\n",
       "      <td>Annuaire-Didot-Bottin</td>\n",
       "      <td>1864</td>\n",
       "      <td>document en 2 parties sur Gallica, seule la pr...</td>\n",
       "      <td>https://gallica.bnf.fr/ark:/12148/bpt6k6333170p</td>\n",
       "      <td>FRBNF32695639</td>\n",
       "      <td>137</td>\n",
       "      <td>93.0</td>\n",
       "      <td>616.0</td>\n",
       "      <td>572-592</td>\n",
       "      <td>1540</td>\n",
       "      <td>480.0</td>\n",
       "      <td>bpt6k6333170p.Alto.html</td>\n",
       "    </tr>\n",
       "    <tr>\n",
       "      <th>bpt6k96727875</th>\n",
       "      <td>Annuaire-Didot-Bottin</td>\n",
       "      <td>1870</td>\n",
       "      <td>ATTENTION super mauvaise qualité du document! ...</td>\n",
       "      <td>https://gallica.bnf.fr/ark:/12148/bpt6k96727875</td>\n",
       "      <td>FRBNF32695639</td>\n",
       "      <td>135</td>\n",
       "      <td>97.0</td>\n",
       "      <td>625.0</td>\n",
       "      <td>587</td>\n",
       "      <td>942</td>\n",
       "      <td>491.0</td>\n",
       "      <td>bpt6k96727875.Alto.html</td>\n",
       "    </tr>\n",
       "    <tr>\n",
       "      <th>bpt6k9764746t</th>\n",
       "      <td>Annuaire-Didot-Bottin</td>\n",
       "      <td>1871</td>\n",
       "      <td>NaN</td>\n",
       "      <td>https://gallica.bnf.fr/ark:/12148/bpt6k9764746t</td>\n",
       "      <td>FRBNF32695639</td>\n",
       "      <td>99</td>\n",
       "      <td>97.0</td>\n",
       "      <td>562.0</td>\n",
       "      <td>560 à 641</td>\n",
       "      <td>1910</td>\n",
       "      <td>464.0</td>\n",
       "      <td>bpt6k9764746t.Alto.html</td>\n",
       "    </tr>\n",
       "    <tr>\n",
       "      <th>bpt6k97645375</th>\n",
       "      <td>Annuaire-Didot-Bottin</td>\n",
       "      <td>1873</td>\n",
       "      <td>NaN</td>\n",
       "      <td>https://gallica.bnf.fr/ark:/12148/bpt6k97645375</td>\n",
       "      <td>FRBNF32695639</td>\n",
       "      <td>123</td>\n",
       "      <td>97.0</td>\n",
       "      <td>593.0</td>\n",
       "      <td>567-640</td>\n",
       "      <td>1956</td>\n",
       "      <td>471.0</td>\n",
       "      <td>bpt6k97645375.Alto.html</td>\n",
       "    </tr>\n",
       "    <tr>\n",
       "      <th>bpt6k9672117f</th>\n",
       "      <td>Annuaire-Didot-Bottin</td>\n",
       "      <td>1874</td>\n",
       "      <td>NaN</td>\n",
       "      <td>https://gallica.bnf.fr/ark:/12148/bpt6k9672117f</td>\n",
       "      <td>FRBNF32695639</td>\n",
       "      <td>125</td>\n",
       "      <td>97.0</td>\n",
       "      <td>608.0</td>\n",
       "      <td>580</td>\n",
       "      <td>970</td>\n",
       "      <td>484.0</td>\n",
       "      <td>bpt6k9672117f.Alto.html</td>\n",
       "    </tr>\n",
       "    <tr>\n",
       "      <th>bpt6k9763554c</th>\n",
       "      <td>Annuaire-Didot-Bottin</td>\n",
       "      <td>1875</td>\n",
       "      <td>NaN</td>\n",
       "      <td>https://gallica.bnf.fr/ark:/12148/bpt6k9763554c</td>\n",
       "      <td>FRBNF32695639</td>\n",
       "      <td>123</td>\n",
       "      <td>97.0</td>\n",
       "      <td>615.0</td>\n",
       "      <td>589</td>\n",
       "      <td>2115</td>\n",
       "      <td>493.0</td>\n",
       "      <td>bpt6k9763554c.Alto.html</td>\n",
       "    </tr>\n",
       "    <tr>\n",
       "      <th>bpt6k9763553z</th>\n",
       "      <td>Annuaire-Didot-Bottin</td>\n",
       "      <td>1876</td>\n",
       "      <td>NaN</td>\n",
       "      <td>https://gallica.bnf.fr/ark:/12148/bpt6k9763553z</td>\n",
       "      <td>FRBNF32695639</td>\n",
       "      <td>105</td>\n",
       "      <td>99.0</td>\n",
       "      <td>601.0</td>\n",
       "      <td>595</td>\n",
       "      <td>2198</td>\n",
       "      <td>497.0</td>\n",
       "      <td>bpt6k9763553z.Alto.html</td>\n",
       "    </tr>\n",
       "    <tr>\n",
       "      <th>bpt6k9677392n</th>\n",
       "      <td>Annuaire-Didot-Bottin</td>\n",
       "      <td>1877</td>\n",
       "      <td>NaN</td>\n",
       "      <td>https://gallica.bnf.fr/ark:/12148/bpt6k9677392n</td>\n",
       "      <td>FRBNF32695639</td>\n",
       "      <td>110</td>\n",
       "      <td>103.0</td>\n",
       "      <td>621.0</td>\n",
       "      <td>614</td>\n",
       "      <td>2068</td>\n",
       "      <td>512.0</td>\n",
       "      <td>bpt6k9677392n.Alto.html</td>\n",
       "    </tr>\n",
       "    <tr>\n",
       "      <th>bpt6k9692809v</th>\n",
       "      <td>Annuaire-Didot-Bottin</td>\n",
       "      <td>1878</td>\n",
       "      <td>NaN</td>\n",
       "      <td>https://gallica.bnf.fr/ark:/12148/bpt6k9692809v</td>\n",
       "      <td>FRBNF32695639</td>\n",
       "      <td>113</td>\n",
       "      <td>101.0</td>\n",
       "      <td>628.0</td>\n",
       "      <td>630</td>\n",
       "      <td>2076</td>\n",
       "      <td>516.0</td>\n",
       "      <td>bpt6k9692809v.Alto.html</td>\n",
       "    </tr>\n",
       "    <tr>\n",
       "      <th>bpt6k9762929c</th>\n",
       "      <td>Annuaire-Didot-Bottin</td>\n",
       "      <td>1879</td>\n",
       "      <td>NaN</td>\n",
       "      <td>https://gallica.bnf.fr/ark:/12148/bpt6k9762929c</td>\n",
       "      <td>FRBNF32695639</td>\n",
       "      <td>129</td>\n",
       "      <td>105.0</td>\n",
       "      <td>669.0</td>\n",
       "      <td>640quinquies</td>\n",
       "      <td>2416</td>\n",
       "      <td>541.0</td>\n",
       "      <td>bpt6k9762929c.Alto.html</td>\n",
       "    </tr>\n",
       "    <tr>\n",
       "      <th>bpt6k9672776c</th>\n",
       "      <td>Annuaire-Didot-Bottin</td>\n",
       "      <td>1880</td>\n",
       "      <td>document en 2 parties sur Gallica, seule la pr...</td>\n",
       "      <td>https://gallica.bnf.fr/ark:/12148/bpt6k9672776c</td>\n",
       "      <td>FRBNF32695639</td>\n",
       "      <td>119</td>\n",
       "      <td>105.0</td>\n",
       "      <td>676.0</td>\n",
       "      <td>662-672</td>\n",
       "      <td>1012</td>\n",
       "      <td>558.0</td>\n",
       "      <td>bpt6k9672776c.Alto.html</td>\n",
       "    </tr>\n",
       "    <tr>\n",
       "      <th>bpt6k9764647w</th>\n",
       "      <td>Annuaire-Didot-Bottin</td>\n",
       "      <td>1881</td>\n",
       "      <td>NaN</td>\n",
       "      <td>https://gallica.bnf.fr/ark:/12148/bpt6k9764647w</td>\n",
       "      <td>FRBNF32695639</td>\n",
       "      <td>121</td>\n",
       "      <td>113.0</td>\n",
       "      <td>682.0</td>\n",
       "      <td>674 A 700</td>\n",
       "      <td>2370</td>\n",
       "      <td>562.0</td>\n",
       "      <td>bpt6k9764647w.Alto.html</td>\n",
       "    </tr>\n",
       "    <tr>\n",
       "      <th>bpt6k9669143t</th>\n",
       "      <td>Annuaire-Didot-Bottin</td>\n",
       "      <td>1882</td>\n",
       "      <td>3 documents différents pour cette année, un se...</td>\n",
       "      <td>https://gallica.bnf.fr/ark:/12148/bpt6k9669143t</td>\n",
       "      <td>FRBNF32695639</td>\n",
       "      <td>145</td>\n",
       "      <td>113.0</td>\n",
       "      <td>720.0</td>\n",
       "      <td>688</td>\n",
       "      <td>1462</td>\n",
       "      <td>576.0</td>\n",
       "      <td>bpt6k9669143t.Alto.html</td>\n",
       "    </tr>\n",
       "    <tr>\n",
       "      <th>bpt6k9677737t</th>\n",
       "      <td>Annuaire-Didot-Bottin</td>\n",
       "      <td>1883</td>\n",
       "      <td>3 documents différents pour cette année, un se...</td>\n",
       "      <td>https://gallica.bnf.fr/ark:/12148/bpt6k9677737t</td>\n",
       "      <td>FRBNF32695639</td>\n",
       "      <td>139</td>\n",
       "      <td>113.0</td>\n",
       "      <td>725.0</td>\n",
       "      <td>699</td>\n",
       "      <td>734</td>\n",
       "      <td>587.0</td>\n",
       "      <td>bpt6k9677737t.Alto.html</td>\n",
       "    </tr>\n",
       "    <tr>\n",
       "      <th>bpt6k9668037f</th>\n",
       "      <td>Annuaire-Didot-Bottin</td>\n",
       "      <td>1884</td>\n",
       "      <td>document en 2 parties sur Gallica, seule la pr...</td>\n",
       "      <td>https://gallica.bnf.fr/ark:/12148/bpt6k9668037f</td>\n",
       "      <td>FRBNF32695639</td>\n",
       "      <td>167</td>\n",
       "      <td>113.0</td>\n",
       "      <td>762.0</td>\n",
       "      <td>708</td>\n",
       "      <td>1512</td>\n",
       "      <td>596.0</td>\n",
       "      <td>bpt6k9668037f.Alto.html</td>\n",
       "    </tr>\n",
       "    <tr>\n",
       "      <th>bpt6k96839542</th>\n",
       "      <td>Annuaire-Didot-Bottin</td>\n",
       "      <td>1885</td>\n",
       "      <td>document en 2 parties sur Gallica, seule la pr...</td>\n",
       "      <td>https://gallica.bnf.fr/ark:/12148/bpt6k96839542</td>\n",
       "      <td>FRBNF32695639</td>\n",
       "      <td>171</td>\n",
       "      <td>113.0</td>\n",
       "      <td>781.0</td>\n",
       "      <td>720QUATER</td>\n",
       "      <td>1557</td>\n",
       "      <td>611.0</td>\n",
       "      <td>bpt6k96839542.Alto.html</td>\n",
       "    </tr>\n",
       "    <tr>\n",
       "      <th>bpt6k96762564</th>\n",
       "      <td>Annuaire-Didot-Bottin</td>\n",
       "      <td>1886</td>\n",
       "      <td>document en 2 parties sur Gallica, seule la pr...</td>\n",
       "      <td>https://gallica.bnf.fr/ark:/12148/bpt6k96762564</td>\n",
       "      <td>FRBNF32695639</td>\n",
       "      <td>185</td>\n",
       "      <td>129.0</td>\n",
       "      <td>796.0</td>\n",
       "      <td>740-752</td>\n",
       "      <td>1654</td>\n",
       "      <td>612.0</td>\n",
       "      <td>bpt6k96762564.Alto.html</td>\n",
       "    </tr>\n",
       "    <tr>\n",
       "      <th>bpt6k9685861g</th>\n",
       "      <td>Annuaire-Didot-Bottin</td>\n",
       "      <td>1887</td>\n",
       "      <td>document en 2 parties sur Gallica, seule la pr...</td>\n",
       "      <td>https://gallica.bnf.fr/ark:/12148/bpt6k9685861g</td>\n",
       "      <td>FRBNF32695639</td>\n",
       "      <td>189</td>\n",
       "      <td>129.0</td>\n",
       "      <td>804.0</td>\n",
       "      <td>744</td>\n",
       "      <td>1594</td>\n",
       "      <td>616.0</td>\n",
       "      <td>bpt6k9685861g.Alto.html</td>\n",
       "    </tr>\n",
       "    <tr>\n",
       "      <th>bpt6k9763471j</th>\n",
       "      <td>Annuaire-Didot-Bottin</td>\n",
       "      <td>1888</td>\n",
       "      <td>image sur la dernière page</td>\n",
       "      <td>https://gallica.bnf.fr/ark:/12148/bpt6k9763471j</td>\n",
       "      <td>FRBNF32695639</td>\n",
       "      <td>153</td>\n",
       "      <td>129.0</td>\n",
       "      <td>771.0</td>\n",
       "      <td>747-752</td>\n",
       "      <td>2804</td>\n",
       "      <td>619.0</td>\n",
       "      <td>bpt6k9763471j.Alto.html</td>\n",
       "    </tr>\n",
       "    <tr>\n",
       "      <th>bpt6k9762899p</th>\n",
       "      <td>Annuaire-Didot-Bottin</td>\n",
       "      <td>1890</td>\n",
       "      <td>PART1 (A - DEL). Attention 1ère page de mauvai...</td>\n",
       "      <td>https://gallica.bnf.fr/ark:/12148/bpt6k9762899p</td>\n",
       "      <td>FRBNF32695639</td>\n",
       "      <td>157</td>\n",
       "      <td>129.0</td>\n",
       "      <td>326.0</td>\n",
       "      <td>298</td>\n",
       "      <td>336</td>\n",
       "      <td>170.0</td>\n",
       "      <td>bpt6k9762899p.Alto.html</td>\n",
       "    </tr>\n",
       "    <tr>\n",
       "      <th>bpt6k97630871</th>\n",
       "      <td>Annuaire-Didot-Bottin</td>\n",
       "      <td>1890</td>\n",
       "      <td>PART2 (DEL - Z)</td>\n",
       "      <td>https://gallica.bnf.fr/ark:/12148/bpt6k97630871</td>\n",
       "      <td>FRBNF32695639</td>\n",
       "      <td>11</td>\n",
       "      <td>299.0</td>\n",
       "      <td>456.0</td>\n",
       "      <td>744</td>\n",
       "      <td>466</td>\n",
       "      <td>446.0</td>\n",
       "      <td>bpt6k97630871.Alto.html</td>\n",
       "    </tr>\n",
       "    <tr>\n",
       "      <th>bpt6k9684454n</th>\n",
       "      <td>Annuaire-Didot-Bottin</td>\n",
       "      <td>1893</td>\n",
       "      <td>document en 3 parties sur Gallica, seule la pr...</td>\n",
       "      <td>https://gallica.bnf.fr/ark:/12148/bpt6k9684454n</td>\n",
       "      <td>FRBNF32695639</td>\n",
       "      <td>235</td>\n",
       "      <td>129.0</td>\n",
       "      <td>859.0</td>\n",
       "      <td>753</td>\n",
       "      <td>1000</td>\n",
       "      <td>625.0</td>\n",
       "      <td>bpt6k9684454n.Alto.html</td>\n",
       "    </tr>\n",
       "    <tr>\n",
       "      <th>bpt6k9732740w</th>\n",
       "      <td>Annuaire-Didot-Bottin</td>\n",
       "      <td>1894</td>\n",
       "      <td>document en 2 parties sur Gallica, seule la pr...</td>\n",
       "      <td>https://gallica.bnf.fr/ark:/12148/bpt6k9732740w</td>\n",
       "      <td>FRBNF32695639</td>\n",
       "      <td>239</td>\n",
       "      <td>161.0</td>\n",
       "      <td>883.0</td>\n",
       "      <td>785vicies</td>\n",
       "      <td>1656</td>\n",
       "      <td>645.0</td>\n",
       "      <td>bpt6k9732740w.Alto.html</td>\n",
       "    </tr>\n",
       "    <tr>\n",
       "      <th>bpt6k9684013b</th>\n",
       "      <td>Annuaire-Didot-Bottin</td>\n",
       "      <td>1896</td>\n",
       "      <td>document en 2 parties sur Gallica, seule la pr...</td>\n",
       "      <td>https://gallica.bnf.fr/ark:/12148/bpt6k9684013b</td>\n",
       "      <td>FRBNF32695639</td>\n",
       "      <td>189</td>\n",
       "      <td>177.0</td>\n",
       "      <td>848.0</td>\n",
       "      <td>836-848</td>\n",
       "      <td>1656</td>\n",
       "      <td>660.0</td>\n",
       "      <td>bpt6k9684013b.Alto.html</td>\n",
       "    </tr>\n",
       "    <tr>\n",
       "      <th>bpt6k9692626p</th>\n",
       "      <td>Annuaire-Didot-Bottin</td>\n",
       "      <td>1897</td>\n",
       "      <td>document en 3 parties sur Gallica, seule la pr...</td>\n",
       "      <td>https://gallica.bnf.fr/ark:/12148/bpt6k9692626p</td>\n",
       "      <td>FRBNF32695639</td>\n",
       "      <td>305</td>\n",
       "      <td>177.0</td>\n",
       "      <td>983.0</td>\n",
       "      <td>848octies</td>\n",
       "      <td>1882</td>\n",
       "      <td>679.0</td>\n",
       "      <td>bpt6k9692626p.Alto.html</td>\n",
       "    </tr>\n",
       "    <tr>\n",
       "      <th>bpt6k9685098r</th>\n",
       "      <td>Annuaire-Didot-Bottin</td>\n",
       "      <td>1898</td>\n",
       "      <td>document en 2 parties sur Gallica, seule la pr...</td>\n",
       "      <td>https://gallica.bnf.fr/ark:/12148/bpt6k9685098r</td>\n",
       "      <td>FRBNF32695639</td>\n",
       "      <td>281</td>\n",
       "      <td>177.0</td>\n",
       "      <td>975.0</td>\n",
       "      <td>871-896</td>\n",
       "      <td>1844</td>\n",
       "      <td>695.0</td>\n",
       "      <td>bpt6k9685098r.Alto.html</td>\n",
       "    </tr>\n",
       "    <tr>\n",
       "      <th>bpt6k9764402m</th>\n",
       "      <td>Annuaire-Didot-Bottin</td>\n",
       "      <td>1900</td>\n",
       "      <td>document en 3 parties sur Gallica, seule la pr...</td>\n",
       "      <td>https://gallica.bnf.fr/ark:/12148/bpt6k9764402m</td>\n",
       "      <td>FRBNF32695639</td>\n",
       "      <td>329</td>\n",
       "      <td>129.0</td>\n",
       "      <td>1072.0</td>\n",
       "      <td>864(8)</td>\n",
       "      <td>1160</td>\n",
       "      <td>744.0</td>\n",
       "      <td>bpt6k9764402m.Alto.html</td>\n",
       "    </tr>\n",
       "    <tr>\n",
       "      <th>bpt6k97631451</th>\n",
       "      <td>Annuaire-Didot-Bottin</td>\n",
       "      <td>1901</td>\n",
       "      <td>document en 2 parties sur Gallica, seule la pr...</td>\n",
       "      <td>https://gallica.bnf.fr/ark:/12148/bpt6k97631451</td>\n",
       "      <td>FRBNF32695639</td>\n",
       "      <td>322</td>\n",
       "      <td>129.0</td>\n",
       "      <td>1088.0</td>\n",
       "      <td>880(15)</td>\n",
       "      <td>1935</td>\n",
       "      <td>767.0</td>\n",
       "      <td>bpt6k97631451.Alto.html</td>\n",
       "    </tr>\n",
       "    <tr>\n",
       "      <th>bpt6k9776121t</th>\n",
       "      <td>Annuaire-Didot-Bottin</td>\n",
       "      <td>1907</td>\n",
       "      <td>document en 2 parties sur Gallica, seule la pr...</td>\n",
       "      <td>https://gallica.bnf.fr/ark:/12148/bpt6k9776121t</td>\n",
       "      <td>FRBNF32695639</td>\n",
       "      <td>49</td>\n",
       "      <td>1.0</td>\n",
       "      <td>879.0</td>\n",
       "      <td>831-848</td>\n",
       "      <td>1658</td>\n",
       "      <td>831.0</td>\n",
       "      <td>bpt6k9776121t.Alto.html</td>\n",
       "    </tr>\n",
       "    <tr>\n",
       "      <th>bpt6k9775724t</th>\n",
       "      <td>Annuaire du commerce Didot-Bottin</td>\n",
       "      <td>1914</td>\n",
       "      <td>Tome 1</td>\n",
       "      <td>https://gallica.bnf.fr/ark:/12148/bpt6k9775724t</td>\n",
       "      <td>FRBNF32697422</td>\n",
       "      <td>33</td>\n",
       "      <td>1.0</td>\n",
       "      <td>845.0</td>\n",
       "      <td>813-848</td>\n",
       "      <td>854</td>\n",
       "      <td>813.0</td>\n",
       "      <td>bpt6k9775724t.Alto.html</td>\n",
       "    </tr>\n",
       "    <tr>\n",
       "      <th>bpt6k97774838</th>\n",
       "      <td>Annuaire du commerce Didot-Bottin</td>\n",
       "      <td>1921</td>\n",
       "      <td>Tome 1</td>\n",
       "      <td>https://gallica.bnf.fr/ark:/12148/bpt6k97774838</td>\n",
       "      <td>FRBNF32697422</td>\n",
       "      <td>327</td>\n",
       "      <td>289.0</td>\n",
       "      <td>1214.0</td>\n",
       "      <td>1152quaterdecies</td>\n",
       "      <td>1484</td>\n",
       "      <td>888.0</td>\n",
       "      <td>bpt6k97774838.Alto.html</td>\n",
       "    </tr>\n",
       "    <tr>\n",
       "      <th>bpt6k9780089g</th>\n",
       "      <td>Annuaire du commerce Didot-Bottin</td>\n",
       "      <td>1922</td>\n",
       "      <td>Tome 3</td>\n",
       "      <td>https://gallica.bnf.fr/ark:/12148/bpt6k9780089g</td>\n",
       "      <td>FRBNF32697422</td>\n",
       "      <td>339</td>\n",
       "      <td>321.0</td>\n",
       "      <td>1268.0</td>\n",
       "      <td>1248ter</td>\n",
       "      <td>1540</td>\n",
       "      <td>930.0</td>\n",
       "      <td>bpt6k9780089g.Alto.html</td>\n",
       "    </tr>\n",
       "  </tbody>\n",
       "</table>\n",
       "</div>"
      ],
      "text/plain": [
       "                                       nom_court  annee  \\\n",
       "ids                                                       \n",
       "bpt6k63243601       Annuaire-general-du-commerce   1839   \n",
       "bpt6k62931221       Annuaire-general-du-commerce   1841   \n",
       "bpt6k6286466w       Annuaire-general-du-commerce   1842   \n",
       "bpt6k6393838j       Annuaire-general-du-commerce   1843   \n",
       "bpt6k6331310g       Annuaire-general-du-commerce   1844   \n",
       "bpt6k6292987t       Annuaire-general-du-commerce   1845   \n",
       "bpt6k62906378       Annuaire-general-du-commerce   1846   \n",
       "bpt6k6391515w       Annuaire-general-du-commerce   1847   \n",
       "bpt6k6315927h       Annuaire-general-du-commerce   1848   \n",
       "bpt6k6319106t       Annuaire-general-du-commerce   1849   \n",
       "bpt6k6315985z       Annuaire-general-du-commerce   1850   \n",
       "bpt6k63959929       Annuaire-general-du-commerce   1851   \n",
       "bpt6k63197984       Annuaire-general-du-commerce   1852   \n",
       "bpt6k6389871r       Annuaire-general-du-commerce   1853   \n",
       "bpt6k6319811j       Annuaire-general-du-commerce   1854   \n",
       "bpt6k6282019m       Annuaire-general-du-commerce   1855   \n",
       "bpt6k6314752k       Annuaire-general-du-commerce   1856   \n",
       "bpt6k6305463c              Annuaire-Didot-Bottin   1857   \n",
       "bpt6k6318531z              Annuaire-Didot-Bottin   1858   \n",
       "bpt6k6324389h              Annuaire-Didot-Bottin   1859   \n",
       "bpt6k63243920              Annuaire-Didot-Bottin   1860   \n",
       "bpt6k6309075f              Annuaire-Didot-Bottin   1861   \n",
       "bpt6k6333200c              Annuaire-Didot-Bottin   1862   \n",
       "bpt6k63243905              Annuaire-Didot-Bottin   1863   \n",
       "bpt6k6333170p              Annuaire-Didot-Bottin   1864   \n",
       "bpt6k96727875              Annuaire-Didot-Bottin   1870   \n",
       "bpt6k9764746t              Annuaire-Didot-Bottin   1871   \n",
       "bpt6k97645375              Annuaire-Didot-Bottin   1873   \n",
       "bpt6k9672117f              Annuaire-Didot-Bottin   1874   \n",
       "bpt6k9763554c              Annuaire-Didot-Bottin   1875   \n",
       "bpt6k9763553z              Annuaire-Didot-Bottin   1876   \n",
       "bpt6k9677392n              Annuaire-Didot-Bottin   1877   \n",
       "bpt6k9692809v              Annuaire-Didot-Bottin   1878   \n",
       "bpt6k9762929c              Annuaire-Didot-Bottin   1879   \n",
       "bpt6k9672776c              Annuaire-Didot-Bottin   1880   \n",
       "bpt6k9764647w              Annuaire-Didot-Bottin   1881   \n",
       "bpt6k9669143t              Annuaire-Didot-Bottin   1882   \n",
       "bpt6k9677737t              Annuaire-Didot-Bottin   1883   \n",
       "bpt6k9668037f              Annuaire-Didot-Bottin   1884   \n",
       "bpt6k96839542              Annuaire-Didot-Bottin   1885   \n",
       "bpt6k96762564              Annuaire-Didot-Bottin   1886   \n",
       "bpt6k9685861g              Annuaire-Didot-Bottin   1887   \n",
       "bpt6k9763471j              Annuaire-Didot-Bottin   1888   \n",
       "bpt6k9762899p              Annuaire-Didot-Bottin   1890   \n",
       "bpt6k97630871              Annuaire-Didot-Bottin   1890   \n",
       "bpt6k9684454n              Annuaire-Didot-Bottin   1893   \n",
       "bpt6k9732740w              Annuaire-Didot-Bottin   1894   \n",
       "bpt6k9684013b              Annuaire-Didot-Bottin   1896   \n",
       "bpt6k9692626p              Annuaire-Didot-Bottin   1897   \n",
       "bpt6k9685098r              Annuaire-Didot-Bottin   1898   \n",
       "bpt6k9764402m              Annuaire-Didot-Bottin   1900   \n",
       "bpt6k97631451              Annuaire-Didot-Bottin   1901   \n",
       "bpt6k9776121t              Annuaire-Didot-Bottin   1907   \n",
       "bpt6k9775724t  Annuaire du commerce Didot-Bottin   1914   \n",
       "bpt6k97774838  Annuaire du commerce Didot-Bottin   1921   \n",
       "bpt6k9780089g  Annuaire du commerce Didot-Bottin   1922   \n",
       "\n",
       "                                                       remarques  \\\n",
       "ids                                                                \n",
       "bpt6k63243601                                                NaN   \n",
       "bpt6k62931221  document en 2 parties sur Gallica, seule la pr...   \n",
       "bpt6k6286466w  document en 2 parties sur Gallica, seule la pr...   \n",
       "bpt6k6393838j  document en 2 parties sur Gallica, seule la pr...   \n",
       "bpt6k6331310g  La dernière page comprend le début d'une autre...   \n",
       "bpt6k6292987t  La dernière page comprend le début d'une autre...   \n",
       "bpt6k62906378  La dernière page comprend le début d'une autre...   \n",
       "bpt6k6391515w  La dernière page comprend le début d'une autre...   \n",
       "bpt6k6315927h  La dernière page comprend le début d'une autre...   \n",
       "bpt6k6319106t  La dernière page comprend le début d'une autre...   \n",
       "bpt6k6315985z  document en 2 parties sur Gallica, seule la pr...   \n",
       "bpt6k63959929  document en 2 parties sur Gallica, seule la pr...   \n",
       "bpt6k63197984  La dernière page comprend le début d'une autre...   \n",
       "bpt6k6389871r  document en 2 parties sur Gallica, seule la pr...   \n",
       "bpt6k6319811j  document en 2 parties sur Gallica, seule la pr...   \n",
       "bpt6k6282019m  document en 2 parties sur Gallica, seule la pr...   \n",
       "bpt6k6314752k  document en 2 parties sur Gallica, seule la pr...   \n",
       "bpt6k6305463c  document en 2 parties sur Gallica, seule la pr...   \n",
       "bpt6k6318531z  document en 2 parties sur Gallica, seule la pr...   \n",
       "bpt6k6324389h  document en 2 parties sur Gallica, seule la pr...   \n",
       "bpt6k63243920  document en 2 parties sur Gallica, seule la pr...   \n",
       "bpt6k6309075f  document en 2 parties sur Gallica, seule la pr...   \n",
       "bpt6k6333200c  document en 2 parties sur Gallica, seule la pr...   \n",
       "bpt6k63243905  document en 2 parties sur Gallica, seule la pr...   \n",
       "bpt6k6333170p  document en 2 parties sur Gallica, seule la pr...   \n",
       "bpt6k96727875  ATTENTION super mauvaise qualité du document! ...   \n",
       "bpt6k9764746t                                                NaN   \n",
       "bpt6k97645375                                                NaN   \n",
       "bpt6k9672117f                                                NaN   \n",
       "bpt6k9763554c                                                NaN   \n",
       "bpt6k9763553z                                                NaN   \n",
       "bpt6k9677392n                                                NaN   \n",
       "bpt6k9692809v                                                NaN   \n",
       "bpt6k9762929c                                                NaN   \n",
       "bpt6k9672776c  document en 2 parties sur Gallica, seule la pr...   \n",
       "bpt6k9764647w                                                NaN   \n",
       "bpt6k9669143t  3 documents différents pour cette année, un se...   \n",
       "bpt6k9677737t  3 documents différents pour cette année, un se...   \n",
       "bpt6k9668037f  document en 2 parties sur Gallica, seule la pr...   \n",
       "bpt6k96839542  document en 2 parties sur Gallica, seule la pr...   \n",
       "bpt6k96762564  document en 2 parties sur Gallica, seule la pr...   \n",
       "bpt6k9685861g  document en 2 parties sur Gallica, seule la pr...   \n",
       "bpt6k9763471j                         image sur la dernière page   \n",
       "bpt6k9762899p  PART1 (A - DEL). Attention 1ère page de mauvai...   \n",
       "bpt6k97630871                                    PART2 (DEL - Z)   \n",
       "bpt6k9684454n  document en 3 parties sur Gallica, seule la pr...   \n",
       "bpt6k9732740w  document en 2 parties sur Gallica, seule la pr...   \n",
       "bpt6k9684013b  document en 2 parties sur Gallica, seule la pr...   \n",
       "bpt6k9692626p  document en 3 parties sur Gallica, seule la pr...   \n",
       "bpt6k9685098r  document en 2 parties sur Gallica, seule la pr...   \n",
       "bpt6k9764402m  document en 3 parties sur Gallica, seule la pr...   \n",
       "bpt6k97631451  document en 2 parties sur Gallica, seule la pr...   \n",
       "bpt6k9776121t  document en 2 parties sur Gallica, seule la pr...   \n",
       "bpt6k9775724t                                             Tome 1   \n",
       "bpt6k97774838                                             Tome 1   \n",
       "bpt6k9780089g                                             Tome 3   \n",
       "\n",
       "                                                   lien_source  \\\n",
       "ids                                                              \n",
       "bpt6k63243601  https://gallica.bnf.fr/ark:/12148/bpt6k63243601   \n",
       "bpt6k62931221  https://gallica.bnf.fr/ark:/12148/bpt6k62931221   \n",
       "bpt6k6286466w  https://gallica.bnf.fr/ark:/12148/bpt6k6286466w   \n",
       "bpt6k6393838j  https://gallica.bnf.fr/ark:/12148/bpt6k6393838j   \n",
       "bpt6k6331310g  https://gallica.bnf.fr/ark:/12148/bpt6k6331310g   \n",
       "bpt6k6292987t  https://gallica.bnf.fr/ark:/12148/bpt6k6292987t   \n",
       "bpt6k62906378  https://gallica.bnf.fr/ark:/12148/bpt6k62906378   \n",
       "bpt6k6391515w  https://gallica.bnf.fr/ark:/12148/bpt6k6391515w   \n",
       "bpt6k6315927h  https://gallica.bnf.fr/ark:/12148/bpt6k6315927h   \n",
       "bpt6k6319106t  https://gallica.bnf.fr/ark:/12148/bpt6k6319106t   \n",
       "bpt6k6315985z  https://gallica.bnf.fr/ark:/12148/bpt6k6315985z   \n",
       "bpt6k63959929  https://gallica.bnf.fr/ark:/12148/bpt6k63959929   \n",
       "bpt6k63197984  https://gallica.bnf.fr/ark:/12148/bpt6k63197984   \n",
       "bpt6k6389871r  https://gallica.bnf.fr/ark:/12148/bpt6k6389871r   \n",
       "bpt6k6319811j  https://gallica.bnf.fr/ark:/12148/bpt6k6319811j   \n",
       "bpt6k6282019m  https://gallica.bnf.fr/ark:/12148/bpt6k6282019m   \n",
       "bpt6k6314752k  https://gallica.bnf.fr/ark:/12148/bpt6k6314752k   \n",
       "bpt6k6305463c  https://gallica.bnf.fr/ark:/12148/bpt6k6305463c   \n",
       "bpt6k6318531z  https://gallica.bnf.fr/ark:/12148/bpt6k6318531z   \n",
       "bpt6k6324389h  https://gallica.bnf.fr/ark:/12148/bpt6k6324389h   \n",
       "bpt6k63243920  https://gallica.bnf.fr/ark:/12148/bpt6k63243920   \n",
       "bpt6k6309075f  https://gallica.bnf.fr/ark:/12148/bpt6k6309075f   \n",
       "bpt6k6333200c  https://gallica.bnf.fr/ark:/12148/bpt6k6333200c   \n",
       "bpt6k63243905  https://gallica.bnf.fr/ark:/12148/bpt6k63243905   \n",
       "bpt6k6333170p  https://gallica.bnf.fr/ark:/12148/bpt6k6333170p   \n",
       "bpt6k96727875  https://gallica.bnf.fr/ark:/12148/bpt6k96727875   \n",
       "bpt6k9764746t  https://gallica.bnf.fr/ark:/12148/bpt6k9764746t   \n",
       "bpt6k97645375  https://gallica.bnf.fr/ark:/12148/bpt6k97645375   \n",
       "bpt6k9672117f  https://gallica.bnf.fr/ark:/12148/bpt6k9672117f   \n",
       "bpt6k9763554c  https://gallica.bnf.fr/ark:/12148/bpt6k9763554c   \n",
       "bpt6k9763553z  https://gallica.bnf.fr/ark:/12148/bpt6k9763553z   \n",
       "bpt6k9677392n  https://gallica.bnf.fr/ark:/12148/bpt6k9677392n   \n",
       "bpt6k9692809v  https://gallica.bnf.fr/ark:/12148/bpt6k9692809v   \n",
       "bpt6k9762929c  https://gallica.bnf.fr/ark:/12148/bpt6k9762929c   \n",
       "bpt6k9672776c  https://gallica.bnf.fr/ark:/12148/bpt6k9672776c   \n",
       "bpt6k9764647w  https://gallica.bnf.fr/ark:/12148/bpt6k9764647w   \n",
       "bpt6k9669143t  https://gallica.bnf.fr/ark:/12148/bpt6k9669143t   \n",
       "bpt6k9677737t  https://gallica.bnf.fr/ark:/12148/bpt6k9677737t   \n",
       "bpt6k9668037f  https://gallica.bnf.fr/ark:/12148/bpt6k9668037f   \n",
       "bpt6k96839542  https://gallica.bnf.fr/ark:/12148/bpt6k96839542   \n",
       "bpt6k96762564  https://gallica.bnf.fr/ark:/12148/bpt6k96762564   \n",
       "bpt6k9685861g  https://gallica.bnf.fr/ark:/12148/bpt6k9685861g   \n",
       "bpt6k9763471j  https://gallica.bnf.fr/ark:/12148/bpt6k9763471j   \n",
       "bpt6k9762899p  https://gallica.bnf.fr/ark:/12148/bpt6k9762899p   \n",
       "bpt6k97630871  https://gallica.bnf.fr/ark:/12148/bpt6k97630871   \n",
       "bpt6k9684454n  https://gallica.bnf.fr/ark:/12148/bpt6k9684454n   \n",
       "bpt6k9732740w  https://gallica.bnf.fr/ark:/12148/bpt6k9732740w   \n",
       "bpt6k9684013b  https://gallica.bnf.fr/ark:/12148/bpt6k9684013b   \n",
       "bpt6k9692626p  https://gallica.bnf.fr/ark:/12148/bpt6k9692626p   \n",
       "bpt6k9685098r  https://gallica.bnf.fr/ark:/12148/bpt6k9685098r   \n",
       "bpt6k9764402m  https://gallica.bnf.fr/ark:/12148/bpt6k9764402m   \n",
       "bpt6k97631451  https://gallica.bnf.fr/ark:/12148/bpt6k97631451   \n",
       "bpt6k9776121t  https://gallica.bnf.fr/ark:/12148/bpt6k9776121t   \n",
       "bpt6k9775724t  https://gallica.bnf.fr/ark:/12148/bpt6k9775724t   \n",
       "bpt6k97774838  https://gallica.bnf.fr/ark:/12148/bpt6k97774838   \n",
       "bpt6k9780089g  https://gallica.bnf.fr/ark:/12148/bpt6k9780089g   \n",
       "\n",
       "                    source_ID  vue_debut  page_debut  vue_fin  \\\n",
       "ids                                                             \n",
       "bpt6k63243601  FRBNF32698036         123       103.0    399.0   \n",
       "bpt6k62931221  FRBNF32698036         151        72.0    423.0   \n",
       "bpt6k6286466w  FRBNF32698036         189        91.0    489.0   \n",
       "bpt6k6393838j  FRBNF32698036         219       107.0    482.0   \n",
       "bpt6k6331310g  FRBNF32698036         216       103.0    483.0   \n",
       "bpt6k6292987t  FRBNF32698036         353       101.0    629.0   \n",
       "bpt6k62906378  FRBNF32698036         288       113.0    568.0   \n",
       "bpt6k6391515w  FRBNF32698036         319         1.0    616.0   \n",
       "bpt6k6315927h  FRBNF32698036         349         1.0    674.0   \n",
       "bpt6k6319106t  FRBNF32698036         324         1.0    640.0   \n",
       "bpt6k6315985z  FRBNF32698036          82        81.0    404.0   \n",
       "bpt6k63959929  FRBNF32698036          82        81.0    424.0   \n",
       "bpt6k63197984  FRBNF32698036          56        57.0    417.0   \n",
       "bpt6k6389871r  FRBNF32698036          77        81.0    454.0   \n",
       "bpt6k6319811j  FRBNF32698036          79        81.0    473.0   \n",
       "bpt6k6282019m  FRBNF32698036          72        81.0    433.0   \n",
       "bpt6k6314752k  FRBNF32698036         190        81.0    548.0   \n",
       "bpt6k6305463c  FRBNF32695639         113        65.0    492.0   \n",
       "bpt6k6318531z  FRBNF32695639         108        65.0    495.0   \n",
       "bpt6k6324389h  FRBNF32695639          72        81.0    471.0   \n",
       "bpt6k63243920  FRBNF32695639          80        81.0    520.0   \n",
       "bpt6k6309075f  FRBNF32695639          96        89.0    545.0   \n",
       "bpt6k6333200c  FRBNF32695639         132        89.0    593.0   \n",
       "bpt6k63243905  FRBNF32695639         134        93.0    605.0   \n",
       "bpt6k6333170p  FRBNF32695639         137        93.0    616.0   \n",
       "bpt6k96727875  FRBNF32695639         135        97.0    625.0   \n",
       "bpt6k9764746t  FRBNF32695639          99        97.0    562.0   \n",
       "bpt6k97645375  FRBNF32695639         123        97.0    593.0   \n",
       "bpt6k9672117f  FRBNF32695639         125        97.0    608.0   \n",
       "bpt6k9763554c  FRBNF32695639         123        97.0    615.0   \n",
       "bpt6k9763553z  FRBNF32695639         105        99.0    601.0   \n",
       "bpt6k9677392n  FRBNF32695639         110       103.0    621.0   \n",
       "bpt6k9692809v  FRBNF32695639         113       101.0    628.0   \n",
       "bpt6k9762929c  FRBNF32695639         129       105.0    669.0   \n",
       "bpt6k9672776c  FRBNF32695639         119       105.0    676.0   \n",
       "bpt6k9764647w  FRBNF32695639         121       113.0    682.0   \n",
       "bpt6k9669143t  FRBNF32695639         145       113.0    720.0   \n",
       "bpt6k9677737t  FRBNF32695639         139       113.0    725.0   \n",
       "bpt6k9668037f  FRBNF32695639         167       113.0    762.0   \n",
       "bpt6k96839542  FRBNF32695639         171       113.0    781.0   \n",
       "bpt6k96762564  FRBNF32695639         185       129.0    796.0   \n",
       "bpt6k9685861g  FRBNF32695639         189       129.0    804.0   \n",
       "bpt6k9763471j  FRBNF32695639         153       129.0    771.0   \n",
       "bpt6k9762899p  FRBNF32695639         157       129.0    326.0   \n",
       "bpt6k97630871  FRBNF32695639          11       299.0    456.0   \n",
       "bpt6k9684454n  FRBNF32695639         235       129.0    859.0   \n",
       "bpt6k9732740w  FRBNF32695639         239       161.0    883.0   \n",
       "bpt6k9684013b  FRBNF32695639         189       177.0    848.0   \n",
       "bpt6k9692626p  FRBNF32695639         305       177.0    983.0   \n",
       "bpt6k9685098r  FRBNF32695639         281       177.0    975.0   \n",
       "bpt6k9764402m  FRBNF32695639         329       129.0   1072.0   \n",
       "bpt6k97631451  FRBNF32695639         322       129.0   1088.0   \n",
       "bpt6k9776121t  FRBNF32695639          49         1.0    879.0   \n",
       "bpt6k9775724t  FRBNF32697422          33         1.0    845.0   \n",
       "bpt6k97774838  FRBNF32697422         327       289.0   1214.0   \n",
       "bpt6k9780089g  FRBNF32697422         339       321.0   1268.0   \n",
       "\n",
       "                       page_fin  page_total  pages              nom_fichier  \n",
       "ids                                                                          \n",
       "bpt6k63243601               379        1457  277.0  bpt6k63243601.Alto.html  \n",
       "bpt6k62931221               344         938  273.0  bpt6k62931221.Alto.html  \n",
       "bpt6k6286466w               391         939  301.0  bpt6k6286466w.Alto.html  \n",
       "bpt6k6393838j               378         969  264.0  bpt6k6393838j.Alto.html  \n",
       "bpt6k6331310g               372         977  268.0  bpt6k6331310g.Alto.html  \n",
       "bpt6k6292987t               391         929  277.0  bpt6k6292987t.Alto.html  \n",
       "bpt6k62906378               393        1904  281.0  bpt6k62906378.Alto.html  \n",
       "bpt6k6391515w               298        1924  298.0  bpt6k6391515w.Alto.html  \n",
       "bpt6k6315927h               326        1049  326.0  bpt6k6315927h.Alto.html  \n",
       "bpt6k6319106t               317         944  317.0  bpt6k6319106t.Alto.html  \n",
       "bpt6k6315985z               403        1010  323.0  bpt6k6315985z.Alto.html  \n",
       "bpt6k63959929               423        1100  343.0  bpt6k63959929.Alto.html  \n",
       "bpt6k63197984            400-18        1116  362.0  bpt6k63197984.Alto.html  \n",
       "bpt6k6389871r               458        1170  378.0  bpt6k6389871r.Alto.html  \n",
       "bpt6k6319811j               475        1223  395.0  bpt6k6319811j.Alto.html  \n",
       "bpt6k6282019m               442        1138  362.0  bpt6k6282019m.Alto.html  \n",
       "bpt6k6314752k               439        1182  359.0  bpt6k6314752k.Alto.html  \n",
       "bpt6k6305463c           444-448        1187  380.0  bpt6k6305463c.Alto.html  \n",
       "bpt6k6318531z               448        1218  388.0  bpt6k6318531z.Alto.html  \n",
       "bpt6k6324389h               464        1272  400.0  bpt6k6324389h.Alto.html  \n",
       "bpt6k63243920               521        1306  441.0  bpt6k63243920.Alto.html  \n",
       "bpt6k6309075f               538        1352  450.0  bpt6k6309075f.Alto.html  \n",
       "bpt6k6333200c               550        1496  462.0  bpt6k6333200c.Alto.html  \n",
       "bpt6k63243905           564-592        1495  472.0  bpt6k63243905.Alto.html  \n",
       "bpt6k6333170p           572-592        1540  480.0  bpt6k6333170p.Alto.html  \n",
       "bpt6k96727875               587         942  491.0  bpt6k96727875.Alto.html  \n",
       "bpt6k9764746t         560 à 641        1910  464.0  bpt6k9764746t.Alto.html  \n",
       "bpt6k97645375           567-640        1956  471.0  bpt6k97645375.Alto.html  \n",
       "bpt6k9672117f               580         970  484.0  bpt6k9672117f.Alto.html  \n",
       "bpt6k9763554c               589        2115  493.0  bpt6k9763554c.Alto.html  \n",
       "bpt6k9763553z               595        2198  497.0  bpt6k9763553z.Alto.html  \n",
       "bpt6k9677392n               614        2068  512.0  bpt6k9677392n.Alto.html  \n",
       "bpt6k9692809v               630        2076  516.0  bpt6k9692809v.Alto.html  \n",
       "bpt6k9762929c      640quinquies        2416  541.0  bpt6k9762929c.Alto.html  \n",
       "bpt6k9672776c           662-672        1012  558.0  bpt6k9672776c.Alto.html  \n",
       "bpt6k9764647w         674 A 700        2370  562.0  bpt6k9764647w.Alto.html  \n",
       "bpt6k9669143t               688        1462  576.0  bpt6k9669143t.Alto.html  \n",
       "bpt6k9677737t               699         734  587.0  bpt6k9677737t.Alto.html  \n",
       "bpt6k9668037f               708        1512  596.0  bpt6k9668037f.Alto.html  \n",
       "bpt6k96839542         720QUATER        1557  611.0  bpt6k96839542.Alto.html  \n",
       "bpt6k96762564           740-752        1654  612.0  bpt6k96762564.Alto.html  \n",
       "bpt6k9685861g               744        1594  616.0  bpt6k9685861g.Alto.html  \n",
       "bpt6k9763471j           747-752        2804  619.0  bpt6k9763471j.Alto.html  \n",
       "bpt6k9762899p               298         336  170.0  bpt6k9762899p.Alto.html  \n",
       "bpt6k97630871               744         466  446.0  bpt6k97630871.Alto.html  \n",
       "bpt6k9684454n               753        1000  625.0  bpt6k9684454n.Alto.html  \n",
       "bpt6k9732740w         785vicies        1656  645.0  bpt6k9732740w.Alto.html  \n",
       "bpt6k9684013b           836-848        1656  660.0  bpt6k9684013b.Alto.html  \n",
       "bpt6k9692626p         848octies        1882  679.0  bpt6k9692626p.Alto.html  \n",
       "bpt6k9685098r           871-896        1844  695.0  bpt6k9685098r.Alto.html  \n",
       "bpt6k9764402m            864(8)        1160  744.0  bpt6k9764402m.Alto.html  \n",
       "bpt6k97631451           880(15)        1935  767.0  bpt6k97631451.Alto.html  \n",
       "bpt6k9776121t           831-848        1658  831.0  bpt6k9776121t.Alto.html  \n",
       "bpt6k9775724t           813-848         854  813.0  bpt6k9775724t.Alto.html  \n",
       "bpt6k97774838  1152quaterdecies        1484  888.0  bpt6k97774838.Alto.html  \n",
       "bpt6k9780089g           1248ter        1540  930.0  bpt6k9780089g.Alto.html  "
      ]
     },
     "execution_count": 321,
     "metadata": {},
     "output_type": "execute_result"
    }
   ],
   "source": [
    "df_rep"
   ]
  },
  {
   "cell_type": "code",
   "execution_count": 325,
   "metadata": {},
   "outputs": [
    {
     "name": "stderr",
     "output_type": "stream",
     "text": [
      "/home/rbarman/.conda/envs/dh_segment/lib/python3.5/site-packages/ipykernel_launcher.py:1: PerformanceWarning: indexing past lexsort depth may impact performance.\n",
      "  \"\"\"Entry point for launching an IPython kernel.\n"
     ]
    },
    {
     "data": {
      "text/html": [
       "<div>\n",
       "<style scoped>\n",
       "    .dataframe tbody tr th:only-of-type {\n",
       "        vertical-align: middle;\n",
       "    }\n",
       "\n",
       "    .dataframe tbody tr th {\n",
       "        vertical-align: top;\n",
       "    }\n",
       "\n",
       "    .dataframe thead th {\n",
       "        text-align: right;\n",
       "    }\n",
       "</style>\n",
       "<table border=\"1\" class=\"dataframe\">\n",
       "  <thead>\n",
       "    <tr style=\"text-align: right;\">\n",
       "      <th></th>\n",
       "      <th>text</th>\n",
       "    </tr>\n",
       "    <tr>\n",
       "      <th>line</th>\n",
       "      <th></th>\n",
       "    </tr>\n",
       "  </thead>\n",
       "  <tbody>\n",
       "    <tr>\n",
       "      <th>0</th>\n",
       "      <td>Labaatide, rentier, Louis-le-Grand, 10..</td>\n",
       "    </tr>\n",
       "    <tr>\n",
       "      <th>1</th>\n",
       "      <td>Labastie et'Cie, vins en gros, Grenelle-St-</td>\n",
       "    </tr>\n",
       "    <tr>\n",
       "      <th>2</th>\n",
       "      <td>Germain,4.</td>\n",
       "    </tr>\n",
       "    <tr>\n",
       "      <th>3</th>\n",
       "      <td>Labat 3$, adjudant-major du 17e bataillon</td>\n",
       "    </tr>\n",
       "    <tr>\n",
       "      <th>4</th>\n",
       "      <td>de la garde nationale. Bac, 101.</td>\n",
       "    </tr>\n",
       "    <tr>\n",
       "      <th>5</th>\n",
       "      <td>Labat -4, chef de bureau à la préfecture</td>\n",
       "    </tr>\n",
       "    <tr>\n",
       "      <th>6</th>\n",
       "      <td>de police. -</td>\n",
       "    </tr>\n",
       "    <tr>\n",
       "      <th>7</th>\n",
       "      <td>Labat, coiffeur, Bourg-l'Abbé, 4. -</td>\n",
       "    </tr>\n",
       "    <tr>\n",
       "      <th>8</th>\n",
       "      <td>Labat, coiffeur, Lenoir-St-Antoine, 16.</td>\n",
       "    </tr>\n",
       "    <tr>\n",
       "      <th>9</th>\n",
       "      <td>Labat, homme de lettres,. Grenelle-Saint-</td>\n",
       "    </tr>\n",
       "    <tr>\n",
       "      <th>10</th>\n",
       "      <td>Germain, 60.</td>\n",
       "    </tr>\n",
       "    <tr>\n",
       "      <th>11</th>\n",
       "      <td>Labat-Deliale, dentiste, St. -Antoine, 321.</td>\n",
       "    </tr>\n",
       "    <tr>\n",
       "      <th>12</th>\n",
       "      <td>La Bâtie, G. général en retraite, Gre-</td>\n",
       "    </tr>\n",
       "    <tr>\n",
       "      <th>13</th>\n",
       "      <td>nelle-St-Germain, 97.</td>\n",
       "    </tr>\n",
       "    <tr>\n",
       "      <th>14</th>\n",
       "      <td>Labaudt, chaussures pour dames, Tailbout,76.</td>\n",
       "    </tr>\n",
       "    <tr>\n",
       "      <th>15</th>\n",
       "      <td>Labaume (Comtesse de), Université, 73.</td>\n",
       "    </tr>\n",
       "    <tr>\n",
       "      <th>16</th>\n",
       "      <td>Labaume (F. ), Drouot, 4.</td>\n",
       "    </tr>\n",
       "    <tr>\n",
       "      <th>17</th>\n",
       "      <td>Labaume, employé à la guerre , Rumfort, 19.</td>\n",
       "    </tr>\n",
       "    <tr>\n",
       "      <th>18</th>\n",
       "      <td>Labaume (Mme), modes. J. -J .-Rousseau, 18.</td>\n",
       "    </tr>\n",
       "    <tr>\n",
       "      <th>19</th>\n",
       "      <td>Labaume-Bérenger (de), Taitbout, 15.</td>\n",
       "    </tr>\n",
       "    <tr>\n",
       "      <th>20</th>\n",
       "      <td>Labbaye ( J. C.), facteur d'instruments en cui-</td>\n",
       "    </tr>\n",
       "    <tr>\n",
       "      <th>21</th>\n",
       "      <td>vre, Caire, 17. *</td>\n",
       "    </tr>\n",
       "    <tr>\n",
       "      <th>22</th>\n",
       "      <td>Labbé ( Vve Louis). Choiseul. 20.</td>\n",
       "    </tr>\n",
       "    <tr>\n",
       "      <th>23</th>\n",
       "      <td>Labbé, anc. agent de change, Martyrs, 47.</td>\n",
       "    </tr>\n",
       "    <tr>\n",
       "      <th>24</th>\n",
       "      <td>Labbé, avoué Ire ¡nst., Nve-St-Augustin, 6.</td>\n",
       "    </tr>\n",
       "    <tr>\n",
       "      <th>25</th>\n",
       "      <td>Labbé, bijoutier en doré, Saint-Martin, 198.</td>\n",
       "    </tr>\n",
       "    <tr>\n",
       "      <th>26</th>\n",
       "      <td>Labbé (Vve), chapelier, Rivoli, 11.</td>\n",
       "    </tr>\n",
       "    <tr>\n",
       "      <th>27</th>\n",
       "      <td>Labbé, chapelier, pass. de l'Opéra, galerie de</td>\n",
       "    </tr>\n",
       "    <tr>\n",
       "      <th>28</th>\n",
       "      <td>l'Horloge, 10^12, et gaI. du Baromètre, 22.</td>\n",
       "    </tr>\n",
       "    <tr>\n",
       "      <th>29</th>\n",
       "      <td>Labbé, chapelier, place Maubert, 20.</td>\n",
       "    </tr>\n",
       "    <tr>\n",
       "      <th>...</th>\n",
       "      <td>...</td>\n",
       "    </tr>\n",
       "    <tr>\n",
       "      <th>248</th>\n",
       "      <td>Labrouste (Th.), 0-4, architecte dû gouverne-</td>\n",
       "    </tr>\n",
       "    <tr>\n",
       "      <th>249</th>\n",
       "      <td>ment, Bac, 35.</td>\n",
       "    </tr>\n",
       "    <tr>\n",
       "      <th>250</th>\n",
       "      <td>Labrouste (Henri) O. 4, architecte du gou-</td>\n",
       "    </tr>\n",
       "    <tr>\n",
       "      <th>251</th>\n",
       "      <td>vernement, Vangirard, 47.</td>\n",
       "    </tr>\n",
       "    <tr>\n",
       "      <th>252</th>\n",
       "      <td>Labrouste (A.), direct, du collège Ste-Barbe,</td>\n",
       "    </tr>\n",
       "    <tr>\n",
       "      <th>253</th>\n",
       "      <td>place du Panthéon.</td>\n",
       "    </tr>\n",
       "    <tr>\n",
       "      <th>254</th>\n",
       "      <td>Labroguière, parfumerie, la Feuillade, 7.</td>\n",
       "    </tr>\n",
       "    <tr>\n",
       "      <th>255</th>\n",
       "      <td>Labruhe aîné, nouveautés pour robes et man-</td>\n",
       "    </tr>\n",
       "    <tr>\n",
       "      <th>256</th>\n",
       "      <td>teaux, St-Joseph, 10.</td>\n",
       "    </tr>\n",
       "    <tr>\n",
       "      <th>257</th>\n",
       "      <td>Labruhe jne, nouveautés pour robes, Fossés-</td>\n",
       "    </tr>\n",
       "    <tr>\n",
       "      <th>258</th>\n",
       "      <td>Montmartre, 21.</td>\n",
       "    </tr>\n",
       "    <tr>\n",
       "      <th>259</th>\n",
       "      <td>Labranie, médecin, Rambuteau, 54.</td>\n",
       "    </tr>\n",
       "    <tr>\n",
       "      <th>260</th>\n",
       "      <td>Labtunie, nouveautés, St-Antoine, 143.</td>\n",
       "    </tr>\n",
       "    <tr>\n",
       "      <th>261</th>\n",
       "      <td>Labrunie 4, rentier, Culture-Ste-Cathe-</td>\n",
       "    </tr>\n",
       "    <tr>\n",
       "      <th>262</th>\n",
       "      <td>rine, 50.</td>\n",
       "    </tr>\n",
       "    <tr>\n",
       "      <th>263</th>\n",
       "      <td>Labrunière, peintre en porcelaines, Faub.-du-</td>\n",
       "    </tr>\n",
       "    <tr>\n",
       "      <th>264</th>\n",
       "      <td>Temple, 123.</td>\n",
       "    </tr>\n",
       "    <tr>\n",
       "      <th>265</th>\n",
       "      <td>Labruny (Mme), fab. cadres, Rambuteau, 6.2.</td>\n",
       "    </tr>\n",
       "    <tr>\n",
       "      <th>266</th>\n",
       "      <td>Labruyère 4, ancien chef au ministère de la</td>\n",
       "    </tr>\n",
       "    <tr>\n",
       "      <th>267</th>\n",
       "      <td>guerre, Faubourg-Saint-Denis, 67.</td>\n",
       "    </tr>\n",
       "    <tr>\n",
       "      <th>268</th>\n",
       "      <td>Labruyère, charcutier, St-Sébastien, 2.</td>\n",
       "    </tr>\n",
       "    <tr>\n",
       "      <th>269</th>\n",
       "      <td>Labruyère, courtier-gourm., boulev. Beau-</td>\n",
       "    </tr>\n",
       "    <tr>\n",
       "      <th>270</th>\n",
       "      <td>marchais, 32.</td>\n",
       "    </tr>\n",
       "    <tr>\n",
       "      <th>271</th>\n",
       "      <td>Labruyère fils et Cie, huiles, St-Antoine, 176.</td>\n",
       "    </tr>\n",
       "    <tr>\n",
       "      <th>272</th>\n",
       "      <td>Labruyère liSTTil et Cie, raffineurs de sucre,</td>\n",
       "    </tr>\n",
       "    <tr>\n",
       "      <th>273</th>\n",
       "      <td>Bagneux, 5. *</td>\n",
       "    </tr>\n",
       "    <tr>\n",
       "      <th>274</th>\n",
       "      <td>Labruyère (Vve), vins en gros, Cardinal-Le-</td>\n",
       "    </tr>\n",
       "    <tr>\n",
       "      <th>275</th>\n",
       "      <td>1 moine, 4.</td>\n",
       "    </tr>\n",
       "    <tr>\n",
       "      <th>276</th>\n",
       "      <td>! Labry, serrurier, Grande-Truanderie, 52.</td>\n",
       "    </tr>\n",
       "    <tr>\n",
       "      <th>277</th>\n",
       "      <td>Laburthe, fab. billards, Marais-St-Martin, 88.</td>\n",
       "    </tr>\n",
       "  </tbody>\n",
       "</table>\n",
       "<p>278 rows × 1 columns</p>\n",
       "</div>"
      ],
      "text/plain": [
       "                                                 text\n",
       "line                                                 \n",
       "0            Labaatide, rentier, Louis-le-Grand, 10..\n",
       "1         Labastie et'Cie, vins en gros, Grenelle-St-\n",
       "2                                          Germain,4.\n",
       "3           Labat 3$, adjudant-major du 17e bataillon\n",
       "4                    de la garde nationale. Bac, 101.\n",
       "5            Labat -4, chef de bureau à la préfecture\n",
       "6                                        de police. -\n",
       "7                 Labat, coiffeur, Bourg-l'Abbé, 4. -\n",
       "8             Labat, coiffeur, Lenoir-St-Antoine, 16.\n",
       "9           Labat, homme de lettres,. Grenelle-Saint-\n",
       "10                                       Germain, 60.\n",
       "11        Labat-Deliale, dentiste, St. -Antoine, 321.\n",
       "12             La Bâtie, G. général en retraite, Gre-\n",
       "13                              nelle-St-Germain, 97.\n",
       "14       Labaudt, chaussures pour dames, Tailbout,76.\n",
       "15             Labaume (Comtesse de), Université, 73.\n",
       "16                          Labaume (F. ), Drouot, 4.\n",
       "17        Labaume, employé à la guerre , Rumfort, 19.\n",
       "18        Labaume (Mme), modes. J. -J .-Rousseau, 18.\n",
       "19               Labaume-Bérenger (de), Taitbout, 15.\n",
       "20    Labbaye ( J. C.), facteur d'instruments en cui-\n",
       "21                                  vre, Caire, 17. *\n",
       "22                  Labbé ( Vve Louis). Choiseul. 20.\n",
       "23          Labbé, anc. agent de change, Martyrs, 47.\n",
       "24        Labbé, avoué Ire ¡nst., Nve-St-Augustin, 6.\n",
       "25       Labbé, bijoutier en doré, Saint-Martin, 198.\n",
       "26                Labbé (Vve), chapelier, Rivoli, 11.\n",
       "27     Labbé, chapelier, pass. de l'Opéra, galerie de\n",
       "28        l'Horloge, 10^12, et gaI. du Baromètre, 22.\n",
       "29               Labbé, chapelier, place Maubert, 20.\n",
       "...                                               ...\n",
       "248     Labrouste (Th.), 0-4, architecte dû gouverne-\n",
       "249                                    ment, Bac, 35.\n",
       "250        Labrouste (Henri) O. 4, architecte du gou-\n",
       "251                         vernement, Vangirard, 47.\n",
       "252     Labrouste (A.), direct, du collège Ste-Barbe,\n",
       "253                                place du Panthéon.\n",
       "254         Labroguière, parfumerie, la Feuillade, 7.\n",
       "255       Labruhe aîné, nouveautés pour robes et man-\n",
       "256                             teaux, St-Joseph, 10.\n",
       "257       Labruhe jne, nouveautés pour robes, Fossés-\n",
       "258                                   Montmartre, 21.\n",
       "259                 Labranie, médecin, Rambuteau, 54.\n",
       "260            Labtunie, nouveautés, St-Antoine, 143.\n",
       "261           Labrunie 4, rentier, Culture-Ste-Cathe-\n",
       "262                                         rine, 50.\n",
       "263     Labrunière, peintre en porcelaines, Faub.-du-\n",
       "264                                      Temple, 123.\n",
       "265       Labruny (Mme), fab. cadres, Rambuteau, 6.2.\n",
       "266       Labruyère 4, ancien chef au ministère de la\n",
       "267                 guerre, Faubourg-Saint-Denis, 67.\n",
       "268           Labruyère, charcutier, St-Sébastien, 2.\n",
       "269         Labruyère, courtier-gourm., boulev. Beau-\n",
       "270                                     marchais, 32.\n",
       "271   Labruyère fils et Cie, huiles, St-Antoine, 176.\n",
       "272    Labruyère liSTTil et Cie, raffineurs de sucre,\n",
       "273                                     Bagneux, 5. *\n",
       "274       Labruyère (Vve), vins en gros, Cardinal-Le-\n",
       "275                                       1 moine, 4.\n",
       "276        ! Labry, serrurier, Grande-Truanderie, 52.\n",
       "277    Laburthe, fab. billards, Marais-St-Martin, 88.\n",
       "\n",
       "[278 rows x 1 columns]"
      ]
     },
     "execution_count": 325,
     "metadata": {},
     "output_type": "execute_result"
    }
   ],
   "source": [
    "df_rows.loc['bpt6k6305463c', 318]"
   ]
  },
  {
   "cell_type": "code",
   "execution_count": null,
   "metadata": {},
   "outputs": [],
   "source": []
  }
 ],
 "metadata": {
  "kernelspec": {
   "display_name": "Python 3",
   "language": "python",
   "name": "python3"
  },
  "language_info": {
   "codemirror_mode": {
    "name": "ipython",
    "version": 3
   },
   "file_extension": ".py",
   "mimetype": "text/x-python",
   "name": "python",
   "nbconvert_exporter": "python",
   "pygments_lexer": "ipython3",
   "version": "3.5.5"
  },
  "toc": {
   "base_numbering": 1,
   "nav_menu": {
    "height": "109px",
    "width": "160px"
   },
   "number_sections": true,
   "sideBar": false,
   "skip_h1_title": false,
   "title_cell": "Table of Contents",
   "title_sidebar": "Contents",
   "toc_cell": true,
   "toc_position": {},
   "toc_section_display": true,
   "toc_window_display": false
  }
 },
 "nbformat": 4,
 "nbformat_minor": 2
}
