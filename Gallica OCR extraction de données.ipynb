{
 "cells": [
  {
   "cell_type": "markdown",
   "metadata": {
    "toc": true
   },
   "source": [
    "<h1>Table of Contents<span class=\"tocSkip\"></span></h1>\n",
    "<div class=\"toc\"><ul class=\"toc-item\"><li><span><a href=\"#Text-manipulation\" data-toc-modified-id=\"Text-manipulation-1\"><span class=\"toc-item-num\">1&nbsp;&nbsp;</span>Text manipulation</a></span><ul class=\"toc-item\"><li><span><a href=\"#Data-loading\" data-toc-modified-id=\"Data-loading-1.1\"><span class=\"toc-item-num\">1.1&nbsp;&nbsp;</span>Data loading</a></span></li><li><span><a href=\"#Splitting-on-theoritical-ending\" data-toc-modified-id=\"Splitting-on-theoritical-ending-1.2\"><span class=\"toc-item-num\">1.2&nbsp;&nbsp;</span>Splitting on theoritical ending</a></span></li><li><span><a href=\"#From-lines-to-table\" data-toc-modified-id=\"From-lines-to-table-1.3\"><span class=\"toc-item-num\">1.3&nbsp;&nbsp;</span>From lines to table</a></span></li><li><span><a href=\"#Reconcile-columns-by-line\" data-toc-modified-id=\"Reconcile-columns-by-line-1.4\"><span class=\"toc-item-num\">1.4&nbsp;&nbsp;</span>Reconcile columns by line</a></span><ul class=\"toc-item\"><li><span><a href=\"#Reconcile-1-and-3-columns\" data-toc-modified-id=\"Reconcile-1-and-3-columns-1.4.1\"><span class=\"toc-item-num\">1.4.1&nbsp;&nbsp;</span>Reconcile 1 and 3 columns</a></span></li><li><span><a href=\"#Reconcile-2-columns\" data-toc-modified-id=\"Reconcile-2-columns-1.4.2\"><span class=\"toc-item-num\">1.4.2&nbsp;&nbsp;</span>Reconcile 2 columns</a></span></li></ul></li><li><span><a href=\"#Reconcile-columns-by-line\" data-toc-modified-id=\"Reconcile-columns-by-line-1.5\"><span class=\"toc-item-num\">1.5&nbsp;&nbsp;</span>Reconcile columns by line</a></span><ul class=\"toc-item\"><li><span><a href=\"#Reconcile-1-and-3-columns\" data-toc-modified-id=\"Reconcile-1-and-3-columns-1.5.1\"><span class=\"toc-item-num\">1.5.1&nbsp;&nbsp;</span>Reconcile 1 and 3 columns</a></span></li><li><span><a href=\"#Reconcile-2-columns\" data-toc-modified-id=\"Reconcile-2-columns-1.5.2\"><span class=\"toc-item-num\">1.5.2&nbsp;&nbsp;</span>Reconcile 2 columns</a></span></li></ul></li></ul></li><li><span><a href=\"#Export-cleaned\" data-toc-modified-id=\"Export-cleaned-2\"><span class=\"toc-item-num\">2&nbsp;&nbsp;</span>Export cleaned</a></span><ul class=\"toc-item\"><li><span><a href=\"#Cleaned-line\" data-toc-modified-id=\"Cleaned-line-2.1\"><span class=\"toc-item-num\">2.1&nbsp;&nbsp;</span>Cleaned line</a></span></li><li><span><a href=\"#Cleaned-block\" data-toc-modified-id=\"Cleaned-block-2.2\"><span class=\"toc-item-num\">2.2&nbsp;&nbsp;</span>Cleaned block</a></span></li></ul></li></ul></div>"
   ]
  },
  {
   "cell_type": "code",
   "execution_count": 1,
   "metadata": {},
   "outputs": [],
   "source": [
    "import pandas as pd\n",
    "import json\n",
    "from glob import glob\n",
    "import numpy as np\n",
    "from tqdm import tqdm_notebook as tqdm\n",
    "%matplotlib inline\n",
    "import matplotlib.pyplot as plt\n",
    "import seaborn as sns\n",
    "import unicodedata\n",
    "\n",
    "def index_from_boolean(series):\n",
    "    return series.where(series).dropna().index"
   ]
  },
  {
   "cell_type": "code",
   "execution_count": 2,
   "metadata": {},
   "outputs": [],
   "source": [
    "ocr_files = glob('data/ocr_alto/*.json')"
   ]
  },
  {
   "cell_type": "code",
   "execution_count": 2,
   "metadata": {},
   "outputs": [
    {
     "data": {
      "text/html": [
       "<div>\n",
       "<style scoped>\n",
       "    .dataframe tbody tr th:only-of-type {\n",
       "        vertical-align: middle;\n",
       "    }\n",
       "\n",
       "    .dataframe tbody tr th {\n",
       "        vertical-align: top;\n",
       "    }\n",
       "\n",
       "    .dataframe thead th {\n",
       "        text-align: right;\n",
       "    }\n",
       "</style>\n",
       "<table border=\"1\" class=\"dataframe\">\n",
       "  <thead>\n",
       "    <tr style=\"text-align: right;\">\n",
       "      <th></th>\n",
       "      <th>nom_court</th>\n",
       "      <th>annee</th>\n",
       "      <th>remarques</th>\n",
       "      <th>lien_source</th>\n",
       "      <th>source_ID</th>\n",
       "      <th>vue_debut</th>\n",
       "      <th>page_debut</th>\n",
       "      <th>vue_fin</th>\n",
       "      <th>page_fin</th>\n",
       "      <th>page_total</th>\n",
       "      <th>pages</th>\n",
       "      <th>nom_fichier</th>\n",
       "    </tr>\n",
       "    <tr>\n",
       "      <th>ids</th>\n",
       "      <th></th>\n",
       "      <th></th>\n",
       "      <th></th>\n",
       "      <th></th>\n",
       "      <th></th>\n",
       "      <th></th>\n",
       "      <th></th>\n",
       "      <th></th>\n",
       "      <th></th>\n",
       "      <th></th>\n",
       "      <th></th>\n",
       "      <th></th>\n",
       "    </tr>\n",
       "  </thead>\n",
       "  <tbody>\n",
       "    <tr>\n",
       "      <th>bpt6k63243601</th>\n",
       "      <td>Annuaire-general-du-commerce</td>\n",
       "      <td>1839</td>\n",
       "      <td>NaN</td>\n",
       "      <td>https://gallica.bnf.fr/ark:/12148/bpt6k63243601</td>\n",
       "      <td>FRBNF32698036</td>\n",
       "      <td>123</td>\n",
       "      <td>103.0</td>\n",
       "      <td>399.0</td>\n",
       "      <td>379</td>\n",
       "      <td>1457</td>\n",
       "      <td>277.0</td>\n",
       "      <td>bpt6k63243601.Alto.html</td>\n",
       "    </tr>\n",
       "    <tr>\n",
       "      <th>bpt6k62931221</th>\n",
       "      <td>Annuaire-general-du-commerce</td>\n",
       "      <td>1841</td>\n",
       "      <td>document en 2 parties sur Gallica, seule la pr...</td>\n",
       "      <td>https://gallica.bnf.fr/ark:/12148/bpt6k62931221</td>\n",
       "      <td>FRBNF32698036</td>\n",
       "      <td>151</td>\n",
       "      <td>72.0</td>\n",
       "      <td>423.0</td>\n",
       "      <td>344</td>\n",
       "      <td>938</td>\n",
       "      <td>273.0</td>\n",
       "      <td>bpt6k62931221.Alto.html</td>\n",
       "    </tr>\n",
       "    <tr>\n",
       "      <th>bpt6k6286466w</th>\n",
       "      <td>Annuaire-general-du-commerce</td>\n",
       "      <td>1842</td>\n",
       "      <td>document en 2 parties sur Gallica, seule la pr...</td>\n",
       "      <td>https://gallica.bnf.fr/ark:/12148/bpt6k6286466w</td>\n",
       "      <td>FRBNF32698036</td>\n",
       "      <td>189</td>\n",
       "      <td>91.0</td>\n",
       "      <td>489.0</td>\n",
       "      <td>391</td>\n",
       "      <td>939</td>\n",
       "      <td>301.0</td>\n",
       "      <td>bpt6k6286466w.Alto.html</td>\n",
       "    </tr>\n",
       "    <tr>\n",
       "      <th>bpt6k6393838j</th>\n",
       "      <td>Annuaire-general-du-commerce</td>\n",
       "      <td>1843</td>\n",
       "      <td>document en 2 parties sur Gallica, seule la pr...</td>\n",
       "      <td>https://gallica.bnf.fr/ark:/12148/bpt6k6393838j</td>\n",
       "      <td>FRBNF32698036</td>\n",
       "      <td>219</td>\n",
       "      <td>107.0</td>\n",
       "      <td>482.0</td>\n",
       "      <td>378</td>\n",
       "      <td>969</td>\n",
       "      <td>264.0</td>\n",
       "      <td>bpt6k6393838j.Alto.html</td>\n",
       "    </tr>\n",
       "    <tr>\n",
       "      <th>bpt6k6331310g</th>\n",
       "      <td>Annuaire-general-du-commerce</td>\n",
       "      <td>1844</td>\n",
       "      <td>La dernière page comprend le début d'une autre...</td>\n",
       "      <td>https://gallica.bnf.fr/ark:/12148/bpt6k6331310g</td>\n",
       "      <td>FRBNF32698036</td>\n",
       "      <td>216</td>\n",
       "      <td>103.0</td>\n",
       "      <td>483.0</td>\n",
       "      <td>372</td>\n",
       "      <td>977</td>\n",
       "      <td>268.0</td>\n",
       "      <td>bpt6k6331310g.Alto.html</td>\n",
       "    </tr>\n",
       "  </tbody>\n",
       "</table>\n",
       "</div>"
      ],
      "text/plain": [
       "                                  nom_court  annee  \\\n",
       "ids                                                  \n",
       "bpt6k63243601  Annuaire-general-du-commerce   1839   \n",
       "bpt6k62931221  Annuaire-general-du-commerce   1841   \n",
       "bpt6k6286466w  Annuaire-general-du-commerce   1842   \n",
       "bpt6k6393838j  Annuaire-general-du-commerce   1843   \n",
       "bpt6k6331310g  Annuaire-general-du-commerce   1844   \n",
       "\n",
       "                                                       remarques  \\\n",
       "ids                                                                \n",
       "bpt6k63243601                                                NaN   \n",
       "bpt6k62931221  document en 2 parties sur Gallica, seule la pr...   \n",
       "bpt6k6286466w  document en 2 parties sur Gallica, seule la pr...   \n",
       "bpt6k6393838j  document en 2 parties sur Gallica, seule la pr...   \n",
       "bpt6k6331310g  La dernière page comprend le début d'une autre...   \n",
       "\n",
       "                                                   lien_source  \\\n",
       "ids                                                              \n",
       "bpt6k63243601  https://gallica.bnf.fr/ark:/12148/bpt6k63243601   \n",
       "bpt6k62931221  https://gallica.bnf.fr/ark:/12148/bpt6k62931221   \n",
       "bpt6k6286466w  https://gallica.bnf.fr/ark:/12148/bpt6k6286466w   \n",
       "bpt6k6393838j  https://gallica.bnf.fr/ark:/12148/bpt6k6393838j   \n",
       "bpt6k6331310g  https://gallica.bnf.fr/ark:/12148/bpt6k6331310g   \n",
       "\n",
       "                    source_ID  vue_debut  page_debut  vue_fin page_fin  \\\n",
       "ids                                                                      \n",
       "bpt6k63243601  FRBNF32698036         123       103.0    399.0      379   \n",
       "bpt6k62931221  FRBNF32698036         151        72.0    423.0      344   \n",
       "bpt6k6286466w  FRBNF32698036         189        91.0    489.0      391   \n",
       "bpt6k6393838j  FRBNF32698036         219       107.0    482.0      378   \n",
       "bpt6k6331310g  FRBNF32698036         216       103.0    483.0      372   \n",
       "\n",
       "               page_total  pages              nom_fichier  \n",
       "ids                                                        \n",
       "bpt6k63243601        1457  277.0  bpt6k63243601.Alto.html  \n",
       "bpt6k62931221         938  273.0  bpt6k62931221.Alto.html  \n",
       "bpt6k6286466w         939  301.0  bpt6k6286466w.Alto.html  \n",
       "bpt6k6393838j         969  264.0  bpt6k6393838j.Alto.html  \n",
       "bpt6k6331310g         977  268.0  bpt6k6331310g.Alto.html  "
      ]
     },
     "execution_count": 2,
     "metadata": {},
     "output_type": "execute_result"
    }
   ],
   "source": [
    "df_rep = pd.read_excel('repertoires.xlsx')\n",
    "df_rep.dropna(subset=['nom_court'], inplace=True)\n",
    "df_rep['ids'] = df_rep['lien_source'].str.replace('https://gallica.bnf.fr/ark:/12148/', '')\n",
    "df_rep['vue_debut'] = df_rep['vue_debut'].astype(int)\n",
    "df_rep['annee'] = df_rep['annee'].astype(int)\n",
    "# df_rep['annee'] = pd.to_datetime(df_rep['annee'].astype(int), format='%Y')\n",
    "df_rep.set_index('ids', inplace=True)\n",
    "df_rep.head()"
   ]
  },
  {
   "cell_type": "markdown",
   "metadata": {},
   "source": [
    "## Text manipulation"
   ]
  },
  {
   "cell_type": "markdown",
   "metadata": {},
   "source": [
    "### Data loading"
   ]
  },
  {
   "cell_type": "code",
   "execution_count": null,
   "metadata": {},
   "outputs": [],
   "source": [
    "# Gets for a given line all the words and gives them a unique index\n",
    "def get_words_line(doc_id, vue_debut, idx_page, idx_block, idx_line, line, offset_words=0):\n",
    "    words = []\n",
    "    for idx_word, word in enumerate(line):\n",
    "        row = {}\n",
    "        row['document'] = doc_id\n",
    "        row['page'] =  vue_debut + idx_page\n",
    "        row['block'] = idx_block\n",
    "        row['line'] = idx_line\n",
    "        row['word'] = offset_words+idx_word\n",
    "        row['text'] = word['text']\n",
    "        row['full_text'] = row['text']\n",
    "        row['is_hyphen'] = False\n",
    "        if 'full_text' in word:\n",
    "            row['full_text'] = word['full_text']\n",
    "            row['is_hyphen'] = True\n",
    "        words.append(row)\n",
    "    return words\n",
    "# Merges two or more lists into one, dropping the first element of all list except the first one\n",
    "# i.e. merge([a,b,c], [c,d,e], [e,f,g]) becomes [a,b,c,d,e,f,g]\n",
    "def merge_list_dropping(lists):\n",
    "    res = []\n",
    "    if len(lists) <= 0:\n",
    "        return res\n",
    "    res.extend(lists[0])\n",
    "    for i in range(1, len(lists)):\n",
    "        l = lists[i]\n",
    "        if len(l) > 1:\n",
    "            res.extend(lists[i][1:])\n",
    "    return res\n",
    "\n",
    "# Iterates over all documents' jsons and extract the data\n",
    "rows = []\n",
    "for idx_document, ocr_file in tqdm(enumerate(ocr_files)):\n",
    "    # Get the doc id \n",
    "    doc_id = ocr_file.split('/')[-1].split('_')[0]\n",
    "    # Get the number of the first vue and iterate over them\n",
    "    # WARNING: does not work for some reason\n",
    "    vue_debut = int(df_rep.loc[doc_id]['vue_debut'])\n",
    "    with open(ocr_file, 'r', encoding='utf-8') as infile:\n",
    "        data = json.load(infile)\n",
    "    for idx_page, page in tqdm(enumerate(data), leave=False):\n",
    "        for idx_block, block in enumerate(page):\n",
    "            # Boolean logic to check if last element of each line is an hyphen\n",
    "            # Creates new lines by merging hyphens\n",
    "            ending = np.array([('full_text' in x[-1]) and len(x) > 1 for x in block])\n",
    "            transititons = ending[1:]*2+ending[:-1]\n",
    "            new_lines = np.split(block, np.where((transititons == 0) | (transititons == 2))[0]+1)\n",
    "            new_lines = [merge_list_dropping(lines) for lines in new_lines]\n",
    "            \n",
    "            for idx_line, line in enumerate(new_lines):\n",
    "                rows.extend(get_words_line(doc_id, vue_debut, idx_page, idx_block, idx_line, line))"
   ]
  },
  {
   "cell_type": "code",
   "execution_count": 8,
   "metadata": {},
   "outputs": [
    {
     "data": {
      "text/html": [
       "<div>\n",
       "<style scoped>\n",
       "    .dataframe tbody tr th:only-of-type {\n",
       "        vertical-align: middle;\n",
       "    }\n",
       "\n",
       "    .dataframe tbody tr th {\n",
       "        vertical-align: top;\n",
       "    }\n",
       "\n",
       "    .dataframe thead th {\n",
       "        text-align: right;\n",
       "    }\n",
       "</style>\n",
       "<table border=\"1\" class=\"dataframe\">\n",
       "  <thead>\n",
       "    <tr style=\"text-align: right;\">\n",
       "      <th></th>\n",
       "      <th></th>\n",
       "      <th></th>\n",
       "      <th></th>\n",
       "      <th></th>\n",
       "      <th>text</th>\n",
       "      <th>full_text</th>\n",
       "      <th>is_hyphen</th>\n",
       "    </tr>\n",
       "    <tr>\n",
       "      <th>document</th>\n",
       "      <th>page</th>\n",
       "      <th>block</th>\n",
       "      <th>line</th>\n",
       "      <th>word</th>\n",
       "      <th></th>\n",
       "      <th></th>\n",
       "      <th></th>\n",
       "    </tr>\n",
       "  </thead>\n",
       "  <tbody>\n",
       "    <tr>\n",
       "      <th rowspan=\"5\" valign=\"top\">bpt6k97630871</th>\n",
       "      <th rowspan=\"5\" valign=\"top\">11</th>\n",
       "      <th rowspan=\"5\" valign=\"top\">0</th>\n",
       "      <th rowspan=\"5\" valign=\"top\">0</th>\n",
       "      <th>0</th>\n",
       "      <td>Gerboz</td>\n",
       "      <td>Gerboz</td>\n",
       "      <td>False</td>\n",
       "    </tr>\n",
       "    <tr>\n",
       "      <th>1</th>\n",
       "      <td>(F.)</td>\n",
       "      <td>(F.)</td>\n",
       "      <td>False</td>\n",
       "    </tr>\n",
       "    <tr>\n",
       "      <th>2</th>\n",
       "      <td>fils,</td>\n",
       "      <td>fils,</td>\n",
       "      <td>False</td>\n",
       "    </tr>\n",
       "    <tr>\n",
       "      <th>3</th>\n",
       "      <td>sacs</td>\n",
       "      <td>sacs</td>\n",
       "      <td>False</td>\n",
       "    </tr>\n",
       "    <tr>\n",
       "      <th>4</th>\n",
       "      <td>en</td>\n",
       "      <td>en</td>\n",
       "      <td>False</td>\n",
       "    </tr>\n",
       "  </tbody>\n",
       "</table>\n",
       "</div>"
      ],
      "text/plain": [
       "                                      text full_text  is_hyphen\n",
       "document      page block line word                             \n",
       "bpt6k97630871 11   0     0    0     Gerboz    Gerboz      False\n",
       "                              1       (F.)      (F.)      False\n",
       "                              2      fils,     fils,      False\n",
       "                              3       sacs      sacs      False\n",
       "                              4         en        en      False"
      ]
     },
     "execution_count": 8,
     "metadata": {},
     "output_type": "execute_result"
    }
   ],
   "source": [
    "# Load the row into a dataframe\n",
    "df = pd.DataFrame(rows)\n",
    "df = df[['text', 'full_text', 'is_hyphen', 'document', 'page', 'block', 'line', 'word']]\n",
    "df.set_index(['document', 'page', 'block', 'line', 'word'], inplace=True)\n",
    "df_lines = df.groupby(level=[0,1,2,3])['full_text'].apply(lambda x: ' '.join(x))\n",
    "df_lines.to_pickle('df_lines.pickle')\n",
    "df.head()"
   ]
  },
  {
   "cell_type": "code",
   "execution_count": 4,
   "metadata": {},
   "outputs": [],
   "source": [
    "df_lines = pd.read_pickle('df_lines.pickle')"
   ]
  },
  {
   "cell_type": "markdown",
   "metadata": {},
   "source": [
    "### Splitting on theoritical ending"
   ]
  },
  {
   "cell_type": "markdown",
   "metadata": {},
   "source": [
    "We split the lines if they contain a number followed by a dot or a 'bis' followed by a dot: 4. or 4bis.\n",
    "This a simple heuristic to give more lines, however, this does not determine the final heuristic for choosing if a number is a valid one."
   ]
  },
  {
   "cell_type": "code",
   "execution_count": 7,
   "metadata": {},
   "outputs": [],
   "source": [
    "# Split the lines\n",
    "df_lines_with_split = df_lines.str.extractall(r'((?:.*?\\d\\.)|(?:.*?bis\\.)|(?:.*))')\\\n",
    "                            .dropna().reset_index(level=4, drop=True)[0]\n",
    "\n",
    "# Make the index unique by adding a new split index\n",
    "df_lines_with_split = df_lines_with_split.to_frame()\n",
    "df_lines_with_split.set_index(df_lines_with_split.groupby(level=[0,1,2,3]).cumcount(),  append=True, inplace=True)\n",
    "df_lines_with_split.index.set_names('split', level=4, inplace=True)\n",
    "df_lines_with_split = df_lines_with_split[0]\n",
    "\n",
    "# Remove all lines that contains only not alphanumeric characters\n",
    "df_lines_with_split = df_lines_with_split[~df_lines_with_split.str.contains(r'^[^\\w]+$')]\n",
    "\n",
    "# Strip the lines and remove empty comma-separated values\n",
    "# e.g. \", ,fs , sad\" becomes \"fs, sad\"\n",
    "df_lines_with_split = df_lines_with_split.str.strip()\n",
    "df_lines_with_split = df_lines_with_split.str.replace(r'^,(\\s*,)*', '')\n",
    "df_lines_with_split = df_lines_with_split.str.strip()\n",
    "df_lines_with_split = df_lines_with_split.str.replace(r',(\\s+,)+', ',')\n",
    "df_lines_with_split = df_lines_with_split.str.strip()\n",
    "\n",
    "df_lines_with_split.to_pickle('df_lines_with_split.pickle')"
   ]
  },
  {
   "cell_type": "code",
   "execution_count": 5,
   "metadata": {},
   "outputs": [],
   "source": [
    "df_lines_with_split = pd.read_pickle('df_lines_with_split.pickle')"
   ]
  },
  {
   "cell_type": "markdown",
   "metadata": {},
   "source": [
    "### From lines to table"
   ]
  },
  {
   "cell_type": "markdown",
   "metadata": {},
   "source": [
    "We simply split on commas, strip all the lines and make empty lines nan"
   ]
  },
  {
   "cell_type": "code",
   "execution_count": 8,
   "metadata": {
    "scrolled": true
   },
   "outputs": [],
   "source": [
    "df_splitted = df_lines_with_split.str.split(',', expand=True)\n",
    "\n",
    "df_splitted = df_splitted.apply(lambda col: col.str.strip())\n",
    "df_splitted.replace('', np.nan, inplace=True)\n",
    "df_splitted.fillna(value=pd.np.nan, inplace=True)\n",
    "df_splitted.to_pickle('df_splitted.pickle')"
   ]
  },
  {
   "cell_type": "code",
   "execution_count": 4,
   "metadata": {},
   "outputs": [],
   "source": [
    "df_splitted = pd.read_pickle('df_splitted.pickle')"
   ]
  },
  {
   "cell_type": "code",
   "execution_count": 9,
   "metadata": {
    "scrolled": true
   },
   "outputs": [
    {
     "data": {
      "text/plain": [
       "<matplotlib.axes._subplots.AxesSubplot at 0x7feb2b085748>"
      ]
     },
     "execution_count": 9,
     "metadata": {},
     "output_type": "execute_result"
    },
    {
     "data": {
      "image/png": "[encoded data removed]",
      "text/plain": [
       "<Figure size 432x288 with 1 Axes>"
      ]
     },
     "metadata": {
      "needs_background": "light"
     },
     "output_type": "display_data"
    }
   ],
   "source": [
    "not_null_counts = df_splitted.notnull().sum(axis=1)\n",
    "sns.distplot(not_null_counts, kde=False)"
   ]
  },
  {
   "cell_type": "markdown",
   "metadata": {},
   "source": [
    "By looking at the number of non-null column, we can see that the majority of the data has the right number of fields, i.e. four: name, job, street, number.\n",
    "\n",
    "Then the biggest others are 1, 2 and 3 columns. We could try to reconcile the 1 and 3 columns and the 2 columns amongst themselves.\n",
    "\n",
    "The theoritical amount of person that could be extracted is computed in the following cell."
   ]
  },
  {
   "cell_type": "code",
   "execution_count": 10,
   "metadata": {},
   "outputs": [
    {
     "name": "stdout",
     "output_type": "stream",
     "text": [
      "We could get at most 5616400 entities\n"
     ]
    }
   ],
   "source": [
    "num_one = (not_null_counts == 1).sum()\n",
    "num_two = (not_null_counts == 2).sum()\n",
    "num_three = (not_null_counts == 3).sum()\n",
    "num_four = (not_null_counts == 4).sum()\n",
    "print(\"We could get at most %d entities\"%(num_four + min(num_three, num_one) + num_two // 2))"
   ]
  },
  {
   "cell_type": "markdown",
   "metadata": {},
   "source": [
    "### Reconcile columns by line"
   ]
  },
  {
   "cell_type": "markdown",
   "metadata": {},
   "source": [
    "#### Reconcile 1 and 3 columns"
   ]
  },
  {
   "cell_type": "markdown",
   "metadata": {},
   "source": [
    "The idea to reconcile rows that contain 1 and 3 columns is quite simple:\n",
    "\n",
    "If the rows that contains 1 column has a value that is a number, i.e. contains one or more numbers, \"-\", spaces, \"et\" and \"bis\", and is preceded by a row that has 3 columns, then we can merge the two."
   ]
  },
  {
   "cell_type": "code",
   "execution_count": 11,
   "metadata": {},
   "outputs": [],
   "source": [
    "num_regex = r'^(\\d|-|et| )*(\\d|bis)(\\.)?$'"
   ]
  },
  {
   "cell_type": "code",
   "execution_count": 106,
   "metadata": {
    "scrolled": false
   },
   "outputs": [
    {
     "name": "stderr",
     "output_type": "stream",
     "text": [
      "/home/rbarman/.conda/envs/dh_segment/lib/python3.5/site-packages/ipykernel_launcher.py:2: UserWarning: This pattern has match groups. To actually get the groups, use str.extract.\n",
      "  \n",
      "/home/rbarman/.conda/envs/dh_segment/lib/python3.5/site-packages/ipykernel_launcher.py:3: UserWarning: This pattern has match groups. To actually get the groups, use str.extract.\n",
      "  This is separate from the ipykernel package so we can avoid doing imports until\n"
     ]
    }
   ],
   "source": [
    "# Get the rows with 1 column and a number preceded by a 3 column row\n",
    "df_selection = df_splitted[(df_splitted.groupby(level=[0,1])[0].shift(-1).str.contains(num_regex).fillna(False) & (not_null_counts==3))|\n",
    "            (df_splitted[0].str.contains(num_regex) & (not_null_counts==1))]"
   ]
  },
  {
   "cell_type": "code",
   "execution_count": 107,
   "metadata": {},
   "outputs": [],
   "source": [
    "selection_not_null = df_selection.notnull().sum(axis=1)"
   ]
  },
  {
   "cell_type": "markdown",
   "metadata": {},
   "source": [
    "Boolean masks to select the rows with 3 columns and 1 column corresponding to the previously described logic."
   ]
  },
  {
   "cell_type": "code",
   "execution_count": 108,
   "metadata": {},
   "outputs": [
    {
     "data": {
      "text/plain": [
       "2002"
      ]
     },
     "execution_count": 108,
     "metadata": {},
     "output_type": "execute_result"
    }
   ],
   "source": [
    "# selects every row that has 3 elements and next row has 1 element\n",
    "select_three = (selection_not_null.groupby(level=[0,1, 2]).shift(0)*100 + selection_not_null.groupby(level=[0,1, 2]).shift(-1).fillna(0)) == 301\n",
    "# selects every row that has 1 element and prev row has 3 elements\n",
    "select_one = (selection_not_null.groupby(level=[0,1, 2]).shift(1).fillna(0)*100 + selection_not_null.groupby(level=[0,1, 2]).shift(0)) == 301\n",
    "# combination of the two\n",
    "select_rows = select_three | select_one\n",
    "select_rows.sum()"
   ]
  },
  {
   "cell_type": "markdown",
   "metadata": {},
   "source": [
    "We merge the 3 colums and 1 column rows together."
   ]
  },
  {
   "cell_type": "code",
   "execution_count": 15,
   "metadata": {},
   "outputs": [
    {
     "name": "stderr",
     "output_type": "stream",
     "text": [
      "/home/rbarman/.conda/envs/dh_segment/lib/python3.5/site-packages/pandas/core/indexing.py:543: SettingWithCopyWarning: \n",
      "A value is trying to be set on a copy of a slice from a DataFrame.\n",
      "Try using .loc[row_indexer,col_indexer] = value instead\n",
      "\n",
      "See the caveats in the documentation: http://pandas.pydata.org/pandas-docs/stable/indexing.html#indexing-view-versus-copy\n",
      "  self.obj[item] = s\n"
     ]
    }
   ],
   "source": [
    "df_selection.loc[index_from_boolean(select_three), 3] = df_selection[select_one][0].values"
   ]
  },
  {
   "cell_type": "markdown",
   "metadata": {},
   "source": [
    "TODO: Check if the right way to do it...\n",
    "\n",
    "We directly modify the splitted dataframe to incldue the values of the modified rows and drop the 1 column rows."
   ]
  },
  {
   "cell_type": "code",
   "execution_count": 16,
   "metadata": {},
   "outputs": [],
   "source": [
    "df_splitted.loc[index_from_boolean(select_three)] = df_selection[select_three].values\n",
    "df_splitted.drop(index_from_boolean(select_one), inplace=True)"
   ]
  },
  {
   "cell_type": "markdown",
   "metadata": {},
   "source": [
    "#### Reconcile 2 columns"
   ]
  },
  {
   "cell_type": "code",
   "execution_count": 92,
   "metadata": {},
   "outputs": [],
   "source": [
    "# Simple change from previous versions, does not matter...\n",
    "df_left = df_splitted"
   ]
  },
  {
   "cell_type": "code",
   "execution_count": 93,
   "metadata": {},
   "outputs": [],
   "source": [
    "not_null_counts_left = df_left.notnull().sum(axis=1)"
   ]
  },
  {
   "cell_type": "code",
   "execution_count": 94,
   "metadata": {},
   "outputs": [
    {
     "data": {
      "text/plain": [
       "<matplotlib.axes._subplots.AxesSubplot at 0x7feab3a8a6a0>"
      ]
     },
     "execution_count": 94,
     "metadata": {},
     "output_type": "execute_result"
    },
    {
     "data": {
      "image/png": "[encoded data removed]",
      "text/plain": [
       "<Figure size 432x288 with 1 Axes>"
      ]
     },
     "metadata": {
      "needs_background": "light"
     },
     "output_type": "display_data"
    }
   ],
   "source": [
    "sns.distplot(not_null_counts_left, kde=False)"
   ]
  },
  {
   "cell_type": "markdown",
   "metadata": {},
   "source": [
    "We use the same logic than before, but this time with 2 columns rows"
   ]
  },
  {
   "cell_type": "code",
   "execution_count": 95,
   "metadata": {},
   "outputs": [],
   "source": [
    "num_regex = r'^(\\d|-|et| )*(\\d|bis)(\\.)?$'"
   ]
  },
  {
   "cell_type": "code",
   "execution_count": 96,
   "metadata": {
    "scrolled": false
   },
   "outputs": [
    {
     "name": "stderr",
     "output_type": "stream",
     "text": [
      "/home/rbarman/.conda/envs/dh_segment/lib/python3.5/site-packages/ipykernel_launcher.py:1: UserWarning: This pattern has match groups. To actually get the groups, use str.extract.\n",
      "  \"\"\"Entry point for launching an IPython kernel.\n",
      "/home/rbarman/.conda/envs/dh_segment/lib/python3.5/site-packages/ipykernel_launcher.py:2: UserWarning: This pattern has match groups. To actually get the groups, use str.extract.\n",
      "  \n"
     ]
    }
   ],
   "source": [
    "df_selection = df_left[not_null_counts_left == 2][(df_left[not_null_counts_left == 2].groupby(level=[0,1, 2])[1].shift(-1).str.contains(num_regex).fillna(False))|\n",
    "            (df_left[not_null_counts_left == 2][1].str.contains(num_regex))]"
   ]
  },
  {
   "cell_type": "markdown",
   "metadata": {},
   "source": [
    "This time we work on the fact that a row is a number or not, we only want to merge to row if the second one is a number and the first one not."
   ]
  },
  {
   "cell_type": "code",
   "execution_count": 97,
   "metadata": {},
   "outputs": [
    {
     "name": "stderr",
     "output_type": "stream",
     "text": [
      "/home/rbarman/.conda/envs/dh_segment/lib/python3.5/site-packages/ipykernel_launcher.py:1: UserWarning: This pattern has match groups. To actually get the groups, use str.extract.\n",
      "  \"\"\"Entry point for launching an IPython kernel.\n"
     ]
    }
   ],
   "source": [
    "is_number = df_left[not_null_counts_left == 2][1].str.contains(num_regex).fillna(False).astype(int)"
   ]
  },
  {
   "cell_type": "code",
   "execution_count": 98,
   "metadata": {},
   "outputs": [
    {
     "data": {
      "text/plain": [
       "480"
      ]
     },
     "execution_count": 98,
     "metadata": {},
     "output_type": "execute_result"
    }
   ],
   "source": [
    "# selects every row that has 3 elements and next row has 1 element\n",
    "select_other = (is_number.groupby(level=[0,1, 2]).shift(0)*100 + is_number.groupby(level=[0,1, 2]).shift(-1).fillna(0)) == 1\n",
    "# selects every row that has 1 element and prev row has 3 elements\n",
    "select_num = (is_number.groupby(level=[0,1, 2]).shift(1).fillna(4) + is_number.groupby(level=[0,1, 2]).shift(0)*100) == 100\n",
    "# combination of the two\n",
    "select_rows = select_other | select_num\n",
    "select_rows.sum()"
   ]
  },
  {
   "cell_type": "markdown",
   "metadata": {},
   "source": [
    "We merge the values if they matched the previously described logic and store the result in the df_splitted"
   ]
  },
  {
   "cell_type": "code",
   "execution_count": 26,
   "metadata": {},
   "outputs": [],
   "source": [
    "df_selection.loc[select_other, 2:3] = df_selection.loc[select_num, 0:1].values"
   ]
  },
  {
   "cell_type": "code",
   "execution_count": 27,
   "metadata": {},
   "outputs": [
    {
     "name": "stderr",
     "output_type": "stream",
     "text": [
      "/home/rbarman/.conda/envs/dh_segment/lib/python3.5/site-packages/ipykernel_launcher.py:1: UserWarning: Boolean Series key will be reindexed to match DataFrame index.\n",
      "  \"\"\"Entry point for launching an IPython kernel.\n"
     ]
    }
   ],
   "source": [
    "df_splitted.loc[select_other.where(select_other).dropna().index] = df_selection[select_other].values\n",
    "df_splitted.drop(select_num.where(select_num).dropna().index, inplace=True)"
   ]
  },
  {
   "cell_type": "markdown",
   "metadata": {},
   "source": [
    "### Reconcile columns by line"
   ]
  },
  {
   "cell_type": "markdown",
   "metadata": {},
   "source": [
    "Since we reconciled as much as possible by simple heuristic by lines, this time we try to reconcile by blocks rather than by lines.\n",
    "\n",
    "**WARNING** **WARNING**: The <a href=\"#Cleaned-line\">Cleaned line</a> section should be run before this section in order not to treat twice the same lines."
   ]
  },
  {
   "cell_type": "code",
   "execution_count": 41,
   "metadata": {},
   "outputs": [],
   "source": [
    "# Get the lines which have not already been treated\n",
    "df_lines_with_split_selection = df_lines_with_split.loc[df_lines_with_split.index.intersection(df_splitted.index).difference(df_clean.index)]\n",
    "\n",
    "# Group the lines by block\n",
    "df_block = df_lines_with_split_selection.groupby(level=[0,1,2]).apply(lambda x: ' '.join(x))"
   ]
  },
  {
   "cell_type": "code",
   "execution_count": 42,
   "metadata": {},
   "outputs": [
    {
     "data": {
      "text/html": [
       "<div>\n",
       "<style scoped>\n",
       "    .dataframe tbody tr th:only-of-type {\n",
       "        vertical-align: middle;\n",
       "    }\n",
       "\n",
       "    .dataframe tbody tr th {\n",
       "        vertical-align: top;\n",
       "    }\n",
       "\n",
       "    .dataframe thead th {\n",
       "        text-align: right;\n",
       "    }\n",
       "</style>\n",
       "<table border=\"1\" class=\"dataframe\">\n",
       "  <thead>\n",
       "    <tr style=\"text-align: right;\">\n",
       "      <th></th>\n",
       "      <th></th>\n",
       "      <th></th>\n",
       "      <th>0</th>\n",
       "      <th>1</th>\n",
       "      <th>2</th>\n",
       "      <th>3</th>\n",
       "      <th>4</th>\n",
       "      <th>5</th>\n",
       "      <th>6</th>\n",
       "      <th>7</th>\n",
       "      <th>8</th>\n",
       "      <th>9</th>\n",
       "      <th>...</th>\n",
       "      <th>59</th>\n",
       "      <th>60</th>\n",
       "      <th>61</th>\n",
       "      <th>62</th>\n",
       "      <th>63</th>\n",
       "      <th>64</th>\n",
       "      <th>65</th>\n",
       "      <th>66</th>\n",
       "      <th>67</th>\n",
       "      <th>68</th>\n",
       "    </tr>\n",
       "    <tr>\n",
       "      <th>document</th>\n",
       "      <th>page</th>\n",
       "      <th>block</th>\n",
       "      <th></th>\n",
       "      <th></th>\n",
       "      <th></th>\n",
       "      <th></th>\n",
       "      <th></th>\n",
       "      <th></th>\n",
       "      <th></th>\n",
       "      <th></th>\n",
       "      <th></th>\n",
       "      <th></th>\n",
       "      <th></th>\n",
       "      <th></th>\n",
       "      <th></th>\n",
       "      <th></th>\n",
       "      <th></th>\n",
       "      <th></th>\n",
       "      <th></th>\n",
       "      <th></th>\n",
       "      <th></th>\n",
       "      <th></th>\n",
       "      <th></th>\n",
       "    </tr>\n",
       "  </thead>\n",
       "  <tbody>\n",
       "    <tr>\n",
       "      <th rowspan=\"5\" valign=\"top\">bpt6k6282019m</th>\n",
       "      <th rowspan=\"5\" valign=\"top\">72</th>\n",
       "      <th>4</th>\n",
       "      <td>Bertin</td>\n",
       "      <td>tourneur en bois</td>\n",
       "      <td>Bonaparte</td>\n",
       "      <td>80</td>\n",
       "      <td>etMélière</td>\n",
       "      <td>1.</td>\n",
       "      <td>NaN</td>\n",
       "      <td>NaN</td>\n",
       "      <td>NaN</td>\n",
       "      <td>NaN</td>\n",
       "      <td>...</td>\n",
       "      <td>NaN</td>\n",
       "      <td>NaN</td>\n",
       "      <td>NaN</td>\n",
       "      <td>NaN</td>\n",
       "      <td>NaN</td>\n",
       "      <td>NaN</td>\n",
       "      <td>NaN</td>\n",
       "      <td>NaN</td>\n",
       "      <td>NaN</td>\n",
       "      <td>NaN</td>\n",
       "    </tr>\n",
       "    <tr>\n",
       "      <th>9</th>\n",
       "      <td>Bertin-Burrier</td>\n",
       "      <td>fab. de ouates et teinturier en grand</td>\n",
       "      <td>Vignes Saint-Marcel</td>\n",
       "      <td>10 et. 12.</td>\n",
       "      <td>NaN</td>\n",
       "      <td>NaN</td>\n",
       "      <td>NaN</td>\n",
       "      <td>NaN</td>\n",
       "      <td>NaN</td>\n",
       "      <td>NaN</td>\n",
       "      <td>...</td>\n",
       "      <td>NaN</td>\n",
       "      <td>NaN</td>\n",
       "      <td>NaN</td>\n",
       "      <td>NaN</td>\n",
       "      <td>NaN</td>\n",
       "      <td>NaN</td>\n",
       "      <td>NaN</td>\n",
       "      <td>NaN</td>\n",
       "      <td>NaN</td>\n",
       "      <td>NaN</td>\n",
       "    </tr>\n",
       "    <tr>\n",
       "      <th>10</th>\n",
       "      <td>Bertin de Chalup 4 i ancien chef d'escadron</td>\n",
       "      <td>ViMe-FEveque</td>\n",
       "      <td>27 bis.</td>\n",
       "      <td>NaN</td>\n",
       "      <td>NaN</td>\n",
       "      <td>NaN</td>\n",
       "      <td>NaN</td>\n",
       "      <td>NaN</td>\n",
       "      <td>NaN</td>\n",
       "      <td>NaN</td>\n",
       "      <td>...</td>\n",
       "      <td>NaN</td>\n",
       "      <td>NaN</td>\n",
       "      <td>NaN</td>\n",
       "      <td>NaN</td>\n",
       "      <td>NaN</td>\n",
       "      <td>NaN</td>\n",
       "      <td>NaN</td>\n",
       "      <td>NaN</td>\n",
       "      <td>NaN</td>\n",
       "      <td>NaN</td>\n",
       "    </tr>\n",
       "    <tr>\n",
       "      <th>11</th>\n",
       "      <td>Bertin de Vaux (E.)</td>\n",
       "      <td>O. peintre</td>\n",
       "      <td>inspect.</td>\n",
       "      <td>NaN</td>\n",
       "      <td>NaN</td>\n",
       "      <td>NaN</td>\n",
       "      <td>NaN</td>\n",
       "      <td>NaN</td>\n",
       "      <td>NaN</td>\n",
       "      <td>NaN</td>\n",
       "      <td>...</td>\n",
       "      <td>NaN</td>\n",
       "      <td>NaN</td>\n",
       "      <td>NaN</td>\n",
       "      <td>NaN</td>\n",
       "      <td>NaN</td>\n",
       "      <td>NaN</td>\n",
       "      <td>NaN</td>\n",
       "      <td>NaN</td>\n",
       "      <td>NaN</td>\n",
       "      <td>NaN</td>\n",
       "    </tr>\n",
       "    <tr>\n",
       "      <th>12</th>\n",
       "      <td>des Beaux-Arts</td>\n",
       "      <td>Sts-Pères</td>\n",
       "      <td>7.</td>\n",
       "      <td>NaN</td>\n",
       "      <td>NaN</td>\n",
       "      <td>NaN</td>\n",
       "      <td>NaN</td>\n",
       "      <td>NaN</td>\n",
       "      <td>NaN</td>\n",
       "      <td>NaN</td>\n",
       "      <td>...</td>\n",
       "      <td>NaN</td>\n",
       "      <td>NaN</td>\n",
       "      <td>NaN</td>\n",
       "      <td>NaN</td>\n",
       "      <td>NaN</td>\n",
       "      <td>NaN</td>\n",
       "      <td>NaN</td>\n",
       "      <td>NaN</td>\n",
       "      <td>NaN</td>\n",
       "      <td>NaN</td>\n",
       "    </tr>\n",
       "  </tbody>\n",
       "</table>\n",
       "<p>5 rows × 69 columns</p>\n",
       "</div>"
      ],
      "text/plain": [
       "                                                                   0   \\\n",
       "document      page block                                                \n",
       "bpt6k6282019m 72   4                                           Bertin   \n",
       "                   9                                   Bertin-Burrier   \n",
       "                   10     Bertin de Chalup 4 i ancien chef d'escadron   \n",
       "                   11                             Bertin de Vaux (E.)   \n",
       "                   12                                  des Beaux-Arts   \n",
       "\n",
       "                                                             1   \\\n",
       "document      page block                                          \n",
       "bpt6k6282019m 72   4                           tourneur en bois   \n",
       "                   9      fab. de ouates et teinturier en grand   \n",
       "                   10                              ViMe-FEveque   \n",
       "                   11                                O. peintre   \n",
       "                   12                                 Sts-Pères   \n",
       "\n",
       "                                           2           3          4    5   \\\n",
       "document      page block                                                    \n",
       "bpt6k6282019m 72   4                Bonaparte          80  etMélière   1.   \n",
       "                   9      Vignes Saint-Marcel  10 et. 12.        NaN  NaN   \n",
       "                   10                 27 bis.         NaN        NaN  NaN   \n",
       "                   11                inspect.         NaN        NaN  NaN   \n",
       "                   12                      7.         NaN        NaN  NaN   \n",
       "\n",
       "                           6    7    8    9  ...    59   60   61   62   63  \\\n",
       "document      page block                     ...                             \n",
       "bpt6k6282019m 72   4      NaN  NaN  NaN  NaN ...   NaN  NaN  NaN  NaN  NaN   \n",
       "                   9      NaN  NaN  NaN  NaN ...   NaN  NaN  NaN  NaN  NaN   \n",
       "                   10     NaN  NaN  NaN  NaN ...   NaN  NaN  NaN  NaN  NaN   \n",
       "                   11     NaN  NaN  NaN  NaN ...   NaN  NaN  NaN  NaN  NaN   \n",
       "                   12     NaN  NaN  NaN  NaN ...   NaN  NaN  NaN  NaN  NaN   \n",
       "\n",
       "                           64   65   66   67   68  \n",
       "document      page block                           \n",
       "bpt6k6282019m 72   4      NaN  NaN  NaN  NaN  NaN  \n",
       "                   9      NaN  NaN  NaN  NaN  NaN  \n",
       "                   10     NaN  NaN  NaN  NaN  NaN  \n",
       "                   11     NaN  NaN  NaN  NaN  NaN  \n",
       "                   12     NaN  NaN  NaN  NaN  NaN  \n",
       "\n",
       "[5 rows x 69 columns]"
      ]
     },
     "execution_count": 42,
     "metadata": {},
     "output_type": "execute_result"
    }
   ],
   "source": [
    "# Split the block in order to have a table\n",
    "df_block_splitted = df_block.str.split(',', expand=True)\n",
    "df_block_splitted = df_block_splitted.apply(lambda col: col.str.strip())\n",
    "df_block_splitted.replace('', np.nan, inplace=True)\n",
    "df_block_splitted.fillna(value=pd.np.nan, inplace=True)\n",
    "df_block_splitted.head()"
   ]
  },
  {
   "cell_type": "code",
   "execution_count": 43,
   "metadata": {},
   "outputs": [],
   "source": [
    "not_null_counts = df_block_splitted.notnull().sum(axis=1)"
   ]
  },
  {
   "cell_type": "code",
   "execution_count": 44,
   "metadata": {
    "scrolled": true
   },
   "outputs": [
    {
     "data": {
      "text/plain": [
       "<matplotlib.axes._subplots.AxesSubplot at 0x7feab7fe86d8>"
      ]
     },
     "execution_count": 44,
     "metadata": {},
     "output_type": "execute_result"
    },
    {
     "data": {
      "image/png": "[encoded data removed]",
      "text/plain": [
       "<Figure size 432x288 with 1 Axes>"
      ]
     },
     "metadata": {
      "needs_background": "light"
     },
     "output_type": "display_data"
    }
   ],
   "source": [
    "sns.distplot(not_null_counts, kde=False, bins=np.arange(1,11, 1))"
   ]
  },
  {
   "cell_type": "markdown",
   "metadata": {},
   "source": [
    "#### Reconcile 1 and 3 columns"
   ]
  },
  {
   "cell_type": "markdown",
   "metadata": {},
   "source": [
    "We use the exact same logic than with lines, but this time at the block level, so no description is provided"
   ]
  },
  {
   "cell_type": "code",
   "execution_count": 45,
   "metadata": {},
   "outputs": [],
   "source": [
    "num_regex = r'^(\\d|-|et| )*(\\d|bis)(\\.)?$'"
   ]
  },
  {
   "cell_type": "code",
   "execution_count": 46,
   "metadata": {
    "scrolled": false
   },
   "outputs": [
    {
     "name": "stderr",
     "output_type": "stream",
     "text": [
      "/home/rbarman/.conda/envs/dh_segment/lib/python3.5/site-packages/ipykernel_launcher.py:1: UserWarning: This pattern has match groups. To actually get the groups, use str.extract.\n",
      "  \"\"\"Entry point for launching an IPython kernel.\n",
      "/home/rbarman/.conda/envs/dh_segment/lib/python3.5/site-packages/ipykernel_launcher.py:2: UserWarning: This pattern has match groups. To actually get the groups, use str.extract.\n",
      "  \n"
     ]
    }
   ],
   "source": [
    "df_selection = df_block_splitted[(df_block_splitted.groupby(level=[0,1])[0].shift(-1).str.contains(num_regex).fillna(False) & (not_null_counts==3))|\n",
    "            (df_block_splitted[0].str.contains(num_regex) & (not_null_counts==1))]"
   ]
  },
  {
   "cell_type": "code",
   "execution_count": 47,
   "metadata": {},
   "outputs": [
    {
     "data": {
      "text/plain": [
       "48683"
      ]
     },
     "execution_count": 47,
     "metadata": {},
     "output_type": "execute_result"
    }
   ],
   "source": [
    "len(df_selection)"
   ]
  },
  {
   "cell_type": "code",
   "execution_count": 48,
   "metadata": {},
   "outputs": [],
   "source": [
    "selection_not_null = df_selection.notnull().sum(axis=1)"
   ]
  },
  {
   "cell_type": "code",
   "execution_count": 49,
   "metadata": {},
   "outputs": [
    {
     "data": {
      "text/plain": [
       "28886"
      ]
     },
     "execution_count": 49,
     "metadata": {},
     "output_type": "execute_result"
    }
   ],
   "source": [
    "# selects every row that has 3 elements and next row has 1 element\n",
    "select_three = (selection_not_null.groupby(level=[0,1]).shift(0)*100 + selection_not_null.groupby(level=[0,1]).shift(-1).fillna(0)) == 301\n",
    "# selects every row that has 1 element and prev row has 3 elements\n",
    "select_one = (selection_not_null.groupby(level=[0,1]).shift(1).fillna(0)*100 + selection_not_null.groupby(level=[0,1]).shift(0)) == 301\n",
    "# combination of the two\n",
    "select_rows = select_three | select_one\n",
    "select_rows.sum()"
   ]
  },
  {
   "cell_type": "code",
   "execution_count": 50,
   "metadata": {},
   "outputs": [
    {
     "data": {
      "text/plain": [
       "0"
      ]
     },
     "execution_count": 50,
     "metadata": {},
     "output_type": "execute_result"
    }
   ],
   "source": [
    "filt = df_selection[select_rows].groupby(level=[0,1]).count()[0].apply(lambda x: x%2 != 0)\n",
    "filt.sum()"
   ]
  },
  {
   "cell_type": "code",
   "execution_count": 51,
   "metadata": {},
   "outputs": [
    {
     "name": "stderr",
     "output_type": "stream",
     "text": [
      "/home/rbarman/.conda/envs/dh_segment/lib/python3.5/site-packages/pandas/core/indexing.py:543: SettingWithCopyWarning: \n",
      "A value is trying to be set on a copy of a slice from a DataFrame.\n",
      "Try using .loc[row_indexer,col_indexer] = value instead\n",
      "\n",
      "See the caveats in the documentation: http://pandas.pydata.org/pandas-docs/stable/indexing.html#indexing-view-versus-copy\n",
      "  self.obj[item] = s\n"
     ]
    }
   ],
   "source": [
    "df_selection.loc[select_three, 3] = df_selection[select_one][0].values"
   ]
  },
  {
   "cell_type": "code",
   "execution_count": 52,
   "metadata": {},
   "outputs": [],
   "source": [
    "df_block_splitted.loc[select_three.where(select_three).dropna().index] = df_selection[select_three].values\n",
    "df_block_splitted.drop(select_one.where(select_one).dropna().index, inplace=True)"
   ]
  },
  {
   "cell_type": "markdown",
   "metadata": {},
   "source": [
    "#### Reconcile 2 columns"
   ]
  },
  {
   "cell_type": "markdown",
   "metadata": {},
   "source": [
    "We use the exact same logic than with lines, but this time at the block level, so no description is provided"
   ]
  },
  {
   "cell_type": "code",
   "execution_count": 79,
   "metadata": {},
   "outputs": [],
   "source": [
    "df_left = df_block_splitted"
   ]
  },
  {
   "cell_type": "code",
   "execution_count": 80,
   "metadata": {},
   "outputs": [],
   "source": [
    "not_null_counts_left = df_left.notnull().sum(axis=1)"
   ]
  },
  {
   "cell_type": "code",
   "execution_count": 81,
   "metadata": {},
   "outputs": [
    {
     "data": {
      "text/plain": [
       "<matplotlib.axes._subplots.AxesSubplot at 0x7feaa903d240>"
      ]
     },
     "execution_count": 81,
     "metadata": {},
     "output_type": "execute_result"
    },
    {
     "data": {
      "image/png": "[encoded data removed]",
      "text/plain": [
       "<Figure size 432x288 with 1 Axes>"
      ]
     },
     "metadata": {
      "needs_background": "light"
     },
     "output_type": "display_data"
    }
   ],
   "source": [
    "sns.distplot(not_null_counts_left, kde=False)"
   ]
  },
  {
   "cell_type": "code",
   "execution_count": 82,
   "metadata": {},
   "outputs": [],
   "source": [
    "num_regex = r'^(\\d|-|et| )*(\\d|bis)(\\.)?$'"
   ]
  },
  {
   "cell_type": "code",
   "execution_count": 83,
   "metadata": {
    "scrolled": false
   },
   "outputs": [
    {
     "name": "stderr",
     "output_type": "stream",
     "text": [
      "/home/rbarman/.conda/envs/dh_segment/lib/python3.5/site-packages/ipykernel_launcher.py:1: UserWarning: This pattern has match groups. To actually get the groups, use str.extract.\n",
      "  \"\"\"Entry point for launching an IPython kernel.\n",
      "/home/rbarman/.conda/envs/dh_segment/lib/python3.5/site-packages/ipykernel_launcher.py:2: UserWarning: This pattern has match groups. To actually get the groups, use str.extract.\n",
      "  \n"
     ]
    }
   ],
   "source": [
    "df_selection = df_left[not_null_counts_left == 2][(df_left[not_null_counts_left == 2].groupby(level=[0,1])[1].shift(-1).str.contains(num_regex).fillna(False))|\n",
    "            (df_left[not_null_counts_left == 2][1].str.contains(num_regex))]"
   ]
  },
  {
   "cell_type": "code",
   "execution_count": 84,
   "metadata": {},
   "outputs": [
    {
     "data": {
      "text/plain": [
       "56355"
      ]
     },
     "execution_count": 84,
     "metadata": {},
     "output_type": "execute_result"
    }
   ],
   "source": [
    "len(df_selection)"
   ]
  },
  {
   "cell_type": "code",
   "execution_count": 85,
   "metadata": {},
   "outputs": [
    {
     "name": "stderr",
     "output_type": "stream",
     "text": [
      "/home/rbarman/.conda/envs/dh_segment/lib/python3.5/site-packages/ipykernel_launcher.py:1: UserWarning: This pattern has match groups. To actually get the groups, use str.extract.\n",
      "  \"\"\"Entry point for launching an IPython kernel.\n"
     ]
    }
   ],
   "source": [
    "is_number = df_left[not_null_counts_left == 2][1].str.contains(num_regex).fillna(False).astype(int)"
   ]
  },
  {
   "cell_type": "code",
   "execution_count": 86,
   "metadata": {},
   "outputs": [
    {
     "data": {
      "text/plain": [
       "12992"
      ]
     },
     "execution_count": 86,
     "metadata": {},
     "output_type": "execute_result"
    }
   ],
   "source": [
    "# selects every row that has 3 elements and next row has 1 element\n",
    "select_other = (is_number.groupby(level=[0,1]).shift(0)*100 + is_number.groupby(level=[0,1]).shift(-1).fillna(0)) == 1\n",
    "# selects every row that has 1 element and prev row has 3 elements\n",
    "select_num = (is_number.groupby(level=[0,1]).shift(1).fillna(4) + is_number.groupby(level=[0,1]).shift(0)*100) == 100\n",
    "# combination of the two\n",
    "select_rows = select_other | select_num\n",
    "select_rows.sum()"
   ]
  },
  {
   "cell_type": "code",
   "execution_count": 87,
   "metadata": {},
   "outputs": [],
   "source": [
    "df_selection.loc[select_other, 2:3] = df_selection.loc[select_num, :1].values"
   ]
  },
  {
   "cell_type": "code",
   "execution_count": 88,
   "metadata": {},
   "outputs": [
    {
     "name": "stderr",
     "output_type": "stream",
     "text": [
      "/home/rbarman/.conda/envs/dh_segment/lib/python3.5/site-packages/ipykernel_launcher.py:1: UserWarning: Boolean Series key will be reindexed to match DataFrame index.\n",
      "  \"\"\"Entry point for launching an IPython kernel.\n"
     ]
    }
   ],
   "source": [
    "df_block_splitted.loc[select_other.where(select_other).dropna().index] = df_selection[select_other].values\n",
    "df_block_splitted.drop(select_num.where(select_num).dropna().index, inplace=True)"
   ]
  },
  {
   "cell_type": "markdown",
   "metadata": {},
   "source": [
    "## Export cleaned"
   ]
  },
  {
   "cell_type": "code",
   "execution_count": 139,
   "metadata": {},
   "outputs": [],
   "source": [
    "num_regex = r'([0-9]+|bis)'\n",
    "name_regex = r'\\w{3}'\n",
    "work_regex = r'\\w{2}'"
   ]
  },
  {
   "cell_type": "markdown",
   "metadata": {},
   "source": [
    "### Cleaned line"
   ]
  },
  {
   "cell_type": "code",
   "execution_count": 123,
   "metadata": {},
   "outputs": [],
   "source": [
    "not_null_counts = df_splitted.notnull().sum(axis=1)"
   ]
  },
  {
   "cell_type": "code",
   "execution_count": 124,
   "metadata": {},
   "outputs": [
    {
     "data": {
      "text/plain": [
       "<matplotlib.axes._subplots.AxesSubplot at 0x7feabd8983c8>"
      ]
     },
     "execution_count": 124,
     "metadata": {},
     "output_type": "execute_result"
    },
    {
     "data": {
      "image/png": "[encoded data removed]",
      "text/plain": [
       "<Figure size 432x288 with 1 Axes>"
      ]
     },
     "metadata": {
      "needs_background": "light"
     },
     "output_type": "display_data"
    }
   ],
   "source": [
    "sns.distplot(not_null_counts, kde=False)"
   ]
  },
  {
   "cell_type": "code",
   "execution_count": 125,
   "metadata": {},
   "outputs": [
    {
     "data": {
      "text/plain": [
       "3959063"
      ]
     },
     "execution_count": 125,
     "metadata": {},
     "output_type": "execute_result"
    }
   ],
   "source": [
    "df_length_four = df_splitted[not_null_counts == 4]\n",
    "len(df_length_four)"
   ]
  },
  {
   "cell_type": "markdown",
   "metadata": {},
   "source": [
    "In order to validate a row, we create three arbitrarty filters that **should be tuned**.\n",
    "\n",
    "For the number, simply that the column contains numbers or bis.\n",
    "\n",
    "For the names, that it starts with an uppercase letter and has at least a three letters word.\n",
    "\n",
    "For the works, that it starts with a letter and has at least a 2 letter word.\n",
    "\n",
    "Nothing for the street.\n",
    "\n",
    "These are simple heuristic, but they should be fine_tuned."
   ]
  },
  {
   "cell_type": "code",
   "execution_count": 140,
   "metadata": {
    "scrolled": true
   },
   "outputs": [
    {
     "name": "stderr",
     "output_type": "stream",
     "text": [
      "/home/rbarman/.conda/envs/dh_segment/lib/python3.5/site-packages/ipykernel_launcher.py:1: UserWarning: This pattern has match groups. To actually get the groups, use str.extract.\n",
      "  \"\"\"Entry point for launching an IPython kernel.\n"
     ]
    }
   ],
   "source": [
    "number_filter = df_length_four[3].dropna().str.strip().str.rstrip('.').str.contains(num_regex)"
   ]
  },
  {
   "cell_type": "code",
   "execution_count": 141,
   "metadata": {},
   "outputs": [],
   "source": [
    "# A name must be at least 3 letters\n",
    "name_filter = df_length_four[0].dropna().map(lambda x: unicodedata.normalize(\"NFKD\", x)).str.strip().str.contains(name_regex)"
   ]
  },
  {
   "cell_type": "code",
   "execution_count": 142,
   "metadata": {},
   "outputs": [],
   "source": [
    "# At least 2 letter work\n",
    "work_filter = df_length_four[1].dropna().map(lambda x: unicodedata.normalize(\"NFKD\", x)).str.strip().str.contains(work_regex).fillna(False)"
   ]
  },
  {
   "cell_type": "code",
   "execution_count": 143,
   "metadata": {},
   "outputs": [
    {
     "data": {
      "text/plain": [
       "(3787550, 3928405, 3928510, 3745320)"
      ]
     },
     "execution_count": 143,
     "metadata": {},
     "output_type": "execute_result"
    }
   ],
   "source": [
    "number_filter.sum(), name_filter.sum(), work_filter.sum(), (name_filter & number_filter & work_filter).sum()"
   ]
  },
  {
   "cell_type": "markdown",
   "metadata": {},
   "source": [
    "We create a new dataframe from the filters."
   ]
  },
  {
   "cell_type": "code",
   "execution_count": 144,
   "metadata": {},
   "outputs": [],
   "source": [
    "df_clean = df_length_four[(name_filter & number_filter & work_filter)]\n",
    "df_clean.to_pickle('df_clean.pickle')"
   ]
  },
  {
   "cell_type": "code",
   "execution_count": 658,
   "metadata": {},
   "outputs": [],
   "source": [
    "df_clean = pd.read_pickle('df_clean.pickle')"
   ]
  },
  {
   "cell_type": "code",
   "execution_count": 145,
   "metadata": {},
   "outputs": [
    {
     "data": {
      "text/plain": [
       "3745320"
      ]
     },
     "execution_count": 145,
     "metadata": {},
     "output_type": "execute_result"
    }
   ],
   "source": [
    "len(df_clean)"
   ]
  },
  {
   "cell_type": "markdown",
   "metadata": {},
   "source": [
    "We add the date of the almanach as metadata and export the dataframe to a csv."
   ]
  },
  {
   "cell_type": "code",
   "execution_count": 634,
   "metadata": {},
   "outputs": [],
   "source": [
    "df_clean.iloc[:, 0:4]\n",
    "    .rename(columns={0: 'Nom', 1: 'Métier', 2: 'Rue', 3: 'Numéro'})\n",
    "    .reset_index(level=[1,2,3,4], drop=True)\n",
    "    .join(df_rep[['annee']])\n",
    "    .to_csv('strict_adressing.csv')"
   ]
  },
  {
   "cell_type": "markdown",
   "metadata": {},
   "source": [
    "### Cleaned block"
   ]
  },
  {
   "cell_type": "markdown",
   "metadata": {},
   "source": [
    "Same than previous section, but for blocks."
   ]
  },
  {
   "cell_type": "code",
   "execution_count": 146,
   "metadata": {},
   "outputs": [],
   "source": [
    "not_null_counts = df_block_splitted.notnull().sum(axis=1)"
   ]
  },
  {
   "cell_type": "code",
   "execution_count": 147,
   "metadata": {},
   "outputs": [
    {
     "data": {
      "text/plain": [
       "<matplotlib.axes._subplots.AxesSubplot at 0x7feaaec38860>"
      ]
     },
     "execution_count": 147,
     "metadata": {},
     "output_type": "execute_result"
    },
    {
     "data": {
      "image/png": "[encoded data removed]",
      "text/plain": [
       "<Figure size 432x288 with 1 Axes>"
      ]
     },
     "metadata": {
      "needs_background": "light"
     },
     "output_type": "display_data"
    }
   ],
   "source": [
    "sns.distplot(not_null_counts, kde=False, bins=np.arange(1,10,1))"
   ]
  },
  {
   "cell_type": "code",
   "execution_count": 148,
   "metadata": {},
   "outputs": [
    {
     "data": {
      "text/plain": [
       "567156"
      ]
     },
     "execution_count": 148,
     "metadata": {},
     "output_type": "execute_result"
    }
   ],
   "source": [
    "df_length_four = df_block_splitted[not_null_counts == 4]\n",
    "len(df_length_four)"
   ]
  },
  {
   "cell_type": "code",
   "execution_count": 149,
   "metadata": {
    "scrolled": true
   },
   "outputs": [
    {
     "name": "stderr",
     "output_type": "stream",
     "text": [
      "/home/rbarman/.conda/envs/dh_segment/lib/python3.5/site-packages/ipykernel_launcher.py:1: UserWarning: This pattern has match groups. To actually get the groups, use str.extract.\n",
      "  \"\"\"Entry point for launching an IPython kernel.\n"
     ]
    }
   ],
   "source": [
    "number_filter = df_length_four[3].dropna().str.strip().str.rstrip('.').str.contains(num_regex)"
   ]
  },
  {
   "cell_type": "code",
   "execution_count": 150,
   "metadata": {},
   "outputs": [],
   "source": [
    "# A name must be at least 3 letters\n",
    "name_filter = df_length_four[0].dropna().map(lambda x: unicodedata.normalize(\"NFKD\", x)).str.strip().str.contains(name_regex)"
   ]
  },
  {
   "cell_type": "code",
   "execution_count": 151,
   "metadata": {},
   "outputs": [],
   "source": [
    "# At least 2 letter work\n",
    "work_filter = df_length_four[1].dropna().map(lambda x: unicodedata.normalize(\"NFKD\", x)).str.strip().str.contains(work_regex).fillna(False)"
   ]
  },
  {
   "cell_type": "code",
   "execution_count": 153,
   "metadata": {},
   "outputs": [
    {
     "data": {
      "text/plain": [
       "(478803, 559247, 554515)"
      ]
     },
     "execution_count": 153,
     "metadata": {},
     "output_type": "execute_result"
    }
   ],
   "source": [
    "number_filter.sum(), name_filter.sum(), work_filter.sum(), (name_filter & number_filter & work_filter).sum()"
   ]
  },
  {
   "cell_type": "code",
   "execution_count": 116,
   "metadata": {},
   "outputs": [
    {
     "data": {
      "text/plain": [
       "(478803, 477025, 521267, 365816)"
      ]
     },
     "execution_count": 116,
     "metadata": {},
     "output_type": "execute_result"
    }
   ],
   "source": [
    "number_filter.sum(), name_filter.sum(), work_filter.sum(), (name_filter & number_filter & work_filter).sum()"
   ]
  },
  {
   "cell_type": "code",
   "execution_count": 154,
   "metadata": {},
   "outputs": [],
   "source": [
    "df_clean_block = df_length_four[(name_filter & number_filter & work_filter)]\n",
    "df_clean_block.to_pickle('df_clean_block.pickle')"
   ]
  },
  {
   "cell_type": "code",
   "execution_count": 658,
   "metadata": {},
   "outputs": [],
   "source": [
    "df_clean_block = pd.read_pickle('df_clean_block.pickle')"
   ]
  },
  {
   "cell_type": "code",
   "execution_count": 155,
   "metadata": {},
   "outputs": [
    {
     "data": {
      "text/plain": [
       "(465676, 4210996)"
      ]
     },
     "execution_count": 155,
     "metadata": {},
     "output_type": "execute_result"
    }
   ],
   "source": [
    "len(df_clean_block), len(df_clean_block)+len(df_clean)"
   ]
  },
  {
   "cell_type": "markdown",
   "metadata": {},
   "source": [
    "We merge the line and block level and export it."
   ]
  },
  {
   "cell_type": "code",
   "execution_count": 156,
   "metadata": {},
   "outputs": [],
   "source": [
    "pd.concat([df_clean_block.iloc[:, 0:4].rename(columns={0: 'Nom', 1: 'Métier', 2: 'Rue', 3: 'Numéro'})\n",
    "           .reset_index(level=[1,2], drop=True),\n",
    "           df_clean.iloc[:, 0:4].rename(columns={0: 'Nom', 1: 'Métier', 2: 'Rue', 3: 'Numéro'})\n",
    "           .reset_index(level=[1,2,3,4], drop=True)]).join(df_rep[['annee']]).to_csv('strict_adressing.csv')"
   ]
  },
  {
   "cell_type": "code",
   "execution_count": 64,
   "metadata": {},
   "outputs": [
    {
     "data": {
      "text/html": [
       "<div>\n",
       "<style scoped>\n",
       "    .dataframe tbody tr th:only-of-type {\n",
       "        vertical-align: middle;\n",
       "    }\n",
       "\n",
       "    .dataframe tbody tr th {\n",
       "        vertical-align: top;\n",
       "    }\n",
       "\n",
       "    .dataframe thead th {\n",
       "        text-align: right;\n",
       "    }\n",
       "</style>\n",
       "<table border=\"1\" class=\"dataframe\">\n",
       "  <thead>\n",
       "    <tr style=\"text-align: right;\">\n",
       "      <th></th>\n",
       "      <th>annee</th>\n",
       "      <th>ids</th>\n",
       "      <th>lien_source</th>\n",
       "      <th>nom_fichier</th>\n",
       "      <th>page_debut</th>\n",
       "      <th>page_fin</th>\n",
       "      <th>page_total</th>\n",
       "      <th>pages</th>\n",
       "      <th>remarques</th>\n",
       "      <th>source_ID</th>\n",
       "      <th>vue_debut</th>\n",
       "      <th>vue_fin</th>\n",
       "    </tr>\n",
       "    <tr>\n",
       "      <th>nom_court</th>\n",
       "      <th></th>\n",
       "      <th></th>\n",
       "      <th></th>\n",
       "      <th></th>\n",
       "      <th></th>\n",
       "      <th></th>\n",
       "      <th></th>\n",
       "      <th></th>\n",
       "      <th></th>\n",
       "      <th></th>\n",
       "      <th></th>\n",
       "      <th></th>\n",
       "    </tr>\n",
       "  </thead>\n",
       "  <tbody>\n",
       "    <tr>\n",
       "      <th>Annuaire du commerce Didot-Bottin</th>\n",
       "      <td>1921</td>\n",
       "      <td>bpt6k97774838</td>\n",
       "      <td>https://gallica.bnf.fr/ark:/12148/bpt6k97774838</td>\n",
       "      <td>bpt6k97774838.Alto.html</td>\n",
       "      <td>289.0</td>\n",
       "      <td>1152quaterdecies</td>\n",
       "      <td>1484</td>\n",
       "      <td>888.0</td>\n",
       "      <td>Tome 1</td>\n",
       "      <td>FRBNF32697422</td>\n",
       "      <td>327</td>\n",
       "      <td>1214.0</td>\n",
       "    </tr>\n",
       "    <tr>\n",
       "      <th>Annuaire-Didot-Bottin</th>\n",
       "      <td>1858</td>\n",
       "      <td>bpt6k6318531z</td>\n",
       "      <td>https://gallica.bnf.fr/ark:/12148/bpt6k6318531z</td>\n",
       "      <td>bpt6k6318531z.Alto.html</td>\n",
       "      <td>65.0</td>\n",
       "      <td>448</td>\n",
       "      <td>1218</td>\n",
       "      <td>388.0</td>\n",
       "      <td>document en 2 parties sur Gallica, seule la pr...</td>\n",
       "      <td>FRBNF32695639</td>\n",
       "      <td>108</td>\n",
       "      <td>495.0</td>\n",
       "    </tr>\n",
       "    <tr>\n",
       "      <th>Annuaire-Didot-Bottin</th>\n",
       "      <td>1870</td>\n",
       "      <td>bpt6k96727875</td>\n",
       "      <td>https://gallica.bnf.fr/ark:/12148/bpt6k96727875</td>\n",
       "      <td>bpt6k96727875.Alto.html</td>\n",
       "      <td>97.0</td>\n",
       "      <td>587</td>\n",
       "      <td>942</td>\n",
       "      <td>491.0</td>\n",
       "      <td>ATTENTION super mauvaise qualité du document! ...</td>\n",
       "      <td>FRBNF32695639</td>\n",
       "      <td>135</td>\n",
       "      <td>625.0</td>\n",
       "    </tr>\n",
       "    <tr>\n",
       "      <th>Annuaire-Didot-Bottin</th>\n",
       "      <td>1881</td>\n",
       "      <td>bpt6k9764647w</td>\n",
       "      <td>https://gallica.bnf.fr/ark:/12148/bpt6k9764647w</td>\n",
       "      <td>bpt6k9764647w.Alto.html</td>\n",
       "      <td>113.0</td>\n",
       "      <td>674 A 700</td>\n",
       "      <td>2370</td>\n",
       "      <td>562.0</td>\n",
       "      <td>NaN</td>\n",
       "      <td>FRBNF32695639</td>\n",
       "      <td>121</td>\n",
       "      <td>682.0</td>\n",
       "    </tr>\n",
       "    <tr>\n",
       "      <th>Annuaire-general-du-commerce</th>\n",
       "      <td>1841</td>\n",
       "      <td>bpt6k62931221</td>\n",
       "      <td>https://gallica.bnf.fr/ark:/12148/bpt6k62931221</td>\n",
       "      <td>bpt6k62931221.Alto.html</td>\n",
       "      <td>72.0</td>\n",
       "      <td>344</td>\n",
       "      <td>938</td>\n",
       "      <td>273.0</td>\n",
       "      <td>document en 2 parties sur Gallica, seule la pr...</td>\n",
       "      <td>FRBNF32698036</td>\n",
       "      <td>151</td>\n",
       "      <td>423.0</td>\n",
       "    </tr>\n",
       "    <tr>\n",
       "      <th>Annuaire-general-du-commerce</th>\n",
       "      <td>1848</td>\n",
       "      <td>bpt6k6315927h</td>\n",
       "      <td>https://gallica.bnf.fr/ark:/12148/bpt6k6315927h</td>\n",
       "      <td>bpt6k6315927h.Alto.html</td>\n",
       "      <td>1.0</td>\n",
       "      <td>326</td>\n",
       "      <td>1049</td>\n",
       "      <td>326.0</td>\n",
       "      <td>La dernière page comprend le début d'une autre...</td>\n",
       "      <td>FRBNF32698036</td>\n",
       "      <td>349</td>\n",
       "      <td>674.0</td>\n",
       "    </tr>\n",
       "  </tbody>\n",
       "</table>\n",
       "</div>"
      ],
      "text/plain": [
       "                                   annee            ids  \\\n",
       "nom_court                                                 \n",
       "Annuaire du commerce Didot-Bottin   1921  bpt6k97774838   \n",
       "Annuaire-Didot-Bottin               1858  bpt6k6318531z   \n",
       "Annuaire-Didot-Bottin               1870  bpt6k96727875   \n",
       "Annuaire-Didot-Bottin               1881  bpt6k9764647w   \n",
       "Annuaire-general-du-commerce        1841  bpt6k62931221   \n",
       "Annuaire-general-du-commerce        1848  bpt6k6315927h   \n",
       "\n",
       "                                                                       lien_source  \\\n",
       "nom_court                                                                            \n",
       "Annuaire du commerce Didot-Bottin  https://gallica.bnf.fr/ark:/12148/bpt6k97774838   \n",
       "Annuaire-Didot-Bottin              https://gallica.bnf.fr/ark:/12148/bpt6k6318531z   \n",
       "Annuaire-Didot-Bottin              https://gallica.bnf.fr/ark:/12148/bpt6k96727875   \n",
       "Annuaire-Didot-Bottin              https://gallica.bnf.fr/ark:/12148/bpt6k9764647w   \n",
       "Annuaire-general-du-commerce       https://gallica.bnf.fr/ark:/12148/bpt6k62931221   \n",
       "Annuaire-general-du-commerce       https://gallica.bnf.fr/ark:/12148/bpt6k6315927h   \n",
       "\n",
       "                                               nom_fichier  page_debut  \\\n",
       "nom_court                                                                \n",
       "Annuaire du commerce Didot-Bottin  bpt6k97774838.Alto.html       289.0   \n",
       "Annuaire-Didot-Bottin              bpt6k6318531z.Alto.html        65.0   \n",
       "Annuaire-Didot-Bottin              bpt6k96727875.Alto.html        97.0   \n",
       "Annuaire-Didot-Bottin              bpt6k9764647w.Alto.html       113.0   \n",
       "Annuaire-general-du-commerce       bpt6k62931221.Alto.html        72.0   \n",
       "Annuaire-general-du-commerce       bpt6k6315927h.Alto.html         1.0   \n",
       "\n",
       "                                           page_fin  page_total  pages  \\\n",
       "nom_court                                                                \n",
       "Annuaire du commerce Didot-Bottin  1152quaterdecies        1484  888.0   \n",
       "Annuaire-Didot-Bottin                           448        1218  388.0   \n",
       "Annuaire-Didot-Bottin                           587         942  491.0   \n",
       "Annuaire-Didot-Bottin                     674 A 700        2370  562.0   \n",
       "Annuaire-general-du-commerce                    344         938  273.0   \n",
       "Annuaire-general-du-commerce                    326        1049  326.0   \n",
       "\n",
       "                                                                           remarques  \\\n",
       "nom_court                                                                              \n",
       "Annuaire du commerce Didot-Bottin                                             Tome 1   \n",
       "Annuaire-Didot-Bottin              document en 2 parties sur Gallica, seule la pr...   \n",
       "Annuaire-Didot-Bottin              ATTENTION super mauvaise qualité du document! ...   \n",
       "Annuaire-Didot-Bottin                                                            NaN   \n",
       "Annuaire-general-du-commerce       document en 2 parties sur Gallica, seule la pr...   \n",
       "Annuaire-general-du-commerce       La dernière page comprend le début d'une autre...   \n",
       "\n",
       "                                        source_ID  vue_debut  vue_fin  \n",
       "nom_court                                                              \n",
       "Annuaire du commerce Didot-Bottin  FRBNF32697422         327   1214.0  \n",
       "Annuaire-Didot-Bottin              FRBNF32695639         108    495.0  \n",
       "Annuaire-Didot-Bottin              FRBNF32695639         135    625.0  \n",
       "Annuaire-Didot-Bottin              FRBNF32695639         121    682.0  \n",
       "Annuaire-general-du-commerce       FRBNF32698036         151    423.0  \n",
       "Annuaire-general-du-commerce       FRBNF32698036         349    674.0  "
      ]
     },
     "execution_count": 64,
     "metadata": {},
     "output_type": "execute_result"
    }
   ],
   "source": [
    "df_rep.reset_index().groupby('nom_court').nth((df_rep.reset_index().groupby('nom_court').count()['ids'].values//2).tolist())"
   ]
  },
  {
   "cell_type": "code",
   "execution_count": 131,
   "metadata": {},
   "outputs": [],
   "source": [
    "np.random.seed(99)\n",
    "for doc_id in [\n",
    " 'bpt6k9776121t',\n",
    " 'bpt6k6314752k',\n",
    " 'bpt6k6305463c',\n",
    " 'bpt6k63243601',\n",
    " 'bpt6k9764647w',\n",
    " 'bpt6k6315927h',\n",
    " 'bpt6k97774838'\n",
    "]:\n",
    "    idxs = np.random.choice(df_splitted.loc[doc_id].index.get_level_values(0).values, 2)\n",
    "    for idx in idxs:\n",
    "        df_export = df_splitted.loc[doc_id, idx].copy().reset_index(drop=True)\n",
    "        df_export = pd.concat([pd.DataFrame([\"https://gallica.bnf.fr/ark:/12148/%s/f%d.image\"%(doc_id, idx), np.nan]), df_export])\n",
    "        df_export.insert(0,'Notes', np.nan)\n",
    "        df_export.insert(0,'OCR OK', np.nan)\n",
    "        df_export.insert(0,'Line OK', np.nan)\n",
    "        writer = pd.ExcelWriter(\"to_verify/%s_%d.xlsx\"%(doc_id, idx), engine='xlsxwriter')\n",
    "        df_export.to_excel(writer, sheet_name='sheet1')  # send df to writer\n",
    "        worksheet = writer.sheets['sheet1']  # pull worksheet object\n",
    "        for idx, col in enumerate(df_export):  # loop through all columns\n",
    "            series = df_export[col]\n",
    "            max_len = max((\n",
    "                series.astype(str).map(len).max(),  # len of largest item\n",
    "                len(str(series.name))  # len of column name/header\n",
    "                )) + 1  # adding a little extra space\n",
    "            worksheet.set_column(idx, idx, max_len)  # set column width\n",
    "        writer.save()"
   ]
  },
  {
   "cell_type": "code",
   "execution_count": 98,
   "metadata": {},
   "outputs": [
    {
     "name": "stdout",
     "output_type": "stream",
     "text": [
      "https://gallica.bnf.fr/ark:/12148/bpt6k6314752k/f408.image\n"
     ]
    }
   ],
   "source": [
    "print(\"https://gallica.bnf.fr/ark:/12148/%s/f%d.image\"%(doc_id, idx))\n"
   ]
  },
  {
   "cell_type": "code",
   "execution_count": 115,
   "metadata": {},
   "outputs": [
    {
     "data": {
      "text/plain": [
       "['bpt6k9780089g',\n",
       " 'bpt6k9776121t',\n",
       " 'bpt6k6314752k',\n",
       " 'bpt6k9775724t',\n",
       " 'bpt6k6305463c',\n",
       " 'bpt6k63243601']"
      ]
     },
     "execution_count": 115,
     "metadata": {},
     "output_type": "execute_result"
    }
   ],
   "source": [
    "df_rep.reset_index().groupby('nom_court').last()['ids'].values.tolist()+df_rep.reset_index().groupby('nom_court').first()['ids'].values.tolist()"
   ]
  },
  {
   "cell_type": "code",
   "execution_count": 126,
   "metadata": {},
   "outputs": [
    {
     "data": {
      "text/plain": [
       "['bpt6k9776121t',\n",
       " 'bpt6k6314752k',\n",
       " 'bpt6k6305463c',\n",
       " 'bpt6k63243601',\n",
       " 'bpt6k9764647w',\n",
       " 'bpt6k6315927h']"
      ]
     },
     "execution_count": 126,
     "metadata": {},
     "output_type": "execute_result"
    }
   ],
   "source": []
  },
  {
   "cell_type": "code",
   "execution_count": 121,
   "metadata": {},
   "outputs": [
    {
     "data": {
      "text/plain": [
       "array([ 1, 18,  8])"
      ]
     },
     "execution_count": 121,
     "metadata": {},
     "output_type": "execute_result"
    }
   ],
   "source": [
    "(df_rep.reset_index().groupby('nom_court').count()['ids'].values//2)"
   ]
  },
  {
   "cell_type": "code",
   "execution_count": null,
   "metadata": {},
   "outputs": [],
   "source": []
  },
  {
   "cell_type": "code",
   "execution_count": 125,
   "metadata": {},
   "outputs": [
    {
     "data": {
      "text/html": [
       "<div>\n",
       "<style scoped>\n",
       "    .dataframe tbody tr th:only-of-type {\n",
       "        vertical-align: middle;\n",
       "    }\n",
       "\n",
       "    .dataframe tbody tr th {\n",
       "        vertical-align: top;\n",
       "    }\n",
       "\n",
       "    .dataframe thead th {\n",
       "        text-align: right;\n",
       "    }\n",
       "</style>\n",
       "<table border=\"1\" class=\"dataframe\">\n",
       "  <thead>\n",
       "    <tr style=\"text-align: right;\">\n",
       "      <th></th>\n",
       "      <th>annee</th>\n",
       "      <th>ids</th>\n",
       "      <th>lien_source</th>\n",
       "      <th>nom_fichier</th>\n",
       "      <th>page_debut</th>\n",
       "      <th>page_fin</th>\n",
       "      <th>page_total</th>\n",
       "      <th>pages</th>\n",
       "      <th>remarques</th>\n",
       "      <th>source_ID</th>\n",
       "      <th>vue_debut</th>\n",
       "      <th>vue_fin</th>\n",
       "    </tr>\n",
       "    <tr>\n",
       "      <th>nom_court</th>\n",
       "      <th></th>\n",
       "      <th></th>\n",
       "      <th></th>\n",
       "      <th></th>\n",
       "      <th></th>\n",
       "      <th></th>\n",
       "      <th></th>\n",
       "      <th></th>\n",
       "      <th></th>\n",
       "      <th></th>\n",
       "      <th></th>\n",
       "      <th></th>\n",
       "    </tr>\n",
       "  </thead>\n",
       "  <tbody>\n",
       "    <tr>\n",
       "      <th>Annuaire-Didot-Bottin</th>\n",
       "      <td>1870</td>\n",
       "      <td>bpt6k96727875</td>\n",
       "      <td>https://gallica.bnf.fr/ark:/12148/bpt6k96727875</td>\n",
       "      <td>bpt6k96727875.Alto.html</td>\n",
       "      <td>97.0</td>\n",
       "      <td>587</td>\n",
       "      <td>942</td>\n",
       "      <td>491.0</td>\n",
       "      <td>ATTENTION super mauvaise qualité du document! ...</td>\n",
       "      <td>FRBNF32695639</td>\n",
       "      <td>135</td>\n",
       "      <td>625.0</td>\n",
       "    </tr>\n",
       "    <tr>\n",
       "      <th>Annuaire-general-du-commerce</th>\n",
       "      <td>1848</td>\n",
       "      <td>bpt6k6315927h</td>\n",
       "      <td>https://gallica.bnf.fr/ark:/12148/bpt6k6315927h</td>\n",
       "      <td>bpt6k6315927h.Alto.html</td>\n",
       "      <td>1.0</td>\n",
       "      <td>326</td>\n",
       "      <td>1049</td>\n",
       "      <td>326.0</td>\n",
       "      <td>La dernière page comprend le début d'une autre...</td>\n",
       "      <td>FRBNF32698036</td>\n",
       "      <td>349</td>\n",
       "      <td>674.0</td>\n",
       "    </tr>\n",
       "  </tbody>\n",
       "</table>\n",
       "</div>"
      ],
      "text/plain": [
       "                              annee            ids  \\\n",
       "nom_court                                            \n",
       "Annuaire-Didot-Bottin          1870  bpt6k96727875   \n",
       "Annuaire-general-du-commerce   1848  bpt6k6315927h   \n",
       "\n",
       "                                                                  lien_source  \\\n",
       "nom_court                                                                       \n",
       "Annuaire-Didot-Bottin         https://gallica.bnf.fr/ark:/12148/bpt6k96727875   \n",
       "Annuaire-general-du-commerce  https://gallica.bnf.fr/ark:/12148/bpt6k6315927h   \n",
       "\n",
       "                                          nom_fichier  page_debut page_fin  \\\n",
       "nom_court                                                                    \n",
       "Annuaire-Didot-Bottin         bpt6k96727875.Alto.html        97.0      587   \n",
       "Annuaire-general-du-commerce  bpt6k6315927h.Alto.html         1.0      326   \n",
       "\n",
       "                              page_total  pages  \\\n",
       "nom_court                                         \n",
       "Annuaire-Didot-Bottin                942  491.0   \n",
       "Annuaire-general-du-commerce        1049  326.0   \n",
       "\n",
       "                                                                      remarques  \\\n",
       "nom_court                                                                         \n",
       "Annuaire-Didot-Bottin         ATTENTION super mauvaise qualité du document! ...   \n",
       "Annuaire-general-du-commerce  La dernière page comprend le début d'une autre...   \n",
       "\n",
       "                                   source_ID  vue_debut  vue_fin  \n",
       "nom_court                                                         \n",
       "Annuaire-Didot-Bottin         FRBNF32695639         135    625.0  \n",
       "Annuaire-general-du-commerce  FRBNF32698036         349    674.0  "
      ]
     },
     "execution_count": 125,
     "metadata": {},
     "output_type": "execute_result"
    }
   ],
   "source": [
    "df_rep.reset_index().groupby('nom_court').nth(8)"
   ]
  },
  {
   "cell_type": "code",
   "execution_count": 103,
   "metadata": {},
   "outputs": [],
   "source": [
    "df_export.to_excel('%s_%d.xlsx'%(doc_id,idx), encoding='utf-8', index=False)"
   ]
  },
  {
   "cell_type": "code",
   "execution_count": null,
   "metadata": {},
   "outputs": [],
   "source": [
    "writer = pd.ExcelWriter(filename, engine='xlsxwriter')\n",
    "df.to_excel(writer)  # send df to writer\n",
    "worksheet = writer.sheets[sheetname]  # pull worksheet object\n",
    "for idx, col in enumerate(df):  # loop through all columns\n",
    "    series = df[col]\n",
    "    max_len = max((\n",
    "        series.astype(str).map(len).max(),  # len of largest item\n",
    "        len(str(series.name))  # len of column name/header\n",
    "        )) + 1  # adding a little extra space\n",
    "    worksheet.set_column(idx, idx, max_len)  # set column width\n",
    "writer.save()"
   ]
  }
 ],
 "metadata": {
  "kernelspec": {
   "display_name": "Python 3",
   "language": "python",
   "name": "python3"
  },
  "language_info": {
   "codemirror_mode": {
    "name": "ipython",
    "version": 3
   },
   "file_extension": ".py",
   "mimetype": "text/x-python",
   "name": "python",
   "nbconvert_exporter": "python",
   "pygments_lexer": "ipython3",
   "version": "3.6.5"
  },
  "toc": {
   "base_numbering": 1,
   "nav_menu": {
    "height": "109px",
    "width": "160px"
   },
   "number_sections": true,
   "sideBar": false,
   "skip_h1_title": false,
   "title_cell": "Table of Contents",
   "title_sidebar": "Contents",
   "toc_cell": true,
   "toc_position": {},
   "toc_section_display": true,
   "toc_window_display": false
  }
 },
 "nbformat": 4,
 "nbformat_minor": 2
}
