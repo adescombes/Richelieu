{
 "cells": [
  {
   "cell_type": "markdown",
   "metadata": {
    "toc": true
   },
   "source": [
    "<h1>Table of Contents<span class=\"tocSkip\"></span></h1>\n",
    "<div class=\"toc\"><ul class=\"toc-item\"><li><span><a href=\"#Data-loading-and-error-computation\" data-toc-modified-id=\"Data-loading-and-error-computation-1\"><span class=\"toc-item-num\">1&nbsp;&nbsp;</span>Data loading and error computation</a></span></li><li><span><a href=\"#Global-error\" data-toc-modified-id=\"Global-error-2\"><span class=\"toc-item-num\">2&nbsp;&nbsp;</span>Global error</a></span></li><li><span><a href=\"#Per-series-error\" data-toc-modified-id=\"Per-series-error-3\"><span class=\"toc-item-num\">3&nbsp;&nbsp;</span>Per series error</a></span></li><li><span><a href=\"#Per-decade-error\" data-toc-modified-id=\"Per-decade-error-4\"><span class=\"toc-item-num\">4&nbsp;&nbsp;</span>Per decade error</a></span></li><li><span><a href=\"#Per-document-error\" data-toc-modified-id=\"Per-document-error-5\"><span class=\"toc-item-num\">5&nbsp;&nbsp;</span>Per document error</a></span></li></ul></div>"
   ]
  },
  {
   "cell_type": "markdown",
   "metadata": {},
   "source": [
    "## Data loading and error computation\n",
    "\n",
    "A few notes on how the errors are computed.\n",
    "\n",
    "The errors for the character and word level are the Levenshtein distance (cf. [here](https://en.wikipedia.org/wiki/Levenshtein_distance) and [here](https://en.wikipedia.org/wiki/Word_error_rate)) which is standard in OCR performance.\n",
    "\n",
    "A line is considered as false if it contains at least a word error."
   ]
  },
  {
   "cell_type": "code",
   "execution_count": 115,
   "metadata": {},
   "outputs": [],
   "source": [
    "import pandas as pd\n",
    "import json\n",
    "from glob import glob\n",
    "import numpy as np\n",
    "from tqdm import tqdm_notebook as tqdm\n",
    "%matplotlib inline\n",
    "import matplotlib.pyplot as plt\n",
    "import seaborn as sns\n",
    "import unicodedata\n",
    "from IPython.display import display, HTML\n",
    "import editdistance\n",
    "from wer import wer\n",
    "editdistance_vectorized = np.vectorize(editdistance.eval)\n",
    "\n",
    "df_rep = pd.read_excel('repertoires.xlsx')\n",
    "df_rep.dropna(subset=['nom_court'], inplace=True)\n",
    "df_rep['document'] = df_rep['lien_source'].str.replace('https://gallica.bnf.fr/ark:/12148/', '')\n",
    "df_rep['vue_debut'] = df_rep['vue_debut'].astype(int)\n",
    "df_rep['annee'] = df_rep['annee'].astype(int)\n",
    "df_rep['decade'] = df_rep['annee'] - df_rep['annee'] % 10\n",
    "# df_rep['annee'] = pd.to_datetime(df_rep['annee'].astype(int), format='%Y')\n",
    "df_rep.set_index('document', inplace=True)\n",
    "\n",
    "def index_from_boolean(series):\n",
    "    return series.where(series).dropna().index\n",
    "\n",
    "verified = glob('verified/fait*.xlsx')\n",
    "dfs = []\n",
    "for v in verified:\n",
    "    splits = v.split('_')\n",
    "    doc_id = splits[-2]\n",
    "    page = int(splits[-1].split('.')[0])\n",
    "    df_stat = pd.read_excel(v).iloc[2:, [0,3]]\n",
    "    df_stat['document'] = doc_id\n",
    "    df_stat['page'] = page\n",
    "    dfs.append(df_stat)\n",
    "    \n",
    "df_verified = pd.concat(dfs).set_index(['document', 'page'])\n",
    "df_verified['line'] = df_verified.groupby(['document', 'page']).cumcount()\n",
    "df_verified = df_verified.reset_index().set_index(['document', 'page', 'line'])\n",
    "\n",
    "df_rows = pd.read_pickle('df_rows.pickle')\n",
    "df_rows['line'] = df_rows.groupby(['document', 'page']).cumcount()\n",
    "df_rows = df_rows.reset_index().set_index(['document', 'page', 'line'])\n",
    "\n",
    "df_errors = df_verified.join(df_rows, rsuffix='_raw')\n",
    "df_errors = df_errors.join(df_rep[['nom_court', 'annee', 'decade']])\n",
    "df_errors['words'] = df_errors['text'].str.split()\n",
    "df_errors['words_raw'] = df_errors['text_raw'].str.split()\n",
    "df_errors['num_words'] = df_errors['words'].apply(len)\n",
    "df_errors['num_words_raw'] = df_errors['words_raw'].apply(len)\n",
    "\n",
    "df_errors['character_errors'] = editdistance_vectorized(df_errors['text'], df_errors['text_raw'])\n",
    "df_errors['character_error_rate'] = df_errors['character_errors']/df_errors['text'].apply(len)*100\n",
    "\n",
    "df_errors['word_errors'] = df_errors.apply(lambda row: wer(row['words'], row['words_raw']), axis=1)\n",
    "df_errors['word_error_rate'] = df_errors['word_errors']/df_errors['num_words']*100\n",
    "df_errors['line_error'] = df_errors['word_errors'] > 0"
   ]
  },
  {
   "cell_type": "code",
   "execution_count": 222,
   "metadata": {},
   "outputs": [],
   "source": [
    "df_per_doc = ((df_errors.groupby('document')['character_errors'].sum()/df_errors.groupby('document')['text'].apply(len).sum()*100).to_frame('character_error_rate')\n",
    "    .join((df_errors.groupby('document')['word_errors'].sum()/df_errors.groupby('document')['num_words'].sum()*100).to_frame('word_errors_rate'))         \n",
    "    .join((df_errors.groupby(['document', 'page'])['line_error'].sum().groupby('document').sum()/df_errors.groupby(['document', 'page']).size().groupby('document').sum()*100).to_frame('line_error_rate')))"
   ]
  },
  {
   "cell_type": "markdown",
   "metadata": {},
   "source": [
    "## Global error"
   ]
  },
  {
   "cell_type": "markdown",
   "metadata": {},
   "source": [
    "Global error on the whole series (not per page or per document).\n",
    "\n",
    "Three kinds of errors:\n",
    "- Error per character\n",
    "- Error per word\n",
    "- Error per line"
   ]
  },
  {
   "cell_type": "code",
   "execution_count": 236,
   "metadata": {},
   "outputs": [
    {
     "data": {
      "text/html": [
       "<div>\n",
       "<style scoped>\n",
       "    .dataframe tbody tr th:only-of-type {\n",
       "        vertical-align: middle;\n",
       "    }\n",
       "\n",
       "    .dataframe tbody tr th {\n",
       "        vertical-align: top;\n",
       "    }\n",
       "\n",
       "    .dataframe thead th {\n",
       "        text-align: right;\n",
       "    }\n",
       "</style>\n",
       "<table border=\"1\" class=\"dataframe\">\n",
       "  <thead>\n",
       "    <tr style=\"text-align: right;\">\n",
       "      <th></th>\n",
       "      <th>character_error_rate</th>\n",
       "    </tr>\n",
       "  </thead>\n",
       "  <tbody>\n",
       "    <tr>\n",
       "      <th>count</th>\n",
       "      <td>4132.000000</td>\n",
       "    </tr>\n",
       "    <tr>\n",
       "      <th>mean</th>\n",
       "      <td>5.615422</td>\n",
       "    </tr>\n",
       "    <tr>\n",
       "      <th>std</th>\n",
       "      <td>11.900583</td>\n",
       "    </tr>\n",
       "    <tr>\n",
       "      <th>min</th>\n",
       "      <td>0.000000</td>\n",
       "    </tr>\n",
       "    <tr>\n",
       "      <th>25%</th>\n",
       "      <td>0.000000</td>\n",
       "    </tr>\n",
       "    <tr>\n",
       "      <th>50%</th>\n",
       "      <td>0.000000</td>\n",
       "    </tr>\n",
       "    <tr>\n",
       "      <th>75%</th>\n",
       "      <td>6.666667</td>\n",
       "    </tr>\n",
       "    <tr>\n",
       "      <th>max</th>\n",
       "      <td>233.333333</td>\n",
       "    </tr>\n",
       "  </tbody>\n",
       "</table>\n",
       "</div>"
      ],
      "text/plain": [
       "       character_error_rate\n",
       "count           4132.000000\n",
       "mean               5.615422\n",
       "std               11.900583\n",
       "min                0.000000\n",
       "25%                0.000000\n",
       "50%                0.000000\n",
       "75%                6.666667\n",
       "max              233.333333"
      ]
     },
     "metadata": {},
     "output_type": "display_data"
    },
    {
     "name": "stdout",
     "output_type": "stream",
     "text": [
      "There is 3 line with an character_error_rate bigger than 100%\n"
     ]
    },
    {
     "data": {
      "image/png": "[encoded data removed]",
      "text/plain": [
       "<Figure size 720x360 with 1 Axes>"
      ]
     },
     "metadata": {
      "needs_background": "light"
     },
     "output_type": "display_data"
    }
   ],
   "source": [
    "display(df_errors['character_error_rate'].describe().to_frame())\n",
    "print(\"There is %d line with an character_error_rate bigger than 100%%\"%(df_errors['character_error_rate']>100).sum())\n",
    "plt.figure(figsize=(10,5))\n",
    "plt.xlabel('Percentage of errors per character')\n",
    "plt.ylabel('Proportion of the lines')\n",
    "sns.distplot(df_errors['character_error_rate'][df_errors['character_error_rate'] <= 100]);"
   ]
  },
  {
   "cell_type": "code",
   "execution_count": 237,
   "metadata": {},
   "outputs": [
    {
     "data": {
      "text/html": [
       "<div>\n",
       "<style scoped>\n",
       "    .dataframe tbody tr th:only-of-type {\n",
       "        vertical-align: middle;\n",
       "    }\n",
       "\n",
       "    .dataframe tbody tr th {\n",
       "        vertical-align: top;\n",
       "    }\n",
       "\n",
       "    .dataframe thead th {\n",
       "        text-align: right;\n",
       "    }\n",
       "</style>\n",
       "<table border=\"1\" class=\"dataframe\">\n",
       "  <thead>\n",
       "    <tr style=\"text-align: right;\">\n",
       "      <th></th>\n",
       "      <th>word_error_rate</th>\n",
       "    </tr>\n",
       "  </thead>\n",
       "  <tbody>\n",
       "    <tr>\n",
       "      <th>count</th>\n",
       "      <td>4132.000000</td>\n",
       "    </tr>\n",
       "    <tr>\n",
       "      <th>mean</th>\n",
       "      <td>18.724938</td>\n",
       "    </tr>\n",
       "    <tr>\n",
       "      <th>std</th>\n",
       "      <td>28.135552</td>\n",
       "    </tr>\n",
       "    <tr>\n",
       "      <th>min</th>\n",
       "      <td>0.000000</td>\n",
       "    </tr>\n",
       "    <tr>\n",
       "      <th>25%</th>\n",
       "      <td>0.000000</td>\n",
       "    </tr>\n",
       "    <tr>\n",
       "      <th>50%</th>\n",
       "      <td>0.000000</td>\n",
       "    </tr>\n",
       "    <tr>\n",
       "      <th>75%</th>\n",
       "      <td>28.571429</td>\n",
       "    </tr>\n",
       "    <tr>\n",
       "      <th>max</th>\n",
       "      <td>300.000000</td>\n",
       "    </tr>\n",
       "  </tbody>\n",
       "</table>\n",
       "</div>"
      ],
      "text/plain": [
       "       word_error_rate\n",
       "count      4132.000000\n",
       "mean         18.724938\n",
       "std          28.135552\n",
       "min           0.000000\n",
       "25%           0.000000\n",
       "50%           0.000000\n",
       "75%          28.571429\n",
       "max         300.000000"
      ]
     },
     "metadata": {},
     "output_type": "display_data"
    },
    {
     "name": "stdout",
     "output_type": "stream",
     "text": [
      "There is 24 line with an word_error_rate bigger than 100%\n"
     ]
    },
    {
     "data": {
      "image/png": "[encoded data removed]",
      "text/plain": [
       "<Figure size 720x360 with 1 Axes>"
      ]
     },
     "metadata": {
      "needs_background": "light"
     },
     "output_type": "display_data"
    }
   ],
   "source": [
    "display(df_errors['word_error_rate'].describe().to_frame())\n",
    "print(\"There is %d line with an word_error_rate bigger than 100%%\"%(df_errors['word_error_rate']>100).sum())\n",
    "plt.figure(figsize=(10,5))\n",
    "plt.xlabel('Percentage of errors per word')\n",
    "plt.ylabel('Proportion of the lines')\n",
    "sns.distplot(df_errors['word_error_rate'][df_errors['word_error_rate'] <= 100]);"
   ]
  },
  {
   "cell_type": "code",
   "execution_count": 24,
   "metadata": {},
   "outputs": [
    {
     "name": "stdout",
     "output_type": "stream",
     "text": [
      "The rate of line with error is of 49.831%\n"
     ]
    }
   ],
   "source": [
    "print('The rate of line with error is of %.3f%%'%((df_errors['character_errors'] > 0).sum()/len(df_errors) * 100))"
   ]
  },
  {
   "cell_type": "markdown",
   "metadata": {},
   "source": [
    "Globally the rate of error is quite high, particularly if we consider the word error rate. It means that for each entry we have that is composed of minimum 4 words, we have at least an error. So we could potentially have no correct entries."
   ]
  },
  {
   "cell_type": "markdown",
   "metadata": {},
   "source": [
    "## Per series error"
   ]
  },
  {
   "cell_type": "markdown",
   "metadata": {},
   "source": [
    "The error is now computed at the series level."
   ]
  },
  {
   "cell_type": "code",
   "execution_count": 95,
   "metadata": {},
   "outputs": [
    {
     "data": {
      "text/html": [
       "<div>\n",
       "<style scoped>\n",
       "    .dataframe tbody tr th:only-of-type {\n",
       "        vertical-align: middle;\n",
       "    }\n",
       "\n",
       "    .dataframe tbody tr th {\n",
       "        vertical-align: top;\n",
       "    }\n",
       "\n",
       "    .dataframe thead th {\n",
       "        text-align: right;\n",
       "    }\n",
       "</style>\n",
       "<table border=\"1\" class=\"dataframe\">\n",
       "  <thead>\n",
       "    <tr style=\"text-align: right;\">\n",
       "      <th></th>\n",
       "      <th>first</th>\n",
       "      <th>last</th>\n",
       "      <th>count</th>\n",
       "    </tr>\n",
       "    <tr>\n",
       "      <th>nom_court</th>\n",
       "      <th></th>\n",
       "      <th></th>\n",
       "      <th></th>\n",
       "    </tr>\n",
       "  </thead>\n",
       "  <tbody>\n",
       "    <tr>\n",
       "      <th>Annuaire-general-du-commerce</th>\n",
       "      <td>1839</td>\n",
       "      <td>1856</td>\n",
       "      <td>17</td>\n",
       "    </tr>\n",
       "    <tr>\n",
       "      <th>Annuaire-Didot-Bottin</th>\n",
       "      <td>1857</td>\n",
       "      <td>1907</td>\n",
       "      <td>36</td>\n",
       "    </tr>\n",
       "    <tr>\n",
       "      <th>Annuaire du commerce Didot-Bottin</th>\n",
       "      <td>1914</td>\n",
       "      <td>1922</td>\n",
       "      <td>3</td>\n",
       "    </tr>\n",
       "  </tbody>\n",
       "</table>\n",
       "</div>"
      ],
      "text/plain": [
       "                                   first  last  count\n",
       "nom_court                                            \n",
       "Annuaire-general-du-commerce        1839  1856     17\n",
       "Annuaire-Didot-Bottin               1857  1907     36\n",
       "Annuaire du commerce Didot-Bottin   1914  1922      3"
      ]
     },
     "execution_count": 95,
     "metadata": {},
     "output_type": "execute_result"
    }
   ],
   "source": [
    "df_rep_stats = df_rep.groupby('nom_court')['annee'].agg(['first', 'last', 'count']).sort_values(by='first')\n",
    "df_rep_stats"
   ]
  },
  {
   "cell_type": "code",
   "execution_count": 238,
   "metadata": {},
   "outputs": [
    {
     "data": {
      "text/html": [
       "<div>\n",
       "<style scoped>\n",
       "    .dataframe tbody tr th:only-of-type {\n",
       "        vertical-align: middle;\n",
       "    }\n",
       "\n",
       "    .dataframe tbody tr th {\n",
       "        vertical-align: top;\n",
       "    }\n",
       "\n",
       "    .dataframe thead th {\n",
       "        text-align: right;\n",
       "    }\n",
       "</style>\n",
       "<table border=\"1\" class=\"dataframe\">\n",
       "  <thead>\n",
       "    <tr style=\"text-align: right;\">\n",
       "      <th></th>\n",
       "      <th>Annuaire-general-du-commerce</th>\n",
       "      <th>Annuaire-Didot-Bottin</th>\n",
       "      <th>Annuaire du commerce Didot-Bottin</th>\n",
       "    </tr>\n",
       "  </thead>\n",
       "  <tbody>\n",
       "    <tr>\n",
       "      <th>count</th>\n",
       "      <td>1660.000000</td>\n",
       "      <td>1834.000000</td>\n",
       "      <td>638.000000</td>\n",
       "    </tr>\n",
       "    <tr>\n",
       "      <th>mean</th>\n",
       "      <td>2.841719</td>\n",
       "      <td>6.001641</td>\n",
       "      <td>11.722035</td>\n",
       "    </tr>\n",
       "    <tr>\n",
       "      <th>std</th>\n",
       "      <td>9.527233</td>\n",
       "      <td>10.986513</td>\n",
       "      <td>16.639979</td>\n",
       "    </tr>\n",
       "    <tr>\n",
       "      <th>min</th>\n",
       "      <td>0.000000</td>\n",
       "      <td>0.000000</td>\n",
       "      <td>0.000000</td>\n",
       "    </tr>\n",
       "    <tr>\n",
       "      <th>25%</th>\n",
       "      <td>0.000000</td>\n",
       "      <td>0.000000</td>\n",
       "      <td>2.040816</td>\n",
       "    </tr>\n",
       "    <tr>\n",
       "      <th>50%</th>\n",
       "      <td>0.000000</td>\n",
       "      <td>2.222222</td>\n",
       "      <td>5.882353</td>\n",
       "    </tr>\n",
       "    <tr>\n",
       "      <th>75%</th>\n",
       "      <td>3.030303</td>\n",
       "      <td>7.142857</td>\n",
       "      <td>14.285714</td>\n",
       "    </tr>\n",
       "    <tr>\n",
       "      <th>max</th>\n",
       "      <td>233.333333</td>\n",
       "      <td>140.000000</td>\n",
       "      <td>100.000000</td>\n",
       "    </tr>\n",
       "  </tbody>\n",
       "</table>\n",
       "</div>"
      ],
      "text/plain": [
       "       Annuaire-general-du-commerce  Annuaire-Didot-Bottin  \\\n",
       "count                   1660.000000            1834.000000   \n",
       "mean                       2.841719               6.001641   \n",
       "std                        9.527233              10.986513   \n",
       "min                        0.000000               0.000000   \n",
       "25%                        0.000000               0.000000   \n",
       "50%                        0.000000               2.222222   \n",
       "75%                        3.030303               7.142857   \n",
       "max                      233.333333             140.000000   \n",
       "\n",
       "       Annuaire du commerce Didot-Bottin  \n",
       "count                         638.000000  \n",
       "mean                           11.722035  \n",
       "std                            16.639979  \n",
       "min                             0.000000  \n",
       "25%                             2.040816  \n",
       "50%                             5.882353  \n",
       "75%                            14.285714  \n",
       "max                           100.000000  "
      ]
     },
     "execution_count": 238,
     "metadata": {},
     "output_type": "execute_result"
    },
    {
     "data": {
      "image/png": "[encoded data removed]",
      "text/plain": [
       "<Figure size 720x360 with 1 Axes>"
      ]
     },
     "metadata": {
      "needs_background": "light"
     },
     "output_type": "display_data"
    }
   ],
   "source": [
    "dfs = []\n",
    "plt.figure(figsize=(10,5));\n",
    "for (name, group) in df_errors.groupby('nom_court', sort=False):\n",
    "    dfs.append(group['character_error_rate'].describe().to_frame(name))\n",
    "    sns.distplot(group['character_error_rate'][group['character_error_rate'] <= 100], label=name);\n",
    "plt.legend()\n",
    "plt.xlabel('Percentage of errors per character')\n",
    "plt.ylabel('Proportion of the lines')\n",
    "pd.concat(dfs, axis=1)[df_rep_stats.index]"
   ]
  },
  {
   "cell_type": "code",
   "execution_count": 239,
   "metadata": {},
   "outputs": [
    {
     "data": {
      "text/html": [
       "<div>\n",
       "<style scoped>\n",
       "    .dataframe tbody tr th:only-of-type {\n",
       "        vertical-align: middle;\n",
       "    }\n",
       "\n",
       "    .dataframe tbody tr th {\n",
       "        vertical-align: top;\n",
       "    }\n",
       "\n",
       "    .dataframe thead th {\n",
       "        text-align: right;\n",
       "    }\n",
       "</style>\n",
       "<table border=\"1\" class=\"dataframe\">\n",
       "  <thead>\n",
       "    <tr style=\"text-align: right;\">\n",
       "      <th></th>\n",
       "      <th>Annuaire-general-du-commerce</th>\n",
       "      <th>Annuaire-Didot-Bottin</th>\n",
       "      <th>Annuaire du commerce Didot-Bottin</th>\n",
       "    </tr>\n",
       "  </thead>\n",
       "  <tbody>\n",
       "    <tr>\n",
       "      <th>count</th>\n",
       "      <td>1660.000000</td>\n",
       "      <td>1834.000000</td>\n",
       "      <td>638.000000</td>\n",
       "    </tr>\n",
       "    <tr>\n",
       "      <th>mean</th>\n",
       "      <td>11.777517</td>\n",
       "      <td>20.972633</td>\n",
       "      <td>30.340055</td>\n",
       "    </tr>\n",
       "    <tr>\n",
       "      <th>std</th>\n",
       "      <td>20.911168</td>\n",
       "      <td>30.633369</td>\n",
       "      <td>31.922710</td>\n",
       "    </tr>\n",
       "    <tr>\n",
       "      <th>min</th>\n",
       "      <td>0.000000</td>\n",
       "      <td>0.000000</td>\n",
       "      <td>0.000000</td>\n",
       "    </tr>\n",
       "    <tr>\n",
       "      <th>25%</th>\n",
       "      <td>0.000000</td>\n",
       "      <td>0.000000</td>\n",
       "      <td>11.111111</td>\n",
       "    </tr>\n",
       "    <tr>\n",
       "      <th>50%</th>\n",
       "      <td>0.000000</td>\n",
       "      <td>12.500000</td>\n",
       "      <td>20.000000</td>\n",
       "    </tr>\n",
       "    <tr>\n",
       "      <th>75%</th>\n",
       "      <td>20.000000</td>\n",
       "      <td>33.333333</td>\n",
       "      <td>42.857143</td>\n",
       "    </tr>\n",
       "    <tr>\n",
       "      <th>max</th>\n",
       "      <td>300.000000</td>\n",
       "      <td>300.000000</td>\n",
       "      <td>200.000000</td>\n",
       "    </tr>\n",
       "  </tbody>\n",
       "</table>\n",
       "</div>"
      ],
      "text/plain": [
       "       Annuaire-general-du-commerce  Annuaire-Didot-Bottin  \\\n",
       "count                   1660.000000            1834.000000   \n",
       "mean                      11.777517              20.972633   \n",
       "std                       20.911168              30.633369   \n",
       "min                        0.000000               0.000000   \n",
       "25%                        0.000000               0.000000   \n",
       "50%                        0.000000              12.500000   \n",
       "75%                       20.000000              33.333333   \n",
       "max                      300.000000             300.000000   \n",
       "\n",
       "       Annuaire du commerce Didot-Bottin  \n",
       "count                         638.000000  \n",
       "mean                           30.340055  \n",
       "std                            31.922710  \n",
       "min                             0.000000  \n",
       "25%                            11.111111  \n",
       "50%                            20.000000  \n",
       "75%                            42.857143  \n",
       "max                           200.000000  "
      ]
     },
     "execution_count": 239,
     "metadata": {},
     "output_type": "execute_result"
    },
    {
     "data": {
      "image/png": "[encoded data removed]",
      "text/plain": [
       "<Figure size 720x360 with 1 Axes>"
      ]
     },
     "metadata": {
      "needs_background": "light"
     },
     "output_type": "display_data"
    }
   ],
   "source": [
    "dfs = []\n",
    "plt.figure(figsize=(10,5))\n",
    "for (name, group) in df_errors.groupby('nom_court', sort=False):\n",
    "    dfs.append(group['word_error_rate'].describe().to_frame(name))\n",
    "    sns.distplot(group['word_error_rate'][group['word_error_rate'] <= 100], label=name);\n",
    "plt.legend()\n",
    "plt.xlabel('Percentage of errors per word')\n",
    "plt.ylabel('Proportion of the lines')\n",
    "pd.concat(dfs, axis=1)[df_rep_stats.index]"
   ]
  },
  {
   "cell_type": "code",
   "execution_count": 162,
   "metadata": {},
   "outputs": [
    {
     "data": {
      "text/html": [
       "<div>\n",
       "<style scoped>\n",
       "    .dataframe tbody tr th:only-of-type {\n",
       "        vertical-align: middle;\n",
       "    }\n",
       "\n",
       "    .dataframe tbody tr th {\n",
       "        vertical-align: top;\n",
       "    }\n",
       "\n",
       "    .dataframe thead th {\n",
       "        text-align: right;\n",
       "    }\n",
       "</style>\n",
       "<table border=\"1\" class=\"dataframe\">\n",
       "  <thead>\n",
       "    <tr style=\"text-align: right;\">\n",
       "      <th></th>\n",
       "      <th>line_error</th>\n",
       "    </tr>\n",
       "    <tr>\n",
       "      <th>nom_court</th>\n",
       "      <th></th>\n",
       "    </tr>\n",
       "  </thead>\n",
       "  <tbody>\n",
       "    <tr>\n",
       "      <th>Annuaire-general-du-commerce</th>\n",
       "      <td>37.048193</td>\n",
       "    </tr>\n",
       "    <tr>\n",
       "      <th>Annuaire-Didot-Bottin</th>\n",
       "      <td>52.290076</td>\n",
       "    </tr>\n",
       "    <tr>\n",
       "      <th>Annuaire du commerce Didot-Bottin</th>\n",
       "      <td>76.018809</td>\n",
       "    </tr>\n",
       "  </tbody>\n",
       "</table>\n",
       "</div>"
      ],
      "text/plain": [
       "                                   line_error\n",
       "nom_court                                    \n",
       "Annuaire-general-du-commerce        37.048193\n",
       "Annuaire-Didot-Bottin               52.290076\n",
       "Annuaire du commerce Didot-Bottin   76.018809"
      ]
     },
     "execution_count": 162,
     "metadata": {},
     "output_type": "execute_result"
    }
   ],
   "source": [
    "lines_errors = []\n",
    "for (name, group) in df_errors.groupby('nom_court'):\n",
    "    lines_errors.append({'series' :name, 'line_error':(group['character_errors'] > 0).sum()/len(group) * 100})\n",
    "pd.DataFrame(lines_errors).set_index('series').loc[df_rep_stats.index]"
   ]
  },
  {
   "cell_type": "markdown",
   "metadata": {},
   "source": [
    "We can see that the \"Annuaire-general-du-commerce\" has a better overall quality of OCR, whereas the \"Annuaire du commerce Didot-Bottin\" is very poorly transcribed."
   ]
  },
  {
   "cell_type": "markdown",
   "metadata": {},
   "source": [
    "## Per decade error\n",
    "\n",
    "This time the level is of the decade, it should however be noted that because the sample size is so small (1 sample per decade), no big conclusions should be made..."
   ]
  },
  {
   "cell_type": "code",
   "execution_count": 254,
   "metadata": {},
   "outputs": [
    {
     "data": {
      "text/html": [
       "<div>\n",
       "<style scoped>\n",
       "    .dataframe tbody tr th:only-of-type {\n",
       "        vertical-align: middle;\n",
       "    }\n",
       "\n",
       "    .dataframe tbody tr th {\n",
       "        vertical-align: top;\n",
       "    }\n",
       "\n",
       "    .dataframe thead th {\n",
       "        text-align: right;\n",
       "    }\n",
       "</style>\n",
       "<table border=\"1\" class=\"dataframe\">\n",
       "  <thead>\n",
       "    <tr style=\"text-align: right;\">\n",
       "      <th></th>\n",
       "      <th>Num annuaire per decade</th>\n",
       "    </tr>\n",
       "    <tr>\n",
       "      <th>decade</th>\n",
       "      <th></th>\n",
       "    </tr>\n",
       "  </thead>\n",
       "  <tbody>\n",
       "    <tr>\n",
       "      <th>1830</th>\n",
       "      <td>1</td>\n",
       "    </tr>\n",
       "    <tr>\n",
       "      <th>1840</th>\n",
       "      <td>1</td>\n",
       "    </tr>\n",
       "    <tr>\n",
       "      <th>1850</th>\n",
       "      <td>2</td>\n",
       "    </tr>\n",
       "    <tr>\n",
       "      <th>1880</th>\n",
       "      <td>1</td>\n",
       "    </tr>\n",
       "    <tr>\n",
       "      <th>1900</th>\n",
       "      <td>1</td>\n",
       "    </tr>\n",
       "    <tr>\n",
       "      <th>1920</th>\n",
       "      <td>1</td>\n",
       "    </tr>\n",
       "  </tbody>\n",
       "</table>\n",
       "</div>"
      ],
      "text/plain": [
       "        Num annuaire per decade\n",
       "decade                         \n",
       "1830                          1\n",
       "1840                          1\n",
       "1850                          2\n",
       "1880                          1\n",
       "1900                          1\n",
       "1920                          1"
      ]
     },
     "execution_count": 254,
     "metadata": {},
     "output_type": "execute_result"
    },
    {
     "data": {
      "image/png": "[encoded data removed]",
      "text/plain": [
       "<Figure size 432x288 with 1 Axes>"
      ]
     },
     "metadata": {
      "needs_background": "light"
     },
     "output_type": "display_data"
    }
   ],
   "source": [
    "df_rep_count_per_decade = df_rep.loc[df_errors.reset_index(level=[1,2]).index.unique().values].groupby('decade').size().to_frame('Num annuaire per decade')\n",
    "df_rep_count_per_decade.plot(kind='bar', legend=False);\n",
    "plt.ylabel('Number of directory')\n",
    "df_rep_count_per_decade"
   ]
  },
  {
   "cell_type": "code",
   "execution_count": 264,
   "metadata": {},
   "outputs": [
    {
     "data": {
      "text/html": [
       "<div>\n",
       "<style scoped>\n",
       "    .dataframe tbody tr th:only-of-type {\n",
       "        vertical-align: middle;\n",
       "    }\n",
       "\n",
       "    .dataframe tbody tr th {\n",
       "        vertical-align: top;\n",
       "    }\n",
       "\n",
       "    .dataframe thead th {\n",
       "        text-align: right;\n",
       "    }\n",
       "</style>\n",
       "<table border=\"1\" class=\"dataframe\">\n",
       "  <thead>\n",
       "    <tr style=\"text-align: right;\">\n",
       "      <th></th>\n",
       "      <th>1830</th>\n",
       "      <th>1840</th>\n",
       "      <th>1850</th>\n",
       "      <th>1880</th>\n",
       "      <th>1900</th>\n",
       "      <th>1920</th>\n",
       "    </tr>\n",
       "  </thead>\n",
       "  <tbody>\n",
       "    <tr>\n",
       "      <th>count</th>\n",
       "      <td>546.000000</td>\n",
       "      <td>558.000000</td>\n",
       "      <td>1112.000000</td>\n",
       "      <td>634.000000</td>\n",
       "      <td>644.000000</td>\n",
       "      <td>638.000000</td>\n",
       "    </tr>\n",
       "    <tr>\n",
       "      <th>mean</th>\n",
       "      <td>3.515697</td>\n",
       "      <td>3.630358</td>\n",
       "      <td>2.230993</td>\n",
       "      <td>7.278351</td>\n",
       "      <td>7.272693</td>\n",
       "      <td>11.722035</td>\n",
       "    </tr>\n",
       "    <tr>\n",
       "      <th>std</th>\n",
       "      <td>11.290843</td>\n",
       "      <td>6.556041</td>\n",
       "      <td>8.578532</td>\n",
       "      <td>11.131527</td>\n",
       "      <td>13.103175</td>\n",
       "      <td>16.639979</td>\n",
       "    </tr>\n",
       "    <tr>\n",
       "      <th>min</th>\n",
       "      <td>0.000000</td>\n",
       "      <td>0.000000</td>\n",
       "      <td>0.000000</td>\n",
       "      <td>0.000000</td>\n",
       "      <td>0.000000</td>\n",
       "      <td>0.000000</td>\n",
       "    </tr>\n",
       "    <tr>\n",
       "      <th>25%</th>\n",
       "      <td>0.000000</td>\n",
       "      <td>0.000000</td>\n",
       "      <td>0.000000</td>\n",
       "      <td>0.000000</td>\n",
       "      <td>0.000000</td>\n",
       "      <td>2.040816</td>\n",
       "    </tr>\n",
       "    <tr>\n",
       "      <th>50%</th>\n",
       "      <td>0.000000</td>\n",
       "      <td>0.000000</td>\n",
       "      <td>0.000000</td>\n",
       "      <td>3.225806</td>\n",
       "      <td>2.380952</td>\n",
       "      <td>5.882353</td>\n",
       "    </tr>\n",
       "    <tr>\n",
       "      <th>75%</th>\n",
       "      <td>4.545455</td>\n",
       "      <td>4.545455</td>\n",
       "      <td>2.325581</td>\n",
       "      <td>10.000000</td>\n",
       "      <td>9.302326</td>\n",
       "      <td>14.285714</td>\n",
       "    </tr>\n",
       "    <tr>\n",
       "      <th>max</th>\n",
       "      <td>233.333333</td>\n",
       "      <td>45.833333</td>\n",
       "      <td>228.571429</td>\n",
       "      <td>100.000000</td>\n",
       "      <td>140.000000</td>\n",
       "      <td>100.000000</td>\n",
       "    </tr>\n",
       "  </tbody>\n",
       "</table>\n",
       "</div>"
      ],
      "text/plain": [
       "             1830        1840         1850        1880        1900        1920\n",
       "count  546.000000  558.000000  1112.000000  634.000000  644.000000  638.000000\n",
       "mean     3.515697    3.630358     2.230993    7.278351    7.272693   11.722035\n",
       "std     11.290843    6.556041     8.578532   11.131527   13.103175   16.639979\n",
       "min      0.000000    0.000000     0.000000    0.000000    0.000000    0.000000\n",
       "25%      0.000000    0.000000     0.000000    0.000000    0.000000    2.040816\n",
       "50%      0.000000    0.000000     0.000000    3.225806    2.380952    5.882353\n",
       "75%      4.545455    4.545455     2.325581   10.000000    9.302326   14.285714\n",
       "max    233.333333   45.833333   228.571429  100.000000  140.000000  100.000000"
      ]
     },
     "execution_count": 264,
     "metadata": {},
     "output_type": "execute_result"
    },
    {
     "data": {
      "image/png": "[encoded data removed]",
      "text/plain": [
       "<Figure size 720x360 with 1 Axes>"
      ]
     },
     "metadata": {
      "needs_background": "light"
     },
     "output_type": "display_data"
    },
    {
     "data": {
      "image/png": "[encoded data removed]",
      "text/plain": [
       "<Figure size 720x360 with 1 Axes>"
      ]
     },
     "metadata": {
      "needs_background": "light"
     },
     "output_type": "display_data"
    }
   ],
   "source": [
    "dfs = []\n",
    "plt.figure(figsize=(10,5))\n",
    "plt.xlabel('Decade')\n",
    "plt.ylabel('Mean percentage of error')\n",
    "df_errors.groupby('decade')['character_error_rate'].mean().plot(kind='bar')\n",
    "\n",
    "plt.figure(figsize=(10,5))\n",
    "for (name, group) in df_errors.groupby('decade'):\n",
    "    dfs.append(group['character_error_rate'].describe().to_frame(name))\n",
    "    sns.distplot(group['character_error_rate'][group['character_error_rate'] <= 100], label=str(name));\n",
    "plt.legend()\n",
    "plt.xlabel('Percentage of errors per character')\n",
    "plt.ylabel('Proportion of the lines')\n",
    "pd.concat(dfs, axis=1)"
   ]
  },
  {
   "cell_type": "code",
   "execution_count": 265,
   "metadata": {},
   "outputs": [
    {
     "data": {
      "text/html": [
       "<div>\n",
       "<style scoped>\n",
       "    .dataframe tbody tr th:only-of-type {\n",
       "        vertical-align: middle;\n",
       "    }\n",
       "\n",
       "    .dataframe tbody tr th {\n",
       "        vertical-align: top;\n",
       "    }\n",
       "\n",
       "    .dataframe thead th {\n",
       "        text-align: right;\n",
       "    }\n",
       "</style>\n",
       "<table border=\"1\" class=\"dataframe\">\n",
       "  <thead>\n",
       "    <tr style=\"text-align: right;\">\n",
       "      <th></th>\n",
       "      <th>1830</th>\n",
       "      <th>1840</th>\n",
       "      <th>1850</th>\n",
       "      <th>1880</th>\n",
       "      <th>1900</th>\n",
       "      <th>1920</th>\n",
       "    </tr>\n",
       "  </thead>\n",
       "  <tbody>\n",
       "    <tr>\n",
       "      <th>count</th>\n",
       "      <td>546.000000</td>\n",
       "      <td>558.000000</td>\n",
       "      <td>1112.000000</td>\n",
       "      <td>634.000000</td>\n",
       "      <td>644.000000</td>\n",
       "      <td>638.000000</td>\n",
       "    </tr>\n",
       "    <tr>\n",
       "      <th>mean</th>\n",
       "      <td>14.732695</td>\n",
       "      <td>14.793267</td>\n",
       "      <td>10.229745</td>\n",
       "      <td>25.994317</td>\n",
       "      <td>21.521616</td>\n",
       "      <td>30.340055</td>\n",
       "    </tr>\n",
       "    <tr>\n",
       "      <th>std</th>\n",
       "      <td>23.120570</td>\n",
       "      <td>20.872808</td>\n",
       "      <td>21.873514</td>\n",
       "      <td>29.647321</td>\n",
       "      <td>34.758807</td>\n",
       "      <td>31.922710</td>\n",
       "    </tr>\n",
       "    <tr>\n",
       "      <th>min</th>\n",
       "      <td>0.000000</td>\n",
       "      <td>0.000000</td>\n",
       "      <td>0.000000</td>\n",
       "      <td>0.000000</td>\n",
       "      <td>0.000000</td>\n",
       "      <td>0.000000</td>\n",
       "    </tr>\n",
       "    <tr>\n",
       "      <th>25%</th>\n",
       "      <td>0.000000</td>\n",
       "      <td>0.000000</td>\n",
       "      <td>0.000000</td>\n",
       "      <td>0.000000</td>\n",
       "      <td>0.000000</td>\n",
       "      <td>11.111111</td>\n",
       "    </tr>\n",
       "    <tr>\n",
       "      <th>50%</th>\n",
       "      <td>0.000000</td>\n",
       "      <td>0.000000</td>\n",
       "      <td>0.000000</td>\n",
       "      <td>16.666667</td>\n",
       "      <td>14.285714</td>\n",
       "      <td>20.000000</td>\n",
       "    </tr>\n",
       "    <tr>\n",
       "      <th>75%</th>\n",
       "      <td>25.000000</td>\n",
       "      <td>25.000000</td>\n",
       "      <td>16.666667</td>\n",
       "      <td>50.000000</td>\n",
       "      <td>29.761905</td>\n",
       "      <td>42.857143</td>\n",
       "    </tr>\n",
       "    <tr>\n",
       "      <th>max</th>\n",
       "      <td>300.000000</td>\n",
       "      <td>100.000000</td>\n",
       "      <td>300.000000</td>\n",
       "      <td>160.000000</td>\n",
       "      <td>300.000000</td>\n",
       "      <td>200.000000</td>\n",
       "    </tr>\n",
       "  </tbody>\n",
       "</table>\n",
       "</div>"
      ],
      "text/plain": [
       "             1830        1840         1850        1880        1900        1920\n",
       "count  546.000000  558.000000  1112.000000  634.000000  644.000000  638.000000\n",
       "mean    14.732695   14.793267    10.229745   25.994317   21.521616   30.340055\n",
       "std     23.120570   20.872808    21.873514   29.647321   34.758807   31.922710\n",
       "min      0.000000    0.000000     0.000000    0.000000    0.000000    0.000000\n",
       "25%      0.000000    0.000000     0.000000    0.000000    0.000000   11.111111\n",
       "50%      0.000000    0.000000     0.000000   16.666667   14.285714   20.000000\n",
       "75%     25.000000   25.000000    16.666667   50.000000   29.761905   42.857143\n",
       "max    300.000000  100.000000   300.000000  160.000000  300.000000  200.000000"
      ]
     },
     "execution_count": 265,
     "metadata": {},
     "output_type": "execute_result"
    },
    {
     "data": {
      "image/png": "[encoded data removed]",
      "text/plain": [
       "<Figure size 720x360 with 1 Axes>"
      ]
     },
     "metadata": {
      "needs_background": "light"
     },
     "output_type": "display_data"
    },
    {
     "data": {
      "image/png": "[encoded data removed]",
      "text/plain": [
       "<Figure size 720x360 with 1 Axes>"
      ]
     },
     "metadata": {
      "needs_background": "light"
     },
     "output_type": "display_data"
    }
   ],
   "source": [
    "dfs = []\n",
    "plt.figure(figsize=(10,5))\n",
    "plt.xlabel('Decade')\n",
    "plt.ylabel('Mean percentage of error')\n",
    "df_errors.groupby('decade')['word_error_rate'].mean().plot(kind='bar')\n",
    "\n",
    "plt.figure(figsize=(10,5))\n",
    "for (name, group) in df_errors.groupby('decade'):\n",
    "    dfs.append(group['word_error_rate'].describe().to_frame(name))\n",
    "    sns.distplot(group['word_error_rate'][group['word_error_rate'] <= 100], label=str(name));\n",
    "plt.legend()\n",
    "plt.xlabel('Percentage of errors per word')\n",
    "plt.ylabel('Proportion of the lines')\n",
    "pd.concat(dfs, axis=1)"
   ]
  },
  {
   "cell_type": "code",
   "execution_count": 214,
   "metadata": {},
   "outputs": [
    {
     "data": {
      "text/html": [
       "<div>\n",
       "<style scoped>\n",
       "    .dataframe tbody tr th:only-of-type {\n",
       "        vertical-align: middle;\n",
       "    }\n",
       "\n",
       "    .dataframe tbody tr th {\n",
       "        vertical-align: top;\n",
       "    }\n",
       "\n",
       "    .dataframe thead th {\n",
       "        text-align: right;\n",
       "    }\n",
       "</style>\n",
       "<table border=\"1\" class=\"dataframe\">\n",
       "  <thead>\n",
       "    <tr style=\"text-align: right;\">\n",
       "      <th></th>\n",
       "      <th>line_error</th>\n",
       "    </tr>\n",
       "    <tr>\n",
       "      <th>series</th>\n",
       "      <th></th>\n",
       "    </tr>\n",
       "  </thead>\n",
       "  <tbody>\n",
       "    <tr>\n",
       "      <th>1830</th>\n",
       "      <td>46.153846</td>\n",
       "    </tr>\n",
       "    <tr>\n",
       "      <th>1840</th>\n",
       "      <td>44.086022</td>\n",
       "    </tr>\n",
       "    <tr>\n",
       "      <th>1850</th>\n",
       "      <td>30.845324</td>\n",
       "    </tr>\n",
       "    <tr>\n",
       "      <th>1880</th>\n",
       "      <td>58.675079</td>\n",
       "    </tr>\n",
       "    <tr>\n",
       "      <th>1900</th>\n",
       "      <td>56.055901</td>\n",
       "    </tr>\n",
       "    <tr>\n",
       "      <th>1920</th>\n",
       "      <td>76.018809</td>\n",
       "    </tr>\n",
       "  </tbody>\n",
       "</table>\n",
       "</div>"
      ],
      "text/plain": [
       "        line_error\n",
       "series            \n",
       "1830     46.153846\n",
       "1840     44.086022\n",
       "1850     30.845324\n",
       "1880     58.675079\n",
       "1900     56.055901\n",
       "1920     76.018809"
      ]
     },
     "execution_count": 214,
     "metadata": {},
     "output_type": "execute_result"
    }
   ],
   "source": [
    "lines_errors = []\n",
    "for (name, group) in df_errors.groupby('decade'):\n",
    "    lines_errors.append({'series' :name, 'line_error':(group['character_errors'] > 0).sum()/len(group) * 100})\n",
    "pd.DataFrame(lines_errors).set_index('series')"
   ]
  },
  {
   "cell_type": "markdown",
   "metadata": {},
   "source": [
    "We still see an overall augmentation of the error rates, which corresponds to what was observed in the series."
   ]
  },
  {
   "cell_type": "markdown",
   "metadata": {},
   "source": [
    "## Per document error"
   ]
  },
  {
   "cell_type": "markdown",
   "metadata": {},
   "source": [
    "In this part, we individually observe each document and its mean error rates."
   ]
  },
  {
   "cell_type": "code",
   "execution_count": 234,
   "metadata": {},
   "outputs": [
    {
     "data": {
      "text/html": [
       "<div>\n",
       "<style scoped>\n",
       "    .dataframe tbody tr th:only-of-type {\n",
       "        vertical-align: middle;\n",
       "    }\n",
       "\n",
       "    .dataframe tbody tr th {\n",
       "        vertical-align: top;\n",
       "    }\n",
       "\n",
       "    .dataframe thead th {\n",
       "        text-align: right;\n",
       "    }\n",
       "</style>\n",
       "<table border=\"1\" class=\"dataframe\">\n",
       "  <thead>\n",
       "    <tr style=\"text-align: right;\">\n",
       "      <th></th>\n",
       "      <th></th>\n",
       "      <th>character_error_rate</th>\n",
       "      <th>word_errors_rate</th>\n",
       "      <th>line_error_rate</th>\n",
       "    </tr>\n",
       "    <tr>\n",
       "      <th>document</th>\n",
       "      <th>annee</th>\n",
       "      <th></th>\n",
       "      <th></th>\n",
       "      <th></th>\n",
       "    </tr>\n",
       "  </thead>\n",
       "  <tbody>\n",
       "    <tr>\n",
       "      <th>bpt6k63243601</th>\n",
       "      <th>1839</th>\n",
       "      <td>12.754114</td>\n",
       "      <td>12.723130</td>\n",
       "      <td>46.153846</td>\n",
       "    </tr>\n",
       "    <tr>\n",
       "      <th>bpt6k6315927h</th>\n",
       "      <th>1848</th>\n",
       "      <td>16.166505</td>\n",
       "      <td>14.330218</td>\n",
       "      <td>44.086022</td>\n",
       "    </tr>\n",
       "    <tr>\n",
       "      <th>bpt6k6314752k</th>\n",
       "      <th>1856</th>\n",
       "      <td>5.227493</td>\n",
       "      <td>5.403405</td>\n",
       "      <td>21.043165</td>\n",
       "    </tr>\n",
       "    <tr>\n",
       "      <th>bpt6k6305463c</th>\n",
       "      <th>1857</th>\n",
       "      <td>11.737657</td>\n",
       "      <td>13.272311</td>\n",
       "      <td>40.467626</td>\n",
       "    </tr>\n",
       "    <tr>\n",
       "      <th>bpt6k9764647w</th>\n",
       "      <th>1881</th>\n",
       "      <td>36.979671</td>\n",
       "      <td>25.709516</td>\n",
       "      <td>58.675079</td>\n",
       "    </tr>\n",
       "    <tr>\n",
       "      <th>bpt6k9776121t</th>\n",
       "      <th>1907</th>\n",
       "      <td>26.016457</td>\n",
       "      <td>14.235501</td>\n",
       "      <td>56.055901</td>\n",
       "    </tr>\n",
       "    <tr>\n",
       "      <th>bpt6k97774838</th>\n",
       "      <th>1921</th>\n",
       "      <td>53.000968</td>\n",
       "      <td>24.978735</td>\n",
       "      <td>76.018809</td>\n",
       "    </tr>\n",
       "  </tbody>\n",
       "</table>\n",
       "</div>"
      ],
      "text/plain": [
       "                     character_error_rate  word_errors_rate  line_error_rate\n",
       "document      annee                                                         \n",
       "bpt6k63243601 1839              12.754114         12.723130        46.153846\n",
       "bpt6k6315927h 1848              16.166505         14.330218        44.086022\n",
       "bpt6k6314752k 1856               5.227493          5.403405        21.043165\n",
       "bpt6k6305463c 1857              11.737657         13.272311        40.467626\n",
       "bpt6k9764647w 1881              36.979671         25.709516        58.675079\n",
       "bpt6k9776121t 1907              26.016457         14.235501        56.055901\n",
       "bpt6k97774838 1921              53.000968         24.978735        76.018809"
      ]
     },
     "execution_count": 234,
     "metadata": {},
     "output_type": "execute_result"
    }
   ],
   "source": [
    "df_per_doc.join(df_rep[['annee']]).sort_values(by='annee').reset_index().set_index(['document', 'annee'])"
   ]
  },
  {
   "cell_type": "code",
   "execution_count": 281,
   "metadata": {},
   "outputs": [
    {
     "data": {
      "image/png": "[encoded data removed]",
      "text/plain": [
       "<Figure size 720x360 with 1 Axes>"
      ]
     },
     "metadata": {
      "needs_background": "light"
     },
     "output_type": "display_data"
    }
   ],
   "source": [
    "fig, ax = plt.subplots(figsize=(10,5))\n",
    "df_per_doc.join(df_rep[['annee']]).sort_values(by='annee').reset_index().set_index(['annee']).plot(kind='bar', ax=ax)\n",
    "plt.xlabel('year')\n",
    "plt.ylabel('Mean percentage of error');"
   ]
  }
 ],
 "metadata": {
  "kernelspec": {
   "display_name": "Python 3",
   "language": "python",
   "name": "python3"
  },
  "language_info": {
   "codemirror_mode": {
    "name": "ipython",
    "version": 3
   },
   "file_extension": ".py",
   "mimetype": "text/x-python",
   "name": "python",
   "nbconvert_exporter": "python",
   "pygments_lexer": "ipython3",
   "version": "3.5.5"
  },
  "toc": {
   "base_numbering": 1,
   "nav_menu": {},
   "number_sections": true,
   "sideBar": false,
   "skip_h1_title": false,
   "title_cell": "Table of Contents",
   "title_sidebar": "Contents",
   "toc_cell": true,
   "toc_position": {},
   "toc_section_display": true,
   "toc_window_display": false
  }
 },
 "nbformat": 4,
 "nbformat_minor": 2
}
